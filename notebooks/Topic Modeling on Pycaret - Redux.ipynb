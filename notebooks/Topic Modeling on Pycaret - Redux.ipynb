{
 "cells": [
  {
   "cell_type": "code",
   "execution_count": 1,
   "id": "7dd6db90",
   "metadata": {},
   "outputs": [],
   "source": [
    "from pycaret.nlp import *\n",
    "import pyLDAvis\n",
    "import pyLDAvis.gensim_models\n",
    "\n",
    "#import pandas if we're gonna use a dataframe\n",
    "import pandas as pd\n",
    "\n",
    "# load the data into a dataframe\n",
    "df = pd.read_csv('../data/in/trump_20200530_clean.csv')"
   ]
  },
  {
   "cell_type": "code",
   "execution_count": null,
   "id": "589a391d",
   "metadata": {},
   "outputs": [],
   "source": []
  },
  {
   "cell_type": "code",
   "execution_count": 2,
   "id": "59690b57",
   "metadata": {},
   "outputs": [],
   "source": [
    "# to print out all the outputs\n",
    "from IPython.core.interactiveshell import InteractiveShell\n",
    "InteractiveShell.ast_node_interactivity = \"all\"\n",
    "\n",
    "# set display options\n",
    "pd.set_option('display.max_columns', None)\n",
    "pd.set_option('display.max_rows', None)\n",
    "pd.set_option('display.max_colwidth', None)"
   ]
  },
  {
   "cell_type": "code",
   "execution_count": 3,
   "id": "5df09e8f",
   "metadata": {},
   "outputs": [],
   "source": [
    "# sampling the data to select only 1000 tweets\n",
    "df = df.sample(1000, random_state=493).reset_index(drop=True)"
   ]
  },
  {
   "cell_type": "code",
   "execution_count": 4,
   "id": "4fc906a5",
   "metadata": {},
   "outputs": [
    {
     "data": {
      "text/plain": [
       "(1000, 4)"
      ]
     },
     "execution_count": 4,
     "metadata": {},
     "output_type": "execute_result"
    },
    {
     "data": {
      "text/html": [
       "<div>\n",
       "<style scoped>\n",
       "    .dataframe tbody tr th:only-of-type {\n",
       "        vertical-align: middle;\n",
       "    }\n",
       "\n",
       "    .dataframe tbody tr th {\n",
       "        vertical-align: top;\n",
       "    }\n",
       "\n",
       "    .dataframe thead th {\n",
       "        text-align: right;\n",
       "    }\n",
       "</style>\n",
       "<table border=\"1\" class=\"dataframe\">\n",
       "  <thead>\n",
       "    <tr style=\"text-align: right;\">\n",
       "      <th></th>\n",
       "      <th>tweet</th>\n",
       "      <th>retweets</th>\n",
       "      <th>favorites</th>\n",
       "      <th>datetime</th>\n",
       "    </tr>\n",
       "  </thead>\n",
       "  <tbody>\n",
       "    <tr>\n",
       "      <th>0</th>\n",
       "      <td>RT @realDonaldTrump: https://t.co/9GEW2VZu5h</td>\n",
       "      <td>12230</td>\n",
       "      <td>0</td>\n",
       "      <td>2020-02-08 12:13:16</td>\n",
       "    </tr>\n",
       "    <tr>\n",
       "      <th>1</th>\n",
       "      <td>RT @mitchellvii: General Flynn Posts Triumphant Tweet Following Release of Handwritten FBI Notes Revealing He Was Framed https://t.co/JWVLF…</td>\n",
       "      <td>4910</td>\n",
       "      <td>0</td>\n",
       "      <td>2020-04-30 12:04:54</td>\n",
       "    </tr>\n",
       "    <tr>\n",
       "      <th>2</th>\n",
       "      <td>In 1960 there were approximately 20000 pages in the Code of Federal Regulations. Today there are over 185000 pages as seen in the Roosevelt Room.Today we CUT THE RED TAPE! It is time to SET FREE OUR DREAMS and MAKE AMERICA GREAT AGAIN! https://t.co/teAVNzjvcx</td>\n",
       "      <td>26104</td>\n",
       "      <td>88904</td>\n",
       "      <td>2017-12-14 20:35:13</td>\n",
       "    </tr>\n",
       "    <tr>\n",
       "      <th>3</th>\n",
       "      <td>RT @Mike_Pence: President @realDonaldTrump &amp;amp; the entire Admin are pleased at the passage of the Paycheck Protection Program in the House. I…</td>\n",
       "      <td>5698</td>\n",
       "      <td>0</td>\n",
       "      <td>2020-04-24 04:18:10</td>\n",
       "    </tr>\n",
       "    <tr>\n",
       "      <th>4</th>\n",
       "      <td>RT @GOPChairwoman: Across the country the #PaycheckProtectionProgram that @realDonaldTrump signed is helping Americans. And in Wisconsin…</td>\n",
       "      <td>4797</td>\n",
       "      <td>0</td>\n",
       "      <td>2020-05-05 12:22:50</td>\n",
       "    </tr>\n",
       "  </tbody>\n",
       "</table>\n",
       "</div>"
      ],
      "text/plain": [
       "                                                                                                                                                                                                                                                                 tweet  \\\n",
       "0                                                                                                                                                                                                                         RT @realDonaldTrump: https://t.co/9GEW2VZu5h   \n",
       "1                                                                                                                         RT @mitchellvii: General Flynn Posts Triumphant Tweet Following Release of Handwritten FBI Notes Revealing He Was Framed https://t.co/JWVLF…   \n",
       "2  In 1960 there were approximately 20000 pages in the Code of Federal Regulations. Today there are over 185000 pages as seen in the Roosevelt Room.Today we CUT THE RED TAPE! It is time to SET FREE OUR DREAMS and MAKE AMERICA GREAT AGAIN! https://t.co/teAVNzjvcx   \n",
       "3                                                                                                                     RT @Mike_Pence: President @realDonaldTrump &amp; the entire Admin are pleased at the passage of the Paycheck Protection Program in the House. I…   \n",
       "4                                                                                                                            RT @GOPChairwoman: Across the country the #PaycheckProtectionProgram that @realDonaldTrump signed is helping Americans. And in Wisconsin…   \n",
       "\n",
       "   retweets  favorites             datetime  \n",
       "0     12230          0  2020-02-08 12:13:16  \n",
       "1      4910          0  2020-04-30 12:04:54  \n",
       "2     26104      88904  2017-12-14 20:35:13  \n",
       "3      5698          0  2020-04-24 04:18:10  \n",
       "4      4797          0  2020-05-05 12:22:50  "
      ]
     },
     "execution_count": 4,
     "metadata": {},
     "output_type": "execute_result"
    }
   ],
   "source": [
    "df.shape\n",
    "df.head()"
   ]
  },
  {
   "cell_type": "code",
   "execution_count": 5,
   "id": "1a232992",
   "metadata": {},
   "outputs": [
    {
     "data": {
      "text/html": [
       "<style type=\"text/css\">\n",
       "</style>\n",
       "<table id=\"T_0d6a3\">\n",
       "  <thead>\n",
       "    <tr>\n",
       "      <th id=\"T_0d6a3_level0_col0\" class=\"col_heading level0 col0\" >Description</th>\n",
       "      <th id=\"T_0d6a3_level0_col1\" class=\"col_heading level0 col1\" >Value</th>\n",
       "    </tr>\n",
       "  </thead>\n",
       "  <tbody>\n",
       "    <tr>\n",
       "      <td id=\"T_0d6a3_row0_col0\" class=\"data row0 col0\" >session_id</td>\n",
       "      <td id=\"T_0d6a3_row0_col1\" class=\"data row0 col1\" >493</td>\n",
       "    </tr>\n",
       "    <tr>\n",
       "      <td id=\"T_0d6a3_row1_col0\" class=\"data row1 col0\" >Documents</td>\n",
       "      <td id=\"T_0d6a3_row1_col1\" class=\"data row1 col1\" >1000</td>\n",
       "    </tr>\n",
       "    <tr>\n",
       "      <td id=\"T_0d6a3_row2_col0\" class=\"data row2 col0\" >Vocab Size</td>\n",
       "      <td id=\"T_0d6a3_row2_col1\" class=\"data row2 col1\" >2928</td>\n",
       "    </tr>\n",
       "    <tr>\n",
       "      <td id=\"T_0d6a3_row3_col0\" class=\"data row3 col0\" >Custom Stopwords</td>\n",
       "      <td id=\"T_0d6a3_row3_col1\" class=\"data row3 col1\" >True</td>\n",
       "    </tr>\n",
       "  </tbody>\n",
       "</table>\n"
      ],
      "text/plain": [
       "<pandas.io.formats.style.Styler at 0x19be3ee4940>"
      ]
     },
     "metadata": {},
     "output_type": "display_data"
    }
   ],
   "source": [
    "# initialize the setup\n",
    "nlp = setup(data = df, target = 'tweet', session_id = 493, custom_stopwords = [ 'rt', 'https', 'http', 'co', 'amp'])"
   ]
  },
  {
   "cell_type": "code",
   "execution_count": 6,
   "id": "cf196075",
   "metadata": {},
   "outputs": [],
   "source": [
    "# create the model\n",
    "lda = create_model('lda', num_topics = 6, multi_core = True)"
   ]
  },
  {
   "cell_type": "code",
   "execution_count": 7,
   "id": "6abeec44",
   "metadata": {},
   "outputs": [],
   "source": [
    "# label the data using trained model\n",
    "df_lda = assign_model(lda)"
   ]
  },
  {
   "cell_type": "code",
   "execution_count": 8,
   "id": "69daf08b",
   "metadata": {},
   "outputs": [
    {
     "data": {
      "text/html": [
       "<div>\n",
       "<style scoped>\n",
       "    .dataframe tbody tr th:only-of-type {\n",
       "        vertical-align: middle;\n",
       "    }\n",
       "\n",
       "    .dataframe tbody tr th {\n",
       "        vertical-align: top;\n",
       "    }\n",
       "\n",
       "    .dataframe thead th {\n",
       "        text-align: right;\n",
       "    }\n",
       "</style>\n",
       "<table border=\"1\" class=\"dataframe\">\n",
       "  <thead>\n",
       "    <tr style=\"text-align: right;\">\n",
       "      <th></th>\n",
       "      <th>tweet</th>\n",
       "      <th>retweets</th>\n",
       "      <th>favorites</th>\n",
       "      <th>datetime</th>\n",
       "      <th>Topic_0</th>\n",
       "      <th>Topic_1</th>\n",
       "      <th>Topic_2</th>\n",
       "      <th>Topic_3</th>\n",
       "      <th>Topic_4</th>\n",
       "      <th>Topic_5</th>\n",
       "      <th>Dominant_Topic</th>\n",
       "      <th>Perc_Dominant_Topic</th>\n",
       "    </tr>\n",
       "  </thead>\n",
       "  <tbody>\n",
       "    <tr>\n",
       "      <th>0</th>\n",
       "      <td>realdonaldtrump</td>\n",
       "      <td>12230</td>\n",
       "      <td>0</td>\n",
       "      <td>2020-02-08 12:13:16</td>\n",
       "      <td>0.083467</td>\n",
       "      <td>0.083629</td>\n",
       "      <td>0.582612</td>\n",
       "      <td>0.083382</td>\n",
       "      <td>0.083479</td>\n",
       "      <td>0.083431</td>\n",
       "      <td>Topic 2</td>\n",
       "      <td>0.58</td>\n",
       "    </tr>\n",
       "    <tr>\n",
       "      <th>1</th>\n",
       "      <td>post triumphant tweet follow note reveal framed jwvlf</td>\n",
       "      <td>4910</td>\n",
       "      <td>0</td>\n",
       "      <td>2020-04-30 12:04:54</td>\n",
       "      <td>0.018528</td>\n",
       "      <td>0.018853</td>\n",
       "      <td>0.018606</td>\n",
       "      <td>0.906888</td>\n",
       "      <td>0.018561</td>\n",
       "      <td>0.018563</td>\n",
       "      <td>Topic 3</td>\n",
       "      <td>0.91</td>\n",
       "    </tr>\n",
       "    <tr>\n",
       "      <th>2</th>\n",
       "      <td>approximately page code federal regulation today page see roosevelt room today cut red tape time set free dream make great teavnzjvcx</td>\n",
       "      <td>26104</td>\n",
       "      <td>88904</td>\n",
       "      <td>2017-12-14 20:35:13</td>\n",
       "      <td>0.007609</td>\n",
       "      <td>0.007650</td>\n",
       "      <td>0.961856</td>\n",
       "      <td>0.007648</td>\n",
       "      <td>0.007599</td>\n",
       "      <td>0.007638</td>\n",
       "      <td>Topic 2</td>\n",
       "      <td>0.96</td>\n",
       "    </tr>\n",
       "    <tr>\n",
       "      <th>3</th>\n",
       "      <td>president realdonaldtrump entire admin pleased passage house</td>\n",
       "      <td>5698</td>\n",
       "      <td>0</td>\n",
       "      <td>2020-04-24 04:18:10</td>\n",
       "      <td>0.894570</td>\n",
       "      <td>0.021182</td>\n",
       "      <td>0.021323</td>\n",
       "      <td>0.020860</td>\n",
       "      <td>0.021027</td>\n",
       "      <td>0.021039</td>\n",
       "      <td>Topic 0</td>\n",
       "      <td>0.89</td>\n",
       "    </tr>\n",
       "    <tr>\n",
       "      <th>4</th>\n",
       "      <td>gopchairwoman country realdonaldtrump sign help wisconsin</td>\n",
       "      <td>4797</td>\n",
       "      <td>0</td>\n",
       "      <td>2020-05-05 12:22:50</td>\n",
       "      <td>0.288722</td>\n",
       "      <td>0.023950</td>\n",
       "      <td>0.441110</td>\n",
       "      <td>0.023913</td>\n",
       "      <td>0.024010</td>\n",
       "      <td>0.198295</td>\n",
       "      <td>Topic 2</td>\n",
       "      <td>0.44</td>\n",
       "    </tr>\n",
       "  </tbody>\n",
       "</table>\n",
       "</div>"
      ],
      "text/plain": [
       "                                                                                                                                   tweet  \\\n",
       "0                                                                                                                        realdonaldtrump   \n",
       "1                                                                                  post triumphant tweet follow note reveal framed jwvlf   \n",
       "2  approximately page code federal regulation today page see roosevelt room today cut red tape time set free dream make great teavnzjvcx   \n",
       "3                                                                           president realdonaldtrump entire admin pleased passage house   \n",
       "4                                                                              gopchairwoman country realdonaldtrump sign help wisconsin   \n",
       "\n",
       "   retweets  favorites             datetime   Topic_0   Topic_1   Topic_2  \\\n",
       "0     12230          0  2020-02-08 12:13:16  0.083467  0.083629  0.582612   \n",
       "1      4910          0  2020-04-30 12:04:54  0.018528  0.018853  0.018606   \n",
       "2     26104      88904  2017-12-14 20:35:13  0.007609  0.007650  0.961856   \n",
       "3      5698          0  2020-04-24 04:18:10  0.894570  0.021182  0.021323   \n",
       "4      4797          0  2020-05-05 12:22:50  0.288722  0.023950  0.441110   \n",
       "\n",
       "    Topic_3   Topic_4   Topic_5 Dominant_Topic  Perc_Dominant_Topic  \n",
       "0  0.083382  0.083479  0.083431        Topic 2                 0.58  \n",
       "1  0.906888  0.018561  0.018563        Topic 3                 0.91  \n",
       "2  0.007648  0.007599  0.007638        Topic 2                 0.96  \n",
       "3  0.020860  0.021027  0.021039        Topic 0                 0.89  \n",
       "4  0.023913  0.024010  0.198295        Topic 2                 0.44  "
      ]
     },
     "execution_count": 8,
     "metadata": {},
     "output_type": "execute_result"
    }
   ],
   "source": [
    "df_lda.head()"
   ]
  },
  {
   "cell_type": "code",
   "execution_count": 9,
   "id": "741e9538",
   "metadata": {
    "scrolled": false
   },
   "outputs": [
    {
     "data": {
      "text/html": [
       "        <script type=\"text/javascript\">\n",
       "        window.PlotlyConfig = {MathJaxConfig: 'local'};\n",
       "        if (window.MathJax && window.MathJax.Hub && window.MathJax.Hub.Config) {window.MathJax.Hub.Config({SVG: {font: \"STIX-Web\"}});}\n",
       "        if (typeof require !== 'undefined') {\n",
       "        require.undef(\"plotly\");\n",
       "        requirejs.config({\n",
       "            paths: {\n",
       "                'plotly': ['https://cdn.plot.ly/plotly-2.12.1.min']\n",
       "            }\n",
       "        });\n",
       "        require(['plotly'], function(Plotly) {\n",
       "            window._Plotly = Plotly;\n",
       "        });\n",
       "        }\n",
       "        </script>\n",
       "        "
      ]
     },
     "metadata": {},
     "output_type": "display_data"
    },
    {
     "data": {
      "application/vnd.plotly.v1+json": {
       "config": {
        "plotlyServerURL": "https://plot.ly"
       },
       "data": [
        {
         "alignmentgroup": "True",
         "customdata": [
          [
           "go, want, people, great, crime, year, country, big, american, vote"
          ],
          [
           "great, trump, thank, country, good, get, new, well, time, show"
          ],
          [
           "realdonaldtrump, great, make, work, hard, today, look, country, state, vote"
          ],
          [
           "great, job, whitehouse, good, say, take, country, work, thank, news"
          ],
          [
           "get, many, country, leader, great, take, year, come, big, work"
          ],
          [
           "get, go, know, see, read, impeachment, foxnew, collusion, big, great"
          ]
         ],
         "hovertemplate": "Topic=%{x}<br>Documents=%{y}<br>Keyword=%{customdata[0]}<extra></extra>",
         "legendgroup": "",
         "marker": {
          "color": "#636efa",
          "pattern": {
           "shape": ""
          }
         },
         "name": "",
         "offsetgroup": "",
         "orientation": "v",
         "showlegend": false,
         "textposition": "auto",
         "type": "bar",
         "x": [
          "Topic 0",
          "Topic 1",
          "Topic 2",
          "Topic 3",
          "Topic 4",
          "Topic 5"
         ],
         "xaxis": "x",
         "y": [
          158,
          251,
          173,
          170,
          106,
          142
         ],
         "yaxis": "y"
        }
       ],
       "layout": {
        "barmode": "relative",
        "legend": {
         "tracegroupgap": 0
        },
        "template": {
         "data": {
          "bar": [
           {
            "error_x": {
             "color": "#2a3f5f"
            },
            "error_y": {
             "color": "#2a3f5f"
            },
            "marker": {
             "line": {
              "color": "#E5ECF6",
              "width": 0.5
             },
             "pattern": {
              "fillmode": "overlay",
              "size": 10,
              "solidity": 0.2
             }
            },
            "type": "bar"
           }
          ],
          "barpolar": [
           {
            "marker": {
             "line": {
              "color": "#E5ECF6",
              "width": 0.5
             },
             "pattern": {
              "fillmode": "overlay",
              "size": 10,
              "solidity": 0.2
             }
            },
            "type": "barpolar"
           }
          ],
          "carpet": [
           {
            "aaxis": {
             "endlinecolor": "#2a3f5f",
             "gridcolor": "white",
             "linecolor": "white",
             "minorgridcolor": "white",
             "startlinecolor": "#2a3f5f"
            },
            "baxis": {
             "endlinecolor": "#2a3f5f",
             "gridcolor": "white",
             "linecolor": "white",
             "minorgridcolor": "white",
             "startlinecolor": "#2a3f5f"
            },
            "type": "carpet"
           }
          ],
          "choropleth": [
           {
            "colorbar": {
             "outlinewidth": 0,
             "ticks": ""
            },
            "type": "choropleth"
           }
          ],
          "contour": [
           {
            "colorbar": {
             "outlinewidth": 0,
             "ticks": ""
            },
            "colorscale": [
             [
              0,
              "#0d0887"
             ],
             [
              0.1111111111111111,
              "#46039f"
             ],
             [
              0.2222222222222222,
              "#7201a8"
             ],
             [
              0.3333333333333333,
              "#9c179e"
             ],
             [
              0.4444444444444444,
              "#bd3786"
             ],
             [
              0.5555555555555556,
              "#d8576b"
             ],
             [
              0.6666666666666666,
              "#ed7953"
             ],
             [
              0.7777777777777778,
              "#fb9f3a"
             ],
             [
              0.8888888888888888,
              "#fdca26"
             ],
             [
              1,
              "#f0f921"
             ]
            ],
            "type": "contour"
           }
          ],
          "contourcarpet": [
           {
            "colorbar": {
             "outlinewidth": 0,
             "ticks": ""
            },
            "type": "contourcarpet"
           }
          ],
          "heatmap": [
           {
            "colorbar": {
             "outlinewidth": 0,
             "ticks": ""
            },
            "colorscale": [
             [
              0,
              "#0d0887"
             ],
             [
              0.1111111111111111,
              "#46039f"
             ],
             [
              0.2222222222222222,
              "#7201a8"
             ],
             [
              0.3333333333333333,
              "#9c179e"
             ],
             [
              0.4444444444444444,
              "#bd3786"
             ],
             [
              0.5555555555555556,
              "#d8576b"
             ],
             [
              0.6666666666666666,
              "#ed7953"
             ],
             [
              0.7777777777777778,
              "#fb9f3a"
             ],
             [
              0.8888888888888888,
              "#fdca26"
             ],
             [
              1,
              "#f0f921"
             ]
            ],
            "type": "heatmap"
           }
          ],
          "heatmapgl": [
           {
            "colorbar": {
             "outlinewidth": 0,
             "ticks": ""
            },
            "colorscale": [
             [
              0,
              "#0d0887"
             ],
             [
              0.1111111111111111,
              "#46039f"
             ],
             [
              0.2222222222222222,
              "#7201a8"
             ],
             [
              0.3333333333333333,
              "#9c179e"
             ],
             [
              0.4444444444444444,
              "#bd3786"
             ],
             [
              0.5555555555555556,
              "#d8576b"
             ],
             [
              0.6666666666666666,
              "#ed7953"
             ],
             [
              0.7777777777777778,
              "#fb9f3a"
             ],
             [
              0.8888888888888888,
              "#fdca26"
             ],
             [
              1,
              "#f0f921"
             ]
            ],
            "type": "heatmapgl"
           }
          ],
          "histogram": [
           {
            "marker": {
             "pattern": {
              "fillmode": "overlay",
              "size": 10,
              "solidity": 0.2
             }
            },
            "type": "histogram"
           }
          ],
          "histogram2d": [
           {
            "colorbar": {
             "outlinewidth": 0,
             "ticks": ""
            },
            "colorscale": [
             [
              0,
              "#0d0887"
             ],
             [
              0.1111111111111111,
              "#46039f"
             ],
             [
              0.2222222222222222,
              "#7201a8"
             ],
             [
              0.3333333333333333,
              "#9c179e"
             ],
             [
              0.4444444444444444,
              "#bd3786"
             ],
             [
              0.5555555555555556,
              "#d8576b"
             ],
             [
              0.6666666666666666,
              "#ed7953"
             ],
             [
              0.7777777777777778,
              "#fb9f3a"
             ],
             [
              0.8888888888888888,
              "#fdca26"
             ],
             [
              1,
              "#f0f921"
             ]
            ],
            "type": "histogram2d"
           }
          ],
          "histogram2dcontour": [
           {
            "colorbar": {
             "outlinewidth": 0,
             "ticks": ""
            },
            "colorscale": [
             [
              0,
              "#0d0887"
             ],
             [
              0.1111111111111111,
              "#46039f"
             ],
             [
              0.2222222222222222,
              "#7201a8"
             ],
             [
              0.3333333333333333,
              "#9c179e"
             ],
             [
              0.4444444444444444,
              "#bd3786"
             ],
             [
              0.5555555555555556,
              "#d8576b"
             ],
             [
              0.6666666666666666,
              "#ed7953"
             ],
             [
              0.7777777777777778,
              "#fb9f3a"
             ],
             [
              0.8888888888888888,
              "#fdca26"
             ],
             [
              1,
              "#f0f921"
             ]
            ],
            "type": "histogram2dcontour"
           }
          ],
          "mesh3d": [
           {
            "colorbar": {
             "outlinewidth": 0,
             "ticks": ""
            },
            "type": "mesh3d"
           }
          ],
          "parcoords": [
           {
            "line": {
             "colorbar": {
              "outlinewidth": 0,
              "ticks": ""
             }
            },
            "type": "parcoords"
           }
          ],
          "pie": [
           {
            "automargin": true,
            "type": "pie"
           }
          ],
          "scatter": [
           {
            "fillpattern": {
             "fillmode": "overlay",
             "size": 10,
             "solidity": 0.2
            },
            "type": "scatter"
           }
          ],
          "scatter3d": [
           {
            "line": {
             "colorbar": {
              "outlinewidth": 0,
              "ticks": ""
             }
            },
            "marker": {
             "colorbar": {
              "outlinewidth": 0,
              "ticks": ""
             }
            },
            "type": "scatter3d"
           }
          ],
          "scattercarpet": [
           {
            "marker": {
             "colorbar": {
              "outlinewidth": 0,
              "ticks": ""
             }
            },
            "type": "scattercarpet"
           }
          ],
          "scattergeo": [
           {
            "marker": {
             "colorbar": {
              "outlinewidth": 0,
              "ticks": ""
             }
            },
            "type": "scattergeo"
           }
          ],
          "scattergl": [
           {
            "marker": {
             "colorbar": {
              "outlinewidth": 0,
              "ticks": ""
             }
            },
            "type": "scattergl"
           }
          ],
          "scattermapbox": [
           {
            "marker": {
             "colorbar": {
              "outlinewidth": 0,
              "ticks": ""
             }
            },
            "type": "scattermapbox"
           }
          ],
          "scatterpolar": [
           {
            "marker": {
             "colorbar": {
              "outlinewidth": 0,
              "ticks": ""
             }
            },
            "type": "scatterpolar"
           }
          ],
          "scatterpolargl": [
           {
            "marker": {
             "colorbar": {
              "outlinewidth": 0,
              "ticks": ""
             }
            },
            "type": "scatterpolargl"
           }
          ],
          "scatterternary": [
           {
            "marker": {
             "colorbar": {
              "outlinewidth": 0,
              "ticks": ""
             }
            },
            "type": "scatterternary"
           }
          ],
          "surface": [
           {
            "colorbar": {
             "outlinewidth": 0,
             "ticks": ""
            },
            "colorscale": [
             [
              0,
              "#0d0887"
             ],
             [
              0.1111111111111111,
              "#46039f"
             ],
             [
              0.2222222222222222,
              "#7201a8"
             ],
             [
              0.3333333333333333,
              "#9c179e"
             ],
             [
              0.4444444444444444,
              "#bd3786"
             ],
             [
              0.5555555555555556,
              "#d8576b"
             ],
             [
              0.6666666666666666,
              "#ed7953"
             ],
             [
              0.7777777777777778,
              "#fb9f3a"
             ],
             [
              0.8888888888888888,
              "#fdca26"
             ],
             [
              1,
              "#f0f921"
             ]
            ],
            "type": "surface"
           }
          ],
          "table": [
           {
            "cells": {
             "fill": {
              "color": "#EBF0F8"
             },
             "line": {
              "color": "white"
             }
            },
            "header": {
             "fill": {
              "color": "#C8D4E3"
             },
             "line": {
              "color": "white"
             }
            },
            "type": "table"
           }
          ]
         },
         "layout": {
          "annotationdefaults": {
           "arrowcolor": "#2a3f5f",
           "arrowhead": 0,
           "arrowwidth": 1
          },
          "autotypenumbers": "strict",
          "coloraxis": {
           "colorbar": {
            "outlinewidth": 0,
            "ticks": ""
           }
          },
          "colorscale": {
           "diverging": [
            [
             0,
             "#8e0152"
            ],
            [
             0.1,
             "#c51b7d"
            ],
            [
             0.2,
             "#de77ae"
            ],
            [
             0.3,
             "#f1b6da"
            ],
            [
             0.4,
             "#fde0ef"
            ],
            [
             0.5,
             "#f7f7f7"
            ],
            [
             0.6,
             "#e6f5d0"
            ],
            [
             0.7,
             "#b8e186"
            ],
            [
             0.8,
             "#7fbc41"
            ],
            [
             0.9,
             "#4d9221"
            ],
            [
             1,
             "#276419"
            ]
           ],
           "sequential": [
            [
             0,
             "#0d0887"
            ],
            [
             0.1111111111111111,
             "#46039f"
            ],
            [
             0.2222222222222222,
             "#7201a8"
            ],
            [
             0.3333333333333333,
             "#9c179e"
            ],
            [
             0.4444444444444444,
             "#bd3786"
            ],
            [
             0.5555555555555556,
             "#d8576b"
            ],
            [
             0.6666666666666666,
             "#ed7953"
            ],
            [
             0.7777777777777778,
             "#fb9f3a"
            ],
            [
             0.8888888888888888,
             "#fdca26"
            ],
            [
             1,
             "#f0f921"
            ]
           ],
           "sequentialminus": [
            [
             0,
             "#0d0887"
            ],
            [
             0.1111111111111111,
             "#46039f"
            ],
            [
             0.2222222222222222,
             "#7201a8"
            ],
            [
             0.3333333333333333,
             "#9c179e"
            ],
            [
             0.4444444444444444,
             "#bd3786"
            ],
            [
             0.5555555555555556,
             "#d8576b"
            ],
            [
             0.6666666666666666,
             "#ed7953"
            ],
            [
             0.7777777777777778,
             "#fb9f3a"
            ],
            [
             0.8888888888888888,
             "#fdca26"
            ],
            [
             1,
             "#f0f921"
            ]
           ]
          },
          "colorway": [
           "#636efa",
           "#EF553B",
           "#00cc96",
           "#ab63fa",
           "#FFA15A",
           "#19d3f3",
           "#FF6692",
           "#B6E880",
           "#FF97FF",
           "#FECB52"
          ],
          "font": {
           "color": "#2a3f5f"
          },
          "geo": {
           "bgcolor": "white",
           "lakecolor": "white",
           "landcolor": "#E5ECF6",
           "showlakes": true,
           "showland": true,
           "subunitcolor": "white"
          },
          "hoverlabel": {
           "align": "left"
          },
          "hovermode": "closest",
          "mapbox": {
           "style": "light"
          },
          "paper_bgcolor": "white",
          "plot_bgcolor": "#E5ECF6",
          "polar": {
           "angularaxis": {
            "gridcolor": "white",
            "linecolor": "white",
            "ticks": ""
           },
           "bgcolor": "#E5ECF6",
           "radialaxis": {
            "gridcolor": "white",
            "linecolor": "white",
            "ticks": ""
           }
          },
          "scene": {
           "xaxis": {
            "backgroundcolor": "#E5ECF6",
            "gridcolor": "white",
            "gridwidth": 2,
            "linecolor": "white",
            "showbackground": true,
            "ticks": "",
            "zerolinecolor": "white"
           },
           "yaxis": {
            "backgroundcolor": "#E5ECF6",
            "gridcolor": "white",
            "gridwidth": 2,
            "linecolor": "white",
            "showbackground": true,
            "ticks": "",
            "zerolinecolor": "white"
           },
           "zaxis": {
            "backgroundcolor": "#E5ECF6",
            "gridcolor": "white",
            "gridwidth": 2,
            "linecolor": "white",
            "showbackground": true,
            "ticks": "",
            "zerolinecolor": "white"
           }
          },
          "shapedefaults": {
           "line": {
            "color": "#2a3f5f"
           }
          },
          "ternary": {
           "aaxis": {
            "gridcolor": "white",
            "linecolor": "white",
            "ticks": ""
           },
           "baxis": {
            "gridcolor": "white",
            "linecolor": "white",
            "ticks": ""
           },
           "bgcolor": "#E5ECF6",
           "caxis": {
            "gridcolor": "white",
            "linecolor": "white",
            "ticks": ""
           }
          },
          "title": {
           "x": 0.05
          },
          "xaxis": {
           "automargin": true,
           "gridcolor": "white",
           "linecolor": "white",
           "ticks": "",
           "title": {
            "standoff": 15
           },
           "zerolinecolor": "white",
           "zerolinewidth": 2
          },
          "yaxis": {
           "automargin": true,
           "gridcolor": "white",
           "linecolor": "white",
           "ticks": "",
           "title": {
            "standoff": 15
           },
           "zerolinecolor": "white",
           "zerolinewidth": 2
          }
         }
        },
        "title": {
         "text": "Document Distribution by Topics"
        },
        "xaxis": {
         "anchor": "y",
         "domain": [
          0,
          1
         ],
         "title": {
          "text": "Topic"
         }
        },
        "yaxis": {
         "anchor": "x",
         "domain": [
          0,
          1
         ],
         "title": {
          "text": "Documents"
         }
        }
       }
      },
      "text/html": [
       "<div>                            <div id=\"66fb8ad1-980d-45e9-a1f6-4a0ef64cc7d2\" class=\"plotly-graph-div\" style=\"height:525px; width:100%;\"></div>            <script type=\"text/javascript\">                require([\"plotly\"], function(Plotly) {                    window.PLOTLYENV=window.PLOTLYENV || {};                                    if (document.getElementById(\"66fb8ad1-980d-45e9-a1f6-4a0ef64cc7d2\")) {                    Plotly.newPlot(                        \"66fb8ad1-980d-45e9-a1f6-4a0ef64cc7d2\",                        [{\"alignmentgroup\":\"True\",\"customdata\":[[\"go, want, people, great, crime, year, country, big, american, vote\"],[\"great, trump, thank, country, good, get, new, well, time, show\"],[\"realdonaldtrump, great, make, work, hard, today, look, country, state, vote\"],[\"great, job, whitehouse, good, say, take, country, work, thank, news\"],[\"get, many, country, leader, great, take, year, come, big, work\"],[\"get, go, know, see, read, impeachment, foxnew, collusion, big, great\"]],\"hovertemplate\":\"Topic=%{x}<br>Documents=%{y}<br>Keyword=%{customdata[0]}<extra></extra>\",\"legendgroup\":\"\",\"marker\":{\"color\":\"#636efa\",\"pattern\":{\"shape\":\"\"}},\"name\":\"\",\"offsetgroup\":\"\",\"orientation\":\"v\",\"showlegend\":false,\"textposition\":\"auto\",\"x\":[\"Topic 0\",\"Topic 1\",\"Topic 2\",\"Topic 3\",\"Topic 4\",\"Topic 5\"],\"xaxis\":\"x\",\"y\":[158,251,173,170,106,142],\"yaxis\":\"y\",\"type\":\"bar\"}],                        {\"template\":{\"data\":{\"histogram2dcontour\":[{\"type\":\"histogram2dcontour\",\"colorbar\":{\"outlinewidth\":0,\"ticks\":\"\"},\"colorscale\":[[0.0,\"#0d0887\"],[0.1111111111111111,\"#46039f\"],[0.2222222222222222,\"#7201a8\"],[0.3333333333333333,\"#9c179e\"],[0.4444444444444444,\"#bd3786\"],[0.5555555555555556,\"#d8576b\"],[0.6666666666666666,\"#ed7953\"],[0.7777777777777778,\"#fb9f3a\"],[0.8888888888888888,\"#fdca26\"],[1.0,\"#f0f921\"]]}],\"choropleth\":[{\"type\":\"choropleth\",\"colorbar\":{\"outlinewidth\":0,\"ticks\":\"\"}}],\"histogram2d\":[{\"type\":\"histogram2d\",\"colorbar\":{\"outlinewidth\":0,\"ticks\":\"\"},\"colorscale\":[[0.0,\"#0d0887\"],[0.1111111111111111,\"#46039f\"],[0.2222222222222222,\"#7201a8\"],[0.3333333333333333,\"#9c179e\"],[0.4444444444444444,\"#bd3786\"],[0.5555555555555556,\"#d8576b\"],[0.6666666666666666,\"#ed7953\"],[0.7777777777777778,\"#fb9f3a\"],[0.8888888888888888,\"#fdca26\"],[1.0,\"#f0f921\"]]}],\"heatmap\":[{\"type\":\"heatmap\",\"colorbar\":{\"outlinewidth\":0,\"ticks\":\"\"},\"colorscale\":[[0.0,\"#0d0887\"],[0.1111111111111111,\"#46039f\"],[0.2222222222222222,\"#7201a8\"],[0.3333333333333333,\"#9c179e\"],[0.4444444444444444,\"#bd3786\"],[0.5555555555555556,\"#d8576b\"],[0.6666666666666666,\"#ed7953\"],[0.7777777777777778,\"#fb9f3a\"],[0.8888888888888888,\"#fdca26\"],[1.0,\"#f0f921\"]]}],\"heatmapgl\":[{\"type\":\"heatmapgl\",\"colorbar\":{\"outlinewidth\":0,\"ticks\":\"\"},\"colorscale\":[[0.0,\"#0d0887\"],[0.1111111111111111,\"#46039f\"],[0.2222222222222222,\"#7201a8\"],[0.3333333333333333,\"#9c179e\"],[0.4444444444444444,\"#bd3786\"],[0.5555555555555556,\"#d8576b\"],[0.6666666666666666,\"#ed7953\"],[0.7777777777777778,\"#fb9f3a\"],[0.8888888888888888,\"#fdca26\"],[1.0,\"#f0f921\"]]}],\"contourcarpet\":[{\"type\":\"contourcarpet\",\"colorbar\":{\"outlinewidth\":0,\"ticks\":\"\"}}],\"contour\":[{\"type\":\"contour\",\"colorbar\":{\"outlinewidth\":0,\"ticks\":\"\"},\"colorscale\":[[0.0,\"#0d0887\"],[0.1111111111111111,\"#46039f\"],[0.2222222222222222,\"#7201a8\"],[0.3333333333333333,\"#9c179e\"],[0.4444444444444444,\"#bd3786\"],[0.5555555555555556,\"#d8576b\"],[0.6666666666666666,\"#ed7953\"],[0.7777777777777778,\"#fb9f3a\"],[0.8888888888888888,\"#fdca26\"],[1.0,\"#f0f921\"]]}],\"surface\":[{\"type\":\"surface\",\"colorbar\":{\"outlinewidth\":0,\"ticks\":\"\"},\"colorscale\":[[0.0,\"#0d0887\"],[0.1111111111111111,\"#46039f\"],[0.2222222222222222,\"#7201a8\"],[0.3333333333333333,\"#9c179e\"],[0.4444444444444444,\"#bd3786\"],[0.5555555555555556,\"#d8576b\"],[0.6666666666666666,\"#ed7953\"],[0.7777777777777778,\"#fb9f3a\"],[0.8888888888888888,\"#fdca26\"],[1.0,\"#f0f921\"]]}],\"mesh3d\":[{\"type\":\"mesh3d\",\"colorbar\":{\"outlinewidth\":0,\"ticks\":\"\"}}],\"scatter\":[{\"fillpattern\":{\"fillmode\":\"overlay\",\"size\":10,\"solidity\":0.2},\"type\":\"scatter\"}],\"parcoords\":[{\"type\":\"parcoords\",\"line\":{\"colorbar\":{\"outlinewidth\":0,\"ticks\":\"\"}}}],\"scatterpolargl\":[{\"type\":\"scatterpolargl\",\"marker\":{\"colorbar\":{\"outlinewidth\":0,\"ticks\":\"\"}}}],\"bar\":[{\"error_x\":{\"color\":\"#2a3f5f\"},\"error_y\":{\"color\":\"#2a3f5f\"},\"marker\":{\"line\":{\"color\":\"#E5ECF6\",\"width\":0.5},\"pattern\":{\"fillmode\":\"overlay\",\"size\":10,\"solidity\":0.2}},\"type\":\"bar\"}],\"scattergeo\":[{\"type\":\"scattergeo\",\"marker\":{\"colorbar\":{\"outlinewidth\":0,\"ticks\":\"\"}}}],\"scatterpolar\":[{\"type\":\"scatterpolar\",\"marker\":{\"colorbar\":{\"outlinewidth\":0,\"ticks\":\"\"}}}],\"histogram\":[{\"marker\":{\"pattern\":{\"fillmode\":\"overlay\",\"size\":10,\"solidity\":0.2}},\"type\":\"histogram\"}],\"scattergl\":[{\"type\":\"scattergl\",\"marker\":{\"colorbar\":{\"outlinewidth\":0,\"ticks\":\"\"}}}],\"scatter3d\":[{\"type\":\"scatter3d\",\"line\":{\"colorbar\":{\"outlinewidth\":0,\"ticks\":\"\"}},\"marker\":{\"colorbar\":{\"outlinewidth\":0,\"ticks\":\"\"}}}],\"scattermapbox\":[{\"type\":\"scattermapbox\",\"marker\":{\"colorbar\":{\"outlinewidth\":0,\"ticks\":\"\"}}}],\"scatterternary\":[{\"type\":\"scatterternary\",\"marker\":{\"colorbar\":{\"outlinewidth\":0,\"ticks\":\"\"}}}],\"scattercarpet\":[{\"type\":\"scattercarpet\",\"marker\":{\"colorbar\":{\"outlinewidth\":0,\"ticks\":\"\"}}}],\"carpet\":[{\"aaxis\":{\"endlinecolor\":\"#2a3f5f\",\"gridcolor\":\"white\",\"linecolor\":\"white\",\"minorgridcolor\":\"white\",\"startlinecolor\":\"#2a3f5f\"},\"baxis\":{\"endlinecolor\":\"#2a3f5f\",\"gridcolor\":\"white\",\"linecolor\":\"white\",\"minorgridcolor\":\"white\",\"startlinecolor\":\"#2a3f5f\"},\"type\":\"carpet\"}],\"table\":[{\"cells\":{\"fill\":{\"color\":\"#EBF0F8\"},\"line\":{\"color\":\"white\"}},\"header\":{\"fill\":{\"color\":\"#C8D4E3\"},\"line\":{\"color\":\"white\"}},\"type\":\"table\"}],\"barpolar\":[{\"marker\":{\"line\":{\"color\":\"#E5ECF6\",\"width\":0.5},\"pattern\":{\"fillmode\":\"overlay\",\"size\":10,\"solidity\":0.2}},\"type\":\"barpolar\"}],\"pie\":[{\"automargin\":true,\"type\":\"pie\"}]},\"layout\":{\"autotypenumbers\":\"strict\",\"colorway\":[\"#636efa\",\"#EF553B\",\"#00cc96\",\"#ab63fa\",\"#FFA15A\",\"#19d3f3\",\"#FF6692\",\"#B6E880\",\"#FF97FF\",\"#FECB52\"],\"font\":{\"color\":\"#2a3f5f\"},\"hovermode\":\"closest\",\"hoverlabel\":{\"align\":\"left\"},\"paper_bgcolor\":\"white\",\"plot_bgcolor\":\"#E5ECF6\",\"polar\":{\"bgcolor\":\"#E5ECF6\",\"angularaxis\":{\"gridcolor\":\"white\",\"linecolor\":\"white\",\"ticks\":\"\"},\"radialaxis\":{\"gridcolor\":\"white\",\"linecolor\":\"white\",\"ticks\":\"\"}},\"ternary\":{\"bgcolor\":\"#E5ECF6\",\"aaxis\":{\"gridcolor\":\"white\",\"linecolor\":\"white\",\"ticks\":\"\"},\"baxis\":{\"gridcolor\":\"white\",\"linecolor\":\"white\",\"ticks\":\"\"},\"caxis\":{\"gridcolor\":\"white\",\"linecolor\":\"white\",\"ticks\":\"\"}},\"coloraxis\":{\"colorbar\":{\"outlinewidth\":0,\"ticks\":\"\"}},\"colorscale\":{\"sequential\":[[0.0,\"#0d0887\"],[0.1111111111111111,\"#46039f\"],[0.2222222222222222,\"#7201a8\"],[0.3333333333333333,\"#9c179e\"],[0.4444444444444444,\"#bd3786\"],[0.5555555555555556,\"#d8576b\"],[0.6666666666666666,\"#ed7953\"],[0.7777777777777778,\"#fb9f3a\"],[0.8888888888888888,\"#fdca26\"],[1.0,\"#f0f921\"]],\"sequentialminus\":[[0.0,\"#0d0887\"],[0.1111111111111111,\"#46039f\"],[0.2222222222222222,\"#7201a8\"],[0.3333333333333333,\"#9c179e\"],[0.4444444444444444,\"#bd3786\"],[0.5555555555555556,\"#d8576b\"],[0.6666666666666666,\"#ed7953\"],[0.7777777777777778,\"#fb9f3a\"],[0.8888888888888888,\"#fdca26\"],[1.0,\"#f0f921\"]],\"diverging\":[[0,\"#8e0152\"],[0.1,\"#c51b7d\"],[0.2,\"#de77ae\"],[0.3,\"#f1b6da\"],[0.4,\"#fde0ef\"],[0.5,\"#f7f7f7\"],[0.6,\"#e6f5d0\"],[0.7,\"#b8e186\"],[0.8,\"#7fbc41\"],[0.9,\"#4d9221\"],[1,\"#276419\"]]},\"xaxis\":{\"gridcolor\":\"white\",\"linecolor\":\"white\",\"ticks\":\"\",\"title\":{\"standoff\":15},\"zerolinecolor\":\"white\",\"automargin\":true,\"zerolinewidth\":2},\"yaxis\":{\"gridcolor\":\"white\",\"linecolor\":\"white\",\"ticks\":\"\",\"title\":{\"standoff\":15},\"zerolinecolor\":\"white\",\"automargin\":true,\"zerolinewidth\":2},\"scene\":{\"xaxis\":{\"backgroundcolor\":\"#E5ECF6\",\"gridcolor\":\"white\",\"linecolor\":\"white\",\"showbackground\":true,\"ticks\":\"\",\"zerolinecolor\":\"white\",\"gridwidth\":2},\"yaxis\":{\"backgroundcolor\":\"#E5ECF6\",\"gridcolor\":\"white\",\"linecolor\":\"white\",\"showbackground\":true,\"ticks\":\"\",\"zerolinecolor\":\"white\",\"gridwidth\":2},\"zaxis\":{\"backgroundcolor\":\"#E5ECF6\",\"gridcolor\":\"white\",\"linecolor\":\"white\",\"showbackground\":true,\"ticks\":\"\",\"zerolinecolor\":\"white\",\"gridwidth\":2}},\"shapedefaults\":{\"line\":{\"color\":\"#2a3f5f\"}},\"annotationdefaults\":{\"arrowcolor\":\"#2a3f5f\",\"arrowhead\":0,\"arrowwidth\":1},\"geo\":{\"bgcolor\":\"white\",\"landcolor\":\"#E5ECF6\",\"subunitcolor\":\"white\",\"showland\":true,\"showlakes\":true,\"lakecolor\":\"white\"},\"title\":{\"x\":0.05},\"mapbox\":{\"style\":\"light\"}}},\"xaxis\":{\"anchor\":\"y\",\"domain\":[0.0,1.0],\"title\":{\"text\":\"Topic\"}},\"yaxis\":{\"anchor\":\"x\",\"domain\":[0.0,1.0],\"title\":{\"text\":\"Documents\"}},\"legend\":{\"tracegroupgap\":0},\"title\":{\"text\":\"Document Distribution by Topics\"},\"barmode\":\"relative\"},                        {\"responsive\": true}                    ).then(function(){\n",
       "                            \n",
       "var gd = document.getElementById('66fb8ad1-980d-45e9-a1f6-4a0ef64cc7d2');\n",
       "var x = new MutationObserver(function (mutations, observer) {{\n",
       "        var display = window.getComputedStyle(gd).display;\n",
       "        if (!display || display === 'none') {{\n",
       "            console.log([gd, 'removed!']);\n",
       "            Plotly.purge(gd);\n",
       "            observer.disconnect();\n",
       "        }}\n",
       "}});\n",
       "\n",
       "// Listen for the removal of the full notebook cells\n",
       "var notebookContainer = gd.closest('#notebook-container');\n",
       "if (notebookContainer) {{\n",
       "    x.observe(notebookContainer, {childList: true});\n",
       "}}\n",
       "\n",
       "// Listen for the clearing of the current output cell\n",
       "var outputEl = gd.closest('.output');\n",
       "if (outputEl) {{\n",
       "    x.observe(outputEl, {childList: true});\n",
       "}}\n",
       "\n",
       "                        })                };                });            </script>        </div>"
      ]
     },
     "metadata": {},
     "output_type": "display_data"
    },
    {
     "data": {
      "text/html": [
       "        <script type=\"text/javascript\">\n",
       "        window.PlotlyConfig = {MathJaxConfig: 'local'};\n",
       "        if (window.MathJax && window.MathJax.Hub && window.MathJax.Hub.Config) {window.MathJax.Hub.Config({SVG: {font: \"STIX-Web\"}});}\n",
       "        if (typeof require !== 'undefined') {\n",
       "        require.undef(\"plotly\");\n",
       "        requirejs.config({\n",
       "            paths: {\n",
       "                'plotly': ['https://cdn.plot.ly/plotly-2.12.1.min']\n",
       "            }\n",
       "        });\n",
       "        require(['plotly'], function(Plotly) {\n",
       "            window._Plotly = Plotly;\n",
       "        });\n",
       "        }\n",
       "        </script>\n",
       "        "
      ]
     },
     "metadata": {},
     "output_type": "display_data"
    },
    {
     "data": {
      "text/html": [
       "\n",
       "<link rel=\"stylesheet\" type=\"text/css\" href=\"https://cdn.jsdelivr.net/gh/bmabey/pyLDAvis@3.3.1/pyLDAvis/js/ldavis.v1.0.0.css\">\n",
       "\n",
       "\n",
       "<div id=\"ldavis_el29241769164513456854314216\"></div>\n",
       "<script type=\"text/javascript\">\n",
       "\n",
       "var ldavis_el29241769164513456854314216_data = {\"mdsDat\": {\"x\": [-0.015208223998548622, -0.05234893449738484, -0.15956312647994148, 0.11410768747400746, 0.15016724405771986, -0.03715464655585243], \"y\": [0.15138523722333347, -0.16853144333816716, 0.04401879507362811, 0.08427967827031371, -0.06925521253758307, -0.041897054691525146], \"topics\": [1, 2, 3, 4, 5, 6], \"cluster\": [1, 1, 1, 1, 1, 1], \"Freq\": [26.016204796619146, 16.33954672331635, 16.006570403733704, 14.762484063703852, 14.253550981135527, 12.621643031491429]}, \"tinfo\": {\"Term\": [\"realdonaldtrump\", \"whitehouse\", \"hard\", \"go\", \"work\", \"take\", \"make\", \"read\", \"want\", \"many\", \"leader\", \"get\", \"good\", \"foxnew\", \"state\", \"collusion\", \"know\", \"show\", \"crime\", \"thank\", \"american\", \"real\", \"trump\", \"see\", \"job\", \"keep\", \"great\", \"debate\", \"sign\", \"story\", \"rating\", \"testing\", \"stock_market\", \"climate\", \"prayer\", \"fund\", \"show\", \"healthcare\", \"negative\", \"doom\", \"credit\", \"mueller\", \"wisdom\", \"yet\", \"portion\", \"hire\", \"situation\", \"building\", \"suppression\", \"court\", \"grow\", \"african\", \"town\", \"exciting\", \"poll\", \"siege\", \"fighter\", \"spying\", \"beat\", \"follow\", \"game\", \"build\", \"truly\", \"trump\", \"number\", \"rule\", \"happen\", \"economy\", \"new\", \"thank\", \"control\", \"campaign\", \"start\", \"send\", \"good\", \"great\", \"well\", \"ever\", \"back\", \"totally\", \"history\", \"love\", \"stand\", \"time\", \"much\", \"country\", \"day\", \"year\", \"get\", \"never\", \"impeachment\", \"big\", \"see\", \"people\", \"dem\", \"go\", \"realdonaldtrump\", \"president\", \"make\", \"say\", \"fool\", \"ridiculous\", \"tunnel\", \"obamacare\", \"doctor\", \"statement\", \"cave\", \"legislation\", \"nurse\", \"garbage\", \"shortly\", \"fault\", \"ease\", \"disaster\", \"priority\", \"iowa\", \"meddling\", \"ticket\", \"exercise\", \"letter\", \"planet\", \"compromise\", \"properly\", \"opposition\", \"bright\", \"new_york\", \"busy\", \"hard\", \"usnavy\", \"impeachable\", \"future\", \"ago\", \"realdonaldtrump\", \"sign\", \"tax\", \"war\", \"make\", \"force\", \"work\", \"pay\", \"congratulation\", \"forward\", \"look\", \"state\", \"today\", \"money\", \"great\", \"story\", \"keep\", \"vote\", \"early\", \"president\", \"never\", \"thank\", \"country\", \"win\", \"much\", \"get\", \"time\", \"honor\", \"true\", \"many\", \"watch\", \"long\", \"job\", \"represent\", \"conference\", \"strongly\", \"human\", \"ban\", \"dhs\", \"pandemic\", \"asset\", \"remark\", \"sell\", \"elite\", \"mariabartiromo\", \"anger\", \"visit\", \"lock\", \"steel\", \"afternoon\", \"direct\", \"trafficking\", \"statedept\", \"construction\", \"advantage\", \"whitehouse\", \"prime_minister\", \"ally\", \"cop\", \"commission\", \"fence\", \"top\", \"ten\", \"small\", \"corrupt_politician\", \"news\", \"southern_border\", \"lawyer\", \"friend\", \"press\", \"important\", \"continue\", \"buy\", \"take\", \"job\", \"lie\", \"local\", \"say\", \"protect\", \"great\", \"good\", \"major\", \"tariff\", \"work\", \"country\", \"state\", \"thank\", \"want\", \"people\", \"deal\", \"watch\", \"far\", \"win\", \"election\", \"many\", \"even\", \"year\", \"go\", \"look\", \"kurd\", \"total_endorsement\", \"understand\", \"mid\", \"appreciate\", \"second\", \"kid\", \"discuss\", \"paulsperry\", \"hurt\", \"disgraceful\", \"tate\", \"seanhannity\", \"expose\", \"alien\", \"endorse\", \"admin\", \"amendment\", \"lack\", \"tatereeve\", \"nominee\", \"electric\", \"road\", \"season\", \"apply\", \"mazloumabdi\", \"region\", \"alienate\", \"independent\", \"persecute\", \"credibility\", \"badly\", \"phone\", \"old\", \"witch_hunt\", \"oil\", \"solve\", \"enjoy\", \"maybe\", \"charge\", \"conversation\", \"bring\", \"go\", \"want\", \"crime\", \"american\", \"full\", \"investigation\", \"whistleblower\", \"people\", \"bill\", \"year\", \"vote\", \"take\", \"really\", \"way\", \"big\", \"country\", \"time\", \"great\", \"job\", \"bad\", \"make\", \"republican\", \"strong\", \"help\", \"many\", \"get\", \"today\", \"ever\", \"election\", \"request\", \"process\", \"author\", \"acid\", \"delete\", \"taxis\", \"internal\", \"wash\", \"magazine\", \"reiterate\", \"sanction\", \"anonymous\", \"shut\", \"unlawful\", \"devote\", \"prison\", \"voter\", \"manager\", \"turkey\", \"secazar\", \"rid\", \"release\", \"opponent\", \"path\", \"aware\", \"joke\", \"todd\", \"chuck\", \"sleepy\", \"unmatched\", \"learn\", \"price\", \"least\", \"read\", \"foxnew\", \"obstruction\", \"find\", \"collusion\", \"witness\", \"know\", \"democrat\", \"base\", \"nancy_pelosi\", \"see\", \"ask\", \"angry\", \"cut\", \"get\", \"impeachment\", \"go\", \"call\", \"wonderful\", \"long\", \"big\", \"want\", \"crime\", \"say\", \"many\", \"fake_new\", \"book\", \"today\", \"great\", \"trump\", \"time\", \"make\", \"vote\", \"give\", \"back\", \"look\", \"even\", \"supply\", \"television\", \"ready\", \"pastor\", \"debate\", \"trumpwarroom\", \"trip\", \"lamestream\", \"floor\", \"forest\", \"asap\", \"exactly\", \"role\", \"seldom\", \"united\", \"arena\", \"leader\", \"dismantle\", \"leaker\", \"incapable\", \"burial\", \"cdcgov\", \"funeral\", \"safeguard\", \"tribal\", \"terror\", \"tour\", \"hack\", \"hillary_clinton\", \"keynote\", \"real\", \"guy\", \"cost\", \"health\", \"hold\", \"isis\", \"action\", \"wife\", \"many\", \"classified\", \"get\", \"together\", \"seem\", \"let\", \"come\", \"thing\", \"take\", \"country\", \"border\", \"work\", \"back\", \"hope\", \"year\", \"record\", \"big\", \"today\", \"people\", \"go\", \"great\", \"keep\", \"well\", \"want\", \"good\", \"job\"], \"Freq\": [59.0, 25.0, 23.0, 65.0, 39.0, 32.0, 57.0, 15.0, 44.0, 40.0, 11.0, 75.0, 47.0, 16.0, 31.0, 18.0, 26.0, 18.0, 30.0, 57.0, 25.0, 10.0, 54.0, 30.0, 49.0, 22.0, 145.0, 8.0, 14.0, 17.0, 9.085218333713474, 6.139522729579676, 6.099453949019132, 5.216659362326285, 4.9498453697586395, 4.859450486626681, 16.31123437336195, 4.470726658526817, 4.306309782490528, 4.303731777877002, 4.139798001061889, 3.869954204936305, 3.7581524618126054, 3.674366679544169, 3.627801036486279, 3.6171921396495264, 3.5266483430796263, 3.410654259855931, 3.304256398858108, 5.671881418823722, 3.1256544903235994, 3.1319417358159454, 3.029962272472529, 2.9810762987967006, 11.983406441006737, 2.860545572428599, 3.1619694508232654, 2.6797545415070343, 2.688316589942025, 4.741200570325047, 10.029041820644784, 9.076927238179366, 5.8450339175570605, 34.56404704594527, 13.724574442898929, 8.083219330359878, 10.355640290326185, 13.987272923318638, 17.808112251544998, 30.167201687159555, 5.484204327013931, 9.548323949818256, 13.811061850065892, 6.016903421107458, 21.02370160578144, 46.60366625470607, 17.35810659167726, 13.72137612370952, 12.874388105142222, 7.064700104162769, 8.910507776758962, 9.995305813251878, 8.650482150276309, 17.04084698639055, 15.953127590732933, 21.930686247782788, 11.276336350536932, 16.135043534631556, 19.959306291108497, 11.701056445409403, 13.000477001869141, 15.36902901589005, 11.976172599265569, 15.065365744966856, 11.216123470645234, 14.314514471413569, 12.926287125662165, 11.080739340212443, 11.177641203102924, 10.603178687201794, 5.679674605737686, 4.32548600017398, 3.6505525132907337, 3.3113675618018172, 3.224386084179158, 5.217427991879846, 2.7983542841044553, 2.7983425685982968, 2.856707036033521, 2.7957339820829494, 2.6671858886095845, 2.414546756768548, 2.4145618479290234, 4.644957527588095, 2.381183378043673, 2.2834716881871437, 2.2591645942907657, 2.2578000356751406, 2.1522862158527873, 2.1522862158527873, 2.1357478925148667, 2.133880361406026, 2.132775331036999, 2.1318333249146875, 2.120096174854881, 3.5618299923121666, 2.0988378925103524, 17.790559240398245, 1.768303353060303, 1.751926266857989, 5.685714644150097, 4.21761597363844, 35.082099871625324, 9.684338419634994, 5.230070810136082, 3.8689768072474364, 26.23299920248118, 4.813126271482432, 18.773186001080294, 7.502696719570978, 6.818069544897047, 7.510061205883013, 13.990501777363326, 13.336277731146264, 17.613682896909555, 6.4562724751146305, 34.65837821051078, 7.990298468706638, 9.556650522308733, 13.214674748578037, 4.669195916990729, 10.368724135741317, 8.535399127797092, 12.095075055519285, 13.581558333712296, 7.9832612222954396, 9.612776930931862, 12.129812524119032, 9.851156901802577, 6.32130944703178, 5.784456107141176, 7.654942700620474, 6.426141384682122, 5.93058182834626, 5.943355304281349, 5.0179554643735225, 4.390679275712447, 4.165970518157669, 3.8227616735198553, 3.5725803419755646, 3.302681156784683, 2.885245678940588, 2.88208645729749, 2.882783427382289, 4.553847695062456, 2.518053515956358, 2.358734285564765, 2.328237224472165, 2.3228242781842217, 2.244990635130766, 2.244981492626165, 2.227891039184816, 2.2278418252770695, 2.227767712633389, 2.227613068140669, 2.2229009823650143, 2.291053880174208, 19.399884339335525, 4.1374171146389775, 1.9588856797097178, 1.941668009289452, 1.827446225316956, 1.8274028470504446, 1.8266848686572008, 1.8265257501728676, 5.079072913110149, 3.017041691012791, 9.099997012208082, 4.293877658911061, 6.606000343677695, 7.371909581681561, 7.50755089228469, 6.81633941825612, 6.474119520286215, 4.455088415148199, 14.35317355825659, 19.6257765649327, 4.5502350440954205, 4.009384702120415, 14.495488508175733, 8.004223873941937, 33.88945472921376, 15.721352873188046, 4.531752401176844, 5.714485930866156, 10.47412167842946, 13.65519507465225, 7.752221433289668, 9.791423237834088, 8.671413514391944, 8.4845547258855, 5.949354539810566, 6.828023150093509, 5.748772268333829, 6.158366978614967, 5.652982940765291, 6.195233447593878, 5.603591629525693, 5.7403428790916635, 5.5719309415708915, 5.378979743615412, 4.391420050407161, 3.6645672477543325, 3.662326510572945, 3.2755770670904814, 3.1821101604346835, 5.315907666483304, 5.194446794272371, 2.911653900251236, 2.764522863022435, 2.7636249535274118, 2.712013187514463, 2.381496200745013, 2.283338277610519, 2.2596366961868375, 2.2326563547369718, 2.135951412421698, 2.1307013777638826, 4.240193433585575, 3.6639605085111415, 1.751404493388865, 1.7513156891530937, 1.7476687952040753, 1.747145478121761, 1.7427657249745068, 1.740108953403717, 1.6530763172851854, 1.6530763172851854, 1.6529665229573223, 1.6529665229573223, 1.6529665229573223, 4.128194249040482, 3.3825293006038057, 5.359720267765554, 3.0819167365748084, 3.476512527644554, 5.054695837542427, 3.2806250945372284, 3.8896850884227288, 4.799427254505872, 4.242136721427752, 3.663129157342323, 9.647462539025657, 23.340985276140422, 17.445239412012853, 12.365658654179779, 10.039087424753227, 5.80499367604893, 5.075634620519883, 4.388370207966521, 13.56263498132231, 5.94789996388746, 10.858036857793524, 9.654215248994225, 8.571885010830266, 7.3840711279894, 7.113893838688022, 10.216768374904916, 10.455522240527907, 8.66232396215, 13.438439656259598, 8.609563840756902, 6.968611544185739, 8.450851475366015, 5.566375079908307, 5.917115571901635, 5.544688547325405, 5.970685157358978, 6.214766559518275, 5.880039175558275, 5.485662255534269, 5.340641171066902, 3.6652211433067245, 7.219478374423733, 3.1809960845546605, 3.1537129207261834, 3.153704606279528, 5.2638255978552335, 2.7953826149625445, 2.670042331635438, 2.7161073108050906, 2.415603288657798, 2.263080827385547, 2.138200090453779, 2.136279106841151, 2.1378500176060675, 2.1316916108991455, 2.131575728298889, 2.1016669315037557, 2.0118657110984604, 3.4354628423544846, 1.8800635437615172, 1.8669395361515646, 4.877359031392767, 1.754075772901137, 1.7540655530604565, 1.7519358421932554, 1.7490044800943823, 1.7462891203909054, 1.7462669485331583, 1.7462685074919062, 1.7405218391120554, 3.3274380870573816, 4.703333159240873, 2.737026631807207, 9.989739062035238, 9.782756455518525, 4.50724490288941, 4.366689528618569, 9.76813688681647, 3.644043554805381, 12.771782706298264, 5.760564591693925, 3.943065353618746, 3.4728743879501014, 11.422100659371672, 5.494696648918161, 4.465764474961906, 6.1069423607378015, 16.702618894628323, 9.842614235600957, 14.436089650492534, 7.098769930754127, 5.165287279756434, 7.5880162224153755, 9.654877494479365, 8.14800529057182, 6.900087220610966, 7.388075259345062, 7.341071613791565, 5.551900041905922, 4.638247670823984, 6.801633086284551, 8.816168081194606, 6.827694026454713, 6.305043752485653, 6.460659014695999, 5.957003094110737, 5.51918511936466, 5.466803412566359, 5.431627413815158, 5.283457392149265, 5.449192187323979, 5.168086470251531, 4.4547968493581, 3.3715789077608513, 6.940963428481228, 2.8425552354148653, 2.48133692290889, 2.323783404539678, 2.3393479138618547, 2.2117573758818234, 2.1925017925564254, 2.185542989141443, 2.181618001912868, 2.1652164667082285, 2.116137637385976, 1.8779903525747546, 8.789695761443017, 1.800461232849183, 1.7982676636453903, 1.788680595891761, 1.698177344909438, 1.698177344909438, 1.698177344909438, 1.698177344909438, 1.698177344909438, 1.6978599898515647, 1.6978599898515647, 1.6972720623808886, 1.6972720623808886, 1.6948703487529615, 6.817938876660103, 5.069956114265461, 5.995100559897466, 3.236406820336371, 4.314054406070049, 3.050396569363535, 4.744444924034745, 2.2890958371555166, 13.676874688974333, 2.1927843290555082, 17.66831229337919, 5.981274984500427, 2.3486818951749373, 6.645027766307075, 7.4737745010635654, 5.083184098891366, 7.645848125376965, 11.489220038604403, 6.262079452015763, 7.38009386485947, 6.117822021532822, 4.098664653992784, 7.562222843534371, 4.388789758263429, 7.406740645948881, 6.500837211998728, 6.792781164155434, 6.857781124602452, 8.456581240995392, 4.96476878800262, 5.577094405090186, 5.607848855802531, 5.122365561145307, 4.824763516492306], \"Total\": [59.0, 25.0, 23.0, 65.0, 39.0, 32.0, 57.0, 15.0, 44.0, 40.0, 11.0, 75.0, 47.0, 16.0, 31.0, 18.0, 26.0, 18.0, 30.0, 57.0, 25.0, 10.0, 54.0, 30.0, 49.0, 22.0, 145.0, 8.0, 14.0, 17.0, 9.878463366562789, 6.779300937648064, 6.7366424975161525, 5.847866555022409, 5.581069283129407, 5.492548825024101, 18.476327559698092, 5.116588214568934, 4.939697464234113, 4.9413285272498895, 4.771785658867363, 4.514442899643105, 4.391529668527092, 4.309032998784132, 4.260140438841834, 4.258677872261308, 4.16219931842424, 4.042121138500248, 3.935455398673012, 6.7932484280978995, 3.760657466551405, 3.781529192184199, 3.6714258981562864, 3.6146997335574076, 14.56684243241796, 3.491688009794013, 3.892858108558631, 3.3109401379788985, 3.324983524644561, 5.8816005160886995, 12.810832988937845, 11.695425306676695, 7.6295129153338115, 54.244276062459846, 19.71505718764807, 10.955444808438061, 14.590336946559601, 20.81357720287764, 28.247335495427606, 57.15213418985066, 7.174508159015675, 14.555513630535982, 24.3467234039873, 8.311377289773306, 47.481775906062786, 145.8626881728802, 37.635464275029676, 28.87449409874958, 27.10370877008385, 10.674332465803927, 15.352173728671248, 18.928051791485917, 14.985211347299627, 46.49186380652228, 42.20531070844002, 73.51030617845655, 24.087402006195816, 48.30041217599414, 75.89909801928478, 27.19407148011566, 33.782109077869904, 51.60700562810944, 30.127061390388636, 53.43259624386638, 27.937159550495036, 65.1691112708151, 59.568185221997126, 32.531446596178846, 57.97030771843355, 41.47141009144159, 6.335400377012203, 5.015907227187039, 4.3130706618841455, 3.97615500667017, 3.8759681272778894, 6.419622442281479, 3.446989902218807, 3.4470380856268905, 3.519495937263874, 3.4470262163872873, 3.31582451966129, 3.06318007774595, 3.063199274288285, 5.903792050551067, 3.0307109374528878, 2.9321038954322614, 2.910354801346862, 2.9105042177865363, 2.8009164519895755, 2.800916554171729, 2.7846083584522003, 2.7825120827225422, 2.784243307924557, 2.7842143206133203, 2.7811524737246875, 4.695980362183539, 2.7896114954970597, 23.956863205757415, 2.416945888964547, 2.4006280941874003, 8.149586198125695, 5.993607253721444, 59.568185221997126, 14.820078708189241, 7.695445943939002, 5.547586224375415, 57.97030771843355, 7.4764351078251705, 39.76154369403527, 13.234210038527578, 11.91478471563243, 13.782819631480441, 31.276043675824415, 31.45438573604874, 46.62565517878934, 11.834898286633365, 145.8626881728802, 17.185295826697434, 22.771821423125292, 41.05647226664577, 8.042818152933537, 32.531446596178846, 27.19407148011566, 57.15213418985066, 73.51030617845655, 25.586146819141774, 42.20531070844002, 75.89909801928478, 46.49186380652228, 18.11689462950454, 13.624319077511803, 40.985492650345165, 31.259545069252997, 24.758916116370692, 49.92690464414034, 5.732769277609835, 5.0387304098227155, 4.822547656778321, 4.466306023444768, 4.219168079164865, 3.9459536889284057, 3.528526805090191, 3.5253583593975475, 3.526266604018218, 5.685584217829028, 3.1618400998668066, 3.0024812853632628, 2.9719402410477302, 2.9686850955681767, 2.8882615272126038, 2.8882540454262724, 2.8712680277179112, 2.871269079832556, 2.871262173979698, 2.871230160414445, 2.8708601186652287, 2.9880548242439278, 25.378847307039983, 5.482880891012705, 2.602208020637506, 2.588192761774236, 2.4707204935902363, 2.4707491136776674, 2.4706708468174163, 2.4706338689291507, 7.161131129534908, 4.270474848658793, 15.39257514329648, 6.5547655447125965, 10.76634096427431, 12.273118209271624, 12.800658309017406, 11.802622656205596, 11.067846272632547, 6.9536631351648595, 32.36894448895944, 49.92690464414034, 7.485583165767651, 6.327692471494467, 41.47141009144159, 17.70100126691274, 145.8626881728802, 47.481775906062786, 8.112179095313312, 11.958489796288111, 39.76154369403527, 73.51030617845655, 31.45438573604874, 57.15213418985066, 44.59356514821478, 53.43259624386638, 18.965800196782187, 31.259545069252997, 17.590619604099157, 25.586146819141774, 22.731734429851002, 40.985492650345165, 24.42553982893651, 48.30041217599414, 65.1691112708151, 31.276043675824415, 5.04798398848524, 4.313663305089823, 4.311496890924859, 3.926566707400641, 3.8307468314287405, 6.471134205075312, 6.338505888113438, 3.5661153179192646, 3.4145760830946843, 3.414518817536835, 3.36066203218344, 3.030745613058581, 2.9320224763830467, 2.9102568520082928, 2.8833353963194552, 2.784586871031089, 2.784113194039752, 5.587136156090757, 4.943384106969814, 2.4006313032458246, 2.4006378879381742, 2.3976732149186466, 2.39771463681471, 2.3975009143693353, 2.395419275239549, 2.3017124460481546, 2.3017124460481546, 2.3017124640085176, 2.3017124640085176, 2.3017124640085176, 5.85351402532257, 4.83883102327836, 7.828392559131383, 4.40154572050178, 5.198463664648872, 7.980717886998036, 4.921471090981553, 5.995038782512361, 7.787137169417318, 6.911240347640431, 5.804076008028468, 18.896019628591336, 65.1691112708151, 44.59356514821478, 30.042087959039105, 25.459297169997896, 11.714151038204388, 9.74431426442063, 7.927409395740372, 53.43259624386638, 13.8521428728401, 48.30041217599414, 41.05647226664577, 32.36894448895944, 24.196282507057468, 22.423131674051763, 51.60700562810944, 73.51030617845655, 46.49186380652228, 145.8626881728802, 49.92690464414034, 30.871475891921804, 57.97030771843355, 16.08554406056616, 23.24557486648508, 20.538824277337902, 40.985492650345165, 75.89909801928478, 46.62565517878934, 28.87449409874958, 22.731734429851002, 4.317613477707668, 8.52003674196185, 3.8344745760448444, 3.8022150497207687, 3.802214560825235, 6.419182704022007, 3.4502193623885757, 3.318863889607858, 3.4176856550311214, 3.0658693733090647, 2.9150211478667947, 2.7870159682354165, 2.784859016552133, 2.7869920517846283, 2.784307545670804, 2.78650184208556, 2.754563028621552, 2.6654373878480393, 4.609881392939426, 2.528736536531855, 2.5155644259792207, 6.6712873426722865, 2.402562548830927, 2.402553339788954, 2.4004230213067834, 2.403089305714337, 2.402482122783109, 2.402480522027954, 2.4024842966034403, 2.4025146084785693, 4.639487761972722, 6.899990625767918, 3.8809363374294974, 15.996380261872876, 16.038974567963436, 6.896940482142812, 6.937208682903611, 18.26927914285519, 5.692644755055136, 26.901047462368723, 10.113651793384232, 6.541088814056093, 5.541380197663379, 30.127061390388636, 10.871197691441832, 8.509600250410427, 14.748140008491548, 75.89909801928478, 33.782109077869904, 65.1691112708151, 20.984067298310116, 11.658941847850626, 24.758916116370692, 51.60700562810944, 44.59356514821478, 30.042087959039105, 41.47141009144159, 40.985492650345165, 21.189890238356874, 12.249900219276066, 46.62565517878934, 145.8626881728802, 54.244276062459846, 46.49186380652228, 57.97030771843355, 41.05647226664577, 25.594786007724018, 27.10370877008385, 31.276043675824415, 24.42553982893651, 6.100355104119684, 5.818743749126217, 5.106897521769075, 4.017075518716638, 8.294652729981062, 3.4877517998222682, 3.126532830170303, 2.9716374964998717, 2.991549710238814, 2.8569517322272393, 2.8380020992163884, 2.839284160993773, 2.8366864073659537, 2.837401083565771, 2.833244080073004, 2.5241831415397162, 11.902512276364806, 2.4456562211214257, 2.443462459901543, 2.445536792627995, 2.343965980335071, 2.343965980335071, 2.343965980335071, 2.343965980335071, 2.343965980335071, 2.3439157867771767, 2.3439157867771767, 2.343885364642305, 2.343885364642305, 2.3438769771290002, 10.481082708543042, 7.7184987287472495, 9.878381882946428, 4.8959433349947235, 7.254009467391894, 4.956824847741959, 8.774129511554971, 3.486641756286697, 40.985492650345165, 3.3388047284059397, 75.89909801928478, 16.894891014331918, 3.791272362978817, 21.498718994119344, 26.749729084894607, 14.916954634060634, 32.36894448895944, 73.51030617845655, 24.7625898586055, 39.76154369403527, 27.10370877008385, 11.573311480849913, 48.30041217599414, 13.781479121913002, 51.60700562810944, 46.62565517878934, 53.43259624386638, 65.1691112708151, 145.8626881728802, 22.771821423125292, 37.635464275029676, 44.59356514821478, 47.481775906062786, 49.92690464414034], \"Category\": [\"Default\", \"Default\", \"Default\", \"Default\", \"Default\", \"Default\", \"Default\", \"Default\", \"Default\", \"Default\", \"Default\", \"Default\", \"Default\", \"Default\", \"Default\", \"Default\", \"Default\", \"Default\", \"Default\", \"Default\", \"Default\", \"Default\", \"Default\", \"Default\", \"Default\", \"Default\", \"Default\", \"Default\", \"Default\", \"Default\", \"Topic1\", \"Topic1\", \"Topic1\", \"Topic1\", \"Topic1\", \"Topic1\", \"Topic1\", \"Topic1\", \"Topic1\", \"Topic1\", \"Topic1\", \"Topic1\", \"Topic1\", \"Topic1\", \"Topic1\", \"Topic1\", \"Topic1\", \"Topic1\", \"Topic1\", \"Topic1\", \"Topic1\", \"Topic1\", \"Topic1\", \"Topic1\", \"Topic1\", \"Topic1\", \"Topic1\", \"Topic1\", \"Topic1\", \"Topic1\", \"Topic1\", \"Topic1\", \"Topic1\", \"Topic1\", \"Topic1\", \"Topic1\", \"Topic1\", \"Topic1\", \"Topic1\", \"Topic1\", \"Topic1\", \"Topic1\", \"Topic1\", \"Topic1\", \"Topic1\", \"Topic1\", \"Topic1\", \"Topic1\", \"Topic1\", \"Topic1\", \"Topic1\", \"Topic1\", \"Topic1\", \"Topic1\", \"Topic1\", \"Topic1\", \"Topic1\", \"Topic1\", \"Topic1\", \"Topic1\", \"Topic1\", \"Topic1\", \"Topic1\", \"Topic1\", \"Topic1\", \"Topic1\", \"Topic1\", \"Topic1\", \"Topic1\", \"Topic1\", \"Topic2\", \"Topic2\", \"Topic2\", \"Topic2\", \"Topic2\", \"Topic2\", \"Topic2\", \"Topic2\", \"Topic2\", \"Topic2\", \"Topic2\", \"Topic2\", \"Topic2\", \"Topic2\", \"Topic2\", \"Topic2\", \"Topic2\", \"Topic2\", \"Topic2\", \"Topic2\", \"Topic2\", \"Topic2\", \"Topic2\", \"Topic2\", \"Topic2\", \"Topic2\", \"Topic2\", \"Topic2\", \"Topic2\", \"Topic2\", \"Topic2\", \"Topic2\", \"Topic2\", \"Topic2\", \"Topic2\", \"Topic2\", \"Topic2\", \"Topic2\", \"Topic2\", \"Topic2\", \"Topic2\", \"Topic2\", \"Topic2\", \"Topic2\", \"Topic2\", \"Topic2\", \"Topic2\", \"Topic2\", \"Topic2\", \"Topic2\", \"Topic2\", \"Topic2\", \"Topic2\", \"Topic2\", \"Topic2\", \"Topic2\", \"Topic2\", \"Topic2\", \"Topic2\", \"Topic2\", \"Topic2\", \"Topic2\", \"Topic2\", \"Topic2\", \"Topic2\", \"Topic3\", \"Topic3\", \"Topic3\", \"Topic3\", \"Topic3\", \"Topic3\", \"Topic3\", \"Topic3\", \"Topic3\", \"Topic3\", \"Topic3\", \"Topic3\", \"Topic3\", \"Topic3\", \"Topic3\", \"Topic3\", \"Topic3\", \"Topic3\", \"Topic3\", \"Topic3\", \"Topic3\", \"Topic3\", \"Topic3\", \"Topic3\", \"Topic3\", \"Topic3\", \"Topic3\", \"Topic3\", \"Topic3\", \"Topic3\", \"Topic3\", \"Topic3\", \"Topic3\", \"Topic3\", \"Topic3\", \"Topic3\", \"Topic3\", \"Topic3\", \"Topic3\", \"Topic3\", \"Topic3\", \"Topic3\", \"Topic3\", \"Topic3\", \"Topic3\", \"Topic3\", \"Topic3\", \"Topic3\", \"Topic3\", \"Topic3\", \"Topic3\", \"Topic3\", \"Topic3\", \"Topic3\", \"Topic3\", \"Topic3\", \"Topic3\", \"Topic3\", \"Topic3\", \"Topic3\", \"Topic3\", \"Topic3\", \"Topic3\", \"Topic3\", \"Topic3\", \"Topic3\", \"Topic4\", \"Topic4\", \"Topic4\", \"Topic4\", \"Topic4\", \"Topic4\", \"Topic4\", \"Topic4\", \"Topic4\", \"Topic4\", \"Topic4\", \"Topic4\", \"Topic4\", \"Topic4\", \"Topic4\", \"Topic4\", \"Topic4\", \"Topic4\", \"Topic4\", \"Topic4\", \"Topic4\", \"Topic4\", \"Topic4\", \"Topic4\", \"Topic4\", \"Topic4\", \"Topic4\", \"Topic4\", \"Topic4\", \"Topic4\", \"Topic4\", \"Topic4\", \"Topic4\", \"Topic4\", \"Topic4\", \"Topic4\", \"Topic4\", \"Topic4\", \"Topic4\", \"Topic4\", \"Topic4\", \"Topic4\", \"Topic4\", \"Topic4\", \"Topic4\", \"Topic4\", \"Topic4\", \"Topic4\", \"Topic4\", \"Topic4\", \"Topic4\", \"Topic4\", \"Topic4\", \"Topic4\", \"Topic4\", \"Topic4\", \"Topic4\", \"Topic4\", \"Topic4\", \"Topic4\", \"Topic4\", \"Topic4\", \"Topic4\", \"Topic4\", \"Topic4\", \"Topic4\", \"Topic4\", \"Topic4\", \"Topic4\", \"Topic4\", \"Topic4\", \"Topic5\", \"Topic5\", \"Topic5\", \"Topic5\", \"Topic5\", \"Topic5\", \"Topic5\", \"Topic5\", \"Topic5\", \"Topic5\", \"Topic5\", \"Topic5\", \"Topic5\", \"Topic5\", \"Topic5\", \"Topic5\", \"Topic5\", \"Topic5\", \"Topic5\", \"Topic5\", \"Topic5\", \"Topic5\", \"Topic5\", \"Topic5\", \"Topic5\", \"Topic5\", \"Topic5\", \"Topic5\", \"Topic5\", \"Topic5\", \"Topic5\", \"Topic5\", \"Topic5\", \"Topic5\", \"Topic5\", \"Topic5\", \"Topic5\", \"Topic5\", \"Topic5\", \"Topic5\", \"Topic5\", \"Topic5\", \"Topic5\", \"Topic5\", \"Topic5\", \"Topic5\", \"Topic5\", \"Topic5\", \"Topic5\", \"Topic5\", \"Topic5\", \"Topic5\", \"Topic5\", \"Topic5\", \"Topic5\", \"Topic5\", \"Topic5\", \"Topic5\", \"Topic5\", \"Topic5\", \"Topic5\", \"Topic5\", \"Topic5\", \"Topic5\", \"Topic5\", \"Topic5\", \"Topic5\", \"Topic5\", \"Topic5\", \"Topic5\", \"Topic6\", \"Topic6\", \"Topic6\", \"Topic6\", \"Topic6\", \"Topic6\", \"Topic6\", \"Topic6\", \"Topic6\", \"Topic6\", \"Topic6\", \"Topic6\", \"Topic6\", \"Topic6\", \"Topic6\", \"Topic6\", \"Topic6\", \"Topic6\", \"Topic6\", \"Topic6\", \"Topic6\", \"Topic6\", \"Topic6\", \"Topic6\", \"Topic6\", \"Topic6\", \"Topic6\", \"Topic6\", \"Topic6\", \"Topic6\", \"Topic6\", \"Topic6\", \"Topic6\", \"Topic6\", \"Topic6\", \"Topic6\", \"Topic6\", \"Topic6\", \"Topic6\", \"Topic6\", \"Topic6\", \"Topic6\", \"Topic6\", \"Topic6\", \"Topic6\", \"Topic6\", \"Topic6\", \"Topic6\", \"Topic6\", \"Topic6\", \"Topic6\", \"Topic6\", \"Topic6\", \"Topic6\", \"Topic6\", \"Topic6\", \"Topic6\", \"Topic6\", \"Topic6\", \"Topic6\", \"Topic6\", \"Topic6\", \"Topic6\", \"Topic6\"], \"logprob\": [30.0, 29.0, 28.0, 27.0, 26.0, 25.0, 24.0, 23.0, 22.0, 21.0, 20.0, 19.0, 18.0, 17.0, 16.0, 15.0, 14.0, 13.0, 12.0, 11.0, 10.0, 9.0, 8.0, 7.0, 6.0, 5.0, 4.0, 3.0, 2.0, 1.0, -5.7002, -6.0921, -6.0987, -6.255, -6.3075, -6.3259, -5.115, -6.4093, -6.4468, -6.4474, -6.4862, -6.5536, -6.5829, -6.6055, -6.6182, -6.6212, -6.6465, -6.6799, -6.7116, -6.1713, -6.7672, -6.7652, -6.7983, -6.8146, -5.4233, -6.8558, -6.7557, -6.9211, -6.9179, -6.3506, -5.6014, -5.7011, -6.1413, -4.364, -5.2877, -5.8171, -5.5693, -5.2687, -5.0272, -4.5001, -6.205, -5.6505, -5.2814, -6.1123, -4.8612, -4.0652, -5.0528, -5.2879, -5.3516, -5.9517, -5.7196, -5.6047, -5.7492, -5.0712, -5.1372, -4.819, -5.4841, -5.1259, -4.9132, -5.4472, -5.3419, -5.1745, -5.4239, -5.1945, -5.4895, -5.2456, -5.3476, -5.5016, -5.4929, -5.5457, -5.7048, -5.9772, -6.1468, -6.2444, -6.271, -5.7897, -6.4127, -6.4127, -6.3921, -6.4136, -6.4607, -6.5602, -6.5602, -5.9059, -6.5741, -6.616, -6.6267, -6.6273, -6.6752, -6.6752, -6.6829, -6.6838, -6.6843, -6.6847, -6.6903, -6.1714, -6.7003, -4.5631, -6.8717, -6.881, -5.7038, -6.0025, -3.884, -5.1712, -5.7873, -6.0887, -4.1747, -5.8704, -4.5093, -5.4265, -5.5221, -5.4255, -4.8033, -4.8512, -4.573, -5.5767, -3.8962, -5.3635, -5.1845, -4.8604, -5.9007, -5.1029, -5.2975, -4.9489, -4.833, -5.3644, -5.1786, -4.9461, -5.1541, -5.5978, -5.6865, -5.4064, -5.5813, -5.6616, -5.6594, -5.8081, -5.9416, -5.9942, -6.0802, -6.1478, -6.2264, -6.3615, -6.3626, -6.3624, -5.9052, -6.4976, -6.563, -6.576, -6.5783, -6.6124, -6.6124, -6.6201, -6.6201, -6.6201, -6.6202, -6.6223, -6.5921, -4.4559, -6.0011, -6.7488, -6.7576, -6.8182, -6.8182, -6.8186, -6.8187, -5.796, -6.3169, -5.2129, -5.9639, -5.5332, -5.4235, -5.4052, -5.5018, -5.5533, -5.9271, -4.7572, -4.4443, -5.906, -6.0325, -4.7473, -5.3412, -3.898, -4.6661, -5.91, -5.6781, -5.0722, -4.807, -5.3732, -5.1396, -5.2611, -5.2829, -5.6379, -5.5001, -5.6721, -5.6033, -5.6889, -5.5974, -5.6977, -5.6736, -5.7034, -5.7386, -5.8606, -6.0415, -6.0421, -6.1537, -6.1827, -5.6695, -5.6926, -6.2715, -6.3234, -6.3237, -6.3425, -6.4725, -6.5146, -6.525, -6.537, -6.5813, -6.5838, -5.8956, -6.0417, -6.7798, -6.7799, -6.7819, -6.7822, -6.7847, -6.7863, -6.8376, -6.8376, -6.8377, -6.8377, -6.8377, -5.9224, -6.1216, -5.6613, -6.2147, -6.0942, -5.7199, -6.1522, -5.9819, -5.7717, -5.8952, -6.0419, -5.0735, -4.19, -4.4812, -4.8253, -5.0337, -5.5815, -5.7158, -5.8613, -4.7329, -5.5572, -4.9553, -5.0728, -5.1917, -5.3409, -5.3782, -5.0162, -4.9931, -5.1812, -4.7421, -5.1873, -5.3988, -5.206, -5.6235, -5.5624, -5.6274, -5.5534, -5.5133, -5.5687, -5.6381, -5.6649, -6.0063, -5.3284, -6.1479, -6.1566, -6.1566, -5.6443, -6.2772, -6.323, -6.3059, -6.4232, -6.4884, -6.5452, -6.5461, -6.5453, -6.5482, -6.5483, -6.5624, -6.6061, -6.071, -6.6738, -6.6808, -5.7205, -6.7432, -6.7432, -6.7444, -6.7461, -6.7476, -6.7477, -6.7477, -6.751, -6.1029, -5.7569, -6.2983, -5.0036, -5.0245, -5.7995, -5.8311, -5.026, -6.012, -4.7579, -5.5541, -5.9332, -6.0602, -4.8696, -5.6014, -5.8087, -5.4957, -4.4896, -5.0184, -4.6354, -5.3452, -5.6632, -5.2786, -5.0377, -5.2074, -5.3736, -5.3053, -5.3117, -5.591, -5.7708, -5.388, -5.1286, -5.3842, -5.4638, -5.4394, -5.5206, -5.5969, -5.6064, -5.6129, -5.6406, -5.4881, -5.541, -5.6896, -5.9682, -5.2461, -6.1388, -6.2747, -6.3404, -6.3337, -6.3898, -6.3985, -6.4017, -6.4035, -6.411, -6.434, -6.5533, -5.01, -6.5955, -6.5967, -6.6021, -6.654, -6.654, -6.654, -6.654, -6.654, -6.6542, -6.6542, -6.6545, -6.6545, -6.6559, -5.264, -5.5602, -5.3926, -6.0091, -5.7217, -6.0683, -5.6266, -6.3554, -4.5678, -6.3984, -4.3118, -5.3949, -6.3297, -5.2897, -5.1721, -5.5576, -5.1494, -4.7421, -5.349, -5.1848, -5.3723, -5.7729, -5.1604, -5.7045, -5.1812, -5.3116, -5.2677, -5.2582, -5.0486, -5.5812, -5.4649, -5.4594, -5.5499, -5.6098], \"loglift\": [30.0, 29.0, 28.0, 27.0, 26.0, 25.0, 24.0, 23.0, 22.0, 21.0, 20.0, 19.0, 18.0, 17.0, 16.0, 15.0, 14.0, 13.0, 12.0, 11.0, 10.0, 9.0, 8.0, 7.0, 6.0, 5.0, 4.0, 3.0, 2.0, 1.0, 1.2627, 1.2473, 1.2471, 1.2322, 1.2264, 1.224, 1.2218, 1.2115, 1.2092, 1.2083, 1.2044, 1.1924, 1.1907, 1.1871, 1.1858, 1.1832, 1.1808, 1.1766, 1.1716, 1.166, 1.1615, 1.158, 1.1544, 1.1537, 1.1512, 1.1471, 1.1385, 1.1349, 1.1339, 1.1309, 1.1016, 1.093, 1.08, 0.8958, 0.9843, 1.0424, 1.0036, 0.949, 0.8851, 0.7075, 1.0778, 0.9248, 0.7795, 1.0234, 0.5318, 0.2055, 0.5726, 0.6024, 0.602, 0.9337, 0.8024, 0.7079, 0.797, 0.3428, 0.3736, 0.1369, 0.5875, 0.25, 0.0107, 0.5031, 0.3915, 0.1351, 0.4239, 0.0804, 0.4338, -0.1693, -0.1814, 0.2695, -0.2996, -0.0174, 1.7023, 1.6635, 1.6448, 1.6286, 1.6275, 1.6042, 1.6031, 1.6031, 1.6029, 1.6022, 1.5939, 1.5736, 1.5736, 1.5718, 1.5704, 1.5616, 1.5583, 1.5576, 1.5482, 1.5482, 1.5463, 1.5462, 1.545, 1.5446, 1.5402, 1.5351, 1.5271, 1.514, 1.4991, 1.4966, 1.4516, 1.4602, 1.2822, 1.3861, 1.4254, 1.4512, 1.0187, 1.3712, 1.0611, 1.244, 1.2534, 1.2044, 1.0071, 0.9535, 0.8381, 1.2056, 0.3745, 1.0458, 0.9433, 0.678, 1.2678, 0.6682, 0.6528, 0.2587, 0.1229, 0.6469, 0.3321, -0.0222, 0.2599, 0.7587, 0.9549, 0.1337, 0.2296, 0.3825, -0.3167, 1.699, 1.6945, 1.6858, 1.6766, 1.6658, 1.6542, 1.6309, 1.6307, 1.6307, 1.6102, 1.6045, 1.5909, 1.5881, 1.5868, 1.5802, 1.5802, 1.5785, 1.5785, 1.5784, 1.5784, 1.5764, 1.5666, 1.5635, 1.5506, 1.5482, 1.5448, 1.5306, 1.5305, 1.5302, 1.5301, 1.4886, 1.4847, 1.3066, 1.4092, 1.3437, 1.3224, 1.2986, 1.2832, 1.2959, 1.3869, 1.0189, 0.8985, 1.3344, 1.3759, 0.781, 1.0385, 0.3726, 0.7268, 1.2499, 1.0937, 0.4982, 0.1489, 0.4316, 0.068, 0.1946, -0.008, 0.6728, 0.3109, 0.7138, 0.4079, 0.4406, -0.0573, 0.3599, -0.2978, -0.6271, 0.0718, 1.7737, 1.75, 1.7499, 1.7318, 1.7276, 1.7164, 1.714, 1.7103, 1.7019, 1.7016, 1.6986, 1.672, 1.663, 1.66, 1.6573, 1.6479, 1.6456, 1.6372, 1.6136, 1.5978, 1.5977, 1.5969, 1.5965, 1.5941, 1.5935, 1.5821, 1.5821, 1.582, 1.582, 1.582, 1.5639, 1.555, 1.5342, 1.5567, 1.5107, 1.4564, 1.5075, 1.4805, 1.4291, 1.425, 1.4528, 1.2408, 0.8863, 0.9746, 1.0254, 0.9825, 1.211, 1.2608, 1.3217, 0.542, 1.0677, 0.4205, 0.4655, 0.5844, 0.7262, 0.765, 0.2935, -0.0372, 0.2328, -0.4715, 0.1554, 0.4247, -0.0126, 0.8519, 0.5448, 0.6036, -0.0133, -0.5894, -0.1575, 0.2523, 0.4647, 1.7843, 1.7825, 1.7613, 1.7612, 1.7612, 1.7497, 1.7377, 1.7306, 1.7184, 1.7098, 1.695, 1.6832, 1.683, 1.683, 1.6811, 1.6802, 1.6776, 1.6669, 1.6541, 1.6517, 1.65, 1.635, 1.6336, 1.6336, 1.6332, 1.6305, 1.6292, 1.6291, 1.6291, 1.6258, 1.6158, 1.5649, 1.599, 1.4774, 1.4538, 1.5228, 1.4853, 1.3221, 1.5021, 1.2032, 1.3853, 1.442, 1.4809, 0.9783, 1.2658, 1.3034, 1.0665, 0.4343, 0.715, 0.4409, 0.8643, 1.1341, 0.7655, 0.272, 0.2483, 0.4771, 0.223, 0.2284, 0.6088, 0.977, 0.0232, -0.8579, -0.1243, -0.0498, -0.246, 0.0178, 0.414, 0.3472, 0.1976, 0.4171, 1.9569, 1.9512, 1.9331, 1.8946, 1.8916, 1.8652, 1.8386, 1.8238, 1.8238, 1.8138, 1.8117, 1.8081, 1.8072, 1.7994, 1.7779, 1.774, 1.7666, 1.7635, 1.7632, 1.757, 1.7475, 1.7475, 1.7475, 1.7475, 1.7475, 1.7473, 1.7473, 1.747, 1.747, 1.7456, 1.6397, 1.6495, 1.5704, 1.6558, 1.5501, 1.5843, 1.4549, 1.649, 0.9722, 1.6493, 0.6121, 1.0314, 1.5909, 0.8956, 0.7946, 0.9932, 0.6267, 0.2137, 0.6949, 0.3856, 0.5813, 1.0317, 0.2155, 0.9255, 0.1285, 0.0995, 0.0072, -0.1818, -0.778, 0.5466, 0.1605, -0.0037, -0.157, -0.267]}, \"token.table\": {\"Topic\": [5, 2, 5, 6, 4, 3, 1, 3, 2, 3, 4, 4, 3, 1, 4, 1, 2, 4, 5, 3, 2, 3, 4, 5, 5, 4, 4, 6, 6, 1, 4, 5, 3, 5, 5, 1, 4, 5, 6, 1, 2, 3, 4, 5, 6, 2, 4, 3, 4, 5, 1, 1, 2, 3, 4, 5, 6, 1, 2, 4, 5, 6, 1, 5, 1, 2, 3, 4, 5, 6, 2, 1, 2, 3, 4, 5, 6, 1, 5, 1, 6, 2, 1, 3, 1, 2, 3, 4, 5, 6, 1, 2, 3, 2, 6, 2, 3, 4, 5, 3, 6, 1, 1, 4, 5, 1, 2, 3, 5, 6, 3, 2, 3, 1, 2, 3, 3, 1, 3, 4, 1, 3, 3, 4, 6, 3, 3, 4, 1, 6, 1, 2, 3, 4, 5, 6, 1, 5, 3, 4, 1, 1, 2, 3, 4, 5, 6, 1, 2, 5, 6, 1, 2, 3, 5, 6, 1, 2, 3, 4, 5, 6, 5, 6, 5, 1, 2, 3, 4, 5, 6, 1, 4, 5, 5, 3, 3, 2, 4, 4, 4, 6, 2, 1, 1, 2, 4, 5, 2, 1, 2, 4, 6, 1, 2, 3, 4, 6, 4, 3, 4, 2, 4, 5, 6, 1, 2, 3, 4, 5, 6, 1, 2, 3, 4, 5, 6, 6, 1, 2, 4, 1, 2, 3, 5, 6, 1, 2, 3, 4, 5, 6, 2, 3, 1, 4, 5, 6, 6, 1, 3, 2, 2, 4, 5, 6, 2, 3, 5, 6, 1, 3, 5, 1, 2, 3, 1, 3, 4, 5, 1, 6, 2, 5, 6, 1, 4, 2, 1, 2, 3, 4, 5, 6, 1, 2, 3, 4, 5, 6, 1, 2, 3, 4, 5, 6, 1, 2, 3, 4, 6, 1, 2, 3, 4, 5, 6, 1, 3, 4, 6, 6, 1, 3, 4, 6, 2, 3, 5, 6, 4, 6, 1, 1, 2, 3, 4, 5, 6, 6, 1, 1, 2, 4, 5, 6, 3, 5, 6, 1, 2, 3, 5, 6, 1, 6, 3, 4, 2, 1, 3, 4, 5, 6, 2, 3, 4, 6, 4, 5, 1, 2, 4, 5, 2, 1, 6, 1, 2, 3, 4, 5, 6, 5, 1, 2, 5, 6, 6, 4, 6, 1, 2, 4, 5, 6, 4, 2, 4, 6, 3, 5, 6, 1, 6, 6, 4, 5, 5, 6, 2, 1, 2, 4, 6, 2, 1, 3, 4, 6, 2, 3, 6, 3, 1, 2, 3, 4, 5, 1, 2, 3, 4, 5, 6, 1, 3, 4, 5, 6, 5, 1, 3, 6, 1, 2, 3, 4, 5, 6, 5, 2, 3, 4, 5, 6, 3, 3, 4, 5, 4, 2, 4, 1, 2, 4, 5, 6, 1, 2, 3, 4, 5, 6, 1, 1, 4, 5, 1, 1, 2, 3, 4, 6, 1, 3, 5, 6, 2, 4, 1, 3, 5, 4, 1, 3, 4, 6, 2, 2, 4, 5, 4, 5, 3, 4, 5, 2, 3, 6, 5, 4, 2, 3, 4, 5, 1, 2, 3, 4, 5, 6, 4, 1, 3, 4, 2, 1, 2, 4, 1, 1, 1, 2, 3, 4, 5, 6, 1, 3, 5, 6, 1, 4, 5, 3, 6, 2, 5, 3, 5, 2, 1, 3, 4, 5, 1, 2, 5, 6, 1, 6, 1, 2, 3, 4, 5, 6, 1, 2, 3, 4, 5, 6, 1, 2, 4, 6, 4, 5, 4, 5, 3, 3, 1, 2, 3, 4, 5, 5, 5, 2, 4, 6, 1, 2, 6, 6, 5, 1, 2, 3, 4, 5, 6, 4, 4, 5, 2, 4, 1, 2, 3, 4, 5, 1, 6, 6, 2, 3, 1, 2, 3, 2, 1, 5, 5, 1, 1, 2, 4, 1, 5, 1, 3, 4, 6, 3, 6, 1, 1, 4, 5, 6, 1, 2, 4, 5, 1, 2, 3, 5, 3, 2, 4, 3, 1, 1, 2, 5, 6, 1, 2, 3, 4, 5, 6, 3, 6, 1, 2, 3, 4, 6, 1, 2, 3, 4, 4, 1, 2, 2, 5, 6, 3, 6, 1, 1, 2, 3, 4, 5, 6, 1, 3, 4, 6, 2, 1, 2, 3, 4, 5, 6, 1, 2, 3, 4, 5, 6, 5, 1, 3, 4, 6, 3, 4, 1, 3, 6, 6, 1, 3, 6, 6, 1, 2, 3, 6, 1, 5, 1, 2, 3, 4, 5, 6, 2, 5, 6, 4, 6, 5, 5, 2, 3, 1, 2, 3, 4, 5, 6, 5, 1, 2, 3, 4, 5, 6, 2, 6, 5, 1, 2, 3, 4, 5, 6, 1, 2, 3, 4, 5, 6, 1, 2, 3, 4, 5, 6, 3, 4, 2, 3, 1, 6, 1, 2, 3, 4, 6, 1, 3, 4, 3, 5, 2, 3, 5, 6, 2, 3, 4, 5, 6, 1, 2, 3, 4, 5, 6, 1], \"Freq\": [0.7890137619176267, 0.11397142003466709, 0.22794284006933418, 0.5698571001733355, 0.718361596892545, 0.6693317618447858, 0.7933298534890351, 0.6965563579202334, 0.6673777294160192, 0.1668444323540048, 0.6936411222062397, 0.8689182646719156, 0.7685780629905318, 0.17898257211968258, 0.7159302884787303, 0.39278382011991836, 0.15711352804796735, 0.39278382011991836, 0.03927838201199184, 0.6729610415365951, 0.11751433329101081, 0.11751433329101081, 0.11751433329101081, 0.47005733316404325, 0.7176133982706561, 0.8349269043098912, 0.7831371092934116, 0.7923355350436372, 0.7047211136849503, 0.2759585544435182, 0.18397236962901212, 0.4599309240725303, 0.8509773175265715, 0.7823757702663967, 0.8331864768199089, 0.4796391560386362, 0.07379063939055942, 0.18447659847639855, 0.22137191817167826, 0.3239236126905328, 0.06478472253810656, 0.12956944507621312, 0.226746528883373, 0.1619618063452664, 0.09717708380715985, 0.206661483980172, 0.619984451940516, 0.9480541957436674, 0.3057594930835087, 0.6115189861670174, 0.9022601097912804, 0.2906582123383218, 0.07750885662355247, 0.09688607077944059, 0.19377214155888117, 0.19377214155888117, 0.1356404990912168, 0.07219099666959834, 0.3609549833479917, 0.43314598001759, 0.07219099666959834, 0.07219099666959834, 0.5714332259608952, 0.408166589972068, 0.3230679846365035, 0.040383498079562936, 0.12115049423868882, 0.16153399231825175, 0.12115049423868882, 0.24230098847737763, 0.719126340211574, 0.05292119820234057, 0.21168479280936228, 0.05292119820234057, 0.5292119820234057, 0.05292119820234057, 0.10584239640468114, 0.7695316556689966, 0.17100703459311037, 0.7421845850748285, 0.8532547045388854, 0.7169457120564507, 0.28761818930887617, 0.5752363786177523, 0.14296561087762025, 0.09531040725174683, 0.14296561087762025, 0.19062081450349366, 0.33358642538111394, 0.09531040725174683, 0.6870248796319369, 0.13740497592638737, 0.20610746388958107, 0.870324568711071, 0.8532547045388854, 0.14469182805101116, 0.14469182805101116, 0.5787673122040446, 0.8324729302328675, 0.29950838139534874, 0.5990167627906975, 0.8550126705107142, 0.273683485861861, 0.16421009151711657, 0.547366971723722, 0.3364520056048807, 0.07476711235664014, 0.11215066853496022, 0.18691778089160038, 0.2616848932482405, 0.8094804755084918, 0.718774956061684, 0.7938507668920389, 0.2517880156125642, 0.5875053697626499, 0.16785867707504282, 0.6966553288322092, 0.09035181510179618, 0.5421108906107771, 0.27105544530538855, 0.6969118842964683, 0.13938237685929367, 0.17229271267584254, 0.6891708507033701, 0.17229271267584254, 0.7727399711252484, 0.7024979905787749, 0.23416599685959164, 0.30369346270962233, 0.6073869254192447, 0.29927776312877713, 0.19044948562740363, 0.19044948562740363, 0.13603534687671687, 0.027207069375343375, 0.14963888156438857, 0.8832298808892511, 0.14720498014820851, 0.17083755085816044, 0.6833502034326417, 0.8382606189711893, 0.23300644114830343, 0.03328663444975763, 0.06657326889951526, 0.3994396133970916, 0.23300644114830343, 0.03328663444975763, 0.20341548142834878, 0.27122064190446504, 0.40683096285669756, 0.06780516047611626, 0.45667025431678165, 0.16606191066064788, 0.08303095533032394, 0.16606191066064788, 0.1245464329954859, 0.31635891645731795, 0.05272648607621966, 0.31635891645731795, 0.21090594430487863, 0.05272648607621966, 0.05272648607621966, 0.12055959815960653, 0.8439171871172456, 0.7890138633704243, 0.3937408160667889, 0.17897309821217677, 0.07158923928487071, 0.14317847856974142, 0.14317847856974142, 0.07158923928487071, 0.29662876093503904, 0.09887625364501301, 0.5932575218700781, 0.7183114534562501, 0.7602724807484256, 0.696556102682175, 0.8469132986371521, 0.1693826597274304, 0.8412515391539335, 0.8926812548451604, 0.8177764244734792, 0.7740001727276623, 0.8094988985130708, 0.12433452814487173, 0.6216726407243586, 0.24866905628974345, 0.12433452814487173, 0.6529121421474244, 0.6726378586216497, 0.1441366839903535, 0.048045561330117836, 0.1441366839903535, 0.3079395468745093, 0.04399136383921562, 0.2639481830352937, 0.2199568191960781, 0.13197409151764686, 0.8341420288451862, 0.9488145843068965, 0.7182393987440698, 0.16680459231006453, 0.6672183692402581, 0.16680459231006453, 0.16680459231006453, 0.20470376642716356, 0.12282225985629813, 0.24564451971259627, 0.16376301314173083, 0.20470376642716356, 0.04094075328543271, 0.4848569797316821, 0.06926528281881174, 0.1038979242282176, 0.17316320704702934, 0.06926528281881174, 0.1038979242282176, 0.7044029010819345, 0.8299444549015277, 0.7140520020078926, 0.6872245652887483, 0.2831538970947146, 0.2359615809122622, 0.1415769485473573, 0.2831538970947146, 0.09438463236490487, 0.17054544225951584, 0.22739392301268777, 0.3410908845190317, 0.17054544225951584, 0.11369696150634388, 0.05684848075317194, 0.6529162338610226, 0.8094710988373217, 0.7706420106616163, 0.14415019724928382, 0.5766007889971353, 0.14415019724928382, 0.6685498132138145, 0.8501087393342774, 0.1700217478668555, 0.9470593242647786, 0.6687679258750975, 0.1337535851750195, 0.1337535851750195, 0.7000468287368748, 0.5804327571499028, 0.1451081892874757, 0.07255409464373785, 0.1451081892874757, 0.12469625109293704, 0.24939250218587408, 0.6234812554646852, 0.2444366581374304, 0.08147888604581013, 0.570352202320671, 0.2561005052961872, 0.08536683509872907, 0.5122010105923744, 0.17073367019745814, 0.9103241790441545, 0.8532547045388854, 0.7362336999858872, 0.12270561666431454, 0.12270561666431454, 0.7805893659401384, 0.15611787318802767, 0.8703153999055451, 0.2635077428050372, 0.1581046456830223, 0.03952616142075557, 0.07905232284151115, 0.2239815813842816, 0.23715696852453347, 0.3516341178740065, 0.1953522877077814, 0.07814091508311256, 0.11721137262466884, 0.23442274524933768, 0.07814091508311256, 0.21482570081126254, 0.01534469291509018, 0.09206815749054108, 0.35292793704707415, 0.21482570081126254, 0.10741285040563127, 0.4422749486360004, 0.021060711839809544, 0.3369713894369527, 0.08424284735923818, 0.10530355919904771, 0.3222208543441513, 0.23995170004351696, 0.23309593718513075, 0.08912491715902059, 0.061701865725475785, 0.05484610286708959, 0.7977328503547698, 0.129558873447182, 0.129558873447182, 0.64779436723591, 0.8532840514174274, 0.6853851310375665, 0.06853851310375665, 0.1370770262075133, 0.06853851310375665, 0.7513504520773056, 0.16696676712829012, 0.04174169178207253, 0.04174169178207253, 0.20425072995684043, 0.6127521898705213, 0.7817709442808843, 0.14606483601450038, 0.1947531146860005, 0.09737655734300026, 0.29212967202900075, 0.1947531146860005, 0.14606483601450038, 0.8532840514174274, 0.9392586431704089, 0.5862362007532442, 0.06513735563924936, 0.2605494225569974, 0.06513735563924936, 0.06513735563924936, 0.13785479664662473, 0.13785479664662473, 0.5514191865864989, 0.16559129262220829, 0.33118258524441657, 0.2759854877036805, 0.055197097540736095, 0.11039419508147219, 0.6048398517211548, 0.34562277241208844, 0.8955946992890746, 0.8786011032043863, 0.8331153021338731, 0.38481907597995657, 0.1480073369153679, 0.11840586953229433, 0.2960146738307358, 0.029601467383073583, 0.0847269313887807, 0.5930885197214648, 0.25418079416634204, 0.8178163608206371, 0.8689182646719156, 0.8695099310796023, 0.10262394796227943, 0.20524789592455886, 0.5131197398113971, 0.20524789592455886, 0.6821040697485765, 0.20174204873418952, 0.6052261462025686, 0.20029280948370684, 0.1201756856902241, 0.4005856189674137, 0.18026352853533614, 0.020029280948370684, 0.10014640474185342, 0.8322620367225531, 0.30739745714373745, 0.4391392244910535, 0.04391392244910535, 0.21956961224552676, 0.8532871048760362, 0.7888294320869007, 0.15776588641738015, 0.26021291586478723, 0.11151982108490881, 0.0743465473899392, 0.4832525580346048, 0.11151982108490881, 0.7923955403036628, 0.2022905722802467, 0.8091622891209868, 0.6730296014758496, 0.6501744671869423, 0.09288206674099175, 0.27864620022297526, 0.16803175275621962, 0.7561428874029883, 0.8185106310495919, 0.21554103627483165, 0.6466231088244949, 0.7730093305233197, 0.25766977684110653, 0.8703124031350554, 0.32560079518759916, 0.18605759725005666, 0.1395431979375425, 0.32560079518759916, 0.714051975958073, 0.13359012622731972, 0.6679506311365986, 0.13359012622731972, 0.13359012622731972, 0.15803549311299275, 0.632141972451971, 0.15803549311299275, 0.6924580690344045, 0.24233694123761648, 0.24233694123761648, 0.04038949020626941, 0.16155796082507765, 0.3231159216501553, 0.03197335348309974, 0.4476269487633963, 0.15986676741549868, 0.06394670696619947, 0.15986676741549868, 0.09592006044929921, 0.5283163904115123, 0.1584949171234537, 0.10566327808230248, 0.10566327808230248, 0.10566327808230248, 0.877786988860063, 0.12327144017046354, 0.6163572008523177, 0.24654288034092708, 0.18975231343307483, 0.4485054681145405, 0.08625105156048855, 0.13800168249678169, 0.10350126187258626, 0.01725021031209771, 0.7503458941178561, 0.19519101717891946, 0.14639326288418958, 0.14639326288418958, 0.17079214003155452, 0.34158428006310904, 0.6661157255999433, 0.1284168980517427, 0.6420844902587135, 0.1284168980517427, 0.8689182714521229, 0.6872014364277629, 0.764026240620264, 0.08449586771095663, 0.5069752062657398, 0.08449586771095663, 0.08449586771095663, 0.08449586771095663, 0.3790992112469011, 0.2369370070293132, 0.09477480281172528, 0.07108110210879397, 0.1184685035146566, 0.09477480281172528, 0.88604509768331, 0.1804604564800783, 0.1804604564800783, 0.541381369440235, 0.8097661909382114, 0.44127265050304865, 0.3309544878772865, 0.11031816262576216, 0.11031816262576216, 0.03677272087525405, 0.6372282441617779, 0.07080313824019756, 0.10620470736029633, 0.14160627648039512, 0.851792318428708, 0.212948079607177, 0.2598655496407964, 0.5846974866917919, 0.1299327748203982, 0.8331119033190514, 0.7101171387304581, 0.15216795829938387, 0.05072265276646129, 0.15216795829938387, 0.8523947899005843, 0.7544977484447593, 0.2899836536473372, 0.724959134118343, 0.6265100547089706, 0.25060402188358827, 0.22719291437599773, 0.6815787431279932, 0.8324445084575169, 0.7183355049906611, 0.8502131812268657, 0.7468119496440112, 0.8324476992363818, 0.87858636826187, 0.6044939574564944, 0.1511234893641236, 0.0755617446820618, 0.1511234893641236, 0.2807275156823748, 0.0935758385607916, 0.14972134169726656, 0.2620123479702165, 0.07486067084863328, 0.13100617398510825, 0.8689182646719156, 0.1277401449207546, 0.1277401449207546, 0.6387007246037731, 0.7182338564521448, 0.8237886869219132, 0.06864905724349277, 0.06864905724349277, 0.9389361823685428, 0.8958856710691843, 0.3381343638524843, 0.3073948762295312, 0.03073948762295312, 0.12295795049181248, 0.12295795049181248, 0.06147897524590624, 0.07812098220726284, 0.6249678576581027, 0.23436294662178853, 0.07812098220726284, 0.14492773312843557, 0.14492773312843557, 0.7246386656421778, 0.7295434789686244, 0.1823858697421561, 0.6599111697801401, 0.7177458022073648, 0.11737038586640379, 0.8215927010648265, 0.7183280262567459, 0.33896387608396966, 0.4519518347786262, 0.11298795869465655, 0.05649397934732828, 0.9110728729797932, 0.31257071400818237, 0.6251414280163647, 0.7832544089536311, 0.28622997102720366, 0.6678699323968085, 0.21823730153188226, 0.58756196566276, 0.03357496946644343, 0.06714993893288686, 0.05036245419966514, 0.05036245419966514, 0.2479719766145872, 0.1239859883072936, 0.20664331384548934, 0.28930063938368505, 0.04132866276909787, 0.04132866276909787, 0.5079280633143195, 0.1451223038040913, 0.07256115190204565, 0.2902446076081826, 0.8689182714521229, 0.6523435138534142, 0.14989610679839713, 0.7494805339919857, 0.8507581351283731, 0.8721788297896844, 0.18650286174370215, 0.24867048232493622, 0.062167620581234054, 0.3730057234874043, 0.12433524116246811, 0.9264377232127095, 0.7950502000049037, 0.7974629152467861, 0.8341276185630406, 0.7050479724535815, 0.7302305054595565, 0.09127881318244456, 0.09127881318244456, 0.8532547045388854, 0.6861013689261208, 0.2652429704161436, 0.07233899193167552, 0.3375819623478191, 0.04822599462111701, 0.16879098117390956, 0.09645198924223403, 0.6821230110306682, 0.8342019759046063, 0.7909088080575554, 0.15453241554095723, 0.7726620777047861, 0.39831299324229247, 0.06638549887371542, 0.03319274943685771, 0.09957824831057312, 0.3651202438054348, 0.263763693098086, 0.527527386196172, 0.7048703870538435, 0.17588342053999825, 0.8794171026999913, 0.721902013446396, 0.120317002241066, 0.120317002241066, 0.9047523420529047, 0.8659729563844908, 0.054123309774030674, 0.7181692100435849, 0.8591832923173971, 0.20242807471341348, 0.6747602490447115, 0.06747602490447116, 0.9610303817728636, 0.8324716223234173, 0.27928548770058526, 0.6982137192514632, 0.6095738336241392, 0.20319127787471306, 0.6102430319916784, 0.3051215159958392, 0.9060870553314485, 0.6005921298949062, 0.1334649177544236, 0.0667324588772118, 0.1334649177544236, 0.5750260422191841, 0.12321986618982517, 0.12321986618982517, 0.1642931549197669, 0.25433655157447527, 0.41329689630852234, 0.25433655157447527, 0.06358413789361882, 0.6965655444742583, 0.7788620039503511, 0.1557724007900702, 0.6924598627905059, 0.8906513893548963, 0.058189280538685606, 0.46551424430948485, 0.23275712215474242, 0.23275712215474242, 0.2581136424658036, 0.17207576164386906, 0.1290568212329018, 0.2581136424658036, 0.043018940410967266, 0.1290568212329018, 0.8294371118091097, 0.819624417703718, 0.7623005970316837, 0.06178761870601526, 0.4325133309421068, 0.27804428417706867, 0.24715047482406105, 0.2508677977825589, 0.16724519852170594, 0.5017355955651178, 0.659903619552428, 0.8331141884619506, 0.25989397035206474, 0.6497349258801619, 0.15578307178785228, 0.7789153589392613, 0.859292007961484, 0.8095088572823872, 0.8532729764792224, 0.8850470063483528, 0.5249147809659143, 0.2099659123863657, 0.17497159365530476, 0.017497159365530476, 0.03499431873106095, 0.052491478096591423, 0.2681512479006002, 0.06703781197515005, 0.33518905987575026, 0.33518905987575026, 0.6871661575948573, 0.3656553772665722, 0.2150913983921013, 0.0645274195176304, 0.19358225855289118, 0.1290548390352608, 0.021509139839210132, 0.12868451879105142, 0.38605355637315425, 0.08578967919403427, 0.12868451879105142, 0.15013193858955998, 0.15013193858955998, 0.832472375562628, 0.11837898204276086, 0.2959474551069022, 0.23675796408552172, 0.35513694612828256, 0.8094967415737677, 0.9272860946936397, 0.6557787123855339, 0.18736534639586683, 0.09368267319793341, 0.8532729764792224, 0.8171212175374526, 0.6965577780129741, 0.8532547045388854, 0.6396862302869405, 0.4403889813402531, 0.4403889813402531, 0.07339816355670885, 0.07339816355670885, 0.786419797250908, 0.13106996620848466, 0.6452293687116235, 0.11061074892199262, 0.05530537446099631, 0.0737404992813284, 0.1290458737423247, 0.8601529501476787, 0.927413509671696, 0.6507759623913214, 0.21692532079710714, 0.9277520316480989, 0.7059045897480412, 0.7176195564387476, 0.8324611192547677, 0.8274905984166768, 0.6736989393, 0.2435669566311957, 0.31663704362055445, 0.02435669566311957, 0.2435669566311957, 0.14614017397871742, 0.02435669566311957, 0.7260679749269876, 0.08969904035941681, 0.022424760089854202, 0.20182284080868781, 0.3812209215275214, 0.17939808071883362, 0.1345485605391252, 0.7210343090161428, 0.1802585772540357, 0.9039237822899892, 0.2879120595025048, 0.19194137300166988, 0.22393160183528152, 0.09597068650083494, 0.09597068650083494, 0.09597068650083494, 0.17838721451334266, 0.08919360725667133, 0.22298401814167831, 0.31217762539834965, 0.08919360725667133, 0.08919360725667133, 0.4517016151513012, 0.10628273297677675, 0.07971204973258257, 0.13285341622097094, 0.053141366488388374, 0.15942409946516514, 0.3784338426639083, 0.504578456885211, 0.19701446403411008, 0.7486549633296182, 0.2868089324625678, 0.5736178649251356, 0.27358554804989577, 0.31266919777130947, 0.2345018983284821, 0.15633459888565474, 0.039083649721413684, 0.9108443530888385, 0.19236452623499187, 0.5770935787049757, 0.17566527388029757, 0.7026610955211903, 0.08577107708829976, 0.25731323126489924, 0.42885538544149876, 0.25731323126489924, 0.47784865060081255, 0.2514992897899013, 0.05029985795798027, 0.025149928978990134, 0.17604950285293094, 0.33126011309593306, 0.12422254241097488, 0.12422254241097488, 0.22774132775345396, 0.04140751413699163, 0.16563005654796653, 0.92828251747635], \"Term\": [\"acid\", \"action\", \"action\", \"action\", \"admin\", \"advantage\", \"african\", \"afternoon\", \"ago\", \"ago\", \"alien\", \"alienate\", \"ally\", \"amendment\", \"amendment\", \"american\", \"american\", \"american\", \"american\", \"anger\", \"angry\", \"angry\", \"angry\", \"angry\", \"anonymous\", \"apply\", \"appreciate\", \"arena\", \"asap\", \"ask\", \"ask\", \"ask\", \"asset\", \"author\", \"aware\", \"back\", \"back\", \"back\", \"back\", \"bad\", \"bad\", \"bad\", \"bad\", \"bad\", \"bad\", \"badly\", \"badly\", \"ban\", \"base\", \"base\", \"beat\", \"big\", \"big\", \"big\", \"big\", \"big\", \"big\", \"bill\", \"bill\", \"bill\", \"bill\", \"bill\", \"book\", \"book\", \"border\", \"border\", \"border\", \"border\", \"border\", \"border\", \"bright\", \"bring\", \"bring\", \"bring\", \"bring\", \"bring\", \"bring\", \"build\", \"build\", \"building\", \"burial\", \"busy\", \"buy\", \"buy\", \"call\", \"call\", \"call\", \"call\", \"call\", \"call\", \"campaign\", \"campaign\", \"campaign\", \"cave\", \"cdcgov\", \"charge\", \"charge\", \"charge\", \"chuck\", \"classified\", \"classified\", \"climate\", \"collusion\", \"collusion\", \"collusion\", \"come\", \"come\", \"come\", \"come\", \"come\", \"commission\", \"compromise\", \"conference\", \"congratulation\", \"congratulation\", \"congratulation\", \"construction\", \"continue\", \"continue\", \"continue\", \"control\", \"control\", \"conversation\", \"conversation\", \"conversation\", \"cop\", \"corrupt_politician\", \"corrupt_politician\", \"cost\", \"cost\", \"country\", \"country\", \"country\", \"country\", \"country\", \"country\", \"court\", \"court\", \"credibility\", \"credibility\", \"credit\", \"crime\", \"crime\", \"crime\", \"crime\", \"crime\", \"crime\", \"cut\", \"cut\", \"cut\", \"cut\", \"day\", \"day\", \"day\", \"day\", \"day\", \"deal\", \"deal\", \"deal\", \"deal\", \"deal\", \"deal\", \"debate\", \"debate\", \"delete\", \"dem\", \"dem\", \"dem\", \"dem\", \"dem\", \"dem\", \"democrat\", \"democrat\", \"democrat\", \"devote\", \"dhs\", \"direct\", \"disaster\", \"disaster\", \"discuss\", \"disgraceful\", \"dismantle\", \"doctor\", \"doom\", \"early\", \"early\", \"early\", \"early\", \"ease\", \"economy\", \"economy\", \"economy\", \"economy\", \"election\", \"election\", \"election\", \"election\", \"election\", \"electric\", \"elite\", \"endorse\", \"enjoy\", \"enjoy\", \"enjoy\", \"enjoy\", \"even\", \"even\", \"even\", \"even\", \"even\", \"even\", \"ever\", \"ever\", \"ever\", \"ever\", \"ever\", \"ever\", \"exactly\", \"exciting\", \"exercise\", \"expose\", \"fake_new\", \"fake_new\", \"fake_new\", \"fake_new\", \"fake_new\", \"far\", \"far\", \"far\", \"far\", \"far\", \"far\", \"fault\", \"fence\", \"fighter\", \"find\", \"find\", \"find\", \"floor\", \"follow\", \"follow\", \"fool\", \"force\", \"force\", \"force\", \"forest\", \"forward\", \"forward\", \"forward\", \"forward\", \"foxnew\", \"foxnew\", \"foxnew\", \"friend\", \"friend\", \"friend\", \"full\", \"full\", \"full\", \"full\", \"fund\", \"funeral\", \"future\", \"future\", \"future\", \"game\", \"game\", \"garbage\", \"get\", \"get\", \"get\", \"get\", \"get\", \"get\", \"give\", \"give\", \"give\", \"give\", \"give\", \"give\", \"go\", \"go\", \"go\", \"go\", \"go\", \"go\", \"good\", \"good\", \"good\", \"good\", \"good\", \"great\", \"great\", \"great\", \"great\", \"great\", \"great\", \"grow\", \"guy\", \"guy\", \"guy\", \"hack\", \"happen\", \"happen\", \"happen\", \"happen\", \"hard\", \"hard\", \"hard\", \"hard\", \"health\", \"health\", \"healthcare\", \"help\", \"help\", \"help\", \"help\", \"help\", \"help\", \"hillary_clinton\", \"hire\", \"history\", \"history\", \"history\", \"history\", \"history\", \"hold\", \"hold\", \"hold\", \"honor\", \"honor\", \"honor\", \"honor\", \"honor\", \"hope\", \"hope\", \"human\", \"hurt\", \"impeachable\", \"impeachment\", \"impeachment\", \"impeachment\", \"impeachment\", \"impeachment\", \"important\", \"important\", \"important\", \"incapable\", \"independent\", \"internal\", \"investigation\", \"investigation\", \"investigation\", \"investigation\", \"iowa\", \"isis\", \"isis\", \"job\", \"job\", \"job\", \"job\", \"job\", \"job\", \"joke\", \"keep\", \"keep\", \"keep\", \"keep\", \"keynote\", \"kid\", \"kid\", \"know\", \"know\", \"know\", \"know\", \"know\", \"kurd\", \"lack\", \"lack\", \"lamestream\", \"lawyer\", \"lawyer\", \"lawyer\", \"leader\", \"leader\", \"leaker\", \"learn\", \"learn\", \"least\", \"least\", \"legislation\", \"let\", \"let\", \"let\", \"let\", \"letter\", \"lie\", \"lie\", \"lie\", \"lie\", \"local\", \"local\", \"local\", \"lock\", \"long\", \"long\", \"long\", \"long\", \"long\", \"look\", \"look\", \"look\", \"look\", \"look\", \"look\", \"love\", \"love\", \"love\", \"love\", \"love\", \"magazine\", \"major\", \"major\", \"major\", \"make\", \"make\", \"make\", \"make\", \"make\", \"make\", \"manager\", \"many\", \"many\", \"many\", \"many\", \"many\", \"mariabartiromo\", \"maybe\", \"maybe\", \"maybe\", \"mazloumabdi\", \"meddling\", \"mid\", \"money\", \"money\", \"money\", \"money\", \"money\", \"much\", \"much\", \"much\", \"much\", \"much\", \"much\", \"mueller\", \"nancy_pelosi\", \"nancy_pelosi\", \"nancy_pelosi\", \"negative\", \"never\", \"never\", \"never\", \"never\", \"never\", \"new\", \"new\", \"new\", \"new\", \"new_york\", \"new_york\", \"news\", \"news\", \"news\", \"nominee\", \"number\", \"number\", \"number\", \"number\", \"nurse\", \"obamacare\", \"obstruction\", \"obstruction\", \"oil\", \"oil\", \"old\", \"old\", \"opponent\", \"opposition\", \"pandemic\", \"pastor\", \"path\", \"paulsperry\", \"pay\", \"pay\", \"pay\", \"pay\", \"people\", \"people\", \"people\", \"people\", \"people\", \"people\", \"persecute\", \"phone\", \"phone\", \"phone\", \"planet\", \"poll\", \"poll\", \"poll\", \"portion\", \"prayer\", \"president\", \"president\", \"president\", \"president\", \"president\", \"president\", \"press\", \"press\", \"press\", \"press\", \"price\", \"price\", \"price\", \"prime_minister\", \"prime_minister\", \"priority\", \"prison\", \"process\", \"process\", \"properly\", \"protect\", \"protect\", \"protect\", \"protect\", \"rating\", \"read\", \"read\", \"ready\", \"real\", \"real\", \"realdonaldtrump\", \"realdonaldtrump\", \"realdonaldtrump\", \"realdonaldtrump\", \"realdonaldtrump\", \"realdonaldtrump\", \"really\", \"really\", \"really\", \"really\", \"really\", \"really\", \"record\", \"record\", \"record\", \"record\", \"region\", \"reiterate\", \"release\", \"release\", \"remark\", \"represent\", \"republican\", \"republican\", \"republican\", \"republican\", \"republican\", \"request\", \"rid\", \"ridiculous\", \"road\", \"role\", \"rule\", \"rule\", \"rule\", \"safeguard\", \"sanction\", \"say\", \"say\", \"say\", \"say\", \"say\", \"say\", \"seanhannity\", \"season\", \"secazar\", \"second\", \"second\", \"see\", \"see\", \"see\", \"see\", \"see\", \"seem\", \"seem\", \"seldom\", \"sell\", \"sell\", \"send\", \"send\", \"send\", \"shortly\", \"show\", \"show\", \"shut\", \"siege\", \"sign\", \"sign\", \"sign\", \"situation\", \"sleepy\", \"small\", \"small\", \"solve\", \"solve\", \"southern_border\", \"southern_border\", \"spying\", \"stand\", \"stand\", \"stand\", \"stand\", \"start\", \"start\", \"start\", \"start\", \"state\", \"state\", \"state\", \"state\", \"statedept\", \"statement\", \"statement\", \"steel\", \"stock_market\", \"story\", \"story\", \"story\", \"story\", \"strong\", \"strong\", \"strong\", \"strong\", \"strong\", \"strong\", \"strongly\", \"supply\", \"suppression\", \"take\", \"take\", \"take\", \"take\", \"tariff\", \"tariff\", \"tariff\", \"tate\", \"tatereeve\", \"tax\", \"tax\", \"taxis\", \"taxis\", \"television\", \"ten\", \"terror\", \"testing\", \"thank\", \"thank\", \"thank\", \"thank\", \"thank\", \"thank\", \"thing\", \"thing\", \"thing\", \"thing\", \"ticket\", \"time\", \"time\", \"time\", \"time\", \"time\", \"time\", \"today\", \"today\", \"today\", \"today\", \"today\", \"today\", \"todd\", \"together\", \"together\", \"together\", \"together\", \"top\", \"total_endorsement\", \"totally\", \"totally\", \"totally\", \"tour\", \"town\", \"trafficking\", \"tribal\", \"trip\", \"true\", \"true\", \"true\", \"true\", \"truly\", \"truly\", \"trump\", \"trump\", \"trump\", \"trump\", \"trump\", \"trumpwarroom\", \"tunnel\", \"turkey\", \"turkey\", \"understand\", \"united\", \"unlawful\", \"unmatched\", \"usnavy\", \"visit\", \"vote\", \"vote\", \"vote\", \"vote\", \"vote\", \"vote\", \"voter\", \"want\", \"want\", \"want\", \"want\", \"want\", \"want\", \"war\", \"war\", \"wash\", \"watch\", \"watch\", \"watch\", \"watch\", \"watch\", \"watch\", \"way\", \"way\", \"way\", \"way\", \"way\", \"way\", \"well\", \"well\", \"well\", \"well\", \"well\", \"well\", \"whistleblower\", \"whistleblower\", \"whitehouse\", \"whitehouse\", \"wife\", \"wife\", \"win\", \"win\", \"win\", \"win\", \"win\", \"wisdom\", \"witch_hunt\", \"witch_hunt\", \"witness\", \"witness\", \"wonderful\", \"wonderful\", \"wonderful\", \"wonderful\", \"work\", \"work\", \"work\", \"work\", \"work\", \"year\", \"year\", \"year\", \"year\", \"year\", \"year\", \"yet\"]}, \"R\": 30, \"lambda.step\": 0.01, \"plot.opts\": {\"xlab\": \"PC1\", \"ylab\": \"PC2\"}, \"topic.order\": [2, 3, 4, 1, 6, 5]};\n",
       "\n",
       "function LDAvis_load_lib(url, callback){\n",
       "  var s = document.createElement('script');\n",
       "  s.src = url;\n",
       "  s.async = true;\n",
       "  s.onreadystatechange = s.onload = callback;\n",
       "  s.onerror = function(){console.warn(\"failed to load library \" + url);};\n",
       "  document.getElementsByTagName(\"head\")[0].appendChild(s);\n",
       "}\n",
       "\n",
       "if(typeof(LDAvis) !== \"undefined\"){\n",
       "   // already loaded: just create the visualization\n",
       "   !function(LDAvis){\n",
       "       new LDAvis(\"#\" + \"ldavis_el29241769164513456854314216\", ldavis_el29241769164513456854314216_data);\n",
       "   }(LDAvis);\n",
       "}else if(typeof define === \"function\" && define.amd){\n",
       "   // require.js is available: use it to load d3/LDAvis\n",
       "   require.config({paths: {d3: \"https://d3js.org/d3.v5\"}});\n",
       "   require([\"d3\"], function(d3){\n",
       "      window.d3 = d3;\n",
       "      LDAvis_load_lib(\"https://cdn.jsdelivr.net/gh/bmabey/pyLDAvis@3.3.1/pyLDAvis/js/ldavis.v3.0.0.js\", function(){\n",
       "        new LDAvis(\"#\" + \"ldavis_el29241769164513456854314216\", ldavis_el29241769164513456854314216_data);\n",
       "      });\n",
       "    });\n",
       "}else{\n",
       "    // require.js not available: dynamically load d3 & LDAvis\n",
       "    LDAvis_load_lib(\"https://d3js.org/d3.v5.js\", function(){\n",
       "         LDAvis_load_lib(\"https://cdn.jsdelivr.net/gh/bmabey/pyLDAvis@3.3.1/pyLDAvis/js/ldavis.v3.0.0.js\", function(){\n",
       "                 new LDAvis(\"#\" + \"ldavis_el29241769164513456854314216\", ldavis_el29241769164513456854314216_data);\n",
       "            })\n",
       "         });\n",
       "}\n",
       "</script>"
      ],
      "text/plain": [
       "PreparedData(topic_coordinates=              x         y  topics  cluster       Freq\n",
       "topic                                                \n",
       "1     -0.015208  0.151385       1        1  26.016205\n",
       "2     -0.052349 -0.168531       2        1  16.339547\n",
       "3     -0.159563  0.044019       3        1  16.006570\n",
       "0      0.114108  0.084280       4        1  14.762484\n",
       "5      0.150167 -0.069255       5        1  14.253551\n",
       "4     -0.037155 -0.041897       6        1  12.621643, topic_info=                    Term        Freq       Total Category  logprob  loglift\n",
       "0        realdonaldtrump   59.000000   59.000000  Default  30.0000  30.0000\n",
       "832           whitehouse   25.000000   25.000000  Default  29.0000  29.0000\n",
       "166                 hard   23.000000   23.000000  Default  28.0000  28.0000\n",
       "237                   go   65.000000   65.000000  Default  27.0000  27.0000\n",
       "397                 work   39.000000   39.000000  Default  26.0000  26.0000\n",
       "395                 take   32.000000   32.000000  Default  25.0000  25.0000\n",
       "16                  make   57.000000   57.000000  Default  24.0000  24.0000\n",
       "240                 read   15.000000   15.000000  Default  23.0000  23.0000\n",
       "246                 want   44.000000   44.000000  Default  22.0000  22.0000\n",
       "255                 many   40.000000   40.000000  Default  21.0000  21.0000\n",
       "94                leader   11.000000   11.000000  Default  20.0000  20.0000\n",
       "186                  get   75.000000   75.000000  Default  19.0000  19.0000\n",
       "103                 good   47.000000   47.000000  Default  18.0000  18.0000\n",
       "513               foxnew   16.000000   16.000000  Default  17.0000  17.0000\n",
       "302                state   31.000000   31.000000  Default  16.0000  16.0000\n",
       "522            collusion   18.000000   18.000000  Default  15.0000  15.0000\n",
       "53                  know   26.000000   26.000000  Default  14.0000  14.0000\n",
       "164                 show   18.000000   18.000000  Default  13.0000  13.0000\n",
       "249                crime   30.000000   30.000000  Default  12.0000  12.0000\n",
       "78                 thank   57.000000   57.000000  Default  11.0000  11.0000\n",
       "410             american   25.000000   25.000000  Default  10.0000  10.0000\n",
       "929                 real   10.000000   10.000000  Default   9.0000   9.0000\n",
       "199                trump   54.000000   54.000000  Default   8.0000   8.0000\n",
       "22                   see   30.000000   30.000000  Default   7.0000   7.0000\n",
       "250                  job   49.000000   49.000000  Default   6.0000   6.0000\n",
       "126                 keep   22.000000   22.000000  Default   5.0000   5.0000\n",
       "15                 great  145.000000  145.000000  Default   4.0000   4.0000\n",
       "601               debate    8.000000    8.000000  Default   3.0000   3.0000\n",
       "37                  sign   14.000000   14.000000  Default   2.0000   2.0000\n",
       "394                story   17.000000   17.000000  Default   1.0000   1.0000\n",
       "1606              rating    9.085218    9.878463   Topic1  -5.7002   1.2627\n",
       "838              testing    6.139523    6.779301   Topic1  -6.0921   1.2473\n",
       "114         stock_market    6.099454    6.736642   Topic1  -6.0987   1.2471\n",
       "2558             climate    5.216659    5.847867   Topic1  -6.2550   1.2322\n",
       "903               prayer    4.949845    5.581069   Topic1  -6.3075   1.2264\n",
       "615                 fund    4.859450    5.492549   Topic1  -6.3259   1.2240\n",
       "164                 show   16.311234   18.476328   Topic1  -5.1150   1.2218\n",
       "167           healthcare    4.470727    5.116588   Topic1  -6.4093   1.2115\n",
       "1570            negative    4.306310    4.939697   Topic1  -6.4468   1.2092\n",
       "1235                doom    4.303732    4.941329   Topic1  -6.4474   1.2083\n",
       "1237              credit    4.139798    4.771786   Topic1  -6.4862   1.2044\n",
       "2079             mueller    3.869954    4.514443   Topic1  -6.5536   1.1924\n",
       "2471              wisdom    3.758152    4.391530   Topic1  -6.5829   1.1907\n",
       "785                  yet    3.674367    4.309033   Topic1  -6.6055   1.1871\n",
       "2804             portion    3.627801    4.260140   Topic1  -6.6182   1.1858\n",
       "2872                hire    3.617192    4.258678   Topic1  -6.6212   1.1832\n",
       "905            situation    3.526648    4.162199   Topic1  -6.6465   1.1808\n",
       "1211            building    3.410654    4.042121   Topic1  -6.6799   1.1766\n",
       "233          suppression    3.304256    3.935455   Topic1  -6.7116   1.1716\n",
       "1191               court    5.671881    6.793248   Topic1  -6.1713   1.1660\n",
       "1602                grow    3.125654    3.760657   Topic1  -6.7672   1.1615\n",
       "699              african    3.131942    3.781529   Topic1  -6.7652   1.1580\n",
       "2602                town    3.029962    3.671426   Topic1  -6.7983   1.1544\n",
       "534             exciting    2.981076    3.614700   Topic1  -6.8146   1.1537\n",
       "227                 poll   11.983406   14.566842   Topic1  -5.4233   1.1512\n",
       "2091               siege    2.860546    3.491688   Topic1  -6.8558   1.1471\n",
       "1739             fighter    3.161969    3.892858   Topic1  -6.7557   1.1385\n",
       "819               spying    2.679755    3.310940   Topic1  -6.9211   1.1349\n",
       "511                 beat    2.688317    3.324984   Topic1  -6.9179   1.1339\n",
       "1                 follow    4.741201    5.881601   Topic1  -6.3506   1.1309\n",
       "542                 game   10.029042   12.810833   Topic1  -5.6014   1.1016\n",
       "60                 build    9.076927   11.695425   Topic1  -5.7011   1.0930\n",
       "434                truly    5.845034    7.629513   Topic1  -6.1413   1.0800\n",
       "199                trump   34.564047   54.244276   Topic1  -4.3640   0.8958\n",
       "110               number   13.724574   19.715057   Topic1  -5.2877   0.9843\n",
       "264                 rule    8.083219   10.955445   Topic1  -5.8171   1.0424\n",
       "835               happen   10.355640   14.590337   Topic1  -5.5693   1.0036\n",
       "99               economy   13.987273   20.813577   Topic1  -5.2687   0.9490\n",
       "70                   new   17.808112   28.247335   Topic1  -5.0272   0.8851\n",
       "78                 thank   30.167202   57.152134   Topic1  -4.5001   0.7075\n",
       "998              control    5.484204    7.174508   Topic1  -6.2050   1.0778\n",
       "49              campaign    9.548324   14.555514   Topic1  -5.6505   0.9248\n",
       "432                start   13.811062   24.346723   Topic1  -5.2814   0.7795\n",
       "904                 send    6.016903    8.311377   Topic1  -6.1123   1.0234\n",
       "103                 good   21.023702   47.481776   Topic1  -4.8612   0.5318\n",
       "15                 great   46.603666  145.862688   Topic1  -4.0652   0.2055\n",
       "119                 well   17.358107   37.635464   Topic1  -5.0528   0.5726\n",
       "101                 ever   13.721376   28.874494   Topic1  -5.2879   0.6024\n",
       "193                 back   12.874388   27.103709   Topic1  -5.3516   0.6020\n",
       "1376             totally    7.064700   10.674332   Topic1  -5.9517   0.9337\n",
       "373              history    8.910508   15.352174   Topic1  -5.7196   0.8024\n",
       "108                 love    9.995306   18.928052   Topic1  -5.6047   0.7079\n",
       "588                stand    8.650482   14.985211   Topic1  -5.7492   0.7970\n",
       "26                  time   17.040847   46.491864   Topic1  -5.0712   0.3428\n",
       "889                 much   15.953128   42.205311   Topic1  -5.1372   0.3736\n",
       "34               country   21.930686   73.510306   Topic1  -4.8190   0.1369\n",
       "200                  day   11.276336   24.087402   Topic1  -5.4841   0.5875\n",
       "136                 year   16.135044   48.300412   Topic1  -5.1259   0.2500\n",
       "186                  get   19.959306   75.899098   Topic1  -4.9132   0.0107\n",
       "169                never   11.701056   27.194071   Topic1  -5.4472   0.5031\n",
       "399          impeachment   13.000477   33.782109   Topic1  -5.3419   0.3915\n",
       "98                   big   15.369029   51.607006   Topic1  -5.1745   0.1351\n",
       "22                   see   11.976173   30.127061   Topic1  -5.4239   0.4239\n",
       "111               people   15.065366   53.432596   Topic1  -5.1945   0.0804\n",
       "370                  dem   11.216123   27.937160   Topic1  -5.4895   0.4338\n",
       "237                   go   14.314514   65.169111   Topic1  -5.2456  -0.1693\n",
       "0        realdonaldtrump   12.926287   59.568185   Topic1  -5.3476  -0.1814\n",
       "33             president   11.080739   32.531447   Topic1  -5.5016   0.2695\n",
       "16                  make   11.177641   57.970308   Topic1  -5.4929  -0.2996\n",
       "257                  say   10.603179   41.471410   Topic1  -5.5457  -0.0174\n",
       "1246                fool    5.679675    6.335400   Topic2  -5.7048   1.7023\n",
       "649           ridiculous    4.325486    5.015907   Topic2  -5.9772   1.6635\n",
       "894               tunnel    3.650553    4.313071   Topic2  -6.1468   1.6448\n",
       "54             obamacare    3.311368    3.976155   Topic2  -6.2444   1.6286\n",
       "405               doctor    3.224386    3.875968   Topic2  -6.2710   1.6275\n",
       "1253           statement    5.217428    6.419622   Topic2  -5.7897   1.6042\n",
       "2564                cave    2.798354    3.446990   Topic2  -6.4127   1.6031\n",
       "2498         legislation    2.798343    3.447038   Topic2  -6.4127   1.6031\n",
       "2158               nurse    2.856707    3.519496   Topic2  -6.3921   1.6029\n",
       "2472             garbage    2.795734    3.447026   Topic2  -6.4136   1.6022\n",
       "2591             shortly    2.667186    3.315825   Topic2  -6.4607   1.5939\n",
       "2407               fault    2.414547    3.063180   Topic2  -6.5602   1.5736\n",
       "2402                ease    2.414562    3.063199   Topic2  -6.5602   1.5736\n",
       "92              disaster    4.644958    5.903792   Topic2  -5.9059   1.5718\n",
       "269             priority    2.381183    3.030711   Topic2  -6.5741   1.5704\n",
       "2408                iowa    2.283472    2.932104   Topic2  -6.6160   1.5616\n",
       "2125            meddling    2.259165    2.910355   Topic2  -6.6267   1.5583\n",
       "2087              ticket    2.257800    2.910504   Topic2  -6.6273   1.5576\n",
       "2576            exercise    2.152286    2.800916   Topic2  -6.6752   1.5482\n",
       "2578              letter    2.152286    2.800917   Topic2  -6.6752   1.5482\n",
       "1348              planet    2.135748    2.784608   Topic2  -6.6829   1.5463\n",
       "1649          compromise    2.133880    2.782512   Topic2  -6.6838   1.5462\n",
       "1112            properly    2.132775    2.784243   Topic2  -6.6843   1.5450\n",
       "1001          opposition    2.131833    2.784214   Topic2  -6.6847   1.5446\n",
       "1383              bright    2.120096    2.781152   Topic2  -6.6903   1.5402\n",
       "1008            new_york    3.561830    4.695980   Topic2  -6.1714   1.5351\n",
       "1212                busy    2.098838    2.789611   Topic2  -6.7003   1.5271\n",
       "166                 hard   17.790559   23.956863   Topic2  -4.5631   1.5140\n",
       "2231              usnavy    1.768303    2.416946   Topic2  -6.8717   1.4991\n",
       "210          impeachable    1.751926    2.400628   Topic2  -6.8810   1.4966\n",
       "51                future    5.685715    8.149586   Topic2  -5.7038   1.4516\n",
       "137                  ago    4.217616    5.993607   Topic2  -6.0025   1.4602\n",
       "0        realdonaldtrump   35.082100   59.568185   Topic2  -3.8840   1.2822\n",
       "37                  sign    9.684338   14.820079   Topic2  -5.1712   1.3861\n",
       "283                  tax    5.230071    7.695446   Topic2  -5.7873   1.4254\n",
       "154                  war    3.868977    5.547586   Topic2  -6.0887   1.4512\n",
       "16                  make   26.232999   57.970308   Topic2  -4.1747   1.0187\n",
       "2053               force    4.813126    7.476435   Topic2  -5.8704   1.3712\n",
       "397                 work   18.773186   39.761544   Topic2  -4.5093   1.0611\n",
       "148                  pay    7.502697   13.234210   Topic2  -5.4265   1.2440\n",
       "123       congratulation    6.818070   11.914785   Topic2  -5.5221   1.2534\n",
       "1616             forward    7.510061   13.782820   Topic2  -5.4255   1.2044\n",
       "339                 look   13.990502   31.276044   Topic2  -4.8033   1.0071\n",
       "302                state   13.336278   31.454386   Topic2  -4.8512   0.9535\n",
       "27                 today   17.613683   46.625655   Topic2  -4.5730   0.8381\n",
       "2145               money    6.456272   11.834898   Topic2  -5.5767   1.2056\n",
       "15                 great   34.658378  145.862688   Topic2  -3.8962   0.3745\n",
       "394                story    7.990298   17.185296   Topic2  -5.3635   1.0458\n",
       "126                 keep    9.556651   22.771821   Topic2  -5.1845   0.9433\n",
       "57                  vote   13.214675   41.056472   Topic2  -4.8604   0.6780\n",
       "41                 early    4.669196    8.042818   Topic2  -5.9007   1.2678\n",
       "33             president   10.368724   32.531447   Topic2  -5.1029   0.6682\n",
       "169                never    8.535399   27.194071   Topic2  -5.2975   0.6528\n",
       "78                 thank   12.095075   57.152134   Topic2  -4.9489   0.2587\n",
       "34               country   13.581558   73.510306   Topic2  -4.8330   0.1229\n",
       "342                  win    7.983261   25.586147   Topic2  -5.3644   0.6469\n",
       "889                 much    9.612777   42.205311   Topic2  -5.1786   0.3321\n",
       "186                  get   12.129813   75.899098   Topic2  -4.9461  -0.0222\n",
       "26                  time    9.851157   46.491864   Topic2  -5.1541   0.2599\n",
       "125                honor    6.321309   18.116895   Topic2  -5.5978   0.7587\n",
       "134                 true    5.784456   13.624319   Topic2  -5.6865   0.9549\n",
       "255                 many    7.654943   40.985493   Topic2  -5.4064   0.1337\n",
       "45                 watch    6.426141   31.259545   Topic2  -5.5813   0.2296\n",
       "190                 long    5.930582   24.758916   Topic2  -5.6616   0.3825\n",
       "250                  job    5.943355   49.926905   Topic2  -5.6594  -0.3167\n",
       "859            represent    5.017955    5.732769   Topic3  -5.8081   1.6990\n",
       "366           conference    4.390679    5.038730   Topic3  -5.9416   1.6945\n",
       "753             strongly    4.165971    4.822548   Topic3  -5.9942   1.6858\n",
       "1154               human    3.822762    4.466306   Topic3  -6.0802   1.6766\n",
       "2289                 ban    3.572580    4.219168   Topic3  -6.1478   1.6658\n",
       "2636                 dhs    3.302681    3.945954   Topic3  -6.2264   1.6542\n",
       "830             pandemic    2.885246    3.528527   Topic3  -6.3615   1.6309\n",
       "1909               asset    2.882086    3.525358   Topic3  -6.3626   1.6307\n",
       "1527              remark    2.882783    3.526267   Topic3  -6.3624   1.6307\n",
       "740                 sell    4.553848    5.685584   Topic3  -5.9052   1.6102\n",
       "2395               elite    2.518054    3.161840   Topic3  -6.4976   1.6045\n",
       "2024      mariabartiromo    2.358734    3.002481   Topic3  -6.5630   1.5909\n",
       "1101               anger    2.328237    2.971940   Topic3  -6.5760   1.5881\n",
       "500                visit    2.322824    2.968685   Topic3  -6.5783   1.5868\n",
       "2637                lock    2.244991    2.888262   Topic3  -6.6124   1.5802\n",
       "2751               steel    2.244981    2.888254   Topic3  -6.6124   1.5802\n",
       "1277           afternoon    2.227891    2.871268   Topic3  -6.6201   1.5785\n",
       "867               direct    2.227842    2.871269   Topic3  -6.6201   1.5785\n",
       "1155         trafficking    2.227768    2.871262   Topic3  -6.6201   1.5784\n",
       "646            statedept    2.227613    2.871230   Topic3  -6.6202   1.5784\n",
       "1152        construction    2.222901    2.870860   Topic3  -6.6223   1.5764\n",
       "1443           advantage    2.291054    2.988055   Topic3  -6.5921   1.5666\n",
       "832           whitehouse   19.399884   25.378847   Topic3  -4.4559   1.5635\n",
       "1889      prime_minister    4.137417    5.482881   Topic3  -6.0011   1.5506\n",
       "2083                ally    1.958886    2.602208   Topic3  -6.7488   1.5482\n",
       "1558                 cop    1.941668    2.588193   Topic3  -6.7576   1.5448\n",
       "1266          commission    1.827446    2.470720   Topic3  -6.8182   1.5306\n",
       "750                fence    1.827403    2.470749   Topic3  -6.8182   1.5305\n",
       "804                  top    1.826685    2.470671   Topic3  -6.8186   1.5302\n",
       "1032                 ten    1.826526    2.470634   Topic3  -6.8187   1.5301\n",
       "1180               small    5.079073    7.161131   Topic3  -5.7960   1.4886\n",
       "1734  corrupt_politician    3.017042    4.270475   Topic3  -6.3169   1.4847\n",
       "368                 news    9.099997   15.392575   Topic3  -5.2129   1.3066\n",
       "315      southern_border    4.293878    6.554766   Topic3  -5.9639   1.4092\n",
       "966               lawyer    6.606000   10.766341   Topic3  -5.5332   1.3437\n",
       "422               friend    7.371910   12.273118   Topic3  -5.4235   1.3224\n",
       "961                press    7.507551   12.800658   Topic3  -5.4052   1.2986\n",
       "674            important    6.816339   11.802623   Topic3  -5.5018   1.2832\n",
       "330             continue    6.474120   11.067846   Topic3  -5.5533   1.2959\n",
       "1028                 buy    4.455088    6.953663   Topic3  -5.9271   1.3869\n",
       "395                 take   14.353174   32.368944   Topic3  -4.7572   1.0189\n",
       "250                  job   19.625777   49.926905   Topic3  -4.4443   0.8985\n",
       "305                  lie    4.550235    7.485583   Topic3  -5.9060   1.3344\n",
       "888                local    4.009385    6.327692   Topic3  -6.0325   1.3759\n",
       "257                  say   14.495489   41.471410   Topic3  -4.7473   0.7810\n",
       "630              protect    8.004224   17.701001   Topic3  -5.3412   1.0385\n",
       "15                 great   33.889455  145.862688   Topic3  -3.8980   0.3726\n",
       "103                 good   15.721353   47.481776   Topic3  -4.6661   0.7268\n",
       "1146               major    4.531752    8.112179   Topic3  -5.9100   1.2499\n",
       "1025              tariff    5.714486   11.958490   Topic3  -5.6781   1.0937\n",
       "397                 work   10.474122   39.761544   Topic3  -5.0722   0.4982\n",
       "34               country   13.655195   73.510306   Topic3  -4.8070   0.1489\n",
       "302                state    7.752221   31.454386   Topic3  -5.3732   0.4316\n",
       "78                 thank    9.791423   57.152134   Topic3  -5.1396   0.0680\n",
       "246                 want    8.671414   44.593565   Topic3  -5.2611   0.1946\n",
       "111               people    8.484555   53.432596   Topic3  -5.2829  -0.0080\n",
       "254                 deal    5.949355   18.965800   Topic3  -5.6379   0.6728\n",
       "45                 watch    6.828023   31.259545   Topic3  -5.5001   0.3109\n",
       "637                  far    5.748772   17.590620   Topic3  -5.6721   0.7138\n",
       "342                  win    6.158367   25.586147   Topic3  -5.6033   0.4079\n",
       "301             election    5.652983   22.731734   Topic3  -5.6889   0.4406\n",
       "255                 many    6.195233   40.985493   Topic3  -5.5974  -0.0573\n",
       "490                 even    5.603592   24.425540   Topic3  -5.6977   0.3599\n",
       "136                 year    5.740343   48.300412   Topic3  -5.6736  -0.2978\n",
       "237                   go    5.571931   65.169111   Topic3  -5.7034  -0.6271\n",
       "339                 look    5.378980   31.276044   Topic3  -5.7386   0.0718\n",
       "2167                kurd    4.391420    5.047984   Topic4  -5.8606   1.7737\n",
       "747    total_endorsement    3.664567    4.313663   Topic4  -6.0415   1.7500\n",
       "1581          understand    3.662327    4.311497   Topic4  -6.0421   1.7499\n",
       "1917                 mid    3.275577    3.926567   Topic4  -6.1537   1.7318\n",
       "2808          appreciate    3.182110    3.830747   Topic4  -6.1827   1.7276\n",
       "132               second    5.315908    6.471134   Topic4  -5.6695   1.7164\n",
       "685                  kid    5.194447    6.338506   Topic4  -5.6926   1.7140\n",
       "367              discuss    2.911654    3.566115   Topic4  -6.2715   1.7103\n",
       "570           paulsperry    2.764523    3.414576   Topic4  -6.3234   1.7019\n",
       "1380                hurt    2.763625    3.414519   Topic4  -6.3237   1.7016\n",
       "668          disgraceful    2.712013    3.360662   Topic4  -6.3425   1.6986\n",
       "1037                tate    2.381496    3.030746   Topic4  -6.4725   1.6720\n",
       "2459         seanhannity    2.283338    2.932022   Topic4  -6.5146   1.6630\n",
       "2044              expose    2.259637    2.910257   Topic4  -6.5250   1.6600\n",
       "452                alien    2.232656    2.883335   Topic4  -6.5370   1.6573\n",
       "683              endorse    2.135951    2.784587   Topic4  -6.5813   1.6479\n",
       "28                 admin    2.130701    2.784113   Topic4  -6.5838   1.6456\n",
       "743            amendment    4.240193    5.587136   Topic4  -5.8956   1.6372\n",
       "686                 lack    3.663961    4.943384   Topic4  -6.0417   1.6136\n",
       "1038           tatereeve    1.751404    2.400631   Topic4  -6.7798   1.5978\n",
       "1036             nominee    1.751316    2.400638   Topic4  -6.7799   1.5977\n",
       "1751            electric    1.747669    2.397673   Topic4  -6.7819   1.5969\n",
       "1704                road    1.747145    2.397715   Topic4  -6.7822   1.5965\n",
       "1860              season    1.742766    2.397501   Topic4  -6.7847   1.5941\n",
       "2003               apply    1.740109    2.395419   Topic4  -6.7863   1.5935\n",
       "2809         mazloumabdi    1.653076    2.301712   Topic4  -6.8376   1.5821\n",
       "2810              region    1.653076    2.301712   Topic4  -6.8376   1.5821\n",
       "2805            alienate    1.652967    2.301712   Topic4  -6.8377   1.5820\n",
       "2806         independent    1.652967    2.301712   Topic4  -6.8377   1.5820\n",
       "2807           persecute    1.652967    2.301712   Topic4  -6.8377   1.5820\n",
       "682          credibility    4.128194    5.853514   Topic4  -5.9224   1.5639\n",
       "216                badly    3.382529    4.838831   Topic4  -6.1216   1.5550\n",
       "1308               phone    5.359720    7.828393   Topic4  -5.6613   1.5342\n",
       "2004                 old    3.081917    4.401546   Topic4  -6.2147   1.5567\n",
       "1309          witch_hunt    3.476513    5.198464   Topic4  -6.0942   1.5107\n",
       "1565                 oil    5.054696    7.980718   Topic4  -5.7199   1.4564\n",
       "258                solve    3.280625    4.921471   Topic4  -6.1522   1.5075\n",
       "1166               enjoy    3.889685    5.995039   Topic4  -5.9819   1.4805\n",
       "687                maybe    4.799427    7.787137   Topic4  -5.7717   1.4291\n",
       "768               charge    4.242137    6.911240   Topic4  -5.8952   1.4250\n",
       "345         conversation    3.663129    5.804076   Topic4  -6.0419   1.4528\n",
       "209                bring    9.647463   18.896020   Topic4  -5.0735   1.2408\n",
       "237                   go   23.340985   65.169111   Topic4  -4.1900   0.8863\n",
       "246                 want   17.445239   44.593565   Topic4  -4.4812   0.9746\n",
       "249                crime   12.365659   30.042088   Topic4  -4.8253   1.0254\n",
       "410             american   10.039087   25.459297   Topic4  -5.0337   0.9825\n",
       "478                 full    5.804994   11.714151   Topic4  -5.5815   1.2110\n",
       "428        investigation    5.075635    9.744314   Topic4  -5.7158   1.2608\n",
       "718        whistleblower    4.388370    7.927409   Topic4  -5.8613   1.3217\n",
       "111               people   13.562635   53.432596   Topic4  -4.7329   0.5420\n",
       "48                  bill    5.947900   13.852143   Topic4  -5.5572   1.0677\n",
       "136                 year   10.858037   48.300412   Topic4  -4.9553   0.4205\n",
       "57                  vote    9.654215   41.056472   Topic4  -5.0728   0.4655\n",
       "395                 take    8.571885   32.368944   Topic4  -5.1917   0.5844\n",
       "298               really    7.384071   24.196283   Topic4  -5.3409   0.7262\n",
       "476                  way    7.113894   22.423132   Topic4  -5.3782   0.7650\n",
       "98                   big   10.216768   51.607006   Topic4  -5.0162   0.2935\n",
       "34               country   10.455522   73.510306   Topic4  -4.9931  -0.0372\n",
       "26                  time    8.662324   46.491864   Topic4  -5.1812   0.2328\n",
       "15                 great   13.438440  145.862688   Topic4  -4.7421  -0.4715\n",
       "250                  job    8.609564   49.926905   Topic4  -5.1873   0.1554\n",
       "221                  bad    6.968612   30.871476   Topic4  -5.3988   0.4247\n",
       "16                  make    8.450851   57.970308   Topic4  -5.2060  -0.0126\n",
       "666           republican    5.566375   16.085544   Topic4  -5.6235   0.8519\n",
       "171               strong    5.917116   23.245575   Topic4  -5.5624   0.5448\n",
       "36                  help    5.544689   20.538824   Topic4  -5.6274   0.6036\n",
       "255                 many    5.970685   40.985493   Topic4  -5.5534  -0.0133\n",
       "186                  get    6.214767   75.899098   Topic4  -5.5133  -0.5894\n",
       "27                 today    5.880039   46.625655   Topic4  -5.5687  -0.1575\n",
       "101                 ever    5.485662   28.874494   Topic4  -5.6381   0.2523\n",
       "301             election    5.340641   22.731734   Topic4  -5.6649   0.4647\n",
       "1127             request    3.665221    4.317613   Topic5  -6.0063   1.7843\n",
       "2115             process    7.219478    8.520037   Topic5  -5.3284   1.7825\n",
       "2876              author    3.180996    3.834475   Topic5  -6.1479   1.7613\n",
       "273                 acid    3.153713    3.802215   Topic5  -6.1566   1.7612\n",
       "275               delete    3.153705    3.802215   Topic5  -6.1566   1.7612\n",
       "172                taxis    5.263826    6.419183   Topic5  -5.6443   1.7497\n",
       "2442            internal    2.795383    3.450219   Topic5  -6.2772   1.7377\n",
       "2707                wash    2.670042    3.318864   Topic5  -6.3230   1.7306\n",
       "1648            magazine    2.716107    3.417686   Topic5  -6.3059   1.7184\n",
       "2469           reiterate    2.415603    3.065869   Topic5  -6.4232   1.7098\n",
       "1872            sanction    2.263081    2.915021   Topic5  -6.4884   1.6950\n",
       "503            anonymous    2.138200    2.787016   Topic5  -6.5452   1.6832\n",
       "1461                shut    2.136279    2.784859   Topic5  -6.5461   1.6830\n",
       "191             unlawful    2.137850    2.786992   Topic5  -6.5453   1.6830\n",
       "1434              devote    2.131692    2.784308   Topic5  -6.5482   1.6811\n",
       "1088              prison    2.131576    2.786502   Topic5  -6.5483   1.6802\n",
       "898                voter    2.101667    2.754563   Topic5  -6.5624   1.6776\n",
       "2318             manager    2.011866    2.665437   Topic5  -6.6061   1.6669\n",
       "2470              turkey    3.435463    4.609881   Topic5  -6.0710   1.6541\n",
       "2163             secazar    1.880064    2.528737   Topic5  -6.6738   1.6517\n",
       "1460                 rid    1.866940    2.515564   Topic5  -6.6808   1.6500\n",
       "1343             release    4.877359    6.671287   Topic5  -5.7205   1.6350\n",
       "1194            opponent    1.754076    2.402563   Topic5  -6.7432   1.6336\n",
       "808                 path    1.754066    2.402553   Topic5  -6.7432   1.6336\n",
       "1504               aware    1.751936    2.400423   Topic5  -6.7444   1.6332\n",
       "1033                joke    1.749004    2.403089   Topic5  -6.7461   1.6305\n",
       "1209                todd    1.746289    2.402482   Topic5  -6.7476   1.6292\n",
       "1205               chuck    1.746267    2.402481   Topic5  -6.7477   1.6291\n",
       "1208              sleepy    1.746269    2.402484   Topic5  -6.7477   1.6291\n",
       "1310           unmatched    1.740522    2.402515   Topic5  -6.7510   1.6258\n",
       "1323               learn    3.327438    4.639488   Topic5  -6.1029   1.6158\n",
       "297                price    4.703333    6.899991   Topic5  -5.7569   1.5649\n",
       "375                least    2.737027    3.880936   Topic5  -6.2983   1.5990\n",
       "240                 read    9.989739   15.996380   Topic5  -5.0036   1.4774\n",
       "513               foxnew    9.782756   16.038975   Topic5  -5.0245   1.4538\n",
       "975          obstruction    4.507245    6.896940   Topic5  -5.7995   1.5228\n",
       "1441                find    4.366690    6.937209   Topic5  -5.8311   1.4853\n",
       "522            collusion    9.768137   18.269279   Topic5  -5.0260   1.3221\n",
       "1128             witness    3.644044    5.692645   Topic5  -6.0120   1.5021\n",
       "53                  know   12.771783   26.901047   Topic5  -4.7579   1.2032\n",
       "624             democrat    5.760565   10.113652   Topic5  -5.5541   1.3853\n",
       "973                 base    3.943065    6.541089   Topic5  -5.9332   1.4420\n",
       "551         nancy_pelosi    3.472874    5.541380   Topic5  -6.0602   1.4809\n",
       "22                   see   11.422101   30.127061   Topic5  -4.8696   0.9783\n",
       "159                  ask    5.494697   10.871198   Topic5  -5.6014   1.2658\n",
       "502                angry    4.465764    8.509600   Topic5  -5.8087   1.3034\n",
       "11                   cut    6.106942   14.748140   Topic5  -5.4957   1.0665\n",
       "186                  get   16.702619   75.899098   Topic5  -4.4896   0.4343\n",
       "399          impeachment    9.842614   33.782109   Topic5  -5.0184   0.7150\n",
       "237                   go   14.436090   65.169111   Topic5  -4.6354   0.4409\n",
       "465                 call    7.098770   20.984067   Topic5  -5.3452   0.8643\n",
       "678            wonderful    5.165287   11.658942   Topic5  -5.6632   1.1341\n",
       "190                 long    7.588016   24.758916   Topic5  -5.2786   0.7655\n",
       "98                   big    9.654877   51.607006   Topic5  -5.0377   0.2720\n",
       "246                 want    8.148005   44.593565   Topic5  -5.2074   0.2483\n",
       "249                crime    6.900087   30.042088   Topic5  -5.3736   0.4771\n",
       "257                  say    7.388075   41.471410   Topic5  -5.3053   0.2230\n",
       "255                 many    7.341072   40.985493   Topic5  -5.3117   0.2284\n",
       "224             fake_new    5.551900   21.189890   Topic5  -5.5910   0.6088\n",
       "236                 book    4.638248   12.249900   Topic5  -5.7708   0.9770\n",
       "27                 today    6.801633   46.625655   Topic5  -5.3880   0.0232\n",
       "15                 great    8.816168  145.862688   Topic5  -5.1286  -0.8579\n",
       "199                trump    6.827694   54.244276   Topic5  -5.3842  -0.1243\n",
       "26                  time    6.305044   46.491864   Topic5  -5.4638  -0.0498\n",
       "16                  make    6.460659   57.970308   Topic5  -5.4394  -0.2460\n",
       "57                  vote    5.957003   41.056472   Topic5  -5.5206   0.0178\n",
       "144                 give    5.519185   25.594786   Topic5  -5.5969   0.4140\n",
       "193                 back    5.466803   27.103709   Topic5  -5.6064   0.3472\n",
       "339                 look    5.431627   31.276044   Topic5  -5.6129   0.1976\n",
       "490                 even    5.283457   24.425540   Topic5  -5.6406   0.4171\n",
       "1065              supply    5.449192    6.100355   Topic6  -5.4881   1.9569\n",
       "1402          television    5.168086    5.818744   Topic6  -5.5410   1.9512\n",
       "1064               ready    4.454797    5.106898   Topic6  -5.6896   1.9331\n",
       "917               pastor    3.371579    4.017076   Topic6  -5.9682   1.8946\n",
       "601               debate    6.940963    8.294653   Topic6  -5.2461   1.8916\n",
       "589         trumpwarroom    2.842555    3.487752   Topic6  -6.1388   1.8652\n",
       "2378                trip    2.481337    3.126533   Topic6  -6.2747   1.8386\n",
       "1817          lamestream    2.323783    2.971637   Topic6  -6.3404   1.8238\n",
       "2484               floor    2.339348    2.991550   Topic6  -6.3337   1.8238\n",
       "2723              forest    2.211757    2.856952   Topic6  -6.3898   1.8138\n",
       "1403                asap    2.192502    2.838002   Topic6  -6.3985   1.8117\n",
       "142              exactly    2.185543    2.839284   Topic6  -6.4017   1.8081\n",
       "1401                role    2.181618    2.836686   Topic6  -6.4035   1.8072\n",
       "962               seldom    2.165216    2.837401   Topic6  -6.4110   1.7994\n",
       "1548              united    2.116138    2.833244   Topic6  -6.4340   1.7779\n",
       "79                 arena    1.877990    2.524183   Topic6  -6.5533   1.7740\n",
       "94                leader    8.789696   11.902512   Topic6  -5.0100   1.7666\n",
       "964            dismantle    1.800461    2.445656   Topic6  -6.5955   1.7635\n",
       "1442              leaker    1.798268    2.443462   Topic6  -6.5967   1.7632\n",
       "1150           incapable    1.788681    2.445537   Topic6  -6.6021   1.7570\n",
       "2758              burial    1.698177    2.343966   Topic6  -6.6540   1.7475\n",
       "2759              cdcgov    1.698177    2.343966   Topic6  -6.6540   1.7475\n",
       "2760             funeral    1.698177    2.343966   Topic6  -6.6540   1.7475\n",
       "2761           safeguard    1.698177    2.343966   Topic6  -6.6540   1.7475\n",
       "2762              tribal    1.698177    2.343966   Topic6  -6.6540   1.7475\n",
       "2778              terror    1.697860    2.343916   Topic6  -6.6542   1.7473\n",
       "2779                tour    1.697860    2.343916   Topic6  -6.6542   1.7473\n",
       "2839                hack    1.697272    2.343885   Topic6  -6.6545   1.7470\n",
       "2840     hillary_clinton    1.697272    2.343885   Topic6  -6.6545   1.7470\n",
       "2848             keynote    1.694870    2.343877   Topic6  -6.6559   1.7456\n",
       "929                 real    6.817939   10.481083   Topic6  -5.2640   1.6397\n",
       "451                  guy    5.069956    7.718499   Topic6  -5.5602   1.6495\n",
       "63                  cost    5.995101    9.878382   Topic6  -5.3926   1.5704\n",
       "1373              health    3.236407    4.895943   Topic6  -6.0091   1.6558\n",
       "347                 hold    4.314054    7.254009   Topic6  -5.7217   1.5501\n",
       "559                 isis    3.050397    4.956825   Topic6  -6.0683   1.5843\n",
       "443               action    4.744445    8.774130   Topic6  -5.6266   1.4549\n",
       "520                 wife    2.289096    3.486642   Topic6  -6.3554   1.6490\n",
       "255                 many   13.676875   40.985493   Topic6  -4.5678   0.9722\n",
       "1440          classified    2.192784    3.338805   Topic6  -6.3984   1.6493\n",
       "186                  get   17.668312   75.899098   Topic6  -4.3118   0.6121\n",
       "152             together    5.981275   16.894891   Topic6  -5.3949   1.0314\n",
       "1452                seem    2.348682    3.791272   Topic6  -6.3297   1.5909\n",
       "633                  let    6.645028   21.498719   Topic6  -5.2897   0.8956\n",
       "140                 come    7.473775   26.749729   Topic6  -5.1721   0.7946\n",
       "117                thing    5.083184   14.916955   Topic6  -5.5576   0.9932\n",
       "395                 take    7.645848   32.368944   Topic6  -5.1494   0.6267\n",
       "34               country   11.489220   73.510306   Topic6  -4.7421   0.2137\n",
       "247               border    6.262079   24.762590   Topic6  -5.3490   0.6949\n",
       "397                 work    7.380094   39.761544   Topic6  -5.1848   0.3856\n",
       "193                 back    6.117822   27.103709   Topic6  -5.3723   0.5813\n",
       "447                 hope    4.098665   11.573311   Topic6  -5.7729   1.0317\n",
       "136                 year    7.562223   48.300412   Topic6  -5.1604   0.2155\n",
       "263               record    4.388790   13.781479   Topic6  -5.7045   0.9255\n",
       "98                   big    7.406741   51.607006   Topic6  -5.1812   0.1285\n",
       "27                 today    6.500837   46.625655   Topic6  -5.3116   0.0995\n",
       "111               people    6.792781   53.432596   Topic6  -5.2677   0.0072\n",
       "237                   go    6.857781   65.169111   Topic6  -5.2582  -0.1818\n",
       "15                 great    8.456581  145.862688   Topic6  -5.0486  -0.7780\n",
       "126                 keep    4.964769   22.771821   Topic6  -5.5812   0.5466\n",
       "119                 well    5.577094   37.635464   Topic6  -5.4649   0.1605\n",
       "246                 want    5.607849   44.593565   Topic6  -5.4594  -0.0037\n",
       "103                 good    5.122366   47.481776   Topic6  -5.5499  -0.1570\n",
       "250                  job    4.824764   49.926905   Topic6  -5.6098  -0.2670, token_table=      Topic      Freq                Term\n",
       "term                                     \n",
       "273       5  0.789014                acid\n",
       "443       2  0.113971              action\n",
       "443       5  0.227943              action\n",
       "443       6  0.569857              action\n",
       "28        4  0.718362               admin\n",
       "1443      3  0.669332           advantage\n",
       "699       1  0.793330             african\n",
       "1277      3  0.696556           afternoon\n",
       "137       2  0.667378                 ago\n",
       "137       3  0.166844                 ago\n",
       "452       4  0.693641               alien\n",
       "2805      4  0.868918            alienate\n",
       "2083      3  0.768578                ally\n",
       "743       1  0.178983           amendment\n",
       "743       4  0.715930           amendment\n",
       "410       1  0.392784            american\n",
       "410       2  0.157114            american\n",
       "410       4  0.392784            american\n",
       "410       5  0.039278            american\n",
       "1101      3  0.672961               anger\n",
       "502       2  0.117514               angry\n",
       "502       3  0.117514               angry\n",
       "502       4  0.117514               angry\n",
       "502       5  0.470057               angry\n",
       "503       5  0.717613           anonymous\n",
       "2003      4  0.834927               apply\n",
       "2808      4  0.783137          appreciate\n",
       "79        6  0.792336               arena\n",
       "1403      6  0.704721                asap\n",
       "159       1  0.275959                 ask\n",
       "159       4  0.183972                 ask\n",
       "159       5  0.459931                 ask\n",
       "1909      3  0.850977               asset\n",
       "2876      5  0.782376              author\n",
       "1504      5  0.833186               aware\n",
       "193       1  0.479639                back\n",
       "193       4  0.073791                back\n",
       "193       5  0.184477                back\n",
       "193       6  0.221372                back\n",
       "221       1  0.323924                 bad\n",
       "221       2  0.064785                 bad\n",
       "221       3  0.129569                 bad\n",
       "221       4  0.226747                 bad\n",
       "221       5  0.161962                 bad\n",
       "221       6  0.097177                 bad\n",
       "216       2  0.206661               badly\n",
       "216       4  0.619984               badly\n",
       "2289      3  0.948054                 ban\n",
       "973       4  0.305759                base\n",
       "973       5  0.611519                base\n",
       "511       1  0.902260                beat\n",
       "98        1  0.290658                 big\n",
       "98        2  0.077509                 big\n",
       "98        3  0.096886                 big\n",
       "98        4  0.193772                 big\n",
       "98        5  0.193772                 big\n",
       "98        6  0.135640                 big\n",
       "48        1  0.072191                bill\n",
       "48        2  0.360955                bill\n",
       "48        4  0.433146                bill\n",
       "48        5  0.072191                bill\n",
       "48        6  0.072191                bill\n",
       "236       1  0.571433                book\n",
       "236       5  0.408167                book\n",
       "247       1  0.323068              border\n",
       "247       2  0.040383              border\n",
       "247       3  0.121150              border\n",
       "247       4  0.161534              border\n",
       "247       5  0.121150              border\n",
       "247       6  0.242301              border\n",
       "1383      2  0.719126              bright\n",
       "209       1  0.052921               bring\n",
       "209       2  0.211685               bring\n",
       "209       3  0.052921               bring\n",
       "209       4  0.529212               bring\n",
       "209       5  0.052921               bring\n",
       "209       6  0.105842               bring\n",
       "60        1  0.769532               build\n",
       "60        5  0.171007               build\n",
       "1211      1  0.742185            building\n",
       "2758      6  0.853255              burial\n",
       "1212      2  0.716946                busy\n",
       "1028      1  0.287618                 buy\n",
       "1028      3  0.575236                 buy\n",
       "465       1  0.142966                call\n",
       "465       2  0.095310                call\n",
       "465       3  0.142966                call\n",
       "465       4  0.190621                call\n",
       "465       5  0.333586                call\n",
       "465       6  0.095310                call\n",
       "49        1  0.687025            campaign\n",
       "49        2  0.137405            campaign\n",
       "49        3  0.206107            campaign\n",
       "2564      2  0.870325                cave\n",
       "2759      6  0.853255              cdcgov\n",
       "768       2  0.144692              charge\n",
       "768       3  0.144692              charge\n",
       "768       4  0.578767              charge\n",
       "1205      5  0.832473               chuck\n",
       "1440      3  0.299508          classified\n",
       "1440      6  0.599017          classified\n",
       "2558      1  0.855013             climate\n",
       "522       1  0.273683           collusion\n",
       "522       4  0.164210           collusion\n",
       "522       5  0.547367           collusion\n",
       "140       1  0.336452                come\n",
       "140       2  0.074767                come\n",
       "140       3  0.112151                come\n",
       "140       5  0.186918                come\n",
       "140       6  0.261685                come\n",
       "1266      3  0.809480          commission\n",
       "1649      2  0.718775          compromise\n",
       "366       3  0.793851          conference\n",
       "123       1  0.251788      congratulation\n",
       "123       2  0.587505      congratulation\n",
       "123       3  0.167859      congratulation\n",
       "1152      3  0.696655        construction\n",
       "330       1  0.090352            continue\n",
       "330       3  0.542111            continue\n",
       "330       4  0.271055            continue\n",
       "998       1  0.696912             control\n",
       "998       3  0.139382             control\n",
       "345       3  0.172293        conversation\n",
       "345       4  0.689171        conversation\n",
       "345       6  0.172293        conversation\n",
       "1558      3  0.772740                 cop\n",
       "1734      3  0.702498  corrupt_politician\n",
       "1734      4  0.234166  corrupt_politician\n",
       "63        1  0.303693                cost\n",
       "63        6  0.607387                cost\n",
       "34        1  0.299278             country\n",
       "34        2  0.190449             country\n",
       "34        3  0.190449             country\n",
       "34        4  0.136035             country\n",
       "34        5  0.027207             country\n",
       "34        6  0.149639             country\n",
       "1191      1  0.883230               court\n",
       "1191      5  0.147205               court\n",
       "682       3  0.170838         credibility\n",
       "682       4  0.683350         credibility\n",
       "1237      1  0.838261              credit\n",
       "249       1  0.233006               crime\n",
       "249       2  0.033287               crime\n",
       "249       3  0.066573               crime\n",
       "249       4  0.399440               crime\n",
       "249       5  0.233006               crime\n",
       "249       6  0.033287               crime\n",
       "11        1  0.203415                 cut\n",
       "11        2  0.271221                 cut\n",
       "11        5  0.406831                 cut\n",
       "11        6  0.067805                 cut\n",
       "200       1  0.456670                 day\n",
       "200       2  0.166062                 day\n",
       "200       3  0.083031                 day\n",
       "200       5  0.166062                 day\n",
       "200       6  0.124546                 day\n",
       "254       1  0.316359                deal\n",
       "254       2  0.052726                deal\n",
       "254       3  0.316359                deal\n",
       "254       4  0.210906                deal\n",
       "254       5  0.052726                deal\n",
       "254       6  0.052726                deal\n",
       "601       5  0.120560              debate\n",
       "601       6  0.843917              debate\n",
       "275       5  0.789014              delete\n",
       "370       1  0.393741                 dem\n",
       "370       2  0.178973                 dem\n",
       "370       3  0.071589                 dem\n",
       "370       4  0.143178                 dem\n",
       "370       5  0.143178                 dem\n",
       "370       6  0.071589                 dem\n",
       "624       1  0.296629            democrat\n",
       "624       4  0.098876            democrat\n",
       "624       5  0.593258            democrat\n",
       "1434      5  0.718311              devote\n",
       "2636      3  0.760272                 dhs\n",
       "867       3  0.696556              direct\n",
       "92        2  0.846913            disaster\n",
       "92        4  0.169383            disaster\n",
       "367       4  0.841252             discuss\n",
       "668       4  0.892681         disgraceful\n",
       "964       6  0.817776           dismantle\n",
       "405       2  0.774000              doctor\n",
       "1235      1  0.809499                doom\n",
       "41        1  0.124335               early\n",
       "41        2  0.621673               early\n",
       "41        4  0.248669               early\n",
       "41        5  0.124335               early\n",
       "2402      2  0.652912                ease\n",
       "99        1  0.672638             economy\n",
       "99        2  0.144137             economy\n",
       "99        4  0.048046             economy\n",
       "99        6  0.144137             economy\n",
       "301       1  0.307940            election\n",
       "301       2  0.043991            election\n",
       "301       3  0.263948            election\n",
       "301       4  0.219957            election\n",
       "301       6  0.131974            election\n",
       "1751      4  0.834142            electric\n",
       "2395      3  0.948815               elite\n",
       "683       4  0.718239             endorse\n",
       "1166      2  0.166805               enjoy\n",
       "1166      4  0.667218               enjoy\n",
       "1166      5  0.166805               enjoy\n",
       "1166      6  0.166805               enjoy\n",
       "490       1  0.204704                even\n",
       "490       2  0.122822                even\n",
       "490       3  0.245645                even\n",
       "490       4  0.163763                even\n",
       "490       5  0.204704                even\n",
       "490       6  0.040941                even\n",
       "101       1  0.484857                ever\n",
       "101       2  0.069265                ever\n",
       "101       3  0.103898                ever\n",
       "101       4  0.173163                ever\n",
       "101       5  0.069265                ever\n",
       "101       6  0.103898                ever\n",
       "142       6  0.704403             exactly\n",
       "534       1  0.829944            exciting\n",
       "2576      2  0.714052            exercise\n",
       "2044      4  0.687225              expose\n",
       "224       1  0.283154            fake_new\n",
       "224       2  0.235962            fake_new\n",
       "224       3  0.141577            fake_new\n",
       "224       5  0.283154            fake_new\n",
       "224       6  0.094385            fake_new\n",
       "637       1  0.170545                 far\n",
       "637       2  0.227394                 far\n",
       "637       3  0.341091                 far\n",
       "637       4  0.170545                 far\n",
       "637       5  0.113697                 far\n",
       "637       6  0.056848                 far\n",
       "2407      2  0.652916               fault\n",
       "750       3  0.809471               fence\n",
       "1739      1  0.770642             fighter\n",
       "1441      4  0.144150                find\n",
       "1441      5  0.576601                find\n",
       "1441      6  0.144150                find\n",
       "2484      6  0.668550               floor\n",
       "1         1  0.850109              follow\n",
       "1         3  0.170022              follow\n",
       "1246      2  0.947059                fool\n",
       "2053      2  0.668768               force\n",
       "2053      4  0.133754               force\n",
       "2053      5  0.133754               force\n",
       "2723      6  0.700047              forest\n",
       "1616      2  0.580433             forward\n",
       "1616      3  0.145108             forward\n",
       "1616      5  0.072554             forward\n",
       "1616      6  0.145108             forward\n",
       "513       1  0.124696              foxnew\n",
       "513       3  0.249393              foxnew\n",
       "513       5  0.623481              foxnew\n",
       "422       1  0.244437              friend\n",
       "422       2  0.081479              friend\n",
       "422       3  0.570352              friend\n",
       "478       1  0.256101                full\n",
       "478       3  0.085367                full\n",
       "478       4  0.512201                full\n",
       "478       5  0.170734                full\n",
       "615       1  0.910324                fund\n",
       "2760      6  0.853255             funeral\n",
       "51        2  0.736234              future\n",
       "51        5  0.122706              future\n",
       "51        6  0.122706              future\n",
       "542       1  0.780589                game\n",
       "542       4  0.156118                game\n",
       "2472      2  0.870315             garbage\n",
       "186       1  0.263508                 get\n",
       "186       2  0.158105                 get\n",
       "186       3  0.039526                 get\n",
       "186       4  0.079052                 get\n",
       "186       5  0.223982                 get\n",
       "186       6  0.237157                 get\n",
       "144       1  0.351634                give\n",
       "144       2  0.195352                give\n",
       "144       3  0.078141                give\n",
       "144       4  0.117211                give\n",
       "144       5  0.234423                give\n",
       "144       6  0.078141                give\n",
       "237       1  0.214826                  go\n",
       "237       2  0.015345                  go\n",
       "237       3  0.092068                  go\n",
       "237       4  0.352928                  go\n",
       "237       5  0.214826                  go\n",
       "237       6  0.107413                  go\n",
       "103       1  0.442275                good\n",
       "103       2  0.021061                good\n",
       "103       3  0.336971                good\n",
       "103       4  0.084243                good\n",
       "103       6  0.105304                good\n",
       "15        1  0.322221               great\n",
       "15        2  0.239952               great\n",
       "15        3  0.233096               great\n",
       "15        4  0.089125               great\n",
       "15        5  0.061702               great\n",
       "15        6  0.054846               great\n",
       "1602      1  0.797733                grow\n",
       "451       3  0.129559                 guy\n",
       "451       4  0.129559                 guy\n",
       "451       6  0.647794                 guy\n",
       "2839      6  0.853284                hack\n",
       "835       1  0.685385              happen\n",
       "835       3  0.068539              happen\n",
       "835       4  0.137077              happen\n",
       "835       6  0.068539              happen\n",
       "166       2  0.751350                hard\n",
       "166       3  0.166967                hard\n",
       "166       5  0.041742                hard\n",
       "166       6  0.041742                hard\n",
       "1373      4  0.204251              health\n",
       "1373      6  0.612752              health\n",
       "167       1  0.781771          healthcare\n",
       "36        1  0.146065                help\n",
       "36        2  0.194753                help\n",
       "36        3  0.097377                help\n",
       "36        4  0.292130                help\n",
       "36        5  0.194753                help\n",
       "36        6  0.146065                help\n",
       "2840      6  0.853284     hillary_clinton\n",
       "2872      1  0.939259                hire\n",
       "373       1  0.586236             history\n",
       "373       2  0.065137             history\n",
       "373       4  0.260549             history\n",
       "373       5  0.065137             history\n",
       "373       6  0.065137             history\n",
       "347       3  0.137855                hold\n",
       "347       5  0.137855                hold\n",
       "347       6  0.551419                hold\n",
       "125       1  0.165591               honor\n",
       "125       2  0.331183               honor\n",
       "125       3  0.275985               honor\n",
       "125       5  0.055197               honor\n",
       "125       6  0.110394               honor\n",
       "447       1  0.604840                hope\n",
       "447       6  0.345623                hope\n",
       "1154      3  0.895595               human\n",
       "1380      4  0.878601                hurt\n",
       "210       2  0.833115         impeachable\n",
       "399       1  0.384819         impeachment\n",
       "399       3  0.148007         impeachment\n",
       "399       4  0.118406         impeachment\n",
       "399       5  0.296015         impeachment\n",
       "399       6  0.029601         impeachment\n",
       "674       2  0.084727           important\n",
       "674       3  0.593089           important\n",
       "674       4  0.254181           important\n",
       "1150      6  0.817816           incapable\n",
       "2806      4  0.868918         independent\n",
       "2442      5  0.869510            internal\n",
       "428       1  0.102624       investigation\n",
       "428       2  0.205248       investigation\n",
       "428       4  0.513120       investigation\n",
       "428       5  0.205248       investigation\n",
       "2408      2  0.682104                iowa\n",
       "559       1  0.201742                isis\n",
       "559       6  0.605226                isis\n",
       "250       1  0.200293                 job\n",
       "250       2  0.120176                 job\n",
       "250       3  0.400586                 job\n",
       "250       4  0.180264                 job\n",
       "250       5  0.020029                 job\n",
       "250       6  0.100146                 job\n",
       "1033      5  0.832262                joke\n",
       "126       1  0.307397                keep\n",
       "126       2  0.439139                keep\n",
       "126       5  0.043914                keep\n",
       "126       6  0.219570                keep\n",
       "2848      6  0.853287             keynote\n",
       "685       4  0.788829                 kid\n",
       "685       6  0.157766                 kid\n",
       "53        1  0.260213                know\n",
       "53        2  0.111520                know\n",
       "53        4  0.074347                know\n",
       "53        5  0.483253                know\n",
       "53        6  0.111520                know\n",
       "2167      4  0.792396                kurd\n",
       "686       2  0.202291                lack\n",
       "686       4  0.809162                lack\n",
       "1817      6  0.673030          lamestream\n",
       "966       3  0.650174              lawyer\n",
       "966       5  0.092882              lawyer\n",
       "966       6  0.278646              lawyer\n",
       "94        1  0.168032              leader\n",
       "94        6  0.756143              leader\n",
       "1442      6  0.818511              leaker\n",
       "1323      4  0.215541               learn\n",
       "1323      5  0.646623               learn\n",
       "375       5  0.773009               least\n",
       "375       6  0.257670               least\n",
       "2498      2  0.870312         legislation\n",
       "633       1  0.325601                 let\n",
       "633       2  0.186058                 let\n",
       "633       4  0.139543                 let\n",
       "633       6  0.325601                 let\n",
       "2578      2  0.714052              letter\n",
       "305       1  0.133590                 lie\n",
       "305       3  0.667951                 lie\n",
       "305       4  0.133590                 lie\n",
       "305       6  0.133590                 lie\n",
       "888       2  0.158035               local\n",
       "888       3  0.632142               local\n",
       "888       6  0.158035               local\n",
       "2637      3  0.692458                lock\n",
       "190       1  0.242337                long\n",
       "190       2  0.242337                long\n",
       "190       3  0.040389                long\n",
       "190       4  0.161558                long\n",
       "190       5  0.323116                long\n",
       "339       1  0.031973                look\n",
       "339       2  0.447627                look\n",
       "339       3  0.159867                look\n",
       "339       4  0.063947                look\n",
       "339       5  0.159867                look\n",
       "339       6  0.095920                look\n",
       "108       1  0.528316                love\n",
       "108       3  0.158495                love\n",
       "108       4  0.105663                love\n",
       "108       5  0.105663                love\n",
       "108       6  0.105663                love\n",
       "1648      5  0.877787            magazine\n",
       "1146      1  0.123271               major\n",
       "1146      3  0.616357               major\n",
       "1146      6  0.246543               major\n",
       "16        1  0.189752                make\n",
       "16        2  0.448505                make\n",
       "16        3  0.086251                make\n",
       "16        4  0.138002                make\n",
       "16        5  0.103501                make\n",
       "16        6  0.017250                make\n",
       "2318      5  0.750346             manager\n",
       "255       2  0.195191                many\n",
       "255       3  0.146393                many\n",
       "255       4  0.146393                many\n",
       "255       5  0.170792                many\n",
       "255       6  0.341584                many\n",
       "2024      3  0.666116      mariabartiromo\n",
       "687       3  0.128417               maybe\n",
       "687       4  0.642084               maybe\n",
       "687       5  0.128417               maybe\n",
       "2809      4  0.868918         mazloumabdi\n",
       "2125      2  0.687201            meddling\n",
       "1917      4  0.764026                 mid\n",
       "2145      1  0.084496               money\n",
       "2145      2  0.506975               money\n",
       "2145      4  0.084496               money\n",
       "2145      5  0.084496               money\n",
       "2145      6  0.084496               money\n",
       "889       1  0.379099                much\n",
       "889       2  0.236937                much\n",
       "889       3  0.094775                much\n",
       "889       4  0.071081                much\n",
       "889       5  0.118469                much\n",
       "889       6  0.094775                much\n",
       "2079      1  0.886045             mueller\n",
       "551       1  0.180460        nancy_pelosi\n",
       "551       4  0.180460        nancy_pelosi\n",
       "551       5  0.541381        nancy_pelosi\n",
       "1570      1  0.809766            negative\n",
       "169       1  0.441273               never\n",
       "169       2  0.330954               never\n",
       "169       3  0.110318               never\n",
       "169       4  0.110318               never\n",
       "169       6  0.036773               never\n",
       "70        1  0.637228                 new\n",
       "70        3  0.070803                 new\n",
       "70        5  0.106205                 new\n",
       "70        6  0.141606                 new\n",
       "1008      2  0.851792            new_york\n",
       "1008      4  0.212948            new_york\n",
       "368       1  0.259866                news\n",
       "368       3  0.584697                news\n",
       "368       5  0.129933                news\n",
       "1036      4  0.833112             nominee\n",
       "110       1  0.710117              number\n",
       "110       3  0.152168              number\n",
       "110       4  0.050723              number\n",
       "110       6  0.152168              number\n",
       "2158      2  0.852395               nurse\n",
       "54        2  0.754498           obamacare\n",
       "975       4  0.289984         obstruction\n",
       "975       5  0.724959         obstruction\n",
       "1565      4  0.626510                 oil\n",
       "1565      5  0.250604                 oil\n",
       "2004      3  0.227193                 old\n",
       "2004      4  0.681579                 old\n",
       "1194      5  0.832445            opponent\n",
       "1001      2  0.718336          opposition\n",
       "830       3  0.850213            pandemic\n",
       "917       6  0.746812              pastor\n",
       "808       5  0.832448                path\n",
       "570       4  0.878586          paulsperry\n",
       "148       2  0.604494                 pay\n",
       "148       3  0.151123                 pay\n",
       "148       4  0.075562                 pay\n",
       "148       5  0.151123                 pay\n",
       "111       1  0.280728              people\n",
       "111       2  0.093576              people\n",
       "111       3  0.149721              people\n",
       "111       4  0.262012              people\n",
       "111       5  0.074861              people\n",
       "111       6  0.131006              people\n",
       "2807      4  0.868918           persecute\n",
       "1308      1  0.127740               phone\n",
       "1308      3  0.127740               phone\n",
       "1308      4  0.638701               phone\n",
       "1348      2  0.718234              planet\n",
       "227       1  0.823789                poll\n",
       "227       2  0.068649                poll\n",
       "227       4  0.068649                poll\n",
       "2804      1  0.938936             portion\n",
       "903       1  0.895886              prayer\n",
       "33        1  0.338134           president\n",
       "33        2  0.307395           president\n",
       "33        3  0.030739           president\n",
       "33        4  0.122958           president\n",
       "33        5  0.122958           president\n",
       "33        6  0.061479           president\n",
       "961       1  0.078121               press\n",
       "961       3  0.624968               press\n",
       "961       5  0.234363               press\n",
       "961       6  0.078121               press\n",
       "297       1  0.144928               price\n",
       "297       4  0.144928               price\n",
       "297       5  0.724639               price\n",
       "1889      3  0.729543      prime_minister\n",
       "1889      6  0.182386      prime_minister\n",
       "269       2  0.659911            priority\n",
       "1088      5  0.717746              prison\n",
       "2115      3  0.117370             process\n",
       "2115      5  0.821593             process\n",
       "1112      2  0.718328            properly\n",
       "630       1  0.338964             protect\n",
       "630       3  0.451952             protect\n",
       "630       4  0.112988             protect\n",
       "630       5  0.056494             protect\n",
       "1606      1  0.911073              rating\n",
       "240       2  0.312571                read\n",
       "240       5  0.625141                read\n",
       "1064      6  0.783254               ready\n",
       "929       1  0.286230                real\n",
       "929       6  0.667870                real\n",
       "0         1  0.218237     realdonaldtrump\n",
       "0         2  0.587562     realdonaldtrump\n",
       "0         3  0.033575     realdonaldtrump\n",
       "0         4  0.067150     realdonaldtrump\n",
       "0         5  0.050362     realdonaldtrump\n",
       "0         6  0.050362     realdonaldtrump\n",
       "298       1  0.247972              really\n",
       "298       2  0.123986              really\n",
       "298       3  0.206643              really\n",
       "298       4  0.289301              really\n",
       "298       5  0.041329              really\n",
       "298       6  0.041329              really\n",
       "263       1  0.507928              record\n",
       "263       2  0.145122              record\n",
       "263       4  0.072561              record\n",
       "263       6  0.290245              record\n",
       "2810      4  0.868918              region\n",
       "2469      5  0.652344           reiterate\n",
       "1343      4  0.149896             release\n",
       "1343      5  0.749481             release\n",
       "1527      3  0.850758              remark\n",
       "859       3  0.872179           represent\n",
       "666       1  0.186503          republican\n",
       "666       2  0.248670          republican\n",
       "666       3  0.062168          republican\n",
       "666       4  0.373006          republican\n",
       "666       5  0.124335          republican\n",
       "1127      5  0.926438             request\n",
       "1460      5  0.795050                 rid\n",
       "649       2  0.797463          ridiculous\n",
       "1704      4  0.834128                road\n",
       "1401      6  0.705048                role\n",
       "264       1  0.730231                rule\n",
       "264       2  0.091279                rule\n",
       "264       6  0.091279                rule\n",
       "2761      6  0.853255           safeguard\n",
       "1872      5  0.686101            sanction\n",
       "257       1  0.265243                 say\n",
       "257       2  0.072339                 say\n",
       "257       3  0.337582                 say\n",
       "257       4  0.048226                 say\n",
       "257       5  0.168791                 say\n",
       "257       6  0.096452                 say\n",
       "2459      4  0.682123         seanhannity\n",
       "1860      4  0.834202              season\n",
       "2163      5  0.790909             secazar\n",
       "132       2  0.154532              second\n",
       "132       4  0.772662              second\n",
       "22        1  0.398313                 see\n",
       "22        2  0.066385                 see\n",
       "22        3  0.033193                 see\n",
       "22        4  0.099578                 see\n",
       "22        5  0.365120                 see\n",
       "1452      1  0.263764                seem\n",
       "1452      6  0.527527                seem\n",
       "962       6  0.704870              seldom\n",
       "740       2  0.175883                sell\n",
       "740       3  0.879417                sell\n",
       "904       1  0.721902                send\n",
       "904       2  0.120317                send\n",
       "904       3  0.120317                send\n",
       "2591      2  0.904752             shortly\n",
       "164       1  0.865973                show\n",
       "164       5  0.054123                show\n",
       "1461      5  0.718169                shut\n",
       "2091      1  0.859183               siege\n",
       "37        1  0.202428                sign\n",
       "37        2  0.674760                sign\n",
       "37        4  0.067476                sign\n",
       "905       1  0.961030           situation\n",
       "1208      5  0.832472              sleepy\n",
       "1180      1  0.279285               small\n",
       "1180      3  0.698214               small\n",
       "258       4  0.609574               solve\n",
       "258       6  0.203191               solve\n",
       "315       3  0.610243     southern_border\n",
       "315       6  0.305122     southern_border\n",
       "819       1  0.906087              spying\n",
       "588       1  0.600592               stand\n",
       "588       4  0.133465               stand\n",
       "588       5  0.066732               stand\n",
       "588       6  0.133465               stand\n",
       "432       1  0.575026               start\n",
       "432       2  0.123220               start\n",
       "432       4  0.123220               start\n",
       "432       5  0.164293               start\n",
       "302       1  0.254337               state\n",
       "302       2  0.413297               state\n",
       "302       3  0.254337               state\n",
       "302       5  0.063584               state\n",
       "646       3  0.696566           statedept\n",
       "1253      2  0.778862           statement\n",
       "1253      4  0.155772           statement\n",
       "2751      3  0.692460               steel\n",
       "114       1  0.890651        stock_market\n",
       "394       1  0.058189               story\n",
       "394       2  0.465514               story\n",
       "394       5  0.232757               story\n",
       "394       6  0.232757               story\n",
       "171       1  0.258114              strong\n",
       "171       2  0.172076              strong\n",
       "171       3  0.129057              strong\n",
       "171       4  0.258114              strong\n",
       "171       5  0.043019              strong\n",
       "171       6  0.129057              strong\n",
       "753       3  0.829437            strongly\n",
       "1065      6  0.819624              supply\n",
       "233       1  0.762301         suppression\n",
       "395       2  0.061788                take\n",
       "395       3  0.432513                take\n",
       "395       4  0.278044                take\n",
       "395       6  0.247150                take\n",
       "1025      1  0.250868              tariff\n",
       "1025      2  0.167245              tariff\n",
       "1025      3  0.501736              tariff\n",
       "1037      4  0.659904                tate\n",
       "1038      4  0.833114           tatereeve\n",
       "283       1  0.259894                 tax\n",
       "283       2  0.649735                 tax\n",
       "172       2  0.155783               taxis\n",
       "172       5  0.778915               taxis\n",
       "1402      6  0.859292          television\n",
       "1032      3  0.809509                 ten\n",
       "2778      6  0.853273              terror\n",
       "838       1  0.885047             testing\n",
       "78        1  0.524915               thank\n",
       "78        2  0.209966               thank\n",
       "78        3  0.174972               thank\n",
       "78        4  0.017497               thank\n",
       "78        5  0.034994               thank\n",
       "78        6  0.052491               thank\n",
       "117       1  0.268151               thing\n",
       "117       3  0.067038               thing\n",
       "117       4  0.335189               thing\n",
       "117       6  0.335189               thing\n",
       "2087      2  0.687166              ticket\n",
       "26        1  0.365655                time\n",
       "26        2  0.215091                time\n",
       "26        3  0.064527                time\n",
       "26        4  0.193582                time\n",
       "26        5  0.129055                time\n",
       "26        6  0.021509                time\n",
       "27        1  0.128685               today\n",
       "27        2  0.386054               today\n",
       "27        3  0.085790               today\n",
       "27        4  0.128685               today\n",
       "27        5  0.150132               today\n",
       "27        6  0.150132               today\n",
       "1209      5  0.832472                todd\n",
       "152       1  0.118379            together\n",
       "152       3  0.295947            together\n",
       "152       4  0.236758            together\n",
       "152       6  0.355137            together\n",
       "804       3  0.809497                 top\n",
       "747       4  0.927286   total_endorsement\n",
       "1376      1  0.655779             totally\n",
       "1376      3  0.187365             totally\n",
       "1376      6  0.093683             totally\n",
       "2779      6  0.853273                tour\n",
       "2602      1  0.817121                town\n",
       "1155      3  0.696558         trafficking\n",
       "2762      6  0.853255              tribal\n",
       "2378      6  0.639686                trip\n",
       "134       1  0.440389                true\n",
       "134       2  0.440389                true\n",
       "134       3  0.073398                true\n",
       "134       6  0.073398                true\n",
       "434       1  0.786420               truly\n",
       "434       5  0.131070               truly\n",
       "199       1  0.645229               trump\n",
       "199       2  0.110611               trump\n",
       "199       3  0.055305               trump\n",
       "199       4  0.073740               trump\n",
       "199       5  0.129046               trump\n",
       "589       6  0.860153        trumpwarroom\n",
       "894       2  0.927414              tunnel\n",
       "2470      5  0.650776              turkey\n",
       "2470      6  0.216925              turkey\n",
       "1581      4  0.927752          understand\n",
       "1548      6  0.705905              united\n",
       "191       5  0.717620            unlawful\n",
       "1310      5  0.832461           unmatched\n",
       "2231      2  0.827491              usnavy\n",
       "500       3  0.673699               visit\n",
       "57        1  0.243567                vote\n",
       "57        2  0.316637                vote\n",
       "57        3  0.024357                vote\n",
       "57        4  0.243567                vote\n",
       "57        5  0.146140                vote\n",
       "57        6  0.024357                vote\n",
       "898       5  0.726068               voter\n",
       "246       1  0.089699                want\n",
       "246       2  0.022425                want\n",
       "246       3  0.201823                want\n",
       "246       4  0.381221                want\n",
       "246       5  0.179398                want\n",
       "246       6  0.134549                want\n",
       "154       2  0.721034                 war\n",
       "154       6  0.180259                 war\n",
       "2707      5  0.903924                wash\n",
       "45        1  0.287912               watch\n",
       "45        2  0.191941               watch\n",
       "45        3  0.223932               watch\n",
       "45        4  0.095971               watch\n",
       "45        5  0.095971               watch\n",
       "45        6  0.095971               watch\n",
       "476       1  0.178387                 way\n",
       "476       2  0.089194                 way\n",
       "476       3  0.222984                 way\n",
       "476       4  0.312178                 way\n",
       "476       5  0.089194                 way\n",
       "476       6  0.089194                 way\n",
       "119       1  0.451702                well\n",
       "119       2  0.106283                well\n",
       "119       3  0.079712                well\n",
       "119       4  0.132853                well\n",
       "119       5  0.053141                well\n",
       "119       6  0.159424                well\n",
       "718       3  0.378434       whistleblower\n",
       "718       4  0.504578       whistleblower\n",
       "832       2  0.197014          whitehouse\n",
       "832       3  0.748655          whitehouse\n",
       "520       1  0.286809                wife\n",
       "520       6  0.573618                wife\n",
       "342       1  0.273586                 win\n",
       "342       2  0.312669                 win\n",
       "342       3  0.234502                 win\n",
       "342       4  0.156335                 win\n",
       "342       6  0.039084                 win\n",
       "2471      1  0.910844              wisdom\n",
       "1309      3  0.192365          witch_hunt\n",
       "1309      4  0.577094          witch_hunt\n",
       "1128      3  0.175665             witness\n",
       "1128      5  0.702661             witness\n",
       "678       2  0.085771           wonderful\n",
       "678       3  0.257313           wonderful\n",
       "678       5  0.428855           wonderful\n",
       "678       6  0.257313           wonderful\n",
       "397       2  0.477849                work\n",
       "397       3  0.251499                work\n",
       "397       4  0.050300                work\n",
       "397       5  0.025150                work\n",
       "397       6  0.176050                work\n",
       "136       1  0.331260                year\n",
       "136       2  0.124223                year\n",
       "136       3  0.124223                year\n",
       "136       4  0.227741                year\n",
       "136       5  0.041408                year\n",
       "136       6  0.165630                year\n",
       "785       1  0.928283                 yet, R=30, lambda_step=0.01, plot_opts={'xlab': 'PC1', 'ylab': 'PC2'}, topic_order=[2, 3, 4, 1, 6, 5])"
      ]
     },
     "metadata": {},
     "output_type": "display_data"
    },
    {
     "data": {
      "text/html": [
       "        <script type=\"text/javascript\">\n",
       "        window.PlotlyConfig = {MathJaxConfig: 'local'};\n",
       "        if (window.MathJax && window.MathJax.Hub && window.MathJax.Hub.Config) {window.MathJax.Hub.Config({SVG: {font: \"STIX-Web\"}});}\n",
       "        if (typeof require !== 'undefined') {\n",
       "        require.undef(\"plotly\");\n",
       "        requirejs.config({\n",
       "            paths: {\n",
       "                'plotly': ['https://cdn.plot.ly/plotly-2.12.1.min']\n",
       "            }\n",
       "        });\n",
       "        require(['plotly'], function(Plotly) {\n",
       "            window._Plotly = Plotly;\n",
       "        });\n",
       "        }\n",
       "        </script>\n",
       "        "
      ]
     },
     "metadata": {},
     "output_type": "display_data"
    },
    {
     "data": {
      "image/png": "[encoded data removed]",
      "text/plain": [
       "<Figure size 576x576 with 1 Axes>"
      ]
     },
     "metadata": {
      "needs_background": "light"
     },
     "output_type": "display_data"
    },
    {
     "data": {
      "text/html": [
       "        <script type=\"text/javascript\">\n",
       "        window.PlotlyConfig = {MathJaxConfig: 'local'};\n",
       "        if (window.MathJax && window.MathJax.Hub && window.MathJax.Hub.Config) {window.MathJax.Hub.Config({SVG: {font: \"STIX-Web\"}});}\n",
       "        if (typeof require !== 'undefined') {\n",
       "        require.undef(\"plotly\");\n",
       "        requirejs.config({\n",
       "            paths: {\n",
       "                'plotly': ['https://cdn.plot.ly/plotly-2.12.1.min']\n",
       "            }\n",
       "        });\n",
       "        require(['plotly'], function(Plotly) {\n",
       "            window._Plotly = Plotly;\n",
       "        });\n",
       "        }\n",
       "        </script>\n",
       "        "
      ]
     },
     "metadata": {},
     "output_type": "display_data"
    },
    {
     "data": {
      "application/vnd.plotly.v1+json": {
       "config": {
        "linkText": "Export to plot.ly",
        "plotlyServerURL": "https://plot.ly",
        "showLink": true
       },
       "data": [
        {
         "marker": {
          "color": "rgba(255, 153, 51, 0.6)",
          "line": {
           "color": "rgba(255, 153, 51, 1.0)",
           "width": 1
          }
         },
         "name": "count",
         "orientation": "v",
         "text": "",
         "type": "bar",
         "x": [
          "get",
          "go",
          "great",
          "know",
          "see",
          "give",
          "collusion",
          "big",
          "want",
          "trump",
          "foxnew",
          "impeachment",
          "read",
          "vote",
          "say",
          "fake_new",
          "crime",
          "make",
          "today",
          "many",
          "long",
          "time",
          "even",
          "much",
          "people",
          "come",
          "bad",
          "call",
          "back",
          "order",
          "democrat",
          "wall",
          "taxis",
          "look",
          "president",
          "agree",
          "process",
          "wonderful",
          "obstruction",
          "ask",
          "help",
          "cut",
          "schiff",
          "repmarkmeadow",
          "dem",
          "tonight",
          "new",
          "catch",
          "day",
          "country",
          "release",
          "leave",
          "rally",
          "realdonaldtrump",
          "start",
          "watch",
          "witness",
          "story",
          "year",
          "nancy_pelosi",
          "interview",
          "medium",
          "fake",
          "else",
          "border",
          "ever",
          "base",
          "end",
          "announce",
          "least",
          "angry",
          "also",
          "allow",
          "transcript",
          "total",
          "delete",
          "tomorrow",
          "destroy",
          "work",
          "wrong",
          "book",
          "eye",
          "state",
          "evidence",
          "open",
          "life",
          "pay",
          "acid",
          "phony",
          "press",
          "race",
          "raise",
          "home",
          "hoax",
          "hearing",
          "hate",
          "happy",
          "rescue",
          "fast",
          "absolutely"
         ],
         "y": [
          22,
          19,
          14,
          14,
          12,
          12,
          11,
          11,
          11,
          10,
          10,
          10,
          9,
          9,
          9,
          8,
          8,
          8,
          8,
          8,
          8,
          7,
          7,
          7,
          7,
          7,
          7,
          7,
          6,
          6,
          6,
          6,
          6,
          5,
          5,
          5,
          5,
          5,
          5,
          5,
          5,
          5,
          5,
          5,
          5,
          5,
          5,
          5,
          5,
          5,
          5,
          4,
          4,
          4,
          4,
          4,
          4,
          4,
          4,
          4,
          4,
          4,
          4,
          4,
          4,
          4,
          4,
          4,
          4,
          4,
          4,
          4,
          4,
          3,
          3,
          3,
          3,
          3,
          3,
          3,
          3,
          3,
          3,
          3,
          3,
          3,
          3,
          3,
          3,
          3,
          3,
          3,
          3,
          3,
          3,
          3,
          3,
          3,
          3,
          3
         ]
        }
       ],
       "layout": {
        "legend": {
         "bgcolor": "#F5F6F9",
         "font": {
          "color": "#4D5663"
         }
        },
        "paper_bgcolor": "#F5F6F9",
        "plot_bgcolor": "#F5F6F9",
        "template": {
         "data": {
          "bar": [
           {
            "error_x": {
             "color": "#2a3f5f"
            },
            "error_y": {
             "color": "#2a3f5f"
            },
            "marker": {
             "line": {
              "color": "#E5ECF6",
              "width": 0.5
             },
             "pattern": {
              "fillmode": "overlay",
              "size": 10,
              "solidity": 0.2
             }
            },
            "type": "bar"
           }
          ],
          "barpolar": [
           {
            "marker": {
             "line": {
              "color": "#E5ECF6",
              "width": 0.5
             },
             "pattern": {
              "fillmode": "overlay",
              "size": 10,
              "solidity": 0.2
             }
            },
            "type": "barpolar"
           }
          ],
          "carpet": [
           {
            "aaxis": {
             "endlinecolor": "#2a3f5f",
             "gridcolor": "white",
             "linecolor": "white",
             "minorgridcolor": "white",
             "startlinecolor": "#2a3f5f"
            },
            "baxis": {
             "endlinecolor": "#2a3f5f",
             "gridcolor": "white",
             "linecolor": "white",
             "minorgridcolor": "white",
             "startlinecolor": "#2a3f5f"
            },
            "type": "carpet"
           }
          ],
          "choropleth": [
           {
            "colorbar": {
             "outlinewidth": 0,
             "ticks": ""
            },
            "type": "choropleth"
           }
          ],
          "contour": [
           {
            "colorbar": {
             "outlinewidth": 0,
             "ticks": ""
            },
            "colorscale": [
             [
              0,
              "#0d0887"
             ],
             [
              0.1111111111111111,
              "#46039f"
             ],
             [
              0.2222222222222222,
              "#7201a8"
             ],
             [
              0.3333333333333333,
              "#9c179e"
             ],
             [
              0.4444444444444444,
              "#bd3786"
             ],
             [
              0.5555555555555556,
              "#d8576b"
             ],
             [
              0.6666666666666666,
              "#ed7953"
             ],
             [
              0.7777777777777778,
              "#fb9f3a"
             ],
             [
              0.8888888888888888,
              "#fdca26"
             ],
             [
              1,
              "#f0f921"
             ]
            ],
            "type": "contour"
           }
          ],
          "contourcarpet": [
           {
            "colorbar": {
             "outlinewidth": 0,
             "ticks": ""
            },
            "type": "contourcarpet"
           }
          ],
          "heatmap": [
           {
            "colorbar": {
             "outlinewidth": 0,
             "ticks": ""
            },
            "colorscale": [
             [
              0,
              "#0d0887"
             ],
             [
              0.1111111111111111,
              "#46039f"
             ],
             [
              0.2222222222222222,
              "#7201a8"
             ],
             [
              0.3333333333333333,
              "#9c179e"
             ],
             [
              0.4444444444444444,
              "#bd3786"
             ],
             [
              0.5555555555555556,
              "#d8576b"
             ],
             [
              0.6666666666666666,
              "#ed7953"
             ],
             [
              0.7777777777777778,
              "#fb9f3a"
             ],
             [
              0.8888888888888888,
              "#fdca26"
             ],
             [
              1,
              "#f0f921"
             ]
            ],
            "type": "heatmap"
           }
          ],
          "heatmapgl": [
           {
            "colorbar": {
             "outlinewidth": 0,
             "ticks": ""
            },
            "colorscale": [
             [
              0,
              "#0d0887"
             ],
             [
              0.1111111111111111,
              "#46039f"
             ],
             [
              0.2222222222222222,
              "#7201a8"
             ],
             [
              0.3333333333333333,
              "#9c179e"
             ],
             [
              0.4444444444444444,
              "#bd3786"
             ],
             [
              0.5555555555555556,
              "#d8576b"
             ],
             [
              0.6666666666666666,
              "#ed7953"
             ],
             [
              0.7777777777777778,
              "#fb9f3a"
             ],
             [
              0.8888888888888888,
              "#fdca26"
             ],
             [
              1,
              "#f0f921"
             ]
            ],
            "type": "heatmapgl"
           }
          ],
          "histogram": [
           {
            "marker": {
             "pattern": {
              "fillmode": "overlay",
              "size": 10,
              "solidity": 0.2
             }
            },
            "type": "histogram"
           }
          ],
          "histogram2d": [
           {
            "colorbar": {
             "outlinewidth": 0,
             "ticks": ""
            },
            "colorscale": [
             [
              0,
              "#0d0887"
             ],
             [
              0.1111111111111111,
              "#46039f"
             ],
             [
              0.2222222222222222,
              "#7201a8"
             ],
             [
              0.3333333333333333,
              "#9c179e"
             ],
             [
              0.4444444444444444,
              "#bd3786"
             ],
             [
              0.5555555555555556,
              "#d8576b"
             ],
             [
              0.6666666666666666,
              "#ed7953"
             ],
             [
              0.7777777777777778,
              "#fb9f3a"
             ],
             [
              0.8888888888888888,
              "#fdca26"
             ],
             [
              1,
              "#f0f921"
             ]
            ],
            "type": "histogram2d"
           }
          ],
          "histogram2dcontour": [
           {
            "colorbar": {
             "outlinewidth": 0,
             "ticks": ""
            },
            "colorscale": [
             [
              0,
              "#0d0887"
             ],
             [
              0.1111111111111111,
              "#46039f"
             ],
             [
              0.2222222222222222,
              "#7201a8"
             ],
             [
              0.3333333333333333,
              "#9c179e"
             ],
             [
              0.4444444444444444,
              "#bd3786"
             ],
             [
              0.5555555555555556,
              "#d8576b"
             ],
             [
              0.6666666666666666,
              "#ed7953"
             ],
             [
              0.7777777777777778,
              "#fb9f3a"
             ],
             [
              0.8888888888888888,
              "#fdca26"
             ],
             [
              1,
              "#f0f921"
             ]
            ],
            "type": "histogram2dcontour"
           }
          ],
          "mesh3d": [
           {
            "colorbar": {
             "outlinewidth": 0,
             "ticks": ""
            },
            "type": "mesh3d"
           }
          ],
          "parcoords": [
           {
            "line": {
             "colorbar": {
              "outlinewidth": 0,
              "ticks": ""
             }
            },
            "type": "parcoords"
           }
          ],
          "pie": [
           {
            "automargin": true,
            "type": "pie"
           }
          ],
          "scatter": [
           {
            "fillpattern": {
             "fillmode": "overlay",
             "size": 10,
             "solidity": 0.2
            },
            "type": "scatter"
           }
          ],
          "scatter3d": [
           {
            "line": {
             "colorbar": {
              "outlinewidth": 0,
              "ticks": ""
             }
            },
            "marker": {
             "colorbar": {
              "outlinewidth": 0,
              "ticks": ""
             }
            },
            "type": "scatter3d"
           }
          ],
          "scattercarpet": [
           {
            "marker": {
             "colorbar": {
              "outlinewidth": 0,
              "ticks": ""
             }
            },
            "type": "scattercarpet"
           }
          ],
          "scattergeo": [
           {
            "marker": {
             "colorbar": {
              "outlinewidth": 0,
              "ticks": ""
             }
            },
            "type": "scattergeo"
           }
          ],
          "scattergl": [
           {
            "marker": {
             "colorbar": {
              "outlinewidth": 0,
              "ticks": ""
             }
            },
            "type": "scattergl"
           }
          ],
          "scattermapbox": [
           {
            "marker": {
             "colorbar": {
              "outlinewidth": 0,
              "ticks": ""
             }
            },
            "type": "scattermapbox"
           }
          ],
          "scatterpolar": [
           {
            "marker": {
             "colorbar": {
              "outlinewidth": 0,
              "ticks": ""
             }
            },
            "type": "scatterpolar"
           }
          ],
          "scatterpolargl": [
           {
            "marker": {
             "colorbar": {
              "outlinewidth": 0,
              "ticks": ""
             }
            },
            "type": "scatterpolargl"
           }
          ],
          "scatterternary": [
           {
            "marker": {
             "colorbar": {
              "outlinewidth": 0,
              "ticks": ""
             }
            },
            "type": "scatterternary"
           }
          ],
          "surface": [
           {
            "colorbar": {
             "outlinewidth": 0,
             "ticks": ""
            },
            "colorscale": [
             [
              0,
              "#0d0887"
             ],
             [
              0.1111111111111111,
              "#46039f"
             ],
             [
              0.2222222222222222,
              "#7201a8"
             ],
             [
              0.3333333333333333,
              "#9c179e"
             ],
             [
              0.4444444444444444,
              "#bd3786"
             ],
             [
              0.5555555555555556,
              "#d8576b"
             ],
             [
              0.6666666666666666,
              "#ed7953"
             ],
             [
              0.7777777777777778,
              "#fb9f3a"
             ],
             [
              0.8888888888888888,
              "#fdca26"
             ],
             [
              1,
              "#f0f921"
             ]
            ],
            "type": "surface"
           }
          ],
          "table": [
           {
            "cells": {
             "fill": {
              "color": "#EBF0F8"
             },
             "line": {
              "color": "white"
             }
            },
            "header": {
             "fill": {
              "color": "#C8D4E3"
             },
             "line": {
              "color": "white"
             }
            },
            "type": "table"
           }
          ]
         },
         "layout": {
          "annotationdefaults": {
           "arrowcolor": "#2a3f5f",
           "arrowhead": 0,
           "arrowwidth": 1
          },
          "autotypenumbers": "strict",
          "coloraxis": {
           "colorbar": {
            "outlinewidth": 0,
            "ticks": ""
           }
          },
          "colorscale": {
           "diverging": [
            [
             0,
             "#8e0152"
            ],
            [
             0.1,
             "#c51b7d"
            ],
            [
             0.2,
             "#de77ae"
            ],
            [
             0.3,
             "#f1b6da"
            ],
            [
             0.4,
             "#fde0ef"
            ],
            [
             0.5,
             "#f7f7f7"
            ],
            [
             0.6,
             "#e6f5d0"
            ],
            [
             0.7,
             "#b8e186"
            ],
            [
             0.8,
             "#7fbc41"
            ],
            [
             0.9,
             "#4d9221"
            ],
            [
             1,
             "#276419"
            ]
           ],
           "sequential": [
            [
             0,
             "#0d0887"
            ],
            [
             0.1111111111111111,
             "#46039f"
            ],
            [
             0.2222222222222222,
             "#7201a8"
            ],
            [
             0.3333333333333333,
             "#9c179e"
            ],
            [
             0.4444444444444444,
             "#bd3786"
            ],
            [
             0.5555555555555556,
             "#d8576b"
            ],
            [
             0.6666666666666666,
             "#ed7953"
            ],
            [
             0.7777777777777778,
             "#fb9f3a"
            ],
            [
             0.8888888888888888,
             "#fdca26"
            ],
            [
             1,
             "#f0f921"
            ]
           ],
           "sequentialminus": [
            [
             0,
             "#0d0887"
            ],
            [
             0.1111111111111111,
             "#46039f"
            ],
            [
             0.2222222222222222,
             "#7201a8"
            ],
            [
             0.3333333333333333,
             "#9c179e"
            ],
            [
             0.4444444444444444,
             "#bd3786"
            ],
            [
             0.5555555555555556,
             "#d8576b"
            ],
            [
             0.6666666666666666,
             "#ed7953"
            ],
            [
             0.7777777777777778,
             "#fb9f3a"
            ],
            [
             0.8888888888888888,
             "#fdca26"
            ],
            [
             1,
             "#f0f921"
            ]
           ]
          },
          "colorway": [
           "#636efa",
           "#EF553B",
           "#00cc96",
           "#ab63fa",
           "#FFA15A",
           "#19d3f3",
           "#FF6692",
           "#B6E880",
           "#FF97FF",
           "#FECB52"
          ],
          "font": {
           "color": "#2a3f5f"
          },
          "geo": {
           "bgcolor": "white",
           "lakecolor": "white",
           "landcolor": "#E5ECF6",
           "showlakes": true,
           "showland": true,
           "subunitcolor": "white"
          },
          "hoverlabel": {
           "align": "left"
          },
          "hovermode": "closest",
          "mapbox": {
           "style": "light"
          },
          "paper_bgcolor": "white",
          "plot_bgcolor": "#E5ECF6",
          "polar": {
           "angularaxis": {
            "gridcolor": "white",
            "linecolor": "white",
            "ticks": ""
           },
           "bgcolor": "#E5ECF6",
           "radialaxis": {
            "gridcolor": "white",
            "linecolor": "white",
            "ticks": ""
           }
          },
          "scene": {
           "xaxis": {
            "backgroundcolor": "#E5ECF6",
            "gridcolor": "white",
            "gridwidth": 2,
            "linecolor": "white",
            "showbackground": true,
            "ticks": "",
            "zerolinecolor": "white"
           },
           "yaxis": {
            "backgroundcolor": "#E5ECF6",
            "gridcolor": "white",
            "gridwidth": 2,
            "linecolor": "white",
            "showbackground": true,
            "ticks": "",
            "zerolinecolor": "white"
           },
           "zaxis": {
            "backgroundcolor": "#E5ECF6",
            "gridcolor": "white",
            "gridwidth": 2,
            "linecolor": "white",
            "showbackground": true,
            "ticks": "",
            "zerolinecolor": "white"
           }
          },
          "shapedefaults": {
           "line": {
            "color": "#2a3f5f"
           }
          },
          "ternary": {
           "aaxis": {
            "gridcolor": "white",
            "linecolor": "white",
            "ticks": ""
           },
           "baxis": {
            "gridcolor": "white",
            "linecolor": "white",
            "ticks": ""
           },
           "bgcolor": "#E5ECF6",
           "caxis": {
            "gridcolor": "white",
            "linecolor": "white",
            "ticks": ""
           }
          },
          "title": {
           "x": 0.05
          },
          "xaxis": {
           "automargin": true,
           "gridcolor": "white",
           "linecolor": "white",
           "ticks": "",
           "title": {
            "standoff": 15
           },
           "zerolinecolor": "white",
           "zerolinewidth": 2
          },
          "yaxis": {
           "automargin": true,
           "gridcolor": "white",
           "linecolor": "white",
           "ticks": "",
           "title": {
            "standoff": 15
           },
           "zerolinecolor": "white",
           "zerolinewidth": 2
          }
         }
        },
        "title": {
         "font": {
          "color": "#4D5663"
         },
         "text": "Topic 5: Top 100 words after removing stop words"
        },
        "xaxis": {
         "gridcolor": "#E1E5ED",
         "linecolor": "black",
         "showgrid": true,
         "tickfont": {
          "color": "#4D5663"
         },
         "title": {
          "font": {
           "color": "#4D5663"
          },
          "text": ""
         },
         "zerolinecolor": "#E1E5ED"
        },
        "yaxis": {
         "gridcolor": "#E1E5ED",
         "linecolor": "black",
         "showgrid": true,
         "tickfont": {
          "color": "#4D5663"
         },
         "title": {
          "font": {
           "color": "#4D5663"
          },
          "text": "Count"
         },
         "zerolinecolor": "#E1E5ED"
        }
       }
      },
      "text/html": [
       "<div>                            <div id=\"b5ce1403-f6ae-4804-9129-a21c38c9b8e1\" class=\"plotly-graph-div\" style=\"height:525px; width:100%;\"></div>            <script type=\"text/javascript\">                require([\"plotly\"], function(Plotly) {                    window.PLOTLYENV=window.PLOTLYENV || {};\n",
       "                    window.PLOTLYENV.BASE_URL='https://plot.ly';                                    if (document.getElementById(\"b5ce1403-f6ae-4804-9129-a21c38c9b8e1\")) {                    Plotly.newPlot(                        \"b5ce1403-f6ae-4804-9129-a21c38c9b8e1\",                        [{\"marker\":{\"color\":\"rgba(255, 153, 51, 0.6)\",\"line\":{\"color\":\"rgba(255, 153, 51, 1.0)\",\"width\":1}},\"name\":\"count\",\"orientation\":\"v\",\"text\":\"\",\"x\":[\"get\",\"go\",\"great\",\"know\",\"see\",\"give\",\"collusion\",\"big\",\"want\",\"trump\",\"foxnew\",\"impeachment\",\"read\",\"vote\",\"say\",\"fake_new\",\"crime\",\"make\",\"today\",\"many\",\"long\",\"time\",\"even\",\"much\",\"people\",\"come\",\"bad\",\"call\",\"back\",\"order\",\"democrat\",\"wall\",\"taxis\",\"look\",\"president\",\"agree\",\"process\",\"wonderful\",\"obstruction\",\"ask\",\"help\",\"cut\",\"schiff\",\"repmarkmeadow\",\"dem\",\"tonight\",\"new\",\"catch\",\"day\",\"country\",\"release\",\"leave\",\"rally\",\"realdonaldtrump\",\"start\",\"watch\",\"witness\",\"story\",\"year\",\"nancy_pelosi\",\"interview\",\"medium\",\"fake\",\"else\",\"border\",\"ever\",\"base\",\"end\",\"announce\",\"least\",\"angry\",\"also\",\"allow\",\"transcript\",\"total\",\"delete\",\"tomorrow\",\"destroy\",\"work\",\"wrong\",\"book\",\"eye\",\"state\",\"evidence\",\"open\",\"life\",\"pay\",\"acid\",\"phony\",\"press\",\"race\",\"raise\",\"home\",\"hoax\",\"hearing\",\"hate\",\"happy\",\"rescue\",\"fast\",\"absolutely\"],\"y\":[22,19,14,14,12,12,11,11,11,10,10,10,9,9,9,8,8,8,8,8,8,7,7,7,7,7,7,7,6,6,6,6,6,5,5,5,5,5,5,5,5,5,5,5,5,5,5,5,5,5,5,4,4,4,4,4,4,4,4,4,4,4,4,4,4,4,4,4,4,4,4,4,4,3,3,3,3,3,3,3,3,3,3,3,3,3,3,3,3,3,3,3,3,3,3,3,3,3,3,3],\"type\":\"bar\"}],                        {\"legend\":{\"bgcolor\":\"#F5F6F9\",\"font\":{\"color\":\"#4D5663\"}},\"paper_bgcolor\":\"#F5F6F9\",\"plot_bgcolor\":\"#F5F6F9\",\"template\":{\"data\":{\"barpolar\":[{\"marker\":{\"line\":{\"color\":\"#E5ECF6\",\"width\":0.5},\"pattern\":{\"fillmode\":\"overlay\",\"size\":10,\"solidity\":0.2}},\"type\":\"barpolar\"}],\"bar\":[{\"error_x\":{\"color\":\"#2a3f5f\"},\"error_y\":{\"color\":\"#2a3f5f\"},\"marker\":{\"line\":{\"color\":\"#E5ECF6\",\"width\":0.5},\"pattern\":{\"fillmode\":\"overlay\",\"size\":10,\"solidity\":0.2}},\"type\":\"bar\"}],\"carpet\":[{\"aaxis\":{\"endlinecolor\":\"#2a3f5f\",\"gridcolor\":\"white\",\"linecolor\":\"white\",\"minorgridcolor\":\"white\",\"startlinecolor\":\"#2a3f5f\"},\"baxis\":{\"endlinecolor\":\"#2a3f5f\",\"gridcolor\":\"white\",\"linecolor\":\"white\",\"minorgridcolor\":\"white\",\"startlinecolor\":\"#2a3f5f\"},\"type\":\"carpet\"}],\"choropleth\":[{\"colorbar\":{\"outlinewidth\":0,\"ticks\":\"\"},\"type\":\"choropleth\"}],\"contourcarpet\":[{\"colorbar\":{\"outlinewidth\":0,\"ticks\":\"\"},\"type\":\"contourcarpet\"}],\"contour\":[{\"colorbar\":{\"outlinewidth\":0,\"ticks\":\"\"},\"colorscale\":[[0.0,\"#0d0887\"],[0.1111111111111111,\"#46039f\"],[0.2222222222222222,\"#7201a8\"],[0.3333333333333333,\"#9c179e\"],[0.4444444444444444,\"#bd3786\"],[0.5555555555555556,\"#d8576b\"],[0.6666666666666666,\"#ed7953\"],[0.7777777777777778,\"#fb9f3a\"],[0.8888888888888888,\"#fdca26\"],[1.0,\"#f0f921\"]],\"type\":\"contour\"}],\"heatmapgl\":[{\"colorbar\":{\"outlinewidth\":0,\"ticks\":\"\"},\"colorscale\":[[0.0,\"#0d0887\"],[0.1111111111111111,\"#46039f\"],[0.2222222222222222,\"#7201a8\"],[0.3333333333333333,\"#9c179e\"],[0.4444444444444444,\"#bd3786\"],[0.5555555555555556,\"#d8576b\"],[0.6666666666666666,\"#ed7953\"],[0.7777777777777778,\"#fb9f3a\"],[0.8888888888888888,\"#fdca26\"],[1.0,\"#f0f921\"]],\"type\":\"heatmapgl\"}],\"heatmap\":[{\"colorbar\":{\"outlinewidth\":0,\"ticks\":\"\"},\"colorscale\":[[0.0,\"#0d0887\"],[0.1111111111111111,\"#46039f\"],[0.2222222222222222,\"#7201a8\"],[0.3333333333333333,\"#9c179e\"],[0.4444444444444444,\"#bd3786\"],[0.5555555555555556,\"#d8576b\"],[0.6666666666666666,\"#ed7953\"],[0.7777777777777778,\"#fb9f3a\"],[0.8888888888888888,\"#fdca26\"],[1.0,\"#f0f921\"]],\"type\":\"heatmap\"}],\"histogram2dcontour\":[{\"colorbar\":{\"outlinewidth\":0,\"ticks\":\"\"},\"colorscale\":[[0.0,\"#0d0887\"],[0.1111111111111111,\"#46039f\"],[0.2222222222222222,\"#7201a8\"],[0.3333333333333333,\"#9c179e\"],[0.4444444444444444,\"#bd3786\"],[0.5555555555555556,\"#d8576b\"],[0.6666666666666666,\"#ed7953\"],[0.7777777777777778,\"#fb9f3a\"],[0.8888888888888888,\"#fdca26\"],[1.0,\"#f0f921\"]],\"type\":\"histogram2dcontour\"}],\"histogram2d\":[{\"colorbar\":{\"outlinewidth\":0,\"ticks\":\"\"},\"colorscale\":[[0.0,\"#0d0887\"],[0.1111111111111111,\"#46039f\"],[0.2222222222222222,\"#7201a8\"],[0.3333333333333333,\"#9c179e\"],[0.4444444444444444,\"#bd3786\"],[0.5555555555555556,\"#d8576b\"],[0.6666666666666666,\"#ed7953\"],[0.7777777777777778,\"#fb9f3a\"],[0.8888888888888888,\"#fdca26\"],[1.0,\"#f0f921\"]],\"type\":\"histogram2d\"}],\"histogram\":[{\"marker\":{\"pattern\":{\"fillmode\":\"overlay\",\"size\":10,\"solidity\":0.2}},\"type\":\"histogram\"}],\"mesh3d\":[{\"colorbar\":{\"outlinewidth\":0,\"ticks\":\"\"},\"type\":\"mesh3d\"}],\"parcoords\":[{\"line\":{\"colorbar\":{\"outlinewidth\":0,\"ticks\":\"\"}},\"type\":\"parcoords\"}],\"pie\":[{\"automargin\":true,\"type\":\"pie\"}],\"scatter3d\":[{\"line\":{\"colorbar\":{\"outlinewidth\":0,\"ticks\":\"\"}},\"marker\":{\"colorbar\":{\"outlinewidth\":0,\"ticks\":\"\"}},\"type\":\"scatter3d\"}],\"scattercarpet\":[{\"marker\":{\"colorbar\":{\"outlinewidth\":0,\"ticks\":\"\"}},\"type\":\"scattercarpet\"}],\"scattergeo\":[{\"marker\":{\"colorbar\":{\"outlinewidth\":0,\"ticks\":\"\"}},\"type\":\"scattergeo\"}],\"scattergl\":[{\"marker\":{\"colorbar\":{\"outlinewidth\":0,\"ticks\":\"\"}},\"type\":\"scattergl\"}],\"scattermapbox\":[{\"marker\":{\"colorbar\":{\"outlinewidth\":0,\"ticks\":\"\"}},\"type\":\"scattermapbox\"}],\"scatterpolargl\":[{\"marker\":{\"colorbar\":{\"outlinewidth\":0,\"ticks\":\"\"}},\"type\":\"scatterpolargl\"}],\"scatterpolar\":[{\"marker\":{\"colorbar\":{\"outlinewidth\":0,\"ticks\":\"\"}},\"type\":\"scatterpolar\"}],\"scatter\":[{\"fillpattern\":{\"fillmode\":\"overlay\",\"size\":10,\"solidity\":0.2},\"type\":\"scatter\"}],\"scatterternary\":[{\"marker\":{\"colorbar\":{\"outlinewidth\":0,\"ticks\":\"\"}},\"type\":\"scatterternary\"}],\"surface\":[{\"colorbar\":{\"outlinewidth\":0,\"ticks\":\"\"},\"colorscale\":[[0.0,\"#0d0887\"],[0.1111111111111111,\"#46039f\"],[0.2222222222222222,\"#7201a8\"],[0.3333333333333333,\"#9c179e\"],[0.4444444444444444,\"#bd3786\"],[0.5555555555555556,\"#d8576b\"],[0.6666666666666666,\"#ed7953\"],[0.7777777777777778,\"#fb9f3a\"],[0.8888888888888888,\"#fdca26\"],[1.0,\"#f0f921\"]],\"type\":\"surface\"}],\"table\":[{\"cells\":{\"fill\":{\"color\":\"#EBF0F8\"},\"line\":{\"color\":\"white\"}},\"header\":{\"fill\":{\"color\":\"#C8D4E3\"},\"line\":{\"color\":\"white\"}},\"type\":\"table\"}]},\"layout\":{\"annotationdefaults\":{\"arrowcolor\":\"#2a3f5f\",\"arrowhead\":0,\"arrowwidth\":1},\"autotypenumbers\":\"strict\",\"coloraxis\":{\"colorbar\":{\"outlinewidth\":0,\"ticks\":\"\"}},\"colorscale\":{\"diverging\":[[0,\"#8e0152\"],[0.1,\"#c51b7d\"],[0.2,\"#de77ae\"],[0.3,\"#f1b6da\"],[0.4,\"#fde0ef\"],[0.5,\"#f7f7f7\"],[0.6,\"#e6f5d0\"],[0.7,\"#b8e186\"],[0.8,\"#7fbc41\"],[0.9,\"#4d9221\"],[1,\"#276419\"]],\"sequential\":[[0.0,\"#0d0887\"],[0.1111111111111111,\"#46039f\"],[0.2222222222222222,\"#7201a8\"],[0.3333333333333333,\"#9c179e\"],[0.4444444444444444,\"#bd3786\"],[0.5555555555555556,\"#d8576b\"],[0.6666666666666666,\"#ed7953\"],[0.7777777777777778,\"#fb9f3a\"],[0.8888888888888888,\"#fdca26\"],[1.0,\"#f0f921\"]],\"sequentialminus\":[[0.0,\"#0d0887\"],[0.1111111111111111,\"#46039f\"],[0.2222222222222222,\"#7201a8\"],[0.3333333333333333,\"#9c179e\"],[0.4444444444444444,\"#bd3786\"],[0.5555555555555556,\"#d8576b\"],[0.6666666666666666,\"#ed7953\"],[0.7777777777777778,\"#fb9f3a\"],[0.8888888888888888,\"#fdca26\"],[1.0,\"#f0f921\"]]},\"colorway\":[\"#636efa\",\"#EF553B\",\"#00cc96\",\"#ab63fa\",\"#FFA15A\",\"#19d3f3\",\"#FF6692\",\"#B6E880\",\"#FF97FF\",\"#FECB52\"],\"font\":{\"color\":\"#2a3f5f\"},\"geo\":{\"bgcolor\":\"white\",\"lakecolor\":\"white\",\"landcolor\":\"#E5ECF6\",\"showlakes\":true,\"showland\":true,\"subunitcolor\":\"white\"},\"hoverlabel\":{\"align\":\"left\"},\"hovermode\":\"closest\",\"mapbox\":{\"style\":\"light\"},\"paper_bgcolor\":\"white\",\"plot_bgcolor\":\"#E5ECF6\",\"polar\":{\"angularaxis\":{\"gridcolor\":\"white\",\"linecolor\":\"white\",\"ticks\":\"\"},\"bgcolor\":\"#E5ECF6\",\"radialaxis\":{\"gridcolor\":\"white\",\"linecolor\":\"white\",\"ticks\":\"\"}},\"scene\":{\"xaxis\":{\"backgroundcolor\":\"#E5ECF6\",\"gridcolor\":\"white\",\"gridwidth\":2,\"linecolor\":\"white\",\"showbackground\":true,\"ticks\":\"\",\"zerolinecolor\":\"white\"},\"yaxis\":{\"backgroundcolor\":\"#E5ECF6\",\"gridcolor\":\"white\",\"gridwidth\":2,\"linecolor\":\"white\",\"showbackground\":true,\"ticks\":\"\",\"zerolinecolor\":\"white\"},\"zaxis\":{\"backgroundcolor\":\"#E5ECF6\",\"gridcolor\":\"white\",\"gridwidth\":2,\"linecolor\":\"white\",\"showbackground\":true,\"ticks\":\"\",\"zerolinecolor\":\"white\"}},\"shapedefaults\":{\"line\":{\"color\":\"#2a3f5f\"}},\"ternary\":{\"aaxis\":{\"gridcolor\":\"white\",\"linecolor\":\"white\",\"ticks\":\"\"},\"baxis\":{\"gridcolor\":\"white\",\"linecolor\":\"white\",\"ticks\":\"\"},\"bgcolor\":\"#E5ECF6\",\"caxis\":{\"gridcolor\":\"white\",\"linecolor\":\"white\",\"ticks\":\"\"}},\"title\":{\"x\":0.05},\"xaxis\":{\"automargin\":true,\"gridcolor\":\"white\",\"linecolor\":\"white\",\"ticks\":\"\",\"title\":{\"standoff\":15},\"zerolinecolor\":\"white\",\"zerolinewidth\":2},\"yaxis\":{\"automargin\":true,\"gridcolor\":\"white\",\"linecolor\":\"white\",\"ticks\":\"\",\"title\":{\"standoff\":15},\"zerolinecolor\":\"white\",\"zerolinewidth\":2}}},\"title\":{\"font\":{\"color\":\"#4D5663\"},\"text\":\"Topic 5: Top 100 words after removing stop words\"},\"xaxis\":{\"gridcolor\":\"#E1E5ED\",\"linecolor\":\"black\",\"showgrid\":true,\"tickfont\":{\"color\":\"#4D5663\"},\"title\":{\"font\":{\"color\":\"#4D5663\"},\"text\":\"\"},\"zerolinecolor\":\"#E1E5ED\"},\"yaxis\":{\"gridcolor\":\"#E1E5ED\",\"linecolor\":\"black\",\"showgrid\":true,\"tickfont\":{\"color\":\"#4D5663\"},\"title\":{\"font\":{\"color\":\"#4D5663\"},\"text\":\"Count\"},\"zerolinecolor\":\"#E1E5ED\"}},                        {\"showLink\": true, \"linkText\": \"Export to plot.ly\", \"plotlyServerURL\": \"https://plot.ly\", \"responsive\": true}                    ).then(function(){\n",
       "                            \n",
       "var gd = document.getElementById('b5ce1403-f6ae-4804-9129-a21c38c9b8e1');\n",
       "var x = new MutationObserver(function (mutations, observer) {{\n",
       "        var display = window.getComputedStyle(gd).display;\n",
       "        if (!display || display === 'none') {{\n",
       "            console.log([gd, 'removed!']);\n",
       "            Plotly.purge(gd);\n",
       "            observer.disconnect();\n",
       "        }}\n",
       "}});\n",
       "\n",
       "// Listen for the removal of the full notebook cells\n",
       "var notebookContainer = gd.closest('#notebook-container');\n",
       "if (notebookContainer) {{\n",
       "    x.observe(notebookContainer, {childList: true});\n",
       "}}\n",
       "\n",
       "// Listen for the clearing of the current output cell\n",
       "var outputEl = gd.closest('.output');\n",
       "if (outputEl) {{\n",
       "    x.observe(outputEl, {childList: true});\n",
       "}}\n",
       "\n",
       "                        })                };                });            </script>        </div>"
      ]
     },
     "metadata": {},
     "output_type": "display_data"
    },
    {
     "data": {
      "text/html": [
       "        <script type=\"text/javascript\">\n",
       "        window.PlotlyConfig = {MathJaxConfig: 'local'};\n",
       "        if (window.MathJax && window.MathJax.Hub && window.MathJax.Hub.Config) {window.MathJax.Hub.Config({SVG: {font: \"STIX-Web\"}});}\n",
       "        if (typeof require !== 'undefined') {\n",
       "        require.undef(\"plotly\");\n",
       "        requirejs.config({\n",
       "            paths: {\n",
       "                'plotly': ['https://cdn.plot.ly/plotly-2.12.1.min']\n",
       "            }\n",
       "        });\n",
       "        require(['plotly'], function(Plotly) {\n",
       "            window._Plotly = Plotly;\n",
       "        });\n",
       "        }\n",
       "        </script>\n",
       "        "
      ]
     },
     "metadata": {},
     "output_type": "display_data"
    },
    {
     "data": {
      "application/vnd.plotly.v1+json": {
       "config": {
        "linkText": "Export to plot.ly",
        "plotlyServerURL": "https://plot.ly",
        "showLink": true
       },
       "data": [
        {
         "marker": {
          "color": "rgba(255, 153, 51, 0.6)",
          "line": {
           "color": "rgba(255, 153, 51, 1.0)",
           "width": 1
          }
         },
         "name": "count",
         "orientation": "v",
         "text": "",
         "type": "bar",
         "x": [
          "get rid",
          "raise taxis",
          "collusion obstruction",
          "delete acid",
          "new book",
          "impeachment process",
          "democrat want",
          "sanctuary city",
          "many year",
          "email get",
          "rescue operation",
          "evidence collusion",
          "eye chuck",
          "foxnew get",
          "get back",
          "get catch",
          "get know",
          "crime commit",
          "get subpoena",
          "read transcript",
          "go fast",
          "month likewise",
          "acid wash",
          "operation underway",
          "open border",
          "great people",
          "drug price",
          "tonight foxnew",
          "call read",
          "wrong get",
          "wash email",
          "american people",
          "anonymous source",
          "want open",
          "big rally",
          "lottery catch",
          "chuck todd",
          "sleepy eye",
          "catch release",
          "test happy",
          "wrong happy",
          "medium authority",
          "nancy_pelosi go",
          "washed mail",
          "source angry",
          "nuclear test",
          "mail medium",
          "openly give",
          "want silence",
          "order today",
          "red handed",
          "rocket launch",
          "unlawful conduct",
          "read go",
          "trigger leave",
          "silence available",
          "tomorrow great",
          "time consequence",
          "thrive hate",
          "tax cut",
          "recommend read",
          "say ever",
          "absolutely crazy",
          "long time",
          "consequence unlawful",
          "come new",
          "catch red",
          "catch long",
          "book trigger",
          "book highly",
          "big tax",
          "available tomorrow",
          "authority delete",
          "ask always",
          "apology jim",
          "angry go",
          "always anonymous",
          "admit wrong",
          "actually catch",
          "acid washed",
          "conduct year",
          "crazy big",
          "likewise nuclear",
          "donaldjtrumpjr come",
          "leave thrive",
          "launch month",
          "jail apology",
          "highly recommend",
          "hate want",
          "happy fake_new",
          "handed actually",
          "great new",
          "go order",
          "go absolutely",
          "give mail",
          "fast enough",
          "fake_new say",
          "ever ask",
          "enough wrong",
          "year jail"
         ],
         "y": [
          3,
          3,
          3,
          3,
          2,
          2,
          2,
          2,
          2,
          2,
          2,
          2,
          2,
          2,
          2,
          2,
          2,
          2,
          2,
          2,
          2,
          2,
          2,
          2,
          2,
          2,
          2,
          2,
          2,
          2,
          2,
          2,
          2,
          2,
          2,
          2,
          2,
          2,
          2,
          1,
          1,
          1,
          1,
          1,
          1,
          1,
          1,
          1,
          1,
          1,
          1,
          1,
          1,
          1,
          1,
          1,
          1,
          1,
          1,
          1,
          1,
          1,
          1,
          1,
          1,
          1,
          1,
          1,
          1,
          1,
          1,
          1,
          1,
          1,
          1,
          1,
          1,
          1,
          1,
          1,
          1,
          1,
          1,
          1,
          1,
          1,
          1,
          1,
          1,
          1,
          1,
          1,
          1,
          1,
          1,
          1,
          1,
          1,
          1,
          1
         ]
        }
       ],
       "layout": {
        "legend": {
         "bgcolor": "#F5F6F9",
         "font": {
          "color": "#4D5663"
         }
        },
        "paper_bgcolor": "#F5F6F9",
        "plot_bgcolor": "#F5F6F9",
        "template": {
         "data": {
          "bar": [
           {
            "error_x": {
             "color": "#2a3f5f"
            },
            "error_y": {
             "color": "#2a3f5f"
            },
            "marker": {
             "line": {
              "color": "#E5ECF6",
              "width": 0.5
             },
             "pattern": {
              "fillmode": "overlay",
              "size": 10,
              "solidity": 0.2
             }
            },
            "type": "bar"
           }
          ],
          "barpolar": [
           {
            "marker": {
             "line": {
              "color": "#E5ECF6",
              "width": 0.5
             },
             "pattern": {
              "fillmode": "overlay",
              "size": 10,
              "solidity": 0.2
             }
            },
            "type": "barpolar"
           }
          ],
          "carpet": [
           {
            "aaxis": {
             "endlinecolor": "#2a3f5f",
             "gridcolor": "white",
             "linecolor": "white",
             "minorgridcolor": "white",
             "startlinecolor": "#2a3f5f"
            },
            "baxis": {
             "endlinecolor": "#2a3f5f",
             "gridcolor": "white",
             "linecolor": "white",
             "minorgridcolor": "white",
             "startlinecolor": "#2a3f5f"
            },
            "type": "carpet"
           }
          ],
          "choropleth": [
           {
            "colorbar": {
             "outlinewidth": 0,
             "ticks": ""
            },
            "type": "choropleth"
           }
          ],
          "contour": [
           {
            "colorbar": {
             "outlinewidth": 0,
             "ticks": ""
            },
            "colorscale": [
             [
              0,
              "#0d0887"
             ],
             [
              0.1111111111111111,
              "#46039f"
             ],
             [
              0.2222222222222222,
              "#7201a8"
             ],
             [
              0.3333333333333333,
              "#9c179e"
             ],
             [
              0.4444444444444444,
              "#bd3786"
             ],
             [
              0.5555555555555556,
              "#d8576b"
             ],
             [
              0.6666666666666666,
              "#ed7953"
             ],
             [
              0.7777777777777778,
              "#fb9f3a"
             ],
             [
              0.8888888888888888,
              "#fdca26"
             ],
             [
              1,
              "#f0f921"
             ]
            ],
            "type": "contour"
           }
          ],
          "contourcarpet": [
           {
            "colorbar": {
             "outlinewidth": 0,
             "ticks": ""
            },
            "type": "contourcarpet"
           }
          ],
          "heatmap": [
           {
            "colorbar": {
             "outlinewidth": 0,
             "ticks": ""
            },
            "colorscale": [
             [
              0,
              "#0d0887"
             ],
             [
              0.1111111111111111,
              "#46039f"
             ],
             [
              0.2222222222222222,
              "#7201a8"
             ],
             [
              0.3333333333333333,
              "#9c179e"
             ],
             [
              0.4444444444444444,
              "#bd3786"
             ],
             [
              0.5555555555555556,
              "#d8576b"
             ],
             [
              0.6666666666666666,
              "#ed7953"
             ],
             [
              0.7777777777777778,
              "#fb9f3a"
             ],
             [
              0.8888888888888888,
              "#fdca26"
             ],
             [
              1,
              "#f0f921"
             ]
            ],
            "type": "heatmap"
           }
          ],
          "heatmapgl": [
           {
            "colorbar": {
             "outlinewidth": 0,
             "ticks": ""
            },
            "colorscale": [
             [
              0,
              "#0d0887"
             ],
             [
              0.1111111111111111,
              "#46039f"
             ],
             [
              0.2222222222222222,
              "#7201a8"
             ],
             [
              0.3333333333333333,
              "#9c179e"
             ],
             [
              0.4444444444444444,
              "#bd3786"
             ],
             [
              0.5555555555555556,
              "#d8576b"
             ],
             [
              0.6666666666666666,
              "#ed7953"
             ],
             [
              0.7777777777777778,
              "#fb9f3a"
             ],
             [
              0.8888888888888888,
              "#fdca26"
             ],
             [
              1,
              "#f0f921"
             ]
            ],
            "type": "heatmapgl"
           }
          ],
          "histogram": [
           {
            "marker": {
             "pattern": {
              "fillmode": "overlay",
              "size": 10,
              "solidity": 0.2
             }
            },
            "type": "histogram"
           }
          ],
          "histogram2d": [
           {
            "colorbar": {
             "outlinewidth": 0,
             "ticks": ""
            },
            "colorscale": [
             [
              0,
              "#0d0887"
             ],
             [
              0.1111111111111111,
              "#46039f"
             ],
             [
              0.2222222222222222,
              "#7201a8"
             ],
             [
              0.3333333333333333,
              "#9c179e"
             ],
             [
              0.4444444444444444,
              "#bd3786"
             ],
             [
              0.5555555555555556,
              "#d8576b"
             ],
             [
              0.6666666666666666,
              "#ed7953"
             ],
             [
              0.7777777777777778,
              "#fb9f3a"
             ],
             [
              0.8888888888888888,
              "#fdca26"
             ],
             [
              1,
              "#f0f921"
             ]
            ],
            "type": "histogram2d"
           }
          ],
          "histogram2dcontour": [
           {
            "colorbar": {
             "outlinewidth": 0,
             "ticks": ""
            },
            "colorscale": [
             [
              0,
              "#0d0887"
             ],
             [
              0.1111111111111111,
              "#46039f"
             ],
             [
              0.2222222222222222,
              "#7201a8"
             ],
             [
              0.3333333333333333,
              "#9c179e"
             ],
             [
              0.4444444444444444,
              "#bd3786"
             ],
             [
              0.5555555555555556,
              "#d8576b"
             ],
             [
              0.6666666666666666,
              "#ed7953"
             ],
             [
              0.7777777777777778,
              "#fb9f3a"
             ],
             [
              0.8888888888888888,
              "#fdca26"
             ],
             [
              1,
              "#f0f921"
             ]
            ],
            "type": "histogram2dcontour"
           }
          ],
          "mesh3d": [
           {
            "colorbar": {
             "outlinewidth": 0,
             "ticks": ""
            },
            "type": "mesh3d"
           }
          ],
          "parcoords": [
           {
            "line": {
             "colorbar": {
              "outlinewidth": 0,
              "ticks": ""
             }
            },
            "type": "parcoords"
           }
          ],
          "pie": [
           {
            "automargin": true,
            "type": "pie"
           }
          ],
          "scatter": [
           {
            "fillpattern": {
             "fillmode": "overlay",
             "size": 10,
             "solidity": 0.2
            },
            "type": "scatter"
           }
          ],
          "scatter3d": [
           {
            "line": {
             "colorbar": {
              "outlinewidth": 0,
              "ticks": ""
             }
            },
            "marker": {
             "colorbar": {
              "outlinewidth": 0,
              "ticks": ""
             }
            },
            "type": "scatter3d"
           }
          ],
          "scattercarpet": [
           {
            "marker": {
             "colorbar": {
              "outlinewidth": 0,
              "ticks": ""
             }
            },
            "type": "scattercarpet"
           }
          ],
          "scattergeo": [
           {
            "marker": {
             "colorbar": {
              "outlinewidth": 0,
              "ticks": ""
             }
            },
            "type": "scattergeo"
           }
          ],
          "scattergl": [
           {
            "marker": {
             "colorbar": {
              "outlinewidth": 0,
              "ticks": ""
             }
            },
            "type": "scattergl"
           }
          ],
          "scattermapbox": [
           {
            "marker": {
             "colorbar": {
              "outlinewidth": 0,
              "ticks": ""
             }
            },
            "type": "scattermapbox"
           }
          ],
          "scatterpolar": [
           {
            "marker": {
             "colorbar": {
              "outlinewidth": 0,
              "ticks": ""
             }
            },
            "type": "scatterpolar"
           }
          ],
          "scatterpolargl": [
           {
            "marker": {
             "colorbar": {
              "outlinewidth": 0,
              "ticks": ""
             }
            },
            "type": "scatterpolargl"
           }
          ],
          "scatterternary": [
           {
            "marker": {
             "colorbar": {
              "outlinewidth": 0,
              "ticks": ""
             }
            },
            "type": "scatterternary"
           }
          ],
          "surface": [
           {
            "colorbar": {
             "outlinewidth": 0,
             "ticks": ""
            },
            "colorscale": [
             [
              0,
              "#0d0887"
             ],
             [
              0.1111111111111111,
              "#46039f"
             ],
             [
              0.2222222222222222,
              "#7201a8"
             ],
             [
              0.3333333333333333,
              "#9c179e"
             ],
             [
              0.4444444444444444,
              "#bd3786"
             ],
             [
              0.5555555555555556,
              "#d8576b"
             ],
             [
              0.6666666666666666,
              "#ed7953"
             ],
             [
              0.7777777777777778,
              "#fb9f3a"
             ],
             [
              0.8888888888888888,
              "#fdca26"
             ],
             [
              1,
              "#f0f921"
             ]
            ],
            "type": "surface"
           }
          ],
          "table": [
           {
            "cells": {
             "fill": {
              "color": "#EBF0F8"
             },
             "line": {
              "color": "white"
             }
            },
            "header": {
             "fill": {
              "color": "#C8D4E3"
             },
             "line": {
              "color": "white"
             }
            },
            "type": "table"
           }
          ]
         },
         "layout": {
          "annotationdefaults": {
           "arrowcolor": "#2a3f5f",
           "arrowhead": 0,
           "arrowwidth": 1
          },
          "autotypenumbers": "strict",
          "coloraxis": {
           "colorbar": {
            "outlinewidth": 0,
            "ticks": ""
           }
          },
          "colorscale": {
           "diverging": [
            [
             0,
             "#8e0152"
            ],
            [
             0.1,
             "#c51b7d"
            ],
            [
             0.2,
             "#de77ae"
            ],
            [
             0.3,
             "#f1b6da"
            ],
            [
             0.4,
             "#fde0ef"
            ],
            [
             0.5,
             "#f7f7f7"
            ],
            [
             0.6,
             "#e6f5d0"
            ],
            [
             0.7,
             "#b8e186"
            ],
            [
             0.8,
             "#7fbc41"
            ],
            [
             0.9,
             "#4d9221"
            ],
            [
             1,
             "#276419"
            ]
           ],
           "sequential": [
            [
             0,
             "#0d0887"
            ],
            [
             0.1111111111111111,
             "#46039f"
            ],
            [
             0.2222222222222222,
             "#7201a8"
            ],
            [
             0.3333333333333333,
             "#9c179e"
            ],
            [
             0.4444444444444444,
             "#bd3786"
            ],
            [
             0.5555555555555556,
             "#d8576b"
            ],
            [
             0.6666666666666666,
             "#ed7953"
            ],
            [
             0.7777777777777778,
             "#fb9f3a"
            ],
            [
             0.8888888888888888,
             "#fdca26"
            ],
            [
             1,
             "#f0f921"
            ]
           ],
           "sequentialminus": [
            [
             0,
             "#0d0887"
            ],
            [
             0.1111111111111111,
             "#46039f"
            ],
            [
             0.2222222222222222,
             "#7201a8"
            ],
            [
             0.3333333333333333,
             "#9c179e"
            ],
            [
             0.4444444444444444,
             "#bd3786"
            ],
            [
             0.5555555555555556,
             "#d8576b"
            ],
            [
             0.6666666666666666,
             "#ed7953"
            ],
            [
             0.7777777777777778,
             "#fb9f3a"
            ],
            [
             0.8888888888888888,
             "#fdca26"
            ],
            [
             1,
             "#f0f921"
            ]
           ]
          },
          "colorway": [
           "#636efa",
           "#EF553B",
           "#00cc96",
           "#ab63fa",
           "#FFA15A",
           "#19d3f3",
           "#FF6692",
           "#B6E880",
           "#FF97FF",
           "#FECB52"
          ],
          "font": {
           "color": "#2a3f5f"
          },
          "geo": {
           "bgcolor": "white",
           "lakecolor": "white",
           "landcolor": "#E5ECF6",
           "showlakes": true,
           "showland": true,
           "subunitcolor": "white"
          },
          "hoverlabel": {
           "align": "left"
          },
          "hovermode": "closest",
          "mapbox": {
           "style": "light"
          },
          "paper_bgcolor": "white",
          "plot_bgcolor": "#E5ECF6",
          "polar": {
           "angularaxis": {
            "gridcolor": "white",
            "linecolor": "white",
            "ticks": ""
           },
           "bgcolor": "#E5ECF6",
           "radialaxis": {
            "gridcolor": "white",
            "linecolor": "white",
            "ticks": ""
           }
          },
          "scene": {
           "xaxis": {
            "backgroundcolor": "#E5ECF6",
            "gridcolor": "white",
            "gridwidth": 2,
            "linecolor": "white",
            "showbackground": true,
            "ticks": "",
            "zerolinecolor": "white"
           },
           "yaxis": {
            "backgroundcolor": "#E5ECF6",
            "gridcolor": "white",
            "gridwidth": 2,
            "linecolor": "white",
            "showbackground": true,
            "ticks": "",
            "zerolinecolor": "white"
           },
           "zaxis": {
            "backgroundcolor": "#E5ECF6",
            "gridcolor": "white",
            "gridwidth": 2,
            "linecolor": "white",
            "showbackground": true,
            "ticks": "",
            "zerolinecolor": "white"
           }
          },
          "shapedefaults": {
           "line": {
            "color": "#2a3f5f"
           }
          },
          "ternary": {
           "aaxis": {
            "gridcolor": "white",
            "linecolor": "white",
            "ticks": ""
           },
           "baxis": {
            "gridcolor": "white",
            "linecolor": "white",
            "ticks": ""
           },
           "bgcolor": "#E5ECF6",
           "caxis": {
            "gridcolor": "white",
            "linecolor": "white",
            "ticks": ""
           }
          },
          "title": {
           "x": 0.05
          },
          "xaxis": {
           "automargin": true,
           "gridcolor": "white",
           "linecolor": "white",
           "ticks": "",
           "title": {
            "standoff": 15
           },
           "zerolinecolor": "white",
           "zerolinewidth": 2
          },
          "yaxis": {
           "automargin": true,
           "gridcolor": "white",
           "linecolor": "white",
           "ticks": "",
           "title": {
            "standoff": 15
           },
           "zerolinecolor": "white",
           "zerolinewidth": 2
          }
         }
        },
        "title": {
         "font": {
          "color": "#4D5663"
         },
         "text": "Topic 5: Top 100 bigrams after removing stop words"
        },
        "xaxis": {
         "gridcolor": "#E1E5ED",
         "linecolor": "black",
         "showgrid": true,
         "tickfont": {
          "color": "#4D5663"
         },
         "title": {
          "font": {
           "color": "#4D5663"
          },
          "text": ""
         },
         "zerolinecolor": "#E1E5ED"
        },
        "yaxis": {
         "gridcolor": "#E1E5ED",
         "linecolor": "black",
         "showgrid": true,
         "tickfont": {
          "color": "#4D5663"
         },
         "title": {
          "font": {
           "color": "#4D5663"
          },
          "text": "Count"
         },
         "zerolinecolor": "#E1E5ED"
        }
       }
      },
      "text/html": [
       "<div>                            <div id=\"791000fb-e13c-4628-9aa2-096d29fb67e4\" class=\"plotly-graph-div\" style=\"height:525px; width:100%;\"></div>            <script type=\"text/javascript\">                require([\"plotly\"], function(Plotly) {                    window.PLOTLYENV=window.PLOTLYENV || {};\n",
       "                    window.PLOTLYENV.BASE_URL='https://plot.ly';                                    if (document.getElementById(\"791000fb-e13c-4628-9aa2-096d29fb67e4\")) {                    Plotly.newPlot(                        \"791000fb-e13c-4628-9aa2-096d29fb67e4\",                        [{\"marker\":{\"color\":\"rgba(255, 153, 51, 0.6)\",\"line\":{\"color\":\"rgba(255, 153, 51, 1.0)\",\"width\":1}},\"name\":\"count\",\"orientation\":\"v\",\"text\":\"\",\"x\":[\"get rid\",\"raise taxis\",\"collusion obstruction\",\"delete acid\",\"new book\",\"impeachment process\",\"democrat want\",\"sanctuary city\",\"many year\",\"email get\",\"rescue operation\",\"evidence collusion\",\"eye chuck\",\"foxnew get\",\"get back\",\"get catch\",\"get know\",\"crime commit\",\"get subpoena\",\"read transcript\",\"go fast\",\"month likewise\",\"acid wash\",\"operation underway\",\"open border\",\"great people\",\"drug price\",\"tonight foxnew\",\"call read\",\"wrong get\",\"wash email\",\"american people\",\"anonymous source\",\"want open\",\"big rally\",\"lottery catch\",\"chuck todd\",\"sleepy eye\",\"catch release\",\"test happy\",\"wrong happy\",\"medium authority\",\"nancy_pelosi go\",\"washed mail\",\"source angry\",\"nuclear test\",\"mail medium\",\"openly give\",\"want silence\",\"order today\",\"red handed\",\"rocket launch\",\"unlawful conduct\",\"read go\",\"trigger leave\",\"silence available\",\"tomorrow great\",\"time consequence\",\"thrive hate\",\"tax cut\",\"recommend read\",\"say ever\",\"absolutely crazy\",\"long time\",\"consequence unlawful\",\"come new\",\"catch red\",\"catch long\",\"book trigger\",\"book highly\",\"big tax\",\"available tomorrow\",\"authority delete\",\"ask always\",\"apology jim\",\"angry go\",\"always anonymous\",\"admit wrong\",\"actually catch\",\"acid washed\",\"conduct year\",\"crazy big\",\"likewise nuclear\",\"donaldjtrumpjr come\",\"leave thrive\",\"launch month\",\"jail apology\",\"highly recommend\",\"hate want\",\"happy fake_new\",\"handed actually\",\"great new\",\"go order\",\"go absolutely\",\"give mail\",\"fast enough\",\"fake_new say\",\"ever ask\",\"enough wrong\",\"year jail\"],\"y\":[3,3,3,3,2,2,2,2,2,2,2,2,2,2,2,2,2,2,2,2,2,2,2,2,2,2,2,2,2,2,2,2,2,2,2,2,2,2,2,1,1,1,1,1,1,1,1,1,1,1,1,1,1,1,1,1,1,1,1,1,1,1,1,1,1,1,1,1,1,1,1,1,1,1,1,1,1,1,1,1,1,1,1,1,1,1,1,1,1,1,1,1,1,1,1,1,1,1,1,1],\"type\":\"bar\"}],                        {\"legend\":{\"bgcolor\":\"#F5F6F9\",\"font\":{\"color\":\"#4D5663\"}},\"paper_bgcolor\":\"#F5F6F9\",\"plot_bgcolor\":\"#F5F6F9\",\"template\":{\"data\":{\"barpolar\":[{\"marker\":{\"line\":{\"color\":\"#E5ECF6\",\"width\":0.5},\"pattern\":{\"fillmode\":\"overlay\",\"size\":10,\"solidity\":0.2}},\"type\":\"barpolar\"}],\"bar\":[{\"error_x\":{\"color\":\"#2a3f5f\"},\"error_y\":{\"color\":\"#2a3f5f\"},\"marker\":{\"line\":{\"color\":\"#E5ECF6\",\"width\":0.5},\"pattern\":{\"fillmode\":\"overlay\",\"size\":10,\"solidity\":0.2}},\"type\":\"bar\"}],\"carpet\":[{\"aaxis\":{\"endlinecolor\":\"#2a3f5f\",\"gridcolor\":\"white\",\"linecolor\":\"white\",\"minorgridcolor\":\"white\",\"startlinecolor\":\"#2a3f5f\"},\"baxis\":{\"endlinecolor\":\"#2a3f5f\",\"gridcolor\":\"white\",\"linecolor\":\"white\",\"minorgridcolor\":\"white\",\"startlinecolor\":\"#2a3f5f\"},\"type\":\"carpet\"}],\"choropleth\":[{\"colorbar\":{\"outlinewidth\":0,\"ticks\":\"\"},\"type\":\"choropleth\"}],\"contourcarpet\":[{\"colorbar\":{\"outlinewidth\":0,\"ticks\":\"\"},\"type\":\"contourcarpet\"}],\"contour\":[{\"colorbar\":{\"outlinewidth\":0,\"ticks\":\"\"},\"colorscale\":[[0.0,\"#0d0887\"],[0.1111111111111111,\"#46039f\"],[0.2222222222222222,\"#7201a8\"],[0.3333333333333333,\"#9c179e\"],[0.4444444444444444,\"#bd3786\"],[0.5555555555555556,\"#d8576b\"],[0.6666666666666666,\"#ed7953\"],[0.7777777777777778,\"#fb9f3a\"],[0.8888888888888888,\"#fdca26\"],[1.0,\"#f0f921\"]],\"type\":\"contour\"}],\"heatmapgl\":[{\"colorbar\":{\"outlinewidth\":0,\"ticks\":\"\"},\"colorscale\":[[0.0,\"#0d0887\"],[0.1111111111111111,\"#46039f\"],[0.2222222222222222,\"#7201a8\"],[0.3333333333333333,\"#9c179e\"],[0.4444444444444444,\"#bd3786\"],[0.5555555555555556,\"#d8576b\"],[0.6666666666666666,\"#ed7953\"],[0.7777777777777778,\"#fb9f3a\"],[0.8888888888888888,\"#fdca26\"],[1.0,\"#f0f921\"]],\"type\":\"heatmapgl\"}],\"heatmap\":[{\"colorbar\":{\"outlinewidth\":0,\"ticks\":\"\"},\"colorscale\":[[0.0,\"#0d0887\"],[0.1111111111111111,\"#46039f\"],[0.2222222222222222,\"#7201a8\"],[0.3333333333333333,\"#9c179e\"],[0.4444444444444444,\"#bd3786\"],[0.5555555555555556,\"#d8576b\"],[0.6666666666666666,\"#ed7953\"],[0.7777777777777778,\"#fb9f3a\"],[0.8888888888888888,\"#fdca26\"],[1.0,\"#f0f921\"]],\"type\":\"heatmap\"}],\"histogram2dcontour\":[{\"colorbar\":{\"outlinewidth\":0,\"ticks\":\"\"},\"colorscale\":[[0.0,\"#0d0887\"],[0.1111111111111111,\"#46039f\"],[0.2222222222222222,\"#7201a8\"],[0.3333333333333333,\"#9c179e\"],[0.4444444444444444,\"#bd3786\"],[0.5555555555555556,\"#d8576b\"],[0.6666666666666666,\"#ed7953\"],[0.7777777777777778,\"#fb9f3a\"],[0.8888888888888888,\"#fdca26\"],[1.0,\"#f0f921\"]],\"type\":\"histogram2dcontour\"}],\"histogram2d\":[{\"colorbar\":{\"outlinewidth\":0,\"ticks\":\"\"},\"colorscale\":[[0.0,\"#0d0887\"],[0.1111111111111111,\"#46039f\"],[0.2222222222222222,\"#7201a8\"],[0.3333333333333333,\"#9c179e\"],[0.4444444444444444,\"#bd3786\"],[0.5555555555555556,\"#d8576b\"],[0.6666666666666666,\"#ed7953\"],[0.7777777777777778,\"#fb9f3a\"],[0.8888888888888888,\"#fdca26\"],[1.0,\"#f0f921\"]],\"type\":\"histogram2d\"}],\"histogram\":[{\"marker\":{\"pattern\":{\"fillmode\":\"overlay\",\"size\":10,\"solidity\":0.2}},\"type\":\"histogram\"}],\"mesh3d\":[{\"colorbar\":{\"outlinewidth\":0,\"ticks\":\"\"},\"type\":\"mesh3d\"}],\"parcoords\":[{\"line\":{\"colorbar\":{\"outlinewidth\":0,\"ticks\":\"\"}},\"type\":\"parcoords\"}],\"pie\":[{\"automargin\":true,\"type\":\"pie\"}],\"scatter3d\":[{\"line\":{\"colorbar\":{\"outlinewidth\":0,\"ticks\":\"\"}},\"marker\":{\"colorbar\":{\"outlinewidth\":0,\"ticks\":\"\"}},\"type\":\"scatter3d\"}],\"scattercarpet\":[{\"marker\":{\"colorbar\":{\"outlinewidth\":0,\"ticks\":\"\"}},\"type\":\"scattercarpet\"}],\"scattergeo\":[{\"marker\":{\"colorbar\":{\"outlinewidth\":0,\"ticks\":\"\"}},\"type\":\"scattergeo\"}],\"scattergl\":[{\"marker\":{\"colorbar\":{\"outlinewidth\":0,\"ticks\":\"\"}},\"type\":\"scattergl\"}],\"scattermapbox\":[{\"marker\":{\"colorbar\":{\"outlinewidth\":0,\"ticks\":\"\"}},\"type\":\"scattermapbox\"}],\"scatterpolargl\":[{\"marker\":{\"colorbar\":{\"outlinewidth\":0,\"ticks\":\"\"}},\"type\":\"scatterpolargl\"}],\"scatterpolar\":[{\"marker\":{\"colorbar\":{\"outlinewidth\":0,\"ticks\":\"\"}},\"type\":\"scatterpolar\"}],\"scatter\":[{\"fillpattern\":{\"fillmode\":\"overlay\",\"size\":10,\"solidity\":0.2},\"type\":\"scatter\"}],\"scatterternary\":[{\"marker\":{\"colorbar\":{\"outlinewidth\":0,\"ticks\":\"\"}},\"type\":\"scatterternary\"}],\"surface\":[{\"colorbar\":{\"outlinewidth\":0,\"ticks\":\"\"},\"colorscale\":[[0.0,\"#0d0887\"],[0.1111111111111111,\"#46039f\"],[0.2222222222222222,\"#7201a8\"],[0.3333333333333333,\"#9c179e\"],[0.4444444444444444,\"#bd3786\"],[0.5555555555555556,\"#d8576b\"],[0.6666666666666666,\"#ed7953\"],[0.7777777777777778,\"#fb9f3a\"],[0.8888888888888888,\"#fdca26\"],[1.0,\"#f0f921\"]],\"type\":\"surface\"}],\"table\":[{\"cells\":{\"fill\":{\"color\":\"#EBF0F8\"},\"line\":{\"color\":\"white\"}},\"header\":{\"fill\":{\"color\":\"#C8D4E3\"},\"line\":{\"color\":\"white\"}},\"type\":\"table\"}]},\"layout\":{\"annotationdefaults\":{\"arrowcolor\":\"#2a3f5f\",\"arrowhead\":0,\"arrowwidth\":1},\"autotypenumbers\":\"strict\",\"coloraxis\":{\"colorbar\":{\"outlinewidth\":0,\"ticks\":\"\"}},\"colorscale\":{\"diverging\":[[0,\"#8e0152\"],[0.1,\"#c51b7d\"],[0.2,\"#de77ae\"],[0.3,\"#f1b6da\"],[0.4,\"#fde0ef\"],[0.5,\"#f7f7f7\"],[0.6,\"#e6f5d0\"],[0.7,\"#b8e186\"],[0.8,\"#7fbc41\"],[0.9,\"#4d9221\"],[1,\"#276419\"]],\"sequential\":[[0.0,\"#0d0887\"],[0.1111111111111111,\"#46039f\"],[0.2222222222222222,\"#7201a8\"],[0.3333333333333333,\"#9c179e\"],[0.4444444444444444,\"#bd3786\"],[0.5555555555555556,\"#d8576b\"],[0.6666666666666666,\"#ed7953\"],[0.7777777777777778,\"#fb9f3a\"],[0.8888888888888888,\"#fdca26\"],[1.0,\"#f0f921\"]],\"sequentialminus\":[[0.0,\"#0d0887\"],[0.1111111111111111,\"#46039f\"],[0.2222222222222222,\"#7201a8\"],[0.3333333333333333,\"#9c179e\"],[0.4444444444444444,\"#bd3786\"],[0.5555555555555556,\"#d8576b\"],[0.6666666666666666,\"#ed7953\"],[0.7777777777777778,\"#fb9f3a\"],[0.8888888888888888,\"#fdca26\"],[1.0,\"#f0f921\"]]},\"colorway\":[\"#636efa\",\"#EF553B\",\"#00cc96\",\"#ab63fa\",\"#FFA15A\",\"#19d3f3\",\"#FF6692\",\"#B6E880\",\"#FF97FF\",\"#FECB52\"],\"font\":{\"color\":\"#2a3f5f\"},\"geo\":{\"bgcolor\":\"white\",\"lakecolor\":\"white\",\"landcolor\":\"#E5ECF6\",\"showlakes\":true,\"showland\":true,\"subunitcolor\":\"white\"},\"hoverlabel\":{\"align\":\"left\"},\"hovermode\":\"closest\",\"mapbox\":{\"style\":\"light\"},\"paper_bgcolor\":\"white\",\"plot_bgcolor\":\"#E5ECF6\",\"polar\":{\"angularaxis\":{\"gridcolor\":\"white\",\"linecolor\":\"white\",\"ticks\":\"\"},\"bgcolor\":\"#E5ECF6\",\"radialaxis\":{\"gridcolor\":\"white\",\"linecolor\":\"white\",\"ticks\":\"\"}},\"scene\":{\"xaxis\":{\"backgroundcolor\":\"#E5ECF6\",\"gridcolor\":\"white\",\"gridwidth\":2,\"linecolor\":\"white\",\"showbackground\":true,\"ticks\":\"\",\"zerolinecolor\":\"white\"},\"yaxis\":{\"backgroundcolor\":\"#E5ECF6\",\"gridcolor\":\"white\",\"gridwidth\":2,\"linecolor\":\"white\",\"showbackground\":true,\"ticks\":\"\",\"zerolinecolor\":\"white\"},\"zaxis\":{\"backgroundcolor\":\"#E5ECF6\",\"gridcolor\":\"white\",\"gridwidth\":2,\"linecolor\":\"white\",\"showbackground\":true,\"ticks\":\"\",\"zerolinecolor\":\"white\"}},\"shapedefaults\":{\"line\":{\"color\":\"#2a3f5f\"}},\"ternary\":{\"aaxis\":{\"gridcolor\":\"white\",\"linecolor\":\"white\",\"ticks\":\"\"},\"baxis\":{\"gridcolor\":\"white\",\"linecolor\":\"white\",\"ticks\":\"\"},\"bgcolor\":\"#E5ECF6\",\"caxis\":{\"gridcolor\":\"white\",\"linecolor\":\"white\",\"ticks\":\"\"}},\"title\":{\"x\":0.05},\"xaxis\":{\"automargin\":true,\"gridcolor\":\"white\",\"linecolor\":\"white\",\"ticks\":\"\",\"title\":{\"standoff\":15},\"zerolinecolor\":\"white\",\"zerolinewidth\":2},\"yaxis\":{\"automargin\":true,\"gridcolor\":\"white\",\"linecolor\":\"white\",\"ticks\":\"\",\"title\":{\"standoff\":15},\"zerolinecolor\":\"white\",\"zerolinewidth\":2}}},\"title\":{\"font\":{\"color\":\"#4D5663\"},\"text\":\"Topic 5: Top 100 bigrams after removing stop words\"},\"xaxis\":{\"gridcolor\":\"#E1E5ED\",\"linecolor\":\"black\",\"showgrid\":true,\"tickfont\":{\"color\":\"#4D5663\"},\"title\":{\"font\":{\"color\":\"#4D5663\"},\"text\":\"\"},\"zerolinecolor\":\"#E1E5ED\"},\"yaxis\":{\"gridcolor\":\"#E1E5ED\",\"linecolor\":\"black\",\"showgrid\":true,\"tickfont\":{\"color\":\"#4D5663\"},\"title\":{\"font\":{\"color\":\"#4D5663\"},\"text\":\"Count\"},\"zerolinecolor\":\"#E1E5ED\"}},                        {\"showLink\": true, \"linkText\": \"Export to plot.ly\", \"plotlyServerURL\": \"https://plot.ly\", \"responsive\": true}                    ).then(function(){\n",
       "                            \n",
       "var gd = document.getElementById('791000fb-e13c-4628-9aa2-096d29fb67e4');\n",
       "var x = new MutationObserver(function (mutations, observer) {{\n",
       "        var display = window.getComputedStyle(gd).display;\n",
       "        if (!display || display === 'none') {{\n",
       "            console.log([gd, 'removed!']);\n",
       "            Plotly.purge(gd);\n",
       "            observer.disconnect();\n",
       "        }}\n",
       "}});\n",
       "\n",
       "// Listen for the removal of the full notebook cells\n",
       "var notebookContainer = gd.closest('#notebook-container');\n",
       "if (notebookContainer) {{\n",
       "    x.observe(notebookContainer, {childList: true});\n",
       "}}\n",
       "\n",
       "// Listen for the clearing of the current output cell\n",
       "var outputEl = gd.closest('.output');\n",
       "if (outputEl) {{\n",
       "    x.observe(outputEl, {childList: true});\n",
       "}}\n",
       "\n",
       "                        })                };                });            </script>        </div>"
      ]
     },
     "metadata": {},
     "output_type": "display_data"
    },
    {
     "data": {
      "text/html": [
       "        <script type=\"text/javascript\">\n",
       "        window.PlotlyConfig = {MathJaxConfig: 'local'};\n",
       "        if (window.MathJax && window.MathJax.Hub && window.MathJax.Hub.Config) {window.MathJax.Hub.Config({SVG: {font: \"STIX-Web\"}});}\n",
       "        if (typeof require !== 'undefined') {\n",
       "        require.undef(\"plotly\");\n",
       "        requirejs.config({\n",
       "            paths: {\n",
       "                'plotly': ['https://cdn.plot.ly/plotly-2.12.1.min']\n",
       "            }\n",
       "        });\n",
       "        require(['plotly'], function(Plotly) {\n",
       "            window._Plotly = Plotly;\n",
       "        });\n",
       "        }\n",
       "        </script>\n",
       "        "
      ]
     },
     "metadata": {},
     "output_type": "display_data"
    },
    {
     "name": "stderr",
     "output_type": "stream",
     "text": [
      "IOPub message rate exceeded.\n",
      "The notebook server will temporarily stop sending output\n",
      "to the client in order to avoid crashing it.\n",
      "To change this limit, set the config variable\n",
      "`--NotebookApp.iopub_msg_rate_limit`.\n",
      "\n",
      "Current values:\n",
      "NotebookApp.iopub_msg_rate_limit=1000.0 (msgs/sec)\n",
      "NotebookApp.rate_limit_window=3.0 (secs)\n",
      "\n"
     ]
    },
    {
     "data": {
      "application/vnd.plotly.v1+json": {
       "config": {
        "linkText": "Export to plot.ly",
        "plotlyServerURL": "https://plot.ly",
        "showLink": true
       },
       "data": [
        {
         "histfunc": "count",
         "histnorm": "",
         "marker": {
          "color": "rgba(255, 153, 51, 1.0)",
          "line": {
           "color": "#000000",
           "width": 1.3
          }
         },
         "name": "tweet",
         "nbinsx": 50,
         "opacity": 0.8,
         "orientation": "v",
         "type": "histogram",
         "x": [
          -0.13,
          0.1387878787878788,
          0,
          0.13333333333333333,
          0,
          -0.19999999999999998,
          -0.2625,
          0,
          0,
          0.1875,
          0.2375,
          0,
          -0.3,
          -0.2285714285714286,
          -0.09999999999999999,
          0,
          0,
          0.06727272727272728,
          -0.2,
          0.8,
          0,
          0.5,
          0,
          -0.15000000000000002,
          -0.3333333333333333,
          0,
          0.5,
          0,
          0,
          0.15000000000000008,
          0,
          0,
          0.4,
          0.5,
          0,
          -0.2,
          0.1,
          0,
          -0.05,
          -0.8,
          -0.3333333333333333,
          0.4681818181818182,
          0,
          -0.5,
          0.0666666666666667,
          0.4,
          0.325,
          0,
          0.4,
          0,
          0.04545454545454545,
          -0.10714285714285715,
          0,
          -0.14583333333333334,
          0.0625,
          0.23194444444444443,
          0.2,
          0.14444444444444446,
          0.16666666666666666,
          -0.125,
          -0.16666666666666666,
          0.13333333333333333,
          0.05,
          0.2,
          0,
          0,
          0.18611111111111112,
          -0.23333333333333328,
          0,
          0.03968253968253968,
          0,
          0,
          0,
          0.04999999999999999,
          -0.06999999999999999,
          0,
          0,
          0,
          0,
          -0.22698412698412698,
          0.32166666666666666,
          0,
          0,
          0.5,
          0,
          -0.6999999999999998,
          0,
          0,
          0.4000000000000001,
          0,
          0.15,
          -0.30000000000000004,
          0,
          0,
          0,
          0.54,
          0,
          0.025,
          0.7,
          0.29000000000000004,
          -0.16666666666666666,
          0.41818181818181815,
          -0.4466666666666666,
          -0.1,
          0.3444444444444445,
          0,
          0,
          0,
          -0.3666666666666667,
          0,
          0,
          -0.5,
          0.85,
          0,
          -0.03749999999999999,
          -0.07333333333333329,
          0,
          0.1,
          -0.1,
          0,
          0,
          0.13636363636363635,
          1,
          -0.25,
          0,
          0,
          0,
          0,
          0,
          0,
          0,
          0.8500000000000001,
          -0.5499999999999999,
          0,
          0.21428571428571427,
          -0.5,
          0.125,
          0.3,
          0.1,
          0.4,
          0.7,
          0
         ]
        }
       ],
       "layout": {
        "barmode": "overlay",
        "legend": {
         "bgcolor": "#F5F6F9",
         "font": {
          "color": "#4D5663"
         }
        },
        "paper_bgcolor": "#F5F6F9",
        "plot_bgcolor": "#F5F6F9",
        "template": {
         "data": {
          "bar": [
           {
            "error_x": {
             "color": "#2a3f5f"
            },
            "error_y": {
             "color": "#2a3f5f"
            },
            "marker": {
             "line": {
              "color": "#E5ECF6",
              "width": 0.5
             },
             "pattern": {
              "fillmode": "overlay",
              "size": 10,
              "solidity": 0.2
             }
            },
            "type": "bar"
           }
          ],
          "barpolar": [
           {
            "marker": {
             "line": {
              "color": "#E5ECF6",
              "width": 0.5
             },
             "pattern": {
              "fillmode": "overlay",
              "size": 10,
              "solidity": 0.2
             }
            },
            "type": "barpolar"
           }
          ],
          "carpet": [
           {
            "aaxis": {
             "endlinecolor": "#2a3f5f",
             "gridcolor": "white",
             "linecolor": "white",
             "minorgridcolor": "white",
             "startlinecolor": "#2a3f5f"
            },
            "baxis": {
             "endlinecolor": "#2a3f5f",
             "gridcolor": "white",
             "linecolor": "white",
             "minorgridcolor": "white",
             "startlinecolor": "#2a3f5f"
            },
            "type": "carpet"
           }
          ],
          "choropleth": [
           {
            "colorbar": {
             "outlinewidth": 0,
             "ticks": ""
            },
            "type": "choropleth"
           }
          ],
          "contour": [
           {
            "colorbar": {
             "outlinewidth": 0,
             "ticks": ""
            },
            "colorscale": [
             [
              0,
              "#0d0887"
             ],
             [
              0.1111111111111111,
              "#46039f"
             ],
             [
              0.2222222222222222,
              "#7201a8"
             ],
             [
              0.3333333333333333,
              "#9c179e"
             ],
             [
              0.4444444444444444,
              "#bd3786"
             ],
             [
              0.5555555555555556,
              "#d8576b"
             ],
             [
              0.6666666666666666,
              "#ed7953"
             ],
             [
              0.7777777777777778,
              "#fb9f3a"
             ],
             [
              0.8888888888888888,
              "#fdca26"
             ],
             [
              1,
              "#f0f921"
             ]
            ],
            "type": "contour"
           }
          ],
          "contourcarpet": [
           {
            "colorbar": {
             "outlinewidth": 0,
             "ticks": ""
            },
            "type": "contourcarpet"
           }
          ],
          "heatmap": [
           {
            "colorbar": {
             "outlinewidth": 0,
             "ticks": ""
            },
            "colorscale": [
             [
              0,
              "#0d0887"
             ],
             [
              0.1111111111111111,
              "#46039f"
             ],
             [
              0.2222222222222222,
              "#7201a8"
             ],
             [
              0.3333333333333333,
              "#9c179e"
             ],
             [
              0.4444444444444444,
              "#bd3786"
             ],
             [
              0.5555555555555556,
              "#d8576b"
             ],
             [
              0.6666666666666666,
              "#ed7953"
             ],
             [
              0.7777777777777778,
              "#fb9f3a"
             ],
             [
              0.8888888888888888,
              "#fdca26"
             ],
             [
              1,
              "#f0f921"
             ]
            ],
            "type": "heatmap"
           }
          ],
          "heatmapgl": [
           {
            "colorbar": {
             "outlinewidth": 0,
             "ticks": ""
            },
            "colorscale": [
             [
              0,
              "#0d0887"
             ],
             [
              0.1111111111111111,
              "#46039f"
             ],
             [
              0.2222222222222222,
              "#7201a8"
             ],
             [
              0.3333333333333333,
              "#9c179e"
             ],
             [
              0.4444444444444444,
              "#bd3786"
             ],
             [
              0.5555555555555556,
              "#d8576b"
             ],
             [
              0.6666666666666666,
              "#ed7953"
             ],
             [
              0.7777777777777778,
              "#fb9f3a"
             ],
             [
              0.8888888888888888,
              "#fdca26"
             ],
             [
              1,
              "#f0f921"
             ]
            ],
            "type": "heatmapgl"
           }
          ],
          "histogram": [
           {
            "marker": {
             "pattern": {
              "fillmode": "overlay",
              "size": 10,
              "solidity": 0.2
             }
            },
            "type": "histogram"
           }
          ],
          "histogram2d": [
           {
            "colorbar": {
             "outlinewidth": 0,
             "ticks": ""
            },
            "colorscale": [
             [
              0,
              "#0d0887"
             ],
             [
              0.1111111111111111,
              "#46039f"
             ],
             [
              0.2222222222222222,
              "#7201a8"
             ],
             [
              0.3333333333333333,
              "#9c179e"
             ],
             [
              0.4444444444444444,
              "#bd3786"
             ],
             [
              0.5555555555555556,
              "#d8576b"
             ],
             [
              0.6666666666666666,
              "#ed7953"
             ],
             [
              0.7777777777777778,
              "#fb9f3a"
             ],
             [
              0.8888888888888888,
              "#fdca26"
             ],
             [
              1,
              "#f0f921"
             ]
            ],
            "type": "histogram2d"
           }
          ],
          "histogram2dcontour": [
           {
            "colorbar": {
             "outlinewidth": 0,
             "ticks": ""
            },
            "colorscale": [
             [
              0,
              "#0d0887"
             ],
             [
              0.1111111111111111,
              "#46039f"
             ],
             [
              0.2222222222222222,
              "#7201a8"
             ],
             [
              0.3333333333333333,
              "#9c179e"
             ],
             [
              0.4444444444444444,
              "#bd3786"
             ],
             [
              0.5555555555555556,
              "#d8576b"
             ],
             [
              0.6666666666666666,
              "#ed7953"
             ],
             [
              0.7777777777777778,
              "#fb9f3a"
             ],
             [
              0.8888888888888888,
              "#fdca26"
             ],
             [
              1,
              "#f0f921"
             ]
            ],
            "type": "histogram2dcontour"
           }
          ],
          "mesh3d": [
           {
            "colorbar": {
             "outlinewidth": 0,
             "ticks": ""
            },
            "type": "mesh3d"
           }
          ],
          "parcoords": [
           {
            "line": {
             "colorbar": {
              "outlinewidth": 0,
              "ticks": ""
             }
            },
            "type": "parcoords"
           }
          ],
          "pie": [
           {
            "automargin": true,
            "type": "pie"
           }
          ],
          "scatter": [
           {
            "fillpattern": {
             "fillmode": "overlay",
             "size": 10,
             "solidity": 0.2
            },
            "type": "scatter"
           }
          ],
          "scatter3d": [
           {
            "line": {
             "colorbar": {
              "outlinewidth": 0,
              "ticks": ""
             }
            },
            "marker": {
             "colorbar": {
              "outlinewidth": 0,
              "ticks": ""
             }
            },
            "type": "scatter3d"
           }
          ],
          "scattercarpet": [
           {
            "marker": {
             "colorbar": {
              "outlinewidth": 0,
              "ticks": ""
             }
            },
            "type": "scattercarpet"
           }
          ],
          "scattergeo": [
           {
            "marker": {
             "colorbar": {
              "outlinewidth": 0,
              "ticks": ""
             }
            },
            "type": "scattergeo"
           }
          ],
          "scattergl": [
           {
            "marker": {
             "colorbar": {
              "outlinewidth": 0,
              "ticks": ""
             }
            },
            "type": "scattergl"
           }
          ],
          "scattermapbox": [
           {
            "marker": {
             "colorbar": {
              "outlinewidth": 0,
              "ticks": ""
             }
            },
            "type": "scattermapbox"
           }
          ],
          "scatterpolar": [
           {
            "marker": {
             "colorbar": {
              "outlinewidth": 0,
              "ticks": ""
             }
            },
            "type": "scatterpolar"
           }
          ],
          "scatterpolargl": [
           {
            "marker": {
             "colorbar": {
              "outlinewidth": 0,
              "ticks": ""
             }
            },
            "type": "scatterpolargl"
           }
          ],
          "scatterternary": [
           {
            "marker": {
             "colorbar": {
              "outlinewidth": 0,
              "ticks": ""
             }
            },
            "type": "scatterternary"
           }
          ],
          "surface": [
           {
            "colorbar": {
             "outlinewidth": 0,
             "ticks": ""
            },
            "colorscale": [
             [
              0,
              "#0d0887"
             ],
             [
              0.1111111111111111,
              "#46039f"
             ],
             [
              0.2222222222222222,
              "#7201a8"
             ],
             [
              0.3333333333333333,
              "#9c179e"
             ],
             [
              0.4444444444444444,
              "#bd3786"
             ],
             [
              0.5555555555555556,
              "#d8576b"
             ],
             [
              0.6666666666666666,
              "#ed7953"
             ],
             [
              0.7777777777777778,
              "#fb9f3a"
             ],
             [
              0.8888888888888888,
              "#fdca26"
             ],
             [
              1,
              "#f0f921"
             ]
            ],
            "type": "surface"
           }
          ],
          "table": [
           {
            "cells": {
             "fill": {
              "color": "#EBF0F8"
             },
             "line": {
              "color": "white"
             }
            },
            "header": {
             "fill": {
              "color": "#C8D4E3"
             },
             "line": {
              "color": "white"
             }
            },
            "type": "table"
           }
          ]
         },
         "layout": {
          "annotationdefaults": {
           "arrowcolor": "#2a3f5f",
           "arrowhead": 0,
           "arrowwidth": 1
          },
          "autotypenumbers": "strict",
          "coloraxis": {
           "colorbar": {
            "outlinewidth": 0,
            "ticks": ""
           }
          },
          "colorscale": {
           "diverging": [
            [
             0,
             "#8e0152"
            ],
            [
             0.1,
             "#c51b7d"
            ],
            [
             0.2,
             "#de77ae"
            ],
            [
             0.3,
             "#f1b6da"
            ],
            [
             0.4,
             "#fde0ef"
            ],
            [
             0.5,
             "#f7f7f7"
            ],
            [
             0.6,
             "#e6f5d0"
            ],
            [
             0.7,
             "#b8e186"
            ],
            [
             0.8,
             "#7fbc41"
            ],
            [
             0.9,
             "#4d9221"
            ],
            [
             1,
             "#276419"
            ]
           ],
           "sequential": [
            [
             0,
             "#0d0887"
            ],
            [
             0.1111111111111111,
             "#46039f"
            ],
            [
             0.2222222222222222,
             "#7201a8"
            ],
            [
             0.3333333333333333,
             "#9c179e"
            ],
            [
             0.4444444444444444,
             "#bd3786"
            ],
            [
             0.5555555555555556,
             "#d8576b"
            ],
            [
             0.6666666666666666,
             "#ed7953"
            ],
            [
             0.7777777777777778,
             "#fb9f3a"
            ],
            [
             0.8888888888888888,
             "#fdca26"
            ],
            [
             1,
             "#f0f921"
            ]
           ],
           "sequentialminus": [
            [
             0,
             "#0d0887"
            ],
            [
             0.1111111111111111,
             "#46039f"
            ],
            [
             0.2222222222222222,
             "#7201a8"
            ],
            [
             0.3333333333333333,
             "#9c179e"
            ],
            [
             0.4444444444444444,
             "#bd3786"
            ],
            [
             0.5555555555555556,
             "#d8576b"
            ],
            [
             0.6666666666666666,
             "#ed7953"
            ],
            [
             0.7777777777777778,
             "#fb9f3a"
            ],
            [
             0.8888888888888888,
             "#fdca26"
            ],
            [
             1,
             "#f0f921"
            ]
           ]
          },
          "colorway": [
           "#636efa",
           "#EF553B",
           "#00cc96",
           "#ab63fa",
           "#FFA15A",
           "#19d3f3",
           "#FF6692",
           "#B6E880",
           "#FF97FF",
           "#FECB52"
          ],
          "font": {
           "color": "#2a3f5f"
          },
          "geo": {
           "bgcolor": "white",
           "lakecolor": "white",
           "landcolor": "#E5ECF6",
           "showlakes": true,
           "showland": true,
           "subunitcolor": "white"
          },
          "hoverlabel": {
           "align": "left"
          },
          "hovermode": "closest",
          "mapbox": {
           "style": "light"
          },
          "paper_bgcolor": "white",
          "plot_bgcolor": "#E5ECF6",
          "polar": {
           "angularaxis": {
            "gridcolor": "white",
            "linecolor": "white",
            "ticks": ""
           },
           "bgcolor": "#E5ECF6",
           "radialaxis": {
            "gridcolor": "white",
            "linecolor": "white",
            "ticks": ""
           }
          },
          "scene": {
           "xaxis": {
            "backgroundcolor": "#E5ECF6",
            "gridcolor": "white",
            "gridwidth": 2,
            "linecolor": "white",
            "showbackground": true,
            "ticks": "",
            "zerolinecolor": "white"
           },
           "yaxis": {
            "backgroundcolor": "#E5ECF6",
            "gridcolor": "white",
            "gridwidth": 2,
            "linecolor": "white",
            "showbackground": true,
            "ticks": "",
            "zerolinecolor": "white"
           },
           "zaxis": {
            "backgroundcolor": "#E5ECF6",
            "gridcolor": "white",
            "gridwidth": 2,
            "linecolor": "white",
            "showbackground": true,
            "ticks": "",
            "zerolinecolor": "white"
           }
          },
          "shapedefaults": {
           "line": {
            "color": "#2a3f5f"
           }
          },
          "ternary": {
           "aaxis": {
            "gridcolor": "white",
            "linecolor": "white",
            "ticks": ""
           },
           "baxis": {
            "gridcolor": "white",
            "linecolor": "white",
            "ticks": ""
           },
           "bgcolor": "#E5ECF6",
           "caxis": {
            "gridcolor": "white",
            "linecolor": "white",
            "ticks": ""
           }
          },
          "title": {
           "x": 0.05
          },
          "xaxis": {
           "automargin": true,
           "gridcolor": "white",
           "linecolor": "white",
           "ticks": "",
           "title": {
            "standoff": 15
           },
           "zerolinecolor": "white",
           "zerolinewidth": 2
          },
          "yaxis": {
           "automargin": true,
           "gridcolor": "white",
           "linecolor": "white",
           "ticks": "",
           "title": {
            "standoff": 15
           },
           "zerolinecolor": "white",
           "zerolinewidth": 2
          }
         }
        },
        "title": {
         "font": {
          "color": "#4D5663"
         },
         "text": "Topic 5: Sentiment Polarity Distribution"
        },
        "xaxis": {
         "gridcolor": "#E1E5ED",
         "linecolor": "black",
         "showgrid": true,
         "tickfont": {
          "color": "#4D5663"
         },
         "title": {
          "font": {
           "color": "#4D5663"
          },
          "text": "polarity"
         },
         "zerolinecolor": "#E1E5ED"
        },
        "yaxis": {
         "gridcolor": "#E1E5ED",
         "linecolor": "black",
         "showgrid": true,
         "tickfont": {
          "color": "#4D5663"
         },
         "title": {
          "font": {
           "color": "#4D5663"
          },
          "text": "count"
         },
         "zerolinecolor": "#E1E5ED"
        }
       }
      },
      "text/html": [
       "<div>                            <div id=\"c16025c3-079c-41a7-9f1e-1e87f9ca3a88\" class=\"plotly-graph-div\" style=\"height:525px; width:100%;\"></div>            <script type=\"text/javascript\">                require([\"plotly\"], function(Plotly) {                    window.PLOTLYENV=window.PLOTLYENV || {};\n",
       "                    window.PLOTLYENV.BASE_URL='https://plot.ly';                                    if (document.getElementById(\"c16025c3-079c-41a7-9f1e-1e87f9ca3a88\")) {                    Plotly.newPlot(                        \"c16025c3-079c-41a7-9f1e-1e87f9ca3a88\",                        [{\"histfunc\":\"count\",\"histnorm\":\"\",\"marker\":{\"color\":\"rgba(255, 153, 51, 1.0)\",\"line\":{\"color\":\"#000000\",\"width\":1.3}},\"name\":\"tweet\",\"nbinsx\":50,\"opacity\":0.8,\"orientation\":\"v\",\"x\":[-0.13,0.1387878787878788,0.0,0.13333333333333333,0.0,-0.19999999999999998,-0.2625,0.0,0.0,0.1875,0.2375,0.0,-0.3,-0.2285714285714286,-0.09999999999999999,0.0,0.0,0.06727272727272728,-0.2,0.8,0.0,0.5,0.0,-0.15000000000000002,-0.3333333333333333,0.0,0.5,0.0,0.0,0.15000000000000008,0.0,0.0,0.4,0.5,0.0,-0.2,0.1,0.0,-0.05,-0.8,-0.3333333333333333,0.4681818181818182,0.0,-0.5,0.0666666666666667,0.4,0.325,0.0,0.4,0.0,0.04545454545454545,-0.10714285714285715,0.0,-0.14583333333333334,0.0625,0.23194444444444443,0.2,0.14444444444444446,0.16666666666666666,-0.125,-0.16666666666666666,0.13333333333333333,0.05,0.2,0.0,0.0,0.18611111111111112,-0.23333333333333328,0.0,0.03968253968253968,0.0,0.0,0.0,0.04999999999999999,-0.06999999999999999,0.0,0.0,0.0,0.0,-0.22698412698412698,0.32166666666666666,0.0,0.0,0.5,0.0,-0.6999999999999998,0.0,0.0,0.4000000000000001,0.0,0.15,-0.30000000000000004,0.0,0.0,0.0,0.54,0.0,0.025,0.7,0.29000000000000004,-0.16666666666666666,0.41818181818181815,-0.4466666666666666,-0.1,0.3444444444444445,0.0,0.0,0.0,-0.3666666666666667,0.0,0.0,-0.5,0.85,0.0,-0.03749999999999999,-0.07333333333333329,0.0,0.1,-0.1,0.0,0.0,0.13636363636363635,1.0,-0.25,0.0,0.0,0.0,0.0,0.0,0.0,0.0,0.8500000000000001,-0.5499999999999999,0.0,0.21428571428571427,-0.5,0.125,0.3,0.1,0.4,0.7,0.0],\"type\":\"histogram\"}],                        {\"barmode\":\"overlay\",\"legend\":{\"bgcolor\":\"#F5F6F9\",\"font\":{\"color\":\"#4D5663\"}},\"paper_bgcolor\":\"#F5F6F9\",\"plot_bgcolor\":\"#F5F6F9\",\"template\":{\"data\":{\"barpolar\":[{\"marker\":{\"line\":{\"color\":\"#E5ECF6\",\"width\":0.5},\"pattern\":{\"fillmode\":\"overlay\",\"size\":10,\"solidity\":0.2}},\"type\":\"barpolar\"}],\"bar\":[{\"error_x\":{\"color\":\"#2a3f5f\"},\"error_y\":{\"color\":\"#2a3f5f\"},\"marker\":{\"line\":{\"color\":\"#E5ECF6\",\"width\":0.5},\"pattern\":{\"fillmode\":\"overlay\",\"size\":10,\"solidity\":0.2}},\"type\":\"bar\"}],\"carpet\":[{\"aaxis\":{\"endlinecolor\":\"#2a3f5f\",\"gridcolor\":\"white\",\"linecolor\":\"white\",\"minorgridcolor\":\"white\",\"startlinecolor\":\"#2a3f5f\"},\"baxis\":{\"endlinecolor\":\"#2a3f5f\",\"gridcolor\":\"white\",\"linecolor\":\"white\",\"minorgridcolor\":\"white\",\"startlinecolor\":\"#2a3f5f\"},\"type\":\"carpet\"}],\"choropleth\":[{\"colorbar\":{\"outlinewidth\":0,\"ticks\":\"\"},\"type\":\"choropleth\"}],\"contourcarpet\":[{\"colorbar\":{\"outlinewidth\":0,\"ticks\":\"\"},\"type\":\"contourcarpet\"}],\"contour\":[{\"colorbar\":{\"outlinewidth\":0,\"ticks\":\"\"},\"colorscale\":[[0.0,\"#0d0887\"],[0.1111111111111111,\"#46039f\"],[0.2222222222222222,\"#7201a8\"],[0.3333333333333333,\"#9c179e\"],[0.4444444444444444,\"#bd3786\"],[0.5555555555555556,\"#d8576b\"],[0.6666666666666666,\"#ed7953\"],[0.7777777777777778,\"#fb9f3a\"],[0.8888888888888888,\"#fdca26\"],[1.0,\"#f0f921\"]],\"type\":\"contour\"}],\"heatmapgl\":[{\"colorbar\":{\"outlinewidth\":0,\"ticks\":\"\"},\"colorscale\":[[0.0,\"#0d0887\"],[0.1111111111111111,\"#46039f\"],[0.2222222222222222,\"#7201a8\"],[0.3333333333333333,\"#9c179e\"],[0.4444444444444444,\"#bd3786\"],[0.5555555555555556,\"#d8576b\"],[0.6666666666666666,\"#ed7953\"],[0.7777777777777778,\"#fb9f3a\"],[0.8888888888888888,\"#fdca26\"],[1.0,\"#f0f921\"]],\"type\":\"heatmapgl\"}],\"heatmap\":[{\"colorbar\":{\"outlinewidth\":0,\"ticks\":\"\"},\"colorscale\":[[0.0,\"#0d0887\"],[0.1111111111111111,\"#46039f\"],[0.2222222222222222,\"#7201a8\"],[0.3333333333333333,\"#9c179e\"],[0.4444444444444444,\"#bd3786\"],[0.5555555555555556,\"#d8576b\"],[0.6666666666666666,\"#ed7953\"],[0.7777777777777778,\"#fb9f3a\"],[0.8888888888888888,\"#fdca26\"],[1.0,\"#f0f921\"]],\"type\":\"heatmap\"}],\"histogram2dcontour\":[{\"colorbar\":{\"outlinewidth\":0,\"ticks\":\"\"},\"colorscale\":[[0.0,\"#0d0887\"],[0.1111111111111111,\"#46039f\"],[0.2222222222222222,\"#7201a8\"],[0.3333333333333333,\"#9c179e\"],[0.4444444444444444,\"#bd3786\"],[0.5555555555555556,\"#d8576b\"],[0.6666666666666666,\"#ed7953\"],[0.7777777777777778,\"#fb9f3a\"],[0.8888888888888888,\"#fdca26\"],[1.0,\"#f0f921\"]],\"type\":\"histogram2dcontour\"}],\"histogram2d\":[{\"colorbar\":{\"outlinewidth\":0,\"ticks\":\"\"},\"colorscale\":[[0.0,\"#0d0887\"],[0.1111111111111111,\"#46039f\"],[0.2222222222222222,\"#7201a8\"],[0.3333333333333333,\"#9c179e\"],[0.4444444444444444,\"#bd3786\"],[0.5555555555555556,\"#d8576b\"],[0.6666666666666666,\"#ed7953\"],[0.7777777777777778,\"#fb9f3a\"],[0.8888888888888888,\"#fdca26\"],[1.0,\"#f0f921\"]],\"type\":\"histogram2d\"}],\"histogram\":[{\"marker\":{\"pattern\":{\"fillmode\":\"overlay\",\"size\":10,\"solidity\":0.2}},\"type\":\"histogram\"}],\"mesh3d\":[{\"colorbar\":{\"outlinewidth\":0,\"ticks\":\"\"},\"type\":\"mesh3d\"}],\"parcoords\":[{\"line\":{\"colorbar\":{\"outlinewidth\":0,\"ticks\":\"\"}},\"type\":\"parcoords\"}],\"pie\":[{\"automargin\":true,\"type\":\"pie\"}],\"scatter3d\":[{\"line\":{\"colorbar\":{\"outlinewidth\":0,\"ticks\":\"\"}},\"marker\":{\"colorbar\":{\"outlinewidth\":0,\"ticks\":\"\"}},\"type\":\"scatter3d\"}],\"scattercarpet\":[{\"marker\":{\"colorbar\":{\"outlinewidth\":0,\"ticks\":\"\"}},\"type\":\"scattercarpet\"}],\"scattergeo\":[{\"marker\":{\"colorbar\":{\"outlinewidth\":0,\"ticks\":\"\"}},\"type\":\"scattergeo\"}],\"scattergl\":[{\"marker\":{\"colorbar\":{\"outlinewidth\":0,\"ticks\":\"\"}},\"type\":\"scattergl\"}],\"scattermapbox\":[{\"marker\":{\"colorbar\":{\"outlinewidth\":0,\"ticks\":\"\"}},\"type\":\"scattermapbox\"}],\"scatterpolargl\":[{\"marker\":{\"colorbar\":{\"outlinewidth\":0,\"ticks\":\"\"}},\"type\":\"scatterpolargl\"}],\"scatterpolar\":[{\"marker\":{\"colorbar\":{\"outlinewidth\":0,\"ticks\":\"\"}},\"type\":\"scatterpolar\"}],\"scatter\":[{\"fillpattern\":{\"fillmode\":\"overlay\",\"size\":10,\"solidity\":0.2},\"type\":\"scatter\"}],\"scatterternary\":[{\"marker\":{\"colorbar\":{\"outlinewidth\":0,\"ticks\":\"\"}},\"type\":\"scatterternary\"}],\"surface\":[{\"colorbar\":{\"outlinewidth\":0,\"ticks\":\"\"},\"colorscale\":[[0.0,\"#0d0887\"],[0.1111111111111111,\"#46039f\"],[0.2222222222222222,\"#7201a8\"],[0.3333333333333333,\"#9c179e\"],[0.4444444444444444,\"#bd3786\"],[0.5555555555555556,\"#d8576b\"],[0.6666666666666666,\"#ed7953\"],[0.7777777777777778,\"#fb9f3a\"],[0.8888888888888888,\"#fdca26\"],[1.0,\"#f0f921\"]],\"type\":\"surface\"}],\"table\":[{\"cells\":{\"fill\":{\"color\":\"#EBF0F8\"},\"line\":{\"color\":\"white\"}},\"header\":{\"fill\":{\"color\":\"#C8D4E3\"},\"line\":{\"color\":\"white\"}},\"type\":\"table\"}]},\"layout\":{\"annotationdefaults\":{\"arrowcolor\":\"#2a3f5f\",\"arrowhead\":0,\"arrowwidth\":1},\"autotypenumbers\":\"strict\",\"coloraxis\":{\"colorbar\":{\"outlinewidth\":0,\"ticks\":\"\"}},\"colorscale\":{\"diverging\":[[0,\"#8e0152\"],[0.1,\"#c51b7d\"],[0.2,\"#de77ae\"],[0.3,\"#f1b6da\"],[0.4,\"#fde0ef\"],[0.5,\"#f7f7f7\"],[0.6,\"#e6f5d0\"],[0.7,\"#b8e186\"],[0.8,\"#7fbc41\"],[0.9,\"#4d9221\"],[1,\"#276419\"]],\"sequential\":[[0.0,\"#0d0887\"],[0.1111111111111111,\"#46039f\"],[0.2222222222222222,\"#7201a8\"],[0.3333333333333333,\"#9c179e\"],[0.4444444444444444,\"#bd3786\"],[0.5555555555555556,\"#d8576b\"],[0.6666666666666666,\"#ed7953\"],[0.7777777777777778,\"#fb9f3a\"],[0.8888888888888888,\"#fdca26\"],[1.0,\"#f0f921\"]],\"sequentialminus\":[[0.0,\"#0d0887\"],[0.1111111111111111,\"#46039f\"],[0.2222222222222222,\"#7201a8\"],[0.3333333333333333,\"#9c179e\"],[0.4444444444444444,\"#bd3786\"],[0.5555555555555556,\"#d8576b\"],[0.6666666666666666,\"#ed7953\"],[0.7777777777777778,\"#fb9f3a\"],[0.8888888888888888,\"#fdca26\"],[1.0,\"#f0f921\"]]},\"colorway\":[\"#636efa\",\"#EF553B\",\"#00cc96\",\"#ab63fa\",\"#FFA15A\",\"#19d3f3\",\"#FF6692\",\"#B6E880\",\"#FF97FF\",\"#FECB52\"],\"font\":{\"color\":\"#2a3f5f\"},\"geo\":{\"bgcolor\":\"white\",\"lakecolor\":\"white\",\"landcolor\":\"#E5ECF6\",\"showlakes\":true,\"showland\":true,\"subunitcolor\":\"white\"},\"hoverlabel\":{\"align\":\"left\"},\"hovermode\":\"closest\",\"mapbox\":{\"style\":\"light\"},\"paper_bgcolor\":\"white\",\"plot_bgcolor\":\"#E5ECF6\",\"polar\":{\"angularaxis\":{\"gridcolor\":\"white\",\"linecolor\":\"white\",\"ticks\":\"\"},\"bgcolor\":\"#E5ECF6\",\"radialaxis\":{\"gridcolor\":\"white\",\"linecolor\":\"white\",\"ticks\":\"\"}},\"scene\":{\"xaxis\":{\"backgroundcolor\":\"#E5ECF6\",\"gridcolor\":\"white\",\"gridwidth\":2,\"linecolor\":\"white\",\"showbackground\":true,\"ticks\":\"\",\"zerolinecolor\":\"white\"},\"yaxis\":{\"backgroundcolor\":\"#E5ECF6\",\"gridcolor\":\"white\",\"gridwidth\":2,\"linecolor\":\"white\",\"showbackground\":true,\"ticks\":\"\",\"zerolinecolor\":\"white\"},\"zaxis\":{\"backgroundcolor\":\"#E5ECF6\",\"gridcolor\":\"white\",\"gridwidth\":2,\"linecolor\":\"white\",\"showbackground\":true,\"ticks\":\"\",\"zerolinecolor\":\"white\"}},\"shapedefaults\":{\"line\":{\"color\":\"#2a3f5f\"}},\"ternary\":{\"aaxis\":{\"gridcolor\":\"white\",\"linecolor\":\"white\",\"ticks\":\"\"},\"baxis\":{\"gridcolor\":\"white\",\"linecolor\":\"white\",\"ticks\":\"\"},\"bgcolor\":\"#E5ECF6\",\"caxis\":{\"gridcolor\":\"white\",\"linecolor\":\"white\",\"ticks\":\"\"}},\"title\":{\"x\":0.05},\"xaxis\":{\"automargin\":true,\"gridcolor\":\"white\",\"linecolor\":\"white\",\"ticks\":\"\",\"title\":{\"standoff\":15},\"zerolinecolor\":\"white\",\"zerolinewidth\":2},\"yaxis\":{\"automargin\":true,\"gridcolor\":\"white\",\"linecolor\":\"white\",\"ticks\":\"\",\"title\":{\"standoff\":15},\"zerolinecolor\":\"white\",\"zerolinewidth\":2}}},\"title\":{\"font\":{\"color\":\"#4D5663\"},\"text\":\"Topic 5: Sentiment Polarity Distribution\"},\"xaxis\":{\"gridcolor\":\"#E1E5ED\",\"linecolor\":\"black\",\"showgrid\":true,\"tickfont\":{\"color\":\"#4D5663\"},\"title\":{\"font\":{\"color\":\"#4D5663\"},\"text\":\"polarity\"},\"zerolinecolor\":\"#E1E5ED\"},\"yaxis\":{\"gridcolor\":\"#E1E5ED\",\"linecolor\":\"black\",\"showgrid\":true,\"tickfont\":{\"color\":\"#4D5663\"},\"title\":{\"font\":{\"color\":\"#4D5663\"},\"text\":\"count\"},\"zerolinecolor\":\"#E1E5ED\"}},                        {\"showLink\": true, \"linkText\": \"Export to plot.ly\", \"plotlyServerURL\": \"https://plot.ly\", \"responsive\": true}                    ).then(function(){\n",
       "                            \n",
       "var gd = document.getElementById('c16025c3-079c-41a7-9f1e-1e87f9ca3a88');\n",
       "var x = new MutationObserver(function (mutations, observer) {{\n",
       "        var display = window.getComputedStyle(gd).display;\n",
       "        if (!display || display === 'none') {{\n",
       "            console.log([gd, 'removed!']);\n",
       "            Plotly.purge(gd);\n",
       "            observer.disconnect();\n",
       "        }}\n",
       "}});\n",
       "\n",
       "// Listen for the removal of the full notebook cells\n",
       "var notebookContainer = gd.closest('#notebook-container');\n",
       "if (notebookContainer) {{\n",
       "    x.observe(notebookContainer, {childList: true});\n",
       "}}\n",
       "\n",
       "// Listen for the clearing of the current output cell\n",
       "var outputEl = gd.closest('.output');\n",
       "if (outputEl) {{\n",
       "    x.observe(outputEl, {childList: true});\n",
       "}}\n",
       "\n",
       "                        })                };                });            </script>        </div>"
      ]
     },
     "metadata": {},
     "output_type": "display_data"
    },
    {
     "data": {
      "text/html": [
       "        <script type=\"text/javascript\">\n",
       "        window.PlotlyConfig = {MathJaxConfig: 'local'};\n",
       "        if (window.MathJax && window.MathJax.Hub && window.MathJax.Hub.Config) {window.MathJax.Hub.Config({SVG: {font: \"STIX-Web\"}});}\n",
       "        if (typeof require !== 'undefined') {\n",
       "        require.undef(\"plotly\");\n",
       "        requirejs.config({\n",
       "            paths: {\n",
       "                'plotly': ['https://cdn.plot.ly/plotly-2.12.1.min']\n",
       "            }\n",
       "        });\n",
       "        require(['plotly'], function(Plotly) {\n",
       "            window._Plotly = Plotly;\n",
       "        });\n",
       "        }\n",
       "        </script>\n",
       "        "
      ]
     },
     "metadata": {},
     "output_type": "display_data"
    },
    {
     "data": {
      "application/vnd.plotly.v1+json": {
       "config": {
        "plotlyServerURL": "https://plot.ly"
       },
       "data": [
        {
         "hovertemplate": "Dominant_Topic=Topic 0<br>0=%{x}<br>1=%{y}<br>2=%{z}<extra></extra>",
         "legendgroup": "Topic 0",
         "marker": {
          "color": "#636efa",
          "opacity": 0.7,
          "symbol": "circle"
         },
         "mode": "markers",
         "name": "Topic 0",
         "scene": "scene",
         "showlegend": true,
         "type": "scatter3d",
         "x": [
          6.455711364746094,
          5.656100749969482,
          5.106969356536865,
          6.84020471572876,
          3.317164182662964,
          4.800588607788086,
          5.830792427062988,
          5.956500053405762,
          4.467307090759277,
          7.165859222412109,
          2.944234848022461,
          5.7786407470703125,
          6.665858745574951,
          5.525217056274414,
          5.9948530197143555,
          5.6784796714782715,
          6.115243434906006,
          4.467238426208496,
          6.097805500030518,
          4.467311382293701,
          5.788039684295654,
          6.207200527191162,
          6.222085952758789,
          5.767361164093018,
          0.5623862743377686,
          5.364199161529541,
          5.949154376983643,
          6.327784538269043,
          4.4601874351501465,
          6.2653350830078125,
          6.810920715332031,
          5.880139350891113,
          6.810920715332031,
          5.801774501800537,
          6.691368579864502,
          4.640583038330078,
          6.903707981109619,
          5.908892631530762,
          5.538702964782715,
          5.646691799163818,
          1.98139488697052,
          3.4658663272857666,
          5.635611534118652,
          6.4521989822387695,
          4.467355251312256,
          6.781723976135254,
          6.118534564971924,
          4.46723747253418,
          6.89718770980835,
          6.2506537437438965,
          5.8798112869262695,
          5.879702091217041,
          6.7719292640686035,
          5.377307891845703,
          5.671123027801514,
          4.577334403991699,
          2.5572900772094727,
          6.461437225341797,
          6.143511772155762,
          6.20495080947876,
          6.094336986541748,
          7.287074565887451,
          5.708413124084473,
          6.58487606048584,
          6.584842205047607,
          4.8108062744140625,
          3.466304302215576,
          0.08365163207054138,
          4.847844123840332,
          2.700139045715332,
          5.630865573883057,
          4.801146507263184,
          4.801547527313232,
          7.357471466064453,
          4.61848258972168,
          7.491495609283447,
          1.3344510793685913,
          6.451449871063232,
          6.240037441253662,
          6.146418571472168,
          7.750633239746094,
          6.802401065826416,
          0.048399534076452255,
          5.596858978271484,
          6.072351455688477,
          5.83091402053833,
          7.60832405090332,
          3.4501142501831055,
          5.629743576049805,
          6.852236747741699,
          6.1331987380981445,
          7.459048271179199,
          6.918941974639893,
          6.005924701690674,
          4.460326194763184,
          3.5551865100860596,
          5.988254070281982,
          5.949748992919922,
          5.565180778503418,
          5.927674293518066,
          5.910976409912109,
          6.90278434753418,
          2.920473337173462,
          4.525217533111572,
          0.6276490688323975,
          4.459752559661865,
          5.113187789916992,
          0.7741609811782837,
          6.0900397300720215,
          2.919996500015259,
          6.147480010986328,
          6.4614362716674805,
          5.16847562789917,
          6.250171184539795,
          3.5343923568725586,
          6.143537521362305,
          4.925984859466553,
          4.79522705078125,
          6.701179027557373,
          6.274765491485596,
          6.382687568664551,
          5.947936534881592,
          6.363972187042236,
          6.088334083557129,
          6.606039524078369,
          6.044266223907471,
          6.3414387702941895,
          3.8693947792053223,
          3.2490694522857666,
          2.7820801734924316,
          5.8295769691467285,
          6.780770778656006,
          4.815382480621338,
          4.467348098754883,
          1.7369368076324463,
          6.206100940704346,
          5.9758429527282715,
          4.457564353942871,
          4.5805511474609375,
          4.672847747802734,
          5.111167907714844,
          6.844672679901123,
          5.95056676864624,
          6.089195251464844,
          0.003878168063238263,
          7.4454264640808105,
          4.9118146896362305,
          5.636674404144287,
          6.004034519195557,
          5.10283088684082,
          6.3793511390686035,
          6.810920715332031,
          6.770298480987549,
          6.273244380950928,
          6.236723899841309,
          5.881417751312256,
          4.791308879852295,
          6.851959228515625
         ],
         "y": [
          12.707989692687988,
          5.783560276031494,
          6.548816204071045,
          -0.48292970657348633,
          2.455564498901367,
          5.916388034820557,
          10.268327713012695,
          10.301387786865234,
          4.045653820037842,
          3.0710396766662598,
          7.006405830383301,
          7.981174468994141,
          13.62282657623291,
          8.219539642333984,
          8.18830394744873,
          5.89006233215332,
          10.233331680297852,
          4.046064376831055,
          12.741874694824219,
          4.045633792877197,
          5.427310943603516,
          11.93234634399414,
          10.197321891784668,
          10.184563636779785,
          5.303215980529785,
          7.0374064445495605,
          9.489569664001465,
          13.59012508392334,
          5.069135665893555,
          12.472009658813477,
          -0.5054242610931396,
          8.795210838317871,
          -0.5054242610931396,
          10.063338279724121,
          13.34069538116455,
          2.2725727558135986,
          -0.4510217607021332,
          5.689253807067871,
          8.086508750915527,
          8.28459358215332,
          5.864136219024658,
          2.815507173538208,
          5.603495121002197,
          14.464362144470215,
          4.0454301834106445,
          -0.5297021269798279,
          13.994895935058594,
          4.046069622039795,
          -0.4182695150375366,
          12.441415786743164,
          8.772971153259277,
          8.779413223266602,
          13.483882904052734,
          7.060542106628418,
          5.741953372955322,
          1.9972472190856934,
          5.974350929260254,
          14.477591514587402,
          11.344707489013672,
          11.908924102783203,
          13.989457130432129,
          3.3351449966430664,
          5.548589706420898,
          14.046624183654785,
          13.050989151000977,
          3.1875762939453125,
          2.762866735458374,
          5.261656284332275,
          3.3257529735565186,
          6.5164971351623535,
          7.553873062133789,
          5.914988994598389,
          3.017270565032959,
          3.2515947818756104,
          6.036347389221191,
          2.2263739109039307,
          5.581028461456299,
          14.509774208068848,
          13.340729713439941,
          11.384387969970703,
          -23.16188621520996,
          -0.4964161515235901,
          4.912158489227295,
          0.4061228036880493,
          9.98438835144043,
          8.273527145385742,
          2.725768566131592,
          2.779583692550659,
          7.554445743560791,
          -0.4449886679649353,
          13.064291954040527,
          2.2190542221069336,
          -0.456409752368927,
          8.115747451782227,
          5.0688652992248535,
          2.9342551231384277,
          13.331982612609863,
          9.495630264282227,
          8.057510375976562,
          9.944733619689941,
          7.94848108291626,
          -0.42570415139198303,
          6.958159446716309,
          1.8006972074508667,
          5.093377113342285,
          5.062699794769287,
          6.558694839477539,
          5.407026290893555,
          10.7938232421875,
          6.971004486083984,
          11.390226364135742,
          14.47657585144043,
          7.69242000579834,
          12.429588317871094,
          2.7869954109191895,
          11.354070663452148,
          3.8404510021209717,
          2.9933698177337646,
          14.180922508239746,
          10.102152824401855,
          13.521265983581543,
          5.834148406982422,
          13.850881576538086,
          10.766284942626953,
          12.921311378479004,
          13.036720275878906,
          13.106738090515137,
          3.197129011154175,
          2.3478705883026123,
          6.728084087371826,
          6.675843238830566,
          -0.5010040998458862,
          3.256636619567871,
          4.045462608337402,
          5.713387489318848,
          11.921052932739258,
          7.965786457061768,
          5.059656143188477,
          2.0103912353515625,
          2.415809154510498,
          6.557559967041016,
          -0.4751928448677063,
          9.506680488586426,
          10.778488159179688,
          4.4355974197387695,
          2.9654810428619385,
          3.7721831798553467,
          7.568475246429443,
          13.663312911987305,
          6.537704944610596,
          14.257061004638672,
          -0.5054242610931396,
          13.897183418273926,
          12.473191261291504,
          10.04068660736084,
          8.806824684143066,
          5.896862506866455,
          -0.40576374530792236
         ],
         "z": [
          -7.189908504486084,
          0.586998462677002,
          -1.9011486768722534,
          1.2059954404830933,
          1.7207258939743042,
          -1.5932567119598389,
          -4.693337917327881,
          -4.620423793792725,
          0.020790880545973778,
          1.9806673526763916,
          -1.6443125009536743,
          -3.5258758068084717,
          -8.055289268493652,
          -3.251404047012329,
          -3.17814564704895,
          0.49333909153938293,
          -4.5870890617370605,
          0.02044125646352768,
          -7.141759872436523,
          0.020814578980207443,
          1.1196538209915161,
          -6.206638336181641,
          -4.656511306762695,
          -4.835355758666992,
          -1.0904046297073364,
          -2.2901055812835693,
          -4.327719688415527,
          -8.124720573425293,
          -1.0476146936416626,
          -6.636870384216309,
          1.1938049793243408,
          -3.826894760131836,
          1.1938049793243408,
          -4.924442291259766,
          -7.1907172203063965,
          -2.6537587642669678,
          1.0564876794815063,
          -3.333674907684326,
          -3.4310061931610107,
          -3.1295111179351807,
          -1.1687582731246948,
          1.3444604873657227,
          0.7241633534431458,
          -8.721217155456543,
          0.020814377814531326,
          1.0889803171157837,
          -8.115592002868652,
          0.020435255020856857,
          1.0645216703414917,
          -6.618853569030762,
          -3.8122055530548096,
          -3.8166990280151367,
          -7.636556625366211,
          -2.307584762573242,
          0.6596484184265137,
          -2.775419235229492,
          -1.1930100917816162,
          -8.790748596191406,
          -5.726819038391113,
          -6.188572883605957,
          -7.7548627853393555,
          1.0840051174163818,
          0.8958662152290344,
          -7.604552745819092,
          -7.524139404296875,
          -2.3006787300109863,
          1.385163426399231,
          -1.1414539813995361,
          -2.3134546279907227,
          -1.4214930534362793,
          -2.8071699142456055,
          -1.5931739807128906,
          -2.424384593963623,
          1.1500756740570068,
          -2.4950637817382812,
          0.985785722732544,
          -1.107109546661377,
          -8.488007545471191,
          -7.892499923706055,
          -5.7586283683776855,
          -61.39399337768555,
          1.043658971786499,
          -1.025894284248352,
          1.3425333499908447,
          -5.012382507324219,
          -3.095606803894043,
          1.3230066299438477,
          1.3847776651382446,
          -2.804565906524658,
          1.033327341079712,
          -7.5517401695251465,
          0.9389974474906921,
          1.0665326118469238,
          -3.1807973384857178,
          -1.0474077463150024,
          1.1804215908050537,
          -7.251521110534668,
          -4.3316426277160645,
          -3.460441827774048,
          -4.961508274078369,
          -3.4362924098968506,
          1.066312551498413,
          -1.6204067468643188,
          -2.8488337993621826,
          -0.9999703764915466,
          -1.0447064638137817,
          -1.9064412117004395,
          -1.1029759645462036,
          -5.301953315734863,
          -1.6254727840423584,
          -5.7656474113464355,
          -8.789091110229492,
          -1.6725777387619019,
          -6.619902610778809,
          1.3243974447250366,
          -5.733966827392578,
          -2.231048345565796,
          -2.425616502761841,
          -8.222188949584961,
          -4.834492206573486,
          -7.047798156738281,
          -3.3864283561706543,
          -7.325087547302246,
          -5.281822204589844,
          -6.951550483703613,
          -6.921510696411133,
          -6.786992073059082,
          0.465998113155365,
          1.8482460975646973,
          -1.5113930702209473,
          -1.1107357740402222,
          1.0751157999038696,
          -2.256641149520874,
          0.021012403070926666,
          -1.1220847368240356,
          -6.199013710021973,
          -3.352374315261841,
          -1.0386399030685425,
          -2.7594940662384033,
          -2.6082773208618164,
          -1.9054936170578003,
          1.205517053604126,
          -4.336650848388672,
          -5.2918572425842285,
          -0.9445770978927612,
          1.5521047115325928,
          -2.2285234928131104,
          -2.8180527687072754,
          -7.575292587280273,
          -1.8956974744796753,
          -7.858089923858643,
          1.1938049793243408,
          -7.759976387023926,
          -6.633598804473877,
          -4.911399841308594,
          -3.8355631828308105,
          -1.583935022354126,
          1.183440923690796
         ]
        },
        {
         "hovertemplate": "Dominant_Topic=Topic 1<br>0=%{x}<br>1=%{y}<br>2=%{z}<extra></extra>",
         "legendgroup": "Topic 1",
         "marker": {
          "color": "#EF553B",
          "opacity": 0.7,
          "symbol": "circle"
         },
         "mode": "markers",
         "name": "Topic 1",
         "scene": "scene",
         "showlegend": true,
         "type": "scatter3d",
         "x": [
          -13.076515197753906,
          -16.82480812072754,
          -9.725296020507812,
          -10.212730407714844,
          -21.851886749267578,
          -15.766351699829102,
          -2.823845624923706,
          -4.164464950561523,
          -14.872207641601562,
          -2.6080124378204346,
          -2.533578634262085,
          -6.225125312805176,
          -0.18879550695419312,
          -4.226921081542969,
          -9.755416870117188,
          -6.501399517059326,
          -22.157630920410156,
          -4.8246965408325195,
          -17.337844848632812,
          -16.549240112304688,
          -4.78362512588501,
          -18.809141159057617,
          -13.246360778808594,
          -16.149656295776367,
          -4.757714748382568,
          -13.329983711242676,
          -20.25324249267578,
          8.86319637298584,
          -6.514055252075195,
          -5.3822855949401855,
          -11.737963676452637,
          -2.533581495285034,
          -13.773788452148438,
          -16.951831817626953,
          -8.585366249084473,
          -4.6276936531066895,
          -3.815511703491211,
          -14.507973670959473,
          -1.309826374053955,
          -20.20122528076172,
          -12.08703327178955,
          -19.42098045349121,
          -16.813322067260742,
          -11.64425277709961,
          -0.7866091728210449,
          -2.537395715713501,
          -4.167083263397217,
          -11.828399658203125,
          -18.16632080078125,
          -14.757573127746582,
          -20.560558319091797,
          -22.548166275024414,
          -5.196331977844238,
          -8.5484037399292,
          -21.549306869506836,
          -4.598934650421143,
          -5.363645553588867,
          -10.045434951782227,
          -17.309864044189453,
          -9.963957786560059,
          -4.168395042419434,
          -14.819212913513184,
          -8.50899887084961,
          -4.645474910736084,
          -20.640134811401367,
          -6.493211269378662,
          -11.727059364318848,
          -19.458341598510742,
          -18.151958465576172,
          -5.25618314743042,
          -16.39435577392578,
          -9.812653541564941,
          -9.9920072555542,
          -4.571573257446289,
          -5.386543273925781,
          -2.77327036857605,
          -1.0355427265167236,
          -22.19361114501953,
          -6.523576259613037,
          -14.954231262207031,
          -18.791902542114258,
          -3.3541460037231445,
          -18.16422462463379,
          -13.333062171936035,
          -20.037267684936523,
          -13.530146598815918,
          -19.45802116394043,
          -10.143813133239746,
          -13.630857467651367,
          -21.219818115234375,
          -19.939193725585938,
          -2.3396406173706055,
          -11.777695655822754,
          -6.507241249084473,
          -20.115819931030273,
          -2.533611536026001,
          -11.730628967285156,
          -3.3365278244018555,
          -2.986213445663452,
          -4.662879943847656,
          -22.46535873413086,
          -4.794127941131592,
          -2.5362462997436523,
          -14.55423641204834,
          -18.187850952148438,
          -8.591403007507324,
          -5.84277868270874,
          -18.85113525390625,
          -9.790413856506348,
          -3.285552978515625,
          -13.169635772705078,
          -21.756174087524414,
          -20.71371078491211,
          -15.71599006652832,
          -22.947969436645508,
          -2.9873874187469482,
          9.549443244934082,
          -9.707812309265137,
          -17.389829635620117,
          -20.618587493896484,
          8.950980186462402,
          -3.4962425231933594,
          -21.97364616394043,
          -5.4434895515441895,
          -18.78335189819336,
          -10.321309089660645,
          -2.5335662364959717,
          -3.0489954948425293,
          -4.797637462615967,
          -4.515270233154297,
          -2.65313982963562,
          -16.274494171142578,
          -16.393325805664062,
          -11.925230026245117,
          -16.328887939453125,
          -16.239242553710938,
          -4.163609027862549,
          -13.701258659362793,
          -12.048515319824219,
          -14.439306259155273,
          -22.721271514892578,
          -16.906862258911133,
          -22.94830894470215,
          -21.82636833190918,
          -9.984764099121094,
          -15.758207321166992,
          -5.350573539733887,
          -14.747343063354492,
          -14.53452205657959,
          -14.642338752746582,
          -15.736595153808594,
          -19.976776123046875,
          -15.723298072814941,
          -20.136898040771484,
          -4.1633501052856445,
          -13.317301750183105,
          -18.837427139282227,
          -7.523855686187744,
          -11.737342834472656,
          -2.5382509231567383,
          -22.292890548706055,
          -19.947237014770508,
          -20.75103759765625,
          -5.989114284515381,
          -8.524197578430176,
          -20.768800735473633,
          -8.507140159606934,
          -14.61271858215332,
          -9.715994834899902,
          -11.948819160461426,
          -5.428778171539307,
          -4.962532043457031,
          -2.5869147777557373,
          -0.2907666265964508,
          -13.360733032226562,
          -5.372658729553223,
          -6.478694915771484,
          -10.008543968200684,
          -21.539064407348633,
          -8.530141830444336,
          -22.32961082458496,
          -4.886659622192383,
          -4.153615951538086,
          -16.798526763916016,
          -16.399248123168945,
          -5.382965564727783,
          -5.361512184143066,
          -5.372516632080078,
          -3.5763702392578125,
          -13.18730354309082,
          -10.089576721191406,
          -19.43971824645996,
          -0.24436835944652557,
          -14.922168731689453,
          -16.591413497924805,
          -10.32237434387207,
          -13.595521926879883,
          -7.514926433563232,
          -3.5849387645721436,
          -8.57433795928955,
          -3.2359514236450195,
          -11.654309272766113,
          -16.72709083557129,
          -4.804656505584717,
          -17.326236724853516,
          -21.148387908935547,
          -3.0644872188568115,
          -22.585811614990234,
          -13.525519371032715,
          -18.755352020263672,
          -16.75341033935547,
          -11.937948226928711,
          -6.412499904632568,
          -0.6973117589950562,
          -18.091365814208984,
          -15.668686866760254,
          -4.737668991088867,
          -9.722611427307129,
          -13.090536117553711,
          -3.3273253440856934,
          -4.158298492431641,
          -2.9892828464508057,
          -11.926483154296875,
          -22.114051818847656,
          -14.661306381225586,
          -2.444206953048706,
          -8.520710945129395,
          -6.508495330810547,
          -17.317262649536133,
          -2.191969633102417,
          -5.351016998291016,
          -15.732590675354004,
          -13.669534683227539,
          -10.139959335327148,
          -14.875402450561523,
          -21.683286666870117,
          -16.440122604370117,
          -18.813264846801758,
          -23.143783569335938,
          -2.9413106441497803,
          -9.649934768676758,
          -2.5373892784118652,
          -6.511519432067871,
          -13.379226684570312,
          -21.929670333862305,
          -0.5705665946006775,
          8.918027877807617,
          -5.824504852294922,
          -10.310869216918945,
          -3.1492764949798584,
          -15.668458938598633
         ],
         "y": [
          2.076429605484009,
          -3.1837663650512695,
          5.69918966293335,
          5.702479839324951,
          -7.722917556762695,
          -1.8115596771240234,
          5.216041088104248,
          3.015270233154297,
          0.09702445566654205,
          1.0130608081817627,
          2.4713666439056396,
          3.845571756362915,
          5.180402755737305,
          0.21334166824817657,
          5.389888286590576,
          3.9047038555145264,
          -7.216433048248291,
          3.0849480628967285,
          -3.9003803730010986,
          -2.744671583175659,
          2.9998984336853027,
          -5.271187782287598,
          1.7533760070800781,
          -3.0734074115753174,
          2.99834942817688,
          1.5543797016143799,
          -6.06641149520874,
          -2.488999366760254,
          3.909945249557495,
          3.4838905334472656,
          4.005040168762207,
          2.4713544845581055,
          1.8345887660980225,
          -2.953519582748413,
          5.215241432189941,
          0.3403335213661194,
          1.7393033504486084,
          -0.2723941504955292,
          4.968697547912598,
          -6.210099697113037,
          3.891195774078369,
          -5.756804466247559,
          -2.717942953109741,
          3.7242448329925537,
          5.046543598175049,
          2.475397825241089,
          3.0171477794647217,
          3.6753547191619873,
          -4.707484245300293,
          -0.0338466614484787,
          -6.737527847290039,
          -7.696248531341553,
          5.566926956176758,
          5.191103935241699,
          -7.458963871002197,
          2.1915125846862793,
          3.479085922241211,
          5.70969820022583,
          -3.8737471103668213,
          5.389054775238037,
          3.0175139904022217,
          -0.3162365257740021,
          5.343844413757324,
          2.218451499938965,
          -6.734014987945557,
          3.9002203941345215,
          3.7453808784484863,
          -5.786998748779297,
          -4.69364070892334,
          5.546348571777344,
          -3.4076766967773438,
          5.768161296844482,
          5.077229022979736,
          2.193138360977173,
          3.484966278076172,
          -0.35420045256614685,
          4.307117938995361,
          -7.980034828186035,
          3.914445400238037,
          -0.20424894988536835,
          -5.261617660522461,
          1.4371951818466187,
          -4.706206321716309,
          1.9197754859924316,
          -6.1078572273254395,
          1.943265438079834,
          -5.786632061004639,
          5.124099254608154,
          1.6842825412750244,
          -7.001799583435059,
          -6.247829914093018,
          1.6918907165527344,
          3.7184054851531982,
          3.906825065612793,
          -6.341868877410889,
          2.471419095993042,
          3.660447835922241,
          -0.1985785961151123,
          5.240906238555908,
          2.2446577548980713,
          -7.889395236968994,
          0.45849984884262085,
          2.472942352294922,
          -0.16912002861499786,
          -4.729004859924316,
          5.233229637145996,
          5.470590591430664,
          -5.287636756896973,
          5.185975074768066,
          -0.1539144068956375,
          1.6955361366271973,
          -7.412821292877197,
          -6.513516426086426,
          -1.7341532707214355,
          -7.98355770111084,
          -0.34886422753334045,
          -1.7323259115219116,
          5.708742618560791,
          -3.954113245010376,
          -6.569731712341309,
          -2.8110671043395996,
          -0.08914095163345337,
          -7.830120086669922,
          5.5326762199401855,
          -5.2470703125,
          5.5997395515441895,
          2.471369743347168,
          5.269949436187744,
          3.0198371410369873,
          2.145426034927368,
          -0.6613524556159973,
          -2.9405441284179688,
          -3.0926096439361572,
          3.734825372695923,
          -3.2706193923950195,
          -2.866215467453003,
          3.014820098876953,
          2.0649399757385254,
          3.928330183029175,
          -0.11815276741981506,
          -7.5595173835754395,
          -2.8098549842834473,
          -7.984882354736328,
          -7.1358795166015625,
          5.072059154510498,
          -1.8013169765472412,
          3.4727554321289062,
          -0.3534168303012848,
          0.03797227144241333,
          0.12452065199613571,
          -1.7667757272720337,
          -6.416273593902588,
          -1.7455929517745972,
          -6.001914978027344,
          3.0148186683654785,
          1.7031840085983276,
          -5.310325622558594,
          4.540305137634277,
          4.033311367034912,
          2.4751298427581787,
          -7.305739879608154,
          -6.414412975311279,
          -6.662276744842529,
          5.452621936798096,
          5.345773696899414,
          -6.63330602645874,
          5.313826084136963,
          -0.15149003267288208,
          5.345575332641602,
          3.8567070960998535,
          3.4945504665374756,
          3.2237024307250977,
          -0.6745311617851257,
          4.7091965675354,
          2.2760157585144043,
          3.4815726280212402,
          3.955644369125366,
          5.781320571899414,
          -7.331866264343262,
          5.158178806304932,
          -7.4928483963012695,
          3.1582231521606445,
          3.010982036590576,
          -2.730746269226074,
          -3.207772731781006,
          3.483973503112793,
          3.4765543937683105,
          3.4832324981689453,
          -0.09496001899242401,
          2.095003128051758,
          5.309249401092529,
          -5.772171497344971,
          5.057751178741455,
          0.05836017429828644,
          -2.87628436088562,
          5.599899768829346,
          2.216956853866577,
          4.534427165985107,
          1.5941280126571655,
          5.200489521026611,
          1.358505368232727,
          4.054116249084473,
          -3.29229474067688,
          0.4093904197216034,
          -3.894757032394409,
          -6.945896148681641,
          1.2309218645095825,
          -8.037271499633789,
          1.8410207033157349,
          -5.228605270385742,
          -2.9446842670440674,
          4.007351398468018,
          3.9261980056762695,
          5.000906944274902,
          -4.635036945343018,
          -1.658656120300293,
          0.3977693021297455,
          5.925374984741211,
          1.762283444404602,
          1.4219690561294556,
          3.0147457122802734,
          -0.1717986911535263,
          3.981168270111084,
          -7.6109137535095215,
          0.045861948281526566,
          -0.847324550151825,
          5.250666618347168,
          3.907202959060669,
          -3.8793604373931885,
          -1.063662052154541,
          3.4713940620422363,
          -1.759896993637085,
          1.9407986402511597,
          5.434525966644287,
          -0.00498634809628129,
          -7.12481689453125,
          -3.4345197677612305,
          -5.281198501586914,
          -8.049121856689453,
          5.227679252624512,
          6.6643171310424805,
          2.4747812747955322,
          3.909628391265869,
          2.1955342292785645,
          -7.467152118682861,
          5.043859481811523,
          -2.9066593647003174,
          5.451985836029053,
          5.357486724853516,
          -0.2941904664039612,
          -1.6576699018478394
         ],
         "z": [
          1.921392798423767,
          0.20893779397010803,
          0.34527507424354553,
          -0.0033144098706543446,
          -4.38858699798584,
          0.7245792150497437,
          -1.1904186010360718,
          -1.2483628988265991,
          1.4634119272232056,
          -2.8084402084350586,
          -2.0068681240081787,
          -3.0684456825256348,
          -1.153119683265686,
          -2.1469876766204834,
          0.503071665763855,
          -0.8713905215263367,
          -4.320444107055664,
          -5.391219615936279,
          -0.8150381445884705,
          -0.3851659297943115,
          -5.935510158538818,
          -2.0136559009552,
          1.612591028213501,
          -0.12302875518798828,
          -5.887754440307617,
          1.9284578561782837,
          -2.8382625579833984,
          5.158906936645508,
          -0.8722614049911499,
          -0.8854516744613647,
          1.4920661449432373,
          -2.006871223449707,
          1.8798304796218872,
          0.06030578166246414,
          -0.9156782627105713,
          -2.0172860622406006,
          1.9128540754318237,
          1.5844630002975464,
          -1.2209374904632568,
          -2.6975903511047363,
          1.333786964416504,
          -2.448878288269043,
          -0.19897781312465668,
          1.4002845287322998,
          -1.194522500038147,
          -2.0043158531188965,
          -1.2473604679107666,
          1.1722173690795898,
          -1.510577917098999,
          1.8282362222671509,
          -3.2601709365844727,
          -4.087667942047119,
          0.9972001314163208,
          -0.901373028755188,
          -3.965658664703369,
          1.4404865503311157,
          -0.8831377625465393,
          0.49090075492858887,
          -0.7912851572036743,
          0.5840050578117371,
          -1.246456503868103,
          1.6861701011657715,
          -0.8066945672035217,
          1.4108946323394775,
          -3.3781163692474365,
          -0.8719666600227356,
          1.1689964532852173,
          -2.4770405292510986,
          -1.5004351139068604,
          0.9693410992622375,
          0.007372227031737566,
          0.034642357379198074,
          0.3002840578556061,
          1.4118578433990479,
          -0.8838033080101013,
          -2.685716152191162,
          -1.2419624328613281,
          -4.401902675628662,
          -0.8726648092269897,
          1.5897040367126465,
          -1.9998892545700073,
          2.264125108718872,
          -1.5105851888656616,
          1.5413316488265991,
          -3.1017420291900635,
          1.5527271032333374,
          -2.4766833782196045,
          0.062352750450372696,
          2.0879464149475098,
          -3.6640512943267822,
          -3.0901622772216797,
          -1.9923614263534546,
          1.5330960750579834,
          -0.8730902671813965,
          -2.6971802711486816,
          -2.0068435668945312,
          1.4423223733901978,
          -2.4797468185424805,
          -1.183452844619751,
          1.3630434274673462,
          -4.727449417114258,
          -1.9441635608673096,
          -2.0052340030670166,
          1.3588653802871704,
          -1.5288121700286865,
          -0.9395982623100281,
          0.817221999168396,
          -2.01651668548584,
          0.40559422969818115,
          -2.4866995811462402,
          1.7310571670532227,
          -3.775377035140991,
          -3.341984748840332,
          0.7692670226097107,
          -4.662752151489258,
          -2.6128087043762207,
          3.8770058155059814,
          0.11419358849525452,
          -0.8621217608451843,
          -3.411947250366211,
          5.010987758636475,
          -2.4114925861358643,
          -4.051477432250977,
          0.9304814338684082,
          -1.9852914810180664,
          0.35057708621025085,
          -2.0068697929382324,
          -1.179481863975525,
          -5.832300186157227,
          1.4856387376785278,
          -2.750628709793091,
          0.2100396752357483,
          -0.46439582109451294,
          1.1443372964859009,
          -0.34449127316474915,
          -0.2775938808917999,
          -1.2485504150390625,
          2.0602545738220215,
          1.4418166875839233,
          1.6397439241409302,
          -4.465623378753662,
          0.008089832030236721,
          -4.658804416656494,
          -3.8861734867095947,
          0.16007083654403687,
          0.7321720123291016,
          -0.8848159313201904,
          1.649727702140808,
          1.7577240467071533,
          1.7469021081924438,
          0.7510042786598206,
          -2.807415723800659,
          0.7627468705177307,
          -2.9582812786102295,
          -1.2487468719482422,
          2.178675651550293,
          -2.0283420085906982,
          -0.9069368243217468,
          1.4528580904006958,
          -2.003927707672119,
          -4.049805641174316,
          -2.977926731109619,
          -3.196446418762207,
          0.7772526741027832,
          -0.8278583288192749,
          -3.21728253364563,
          -0.8421777486801147,
          1.3228740692138672,
          0.45495688915252686,
          1.564145803451538,
          -3.481290578842163,
          -4.6361308097839355,
          -2.7727997303009033,
          -1.0820555686950684,
          1.826960802078247,
          -0.8843827843666077,
          -3.0391318798065186,
          -0.016448836773633957,
          -4.110743045806885,
          -0.9347132444381714,
          -4.627445220947266,
          -4.984600067138672,
          -1.2522823810577393,
          -0.2498232126235962,
          0.2613362669944763,
          -0.8837072849273682,
          -0.886001467704773,
          -0.8828301429748535,
          -2.39068603515625,
          2.1179752349853516,
          -0.14255769550800323,
          -2.4625229835510254,
          -0.9582138061523438,
          1.6454672813415527,
          -0.47272083163261414,
          0.3458540141582489,
          1.7944098711013794,
          -0.9064740538597107,
          2.080312490463257,
          -0.9186241030693054,
          2.3512203693389893,
          1.2700116634368896,
          0.204276442527771,
          -1.9573777914047241,
          -0.8084866404533386,
          -3.616320848464966,
          2.510338306427002,
          -4.310295581817627,
          2.232898473739624,
          -1.9661465883255005,
          0.2845565378665924,
          1.2000582218170166,
          -3.046436309814453,
          -1.179706335067749,
          -1.4506744146347046,
          0.8104532361030579,
          -1.9757388830184937,
          -1.468875765800476,
          1.9825363159179688,
          2.276517629623413,
          -1.2501418590545654,
          -2.5724308490753174,
          1.1680984497070312,
          -3.866001844406128,
          1.3414993286132812,
          -2.828864812850952,
          -0.8757671117782593,
          -0.8726263046264648,
          -0.7947795391082764,
          -2.9206125736236572,
          -0.8882113695144653,
          0.7546226382255554,
          1.6444493532180786,
          -0.15253594517707825,
          1.3717718124389648,
          -4.106714248657227,
          -0.05915558710694313,
          -2.0080244541168213,
          -4.724545478820801,
          -1.1867643594741821,
          0.9392015933990479,
          -2.0043458938598633,
          -0.8713549971580505,
          2.1288421154022217,
          -4.5112504959106445,
          -1.1692569255828857,
          4.960566520690918,
          0.8033847808837891,
          -0.007273957133293152,
          -2.5526816844940186,
          0.8095194697380066
         ]
        },
        {
         "hovertemplate": "Dominant_Topic=Topic 2<br>0=%{x}<br>1=%{y}<br>2=%{z}<extra></extra>",
         "legendgroup": "Topic 2",
         "marker": {
          "color": "#00cc96",
          "opacity": 0.7,
          "symbol": "circle"
         },
         "mode": "markers",
         "name": "Topic 2",
         "scene": "scene",
         "showlegend": true,
         "type": "scatter3d",
         "x": [
          4.253817558288574,
          3.2634475231170654,
          2.2316768169403076,
          3.031705141067505,
          2.179032802581787,
          2.9227988719940186,
          2.4176406860351562,
          2.362863779067993,
          1.5942150354385376,
          3.0846121311187744,
          1.5461983680725098,
          2.4176406860351562,
          2.602220058441162,
          2.8647103309631348,
          2.714017629623413,
          2.3787972927093506,
          2.5011789798736572,
          4.447088718414307,
          2.208927869796753,
          2.802385091781616,
          -1.1652777194976807,
          2.2399134635925293,
          3.0451180934906006,
          2.54404354095459,
          3.0683231353759766,
          -0.9276225566864014,
          2.4573261737823486,
          2.6579482555389404,
          2.96455717086792,
          4.290011405944824,
          3.9211068153381348,
          2.545769214630127,
          2.6217124462127686,
          -1.584204077720642,
          2.2089221477508545,
          -0.276777058839798,
          1.8316762447357178,
          2.1815786361694336,
          2.427316188812256,
          2.696279287338257,
          2.376075506210327,
          3.1574158668518066,
          2.5657777786254883,
          2.137943983078003,
          2.7114038467407227,
          2.4599990844726562,
          2.60805344581604,
          2.916914463043213,
          1.9707322120666504,
          -0.3427760899066925,
          3.2877695560455322,
          3.017751932144165,
          -1.2056012153625488,
          2.880998134613037,
          3.9550580978393555,
          2.188551425933838,
          2.5452888011932373,
          1.5006170272827148,
          1.5397961139678955,
          2.184462547302246,
          2.3543169498443604,
          3.989133358001709,
          2.944671392440796,
          3.1207973957061768,
          2.7133445739746094,
          -0.934333324432373,
          2.1843643188476562,
          2.416430711746216,
          2.6804630756378174,
          2.4489705562591553,
          2.9711873531341553,
          2.181699514389038,
          2.4047279357910156,
          2.858391523361206,
          2.1839234828948975,
          2.4583981037139893,
          2.1499691009521484,
          2.8794610500335693,
          2.8020474910736084,
          2.748323440551758,
          2.8936948776245117,
          2.7931060791015625,
          2.729166030883789,
          2.523845911026001,
          2.4010415077209473,
          2.177556276321411,
          3.0907342433929443,
          2.820868730545044,
          2.3565425872802734,
          3.1169793605804443,
          2.8436036109924316,
          2.4647111892700195,
          2.1783411502838135,
          2.9450318813323975,
          3.180083751678467,
          2.934843063354492,
          2.545720100402832,
          2.8017690181732178,
          2.902998447418213,
          2.175199508666992,
          10.317667961120605,
          2.4511256217956543,
          3.111557722091675,
          2.7137296199798584,
          -0.17288707196712494,
          3.816929578781128,
          2.7276763916015625,
          2.857283592224121,
          3.1872522830963135,
          2.809690475463867,
          1.5478408336639404,
          -0.5914086103439331,
          2.563798427581787,
          2.77667236328125,
          2.801595449447632,
          2.3669581413269043,
          2.1177172660827637,
          2.3384459018707275,
          3.6465952396392822,
          4.423436164855957,
          2.723310708999634,
          2.562657117843628,
          2.415034532546997,
          4.306033611297607,
          1.9499311447143555,
          2.304060935974121,
          2.487307071685791,
          3.1206419467926025,
          2.4169747829437256,
          2.7400753498077393,
          2.4176743030548096,
          2.416313409805298,
          2.954857110977173,
          2.9447851181030273,
          2.760704517364502,
          2.415048360824585,
          2.479213237762451,
          2.376065492630005,
          3.328727960586548,
          2.1807472705841064,
          2.186354637145996,
          4.398667812347412,
          2.0653064250946045,
          4.169857501983643,
          1.6561460494995117,
          2.949763059616089,
          -1.371864914894104,
          3.1493444442749023,
          2.457230567932129,
          2.6108365058898926,
          2.775692939758301,
          2.509817361831665,
          2.6068148612976074,
          2.1864426136016846,
          2.8721117973327637,
          3.00984787940979,
          -0.22173544764518738,
          2.8378043174743652,
          2.1863081455230713,
          2.1853373050689697,
          2.750244140625,
          2.6057262420654297,
          2.848968982696533,
          2.24348783493042,
          2.9650204181671143,
          3.0789270401000977,
          -0.3956609070301056,
          2.8040449619293213,
          2.2930848598480225,
          -0.19979208707809448,
          4.073158264160156,
          2.588383674621582,
          2.4561548233032227
         ],
         "y": [
          0.8844363689422607,
          -8.627778053283691,
          -6.362804412841797,
          -12.388686180114746,
          -6.1889214515686035,
          -13.865205764770508,
          -1.7116827964782715,
          -3.358834743499756,
          -1.6336932182312012,
          -9.093006134033203,
          -1.577398419380188,
          -1.7116827964782715,
          -12.12891960144043,
          -8.989089965820312,
          -17.95383071899414,
          -19.675273895263672,
          -7.486041069030762,
          -3.675762176513672,
          -3.6162686347961426,
          -15.796406745910645,
          -1.9600404500961304,
          -3.660651445388794,
          -18.93769645690918,
          -14.856389045715332,
          -12.299301147460938,
          -2.192038059234619,
          -3.3566439151763916,
          -14.943418502807617,
          -14.934357643127441,
          0.9960792064666748,
          -0.11011700332164764,
          -12.327224731445312,
          -8.872365951538086,
          -1.604868769645691,
          -19.23426628112793,
          -3.2079880237579346,
          -10.898528099060059,
          -6.222890377044678,
          -7.4791059494018555,
          -8.92402458190918,
          -3.3725075721740723,
          -12.280608177185059,
          -14.918853759765625,
          -2.38279390335083,
          -18.22614860534668,
          -3.3577213287353516,
          -8.977522850036621,
          -8.990717887878418,
          -2.1193344593048096,
          -2.725829839706421,
          -8.98674201965332,
          -8.661596298217773,
          -1.9437731504440308,
          -8.725740432739258,
          -0.0026254875119775534,
          -19.083873748779297,
          -19.39279556274414,
          -9.889547348022461,
          -9.996296882629395,
          -4.910788536071777,
          -3.3706212043762207,
          0.017937084659934044,
          -10.805130958557129,
          -12.32093334197998,
          -17.95509910583496,
          -2.184856414794922,
          -4.923144817352295,
          -18.868240356445312,
          -14.99355411529541,
          -19.77321434020996,
          -18.803447723388672,
          -6.2242751121521,
          -7.4535136222839355,
          -13.79563045501709,
          -4.91461181640625,
          -3.3543589115142822,
          -3.6169593334198,
          -19.23006248474121,
          -15.79931640625,
          -17.144807815551758,
          -19.769506454467773,
          -19.698928833007812,
          -17.59505844116211,
          -12.421950340270996,
          -7.47901725769043,
          -6.173280239105225,
          -19.339447021484375,
          -13.75994873046875,
          -3.395707845687866,
          -14.919351577758789,
          -19.694963455200195,
          -3.34131121635437,
          -6.191410064697266,
          -10.829224586486816,
          -8.582799911499023,
          -15.000598907470703,
          -7.456063270568848,
          -15.819808959960938,
          -12.291463851928711,
          -2.447460889816284,
          -0.5174844264984131,
          -3.353360414505005,
          -9.049302101135254,
          -18.252445220947266,
          -4.0689778327941895,
          -0.2493428885936737,
          -17.595035552978516,
          -12.502968788146973,
          -12.386313438415527,
          -13.833632469177246,
          -1.5796053409576416,
          -2.2854413986206055,
          -18.807205200195312,
          -13.810477256774902,
          -15.82581615447998,
          -3.3803906440734863,
          -3.6032872200012207,
          -3.8027663230895996,
          -3.06742787361145,
          -3.666149377822876,
          -14.893688201904297,
          -19.37291717529297,
          -1.7086526155471802,
          -3.6119205951690674,
          -2.0925943851470947,
          -19.73479461669922,
          -7.490040302276611,
          -8.876008987426758,
          -1.7099369764328003,
          -18.87503433227539,
          -1.7120388746261597,
          -1.7113224267959595,
          -10.655396461486816,
          -10.825284957885742,
          -12.210344314575195,
          -1.7091131210327148,
          -7.478288173675537,
          -3.373788356781006,
          -8.902268409729004,
          -6.215938568115234,
          -4.906421184539795,
          -3.6023945808410645,
          -2.2583203315734863,
          0.6137069463729858,
          -1.711153268814087,
          -10.76598834991455,
          -1.796888828277588,
          -8.85494327545166,
          -3.354562759399414,
          -12.37009048461914,
          -16.51093101501465,
          -18.487060546875,
          -8.955032348632812,
          -4.892534255981445,
          -13.787497520446777,
          -14.970582962036133,
          -3.815701723098755,
          -12.225959777832031,
          -4.903873920440674,
          -4.905455589294434,
          -17.10838508605957,
          -8.978951454162598,
          -13.84493350982666,
          -3.6414177417755127,
          -19.246347427368164,
          -14.985137939453125,
          -3.0949442386627197,
          -13.770270347595215,
          -19.15721893310547,
          -3.7513749599456787,
          0.3123065233230591,
          -12.450711250305176,
          -7.474663257598877
         ],
         "z": [
          -3.160112142562866,
          -5.463000774383545,
          -3.5258374214172363,
          -5.131831645965576,
          -4.56743860244751,
          -4.629730224609375,
          -3.347618818283081,
          -4.027087211608887,
          -7.230897903442383,
          -5.707761287689209,
          -7.306515216827393,
          -3.347618818283081,
          -4.889608860015869,
          -5.11483097076416,
          -3.8893470764160156,
          -3.30281925201416,
          -4.958746910095215,
          -3.4462201595306396,
          -0.2911735773086548,
          -4.2889227867126465,
          -3.2773988246917725,
          -0.5483298301696777,
          -3.52038836479187,
          -4.407844066619873,
          -4.603614807128906,
          -3.365635633468628,
          -4.196718692779541,
          -4.677314758300781,
          -4.181709289550781,
          -3.140610933303833,
          -2.7753844261169434,
          -5.015862464904785,
          -5.652906894683838,
          -3.136629104614258,
          -3.4065842628479004,
          -3.7113289833068848,
          -3.83258318901062,
          -4.583186149597168,
          -5.05794620513916,
          -5.732484817504883,
          -3.9938912391662598,
          -4.979067802429199,
          -4.305293083190918,
          -6.279075622558594,
          -3.833146810531616,
          -4.195988655090332,
          -5.346130847930908,
          -5.108643054962158,
          -6.601009368896484,
          -3.564927339553833,
          -5.327365875244141,
          -5.772622108459473,
          -3.2699480056762695,
          -5.799955368041992,
          -3.7331104278564453,
          -3.699014902114868,
          -4.062274932861328,
          -3.5698554515838623,
          -3.6041016578674316,
          -4.410982131958008,
          -4.010929584503174,
          -3.8080241680145264,
          -5.187867164611816,
          -4.655660629272461,
          -3.8891823291778564,
          -3.3627657890319824,
          -4.412797927856445,
          -3.3442108631134033,
          -4.684263706207275,
          -3.7939038276672363,
          -3.879573106765747,
          -4.58265495300293,
          -4.973126411437988,
          -4.604630470275879,
          -4.411720275878906,
          -4.196357727050781,
          0.12977777421474457,
          -4.031929016113281,
          -4.288942337036133,
          -4.036534786224365,
          -3.5174925327301025,
          -3.277401924133301,
          -3.956397294998169,
          -4.725455284118652,
          -5.048027515411377,
          -4.568088531494141,
          -3.706660032272339,
          -4.5720438957214355,
          -4.00511360168457,
          -4.472784042358398,
          -3.8449959754943848,
          -4.186152935028076,
          -4.578180313110352,
          -5.185173034667969,
          -5.603262901306152,
          -4.699827671051025,
          -5.069151878356934,
          -4.2843122482299805,
          -4.523698806762695,
          -6.195199489593506,
          3.082146644592285,
          -4.196037292480469,
          -5.723744869232178,
          -3.829413652420044,
          -3.9549038410186768,
          -2.9568734169006348,
          -3.9560844898223877,
          -5.168202877044678,
          -4.886087894439697,
          -4.696482181549072,
          -7.304405212402344,
          -3.4133520126342773,
          -4.049542427062988,
          -4.569875717163086,
          -4.284211158752441,
          -3.9944024085998535,
          0.37525537610054016,
          -1.4186973571777344,
          -3.1113510131835938,
          -3.448167324066162,
          -4.168661117553711,
          -3.132204055786133,
          -3.347179889678955,
          -3.4562180042266846,
          -6.641408920288086,
          -3.6075122356414795,
          -4.938925743103027,
          -5.1081976890563965,
          -3.3471627235412598,
          -3.269848346710205,
          -3.347778081893921,
          -3.3468661308288574,
          -5.2174553871154785,
          -5.185261249542236,
          -4.560556411743164,
          -3.3460896015167236,
          -4.971090793609619,
          -3.989652156829834,
          -5.415398120880127,
          -4.582479476928711,
          -4.411670207977295,
          -3.4227817058563232,
          -6.422821044921875,
          -3.323892831802368,
          -7.1293864250183105,
          -5.195079803466797,
          -3.2124416828155518,
          -5.1218695640563965,
          -4.195165634155273,
          -4.604849815368652,
          -4.1521830558776855,
          -3.6714134216308594,
          -5.327564239501953,
          -4.409057140350342,
          -4.607598781585693,
          -4.211820602416992,
          -3.8830976486206055,
          -5.161905288696289,
          -4.410889625549316,
          -4.40990686416626,
          -4.044710159301758,
          -5.56259822845459,
          -4.686333656311035,
          -0.581547737121582,
          -3.2810189723968506,
          -4.5754194259643555,
          -3.667628049850464,
          -4.56346321105957,
          -3.9461913108825684,
          -3.869091510772705,
          -3.530991315841675,
          -5.069045066833496,
          -5.042638778686523
         ]
        },
        {
         "hovertemplate": "Dominant_Topic=Topic 3<br>0=%{x}<br>1=%{y}<br>2=%{z}<extra></extra>",
         "legendgroup": "Topic 3",
         "marker": {
          "color": "#ab63fa",
          "opacity": 0.7,
          "symbol": "circle"
         },
         "mode": "markers",
         "name": "Topic 3",
         "scene": "scene",
         "showlegend": true,
         "type": "scatter3d",
         "x": [
          -3.0485126972198486,
          -1.029444932937622,
          -4.142952919006348,
          -2.0181949138641357,
          -3.757019281387329,
          -0.9234858155250549,
          -1.052651047706604,
          -3.435225248336792,
          -3.3817005157470703,
          1.1985405683517456,
          1.4586738348007202,
          -0.7979146838188171,
          -2.8196938037872314,
          -3.6035492420196533,
          -2.2632572650909424,
          2.226794719696045,
          0.25250741839408875,
          0.2532067596912384,
          -3.2290902137756348,
          -3.9144504070281982,
          -3.0446383953094482,
          -0.15638746321201324,
          -4.370617389678955,
          -2.110210657119751,
          -0.1649748682975769,
          -3.7756898403167725,
          -3.0231685638427734,
          -3.0346808433532715,
          1.893670678138733,
          -2.8113718032836914,
          2.0505058765411377,
          -0.18371649086475372,
          -3.423196315765381,
          -0.898424506187439,
          -3.7759549617767334,
          1.3628393411636353,
          -3.4385805130004883,
          -4.150976181030273,
          -1.969331979751587,
          0.6315820217132568,
          -1.322055459022522,
          -1.5124058723449707,
          -3.2415826320648193,
          -3.80476450920105,
          -4.227362155914307,
          1.8989653587341309,
          1.257018804550171,
          -1.6009128093719482,
          5.107821464538574,
          -1.8875550031661987,
          -0.8466417789459229,
          -1.1982568502426147,
          1.1630762815475464,
          1.5062899589538574,
          1.5627504587173462,
          -2.399569511413574,
          -1.0885300636291504,
          1.8827232122421265,
          1.9420711994171143,
          0.6263933181762695,
          -1.618892788887024,
          1.4020037651062012,
          -0.3037489354610443,
          1.0005366802215576,
          -0.6866135001182556,
          -2.2702536582946777,
          0.2564162015914917,
          -2.018602132797241,
          -0.3066684305667877,
          3.039005756378174,
          -0.2517096996307373,
          -2.2682902812957764,
          0.9753680229187012,
          0.9835991263389587,
          1.2748515605926514,
          4.374598979949951,
          2.357001543045044,
          -1.0182403326034546,
          -0.6009293794631958,
          -1.647443413734436,
          -0.27038896083831787,
          1.8538414239883423,
          1.3627474308013916,
          0.2554914057254791,
          4.8070549964904785,
          -2.2885329723358154,
          -1.920102596282959,
          4.569855690002441,
          -1.9627598524093628,
          -1.9804487228393555,
          0.6365110278129578,
          -2.5325212478637695,
          2.0503339767456055,
          -3.6364781856536865,
          0.9950659871101379,
          2.839799165725708,
          1.9099199771881104,
          -3.6813788414001465,
          1.3997706174850464,
          0.25225189328193665,
          -0.5687740445137024,
          -3.99772310256958,
          2.353846311569214,
          1.2230836153030396,
          -1.283592700958252,
          0.24800537526607513,
          -1.589726448059082,
          -0.18606384098529816,
          -0.15449059009552002,
          -1.5333181619644165,
          -2.5532209873199463,
          2.353919506072998,
          -3.6786482334136963,
          0.3119066655635834,
          1.874588966369629,
          0.6329270601272583,
          -3.4455182552337646,
          1.3628251552581787,
          4.249373912811279,
          -2.560685157775879,
          -0.46283289790153503,
          -1.1522407531738281,
          -3.240339994430542,
          -1.2428994178771973,
          -1.2786377668380737,
          -2.5581588745117188,
          0.253581166267395,
          2.405877113342285,
          1.2404344081878662,
          1.5050326585769653,
          -1.8261626958847046,
          -4.010965347290039,
          -3.4251909255981445,
          1.3628027439117432,
          -0.2606116831302643,
          1.3339998722076416,
          -1.8883591890335083,
          1.5596799850463867,
          -3.0325138568878174,
          0.24965809285640717,
          -2.8057093620300293,
          1.9794615507125854,
          -4.213818073272705,
          2.4584295749664307,
          1.5703542232513428,
          -0.16366273164749146,
          -1.580235481262207,
          1.2428574562072754,
          -4.089133262634277,
          1.4020541906356812,
          1.251107096672058,
          -1.9594290256500244,
          -1.6935007572174072,
          -0.5195449590682983,
          1.5622512102127075,
          -0.27554619312286377,
          -1.5932379961013794,
          1.8915640115737915,
          0.8642831444740295,
          -3.397615909576416,
          -4.222901344299316,
          1.4177886247634888,
          6.108766555786133,
          0.6233218908309937,
          1.8642733097076416,
          2.087218999862671,
          5.624061584472656,
          -0.5006077289581299,
          2.2127678394317627,
          -1.9926825761795044
         ],
         "y": [
          -3.7390918731689453,
          -3.762038469314575,
          -3.232158660888672,
          -3.9389567375183105,
          -3.1391804218292236,
          -3.545144557952881,
          -3.9554996490478516,
          -3.5524189472198486,
          -3.335287094116211,
          -1.5949273109436035,
          -1.4049255847930908,
          -3.8250513076782227,
          -3.815845489501953,
          -3.709261655807495,
          -3.939943790435791,
          0.6386450529098511,
          -2.9182653427124023,
          -2.912783622741699,
          -3.6610217094421387,
          -3.7600924968719482,
          -3.734126091003418,
          -3.2990236282348633,
          -3.282081365585327,
          0.6254915595054626,
          -3.3070995807647705,
          -3.0911715030670166,
          -3.742478847503662,
          -3.7387092113494873,
          -3.5921781063079834,
          -3.8182570934295654,
          -3.541747808456421,
          -3.315814256668091,
          -3.361130714416504,
          -3.4914143085479736,
          -2.92891526222229,
          -1.395985722541809,
          -3.56091570854187,
          -2.9784436225891113,
          0.3320625126361847,
          -2.349078416824341,
          -0.19461897015571594,
          -4.527195930480957,
          -3.64335560798645,
          -3.5572750568389893,
          -3.623410224914551,
          -3.7107231616973877,
          -1.9507189989089966,
          -3.8972630500793457,
          -0.9894429445266724,
          -3.8754096031188965,
          -3.5105502605438232,
          -3.930842399597168,
          -2.591510772705078,
          -1.5706173181533813,
          -1.5490752458572388,
          0.6931378245353699,
          -3.6638805866241455,
          -3.5900700092315674,
          -3.549149990081787,
          -2.3567991256713867,
          0.04721652716398239,
          -1.475982427597046,
          -3.6419670581817627,
          -1.6749603748321533,
          -3.359976053237915,
          -3.938387155532837,
          -2.8858537673950195,
          -3.8993420600891113,
          -3.6425631046295166,
          1.8487132787704468,
          -3.569443464279175,
          -3.9387989044189453,
          -1.7122429609298706,
          -1.734909176826477,
          -1.64094877243042,
          -1.1874353885650635,
          0.8643870949745178,
          -3.866114616394043,
          -3.8720858097076416,
          0.061858389526605606,
          -3.592989206314087,
          -3.284052848815918,
          -1.39547860622406,
          -2.905035972595215,
          -1.0700783729553223,
          -3.9344019889831543,
          -3.987454414367676,
          -1.1361759901046753,
          -4.008701801300049,
          -4.012110710144043,
          -2.3429067134857178,
          -3.893982410430908,
          -3.560771942138672,
          -3.4200258255004883,
          -1.6694475412368774,
          1.51791250705719,
          -3.5162672996520996,
          -3.7825846672058105,
          -1.4712653160095215,
          -2.9118728637695312,
          -3.8579440116882324,
          -3.6541028022766113,
          0.8567379713058472,
          -1.6040034294128418,
          -3.7394392490386963,
          -2.9170801639556885,
          -3.895601272583008,
          -3.3228819370269775,
          -3.2884087562561035,
          -0.018733296543359756,
          -3.8891170024871826,
          0.8646811842918396,
          -2.9868292808532715,
          -4.215667247772217,
          -3.372476577758789,
          -2.3491311073303223,
          -3.2924728393554688,
          -1.395969033241272,
          -1.2185560464859009,
          -3.8897879123687744,
          -3.533322811126709,
          -0.3266808092594147,
          -3.6425933837890625,
          -3.676589250564575,
          -3.853879690170288,
          -3.888005018234253,
          -2.913447141647339,
          0.9473603367805481,
          -1.9592519998550415,
          -1.4177395105361938,
          0.2078322023153305,
          -3.235182523727417,
          -3.677081346511841,
          -1.395995855331421,
          -3.4748668670654297,
          -1.8397631645202637,
          0.2622826397418976,
          -1.5378767251968384,
          -3.7372376918792725,
          -2.912524938583374,
          -3.819676399230957,
          -3.5268125534057617,
          -3.5278635025024414,
          1.025543451309204,
          -2.769334316253662,
          -3.3090100288391113,
          -3.893767833709717,
          -1.9556788206100464,
          -3.488416910171509,
          -1.4766464233398438,
          -1.9543856382369995,
          -3.8490734100341797,
          0.11411304771900177,
          -3.460599184036255,
          -1.5392048358917236,
          -3.467294216156006,
          -3.8958864212036133,
          -3.66042160987854,
          -1.9762457609176636,
          -3.5897724628448486,
          -3.0591917037963867,
          -1.4341769218444824,
          -0.7149007320404053,
          -2.360661268234253,
          -3.4893927574157715,
          -3.5828042030334473,
          -0.8148453831672668,
          -3.804734230041504,
          -1.825801968574524,
          0.3615199625492096
         ],
         "z": [
          16.267406463623047,
          11.878190994262695,
          19.430139541625977,
          13.549128532409668,
          19.221797943115234,
          10.719903945922852,
          11.708934783935547,
          17.306346893310547,
          18.223676681518555,
          6.396030426025391,
          4.829774856567383,
          10.692560195922852,
          15.696385383605957,
          18.606348037719727,
          14.329532623291016,
          3.9484288692474365,
          8.72778034210205,
          8.748069763183594,
          16.805740356445312,
          18.812549591064453,
          16.264110565185547,
          9.781224250793457,
          18.838415145874023,
          3.272777795791626,
          9.753979682922363,
          18.044286727905273,
          16.231035232543945,
          16.25505828857422,
          2.395962953567505,
          15.672029495239258,
          0.8465003967285156,
          9.799653053283691,
          18.609588623046875,
          10.720305442810059,
          18.73838233947754,
          3.2836110591888428,
          17.288867950439453,
          19.10101318359375,
          3.6250455379486084,
          7.622673988342285,
          4.331999778747559,
          10.165617942810059,
          16.854278564453125,
          17.674053192138672,
          18.94140625,
          2.8958427906036377,
          6.350625038146973,
          12.798028945922852,
          5.9275288581848145,
          13.647252082824707,
          10.629356384277344,
          11.805916786193848,
          9.662525177001953,
          4.789248466491699,
          4.831718444824219,
          3.1850080490112305,
          11.847582817077637,
          2.5601720809936523,
          1.6648786067962646,
          7.638632774353027,
          3.9719550609588623,
          4.788817882537842,
          5.882850170135498,
          6.321828365325928,
          10.822701454162598,
          14.347935676574707,
          8.69173526763916,
          13.560239791870117,
          5.791393756866455,
          2.3444042205810547,
          5.675225734710693,
          14.34305191040039,
          6.32925271987915,
          6.295996189117432,
          6.423193454742432,
          6.021425247192383,
          3.608564853668213,
          11.847831726074219,
          10.808551788330078,
          3.9690134525299072,
          5.698188781738281,
          1.7432271242141724,
          3.282738447189331,
          8.72308349609375,
          5.9829254150390625,
          14.397493362426758,
          13.65621566772461,
          6.004938125610352,
          13.641300201416016,
          13.646628379821777,
          7.612363815307617,
          14.982659339904785,
          0.8270434141159058,
          19.101499557495117,
          6.35692024230957,
          2.7109174728393555,
          1.885230541229248,
          18.20155143737793,
          4.7916259765625,
          8.73050594329834,
          10.819995880126953,
          18.090635299682617,
          3.608569622039795,
          6.395543098449707,
          11.750651359558105,
          8.748390197753906,
          12.773995399475098,
          9.796557426452637,
          9.764126777648926,
          4.054197788238525,
          15.026459693908691,
          3.628448247909546,
          18.452346801757812,
          8.799276351928711,
          1.7533907890319824,
          7.626494407653809,
          17.730730056762695,
          3.2827250957489014,
          6.034177780151367,
          15.037399291992188,
          10.9044189453125,
          4.536271572113037,
          16.85691261291504,
          11.776130676269531,
          11.770766258239746,
          15.038427352905273,
          8.700121879577637,
          3.5106821060180664,
          6.363500595092773,
          4.833963871002197,
          3.7794578075408936,
          18.030996322631836,
          17.84295082092285,
          3.2837138175964355,
          4.847069263458252,
          6.377052307128906,
          3.710629463195801,
          4.816011428833008,
          16.250560760498047,
          8.733846664428711,
          15.665669441223145,
          1.2690212726593018,
          18.383230209350586,
          3.4019393920898438,
          2.22355318069458,
          9.772130966186523,
          12.751445770263672,
          6.340089797973633,
          19.342580795288086,
          4.790452003479004,
          6.352615833282471,
          13.622598648071289,
          3.8747498989105225,
          10.924211502075195,
          4.827563285827637,
          4.666463375091553,
          12.777928352355957,
          2.796968936920166,
          7.036503314971924,
          17.3411922454834,
          18.599769592285156,
          4.80823278427124,
          5.833173751831055,
          7.647262096405029,
          2.3651106357574463,
          0.5888658165931702,
          5.9285407066345215,
          10.828329086303711,
          7.841768264770508,
          3.585217237472534
         ]
        },
        {
         "hovertemplate": "Dominant_Topic=Topic 4<br>0=%{x}<br>1=%{y}<br>2=%{z}<extra></extra>",
         "legendgroup": "Topic 4",
         "marker": {
          "color": "#FFA15A",
          "opacity": 0.7,
          "symbol": "circle"
         },
         "mode": "markers",
         "name": "Topic 4",
         "scene": "scene",
         "showlegend": true,
         "type": "scatter3d",
         "x": [
          -4.729554176330566,
          -3.344574213027954,
          -5.011654376983643,
          -3.683933973312378,
          -3.5343616008758545,
          -1.8277252912521362,
          -4.769690036773682,
          -4.802513599395752,
          -3.88065505027771,
          -2.1738739013671875,
          8.107413291931152,
          -1.7901508808135986,
          -5.359914779663086,
          -2.403966188430786,
          -3.3525919914245605,
          -2.0459654331207275,
          -4.618502140045166,
          -4.493930816650391,
          -5.407728672027588,
          1.4204343557357788,
          -4.606250286102295,
          -5.558741569519043,
          8.108027458190918,
          -4.9974164962768555,
          -4.763415813446045,
          -4.578463077545166,
          -4.5922369956970215,
          -4.133890151977539,
          -5.548452377319336,
          -5.498180866241455,
          -5.363046169281006,
          -5.4760003089904785,
          -4.9975080490112305,
          -3.6750121116638184,
          -3.7078194618225098,
          -4.1089982986450195,
          -4.7461676597595215,
          -5.002906322479248,
          -3.4274017810821533,
          -2.8551933765411377,
          -3.6709201335906982,
          -2.169071674346924,
          -4.482409477233887,
          -5.548908233642578,
          -4.781351089477539,
          -2.267029285430908,
          -4.733870506286621,
          -2.8468499183654785,
          -1.751452922821045,
          -1.7827869653701782,
          -4.983058929443359,
          -4.178454399108887,
          -3.03545880317688,
          -4.752529144287109,
          -5.404865741729736,
          -2.9147186279296875,
          -3.0570602416992188,
          -2.195579767227173,
          -2.2006642818450928,
          -5.1903252601623535,
          -2.1545982360839844,
          -3.7091076374053955,
          -3.6009602546691895,
          -4.720398426055908,
          -4.775379180908203,
          -3.710240125656128,
          -2.119866371154785,
          -3.884915590286255,
          -3.601806879043579,
          -3.8584847450256348,
          -5.250936985015869,
          -5.076592445373535,
          -3.6965277194976807,
          -4.6430158615112305,
          -2.128598213195801,
          -3.683826208114624,
          -2.097925901412964,
          -1.8649708032608032,
          -1.6248440742492676,
          -5.548060894012451,
          -2.604461431503296,
          -4.720611095428467,
          -2.3426218032836914,
          -2.600175380706787,
          -2.7030434608459473,
          -4.6023359298706055,
          -2.600214719772339,
          -3.6900112628936768,
          -3.5985991954803467,
          -4.990941524505615,
          -2.216134786605835,
          -2.115037679672241,
          -4.998732089996338,
          -2.6918790340423584,
          -4.118566989898682,
          -5.436468124389648,
          -2.4397201538085938,
          -2.207535743713379,
          -4.852476119995117,
          -5.291555404663086,
          -5.456517219543457,
          -5.547040939331055,
          -3.4344849586486816,
          -3.0401053428649902,
          -2.618375778198242,
          -4.669025421142578
         ],
         "y": [
          2.7308664321899414,
          3.876559257507324,
          1.590691089630127,
          3.4945054054260254,
          2.512856960296631,
          5.096284866333008,
          2.492037296295166,
          2.6087522506713867,
          0.3076319396495819,
          5.813782215118408,
          2.6110215187072754,
          5.50468635559082,
          2.4921345710754395,
          4.923657417297363,
          3.868229866027832,
          4.9882378578186035,
          2.8163745403289795,
          2.487093448638916,
          1.6532710790634155,
          -1.4470218420028687,
          1.5858360528945923,
          2.419384241104126,
          2.6168065071105957,
          1.5894039869308472,
          2.9026944637298584,
          2.5463974475860596,
          2.598557472229004,
          3.0466318130493164,
          1.8111070394515991,
          2.2728610038757324,
          1.9635207653045654,
          2.08606219291687,
          1.5876332521438599,
          3.501462936401367,
          1.690453052520752,
          3.0710978507995605,
          2.8714606761932373,
          1.588308334350586,
          2.7120778560638428,
          4.629614353179932,
          2.527541399002075,
          0.8474473357200623,
          2.589872360229492,
          1.8114166259765625,
          1.995916485786438,
          5.282310962677002,
          2.760833501815796,
          4.8635945320129395,
          5.739348411560059,
          5.8790507316589355,
          1.7926968336105347,
          3.0124948024749756,
          4.228795528411865,
          2.8204450607299805,
          1.6490678787231445,
          4.459930419921875,
          4.203319072723389,
          0.8611496090888977,
          0.8587502837181091,
          2.534684181213379,
          0.8417763113975525,
          1.690895676612854,
          1.8871653079986572,
          0.7455976605415344,
          1.9760780334472656,
          1.6911650896072388,
          4.734339237213135,
          0.25539812445640564,
          1.8869563341140747,
          0.6435717940330505,
          1.8144179582595825,
          1.7724121809005737,
          3.4756767749786377,
          2.410290241241455,
          0.8356343507766724,
          3.494743824005127,
          4.966591835021973,
          5.363611698150635,
          5.601442813873291,
          1.8094230890274048,
          5.374209880828857,
          2.7461514472961426,
          4.682556629180908,
          5.157538414001465,
          5.03491735458374,
          2.7268519401550293,
          4.820034980773926,
          3.486138105392456,
          1.8875762224197388,
          2.463941812515259,
          0.8757044672966003,
          5.7186503410339355,
          1.5895779132843018,
          4.371947288513184,
          1.6709723472595215,
          2.483327865600586,
          5.47865629196167,
          5.419634819030762,
          2.345881223678589,
          2.5150747299194336,
          2.3936522006988525,
          1.8058478832244873,
          2.8036868572235107,
          4.220767021179199,
          4.4436540603637695,
          2.6807212829589844
         ],
         "z": [
          -13.574419021606445,
          -15.1403226852417,
          -10.760405540466309,
          -14.703627586364746,
          -14.931949615478516,
          -16.666229248046875,
          -13.685636520385742,
          -13.660799026489258,
          -8.570581436157227,
          -16.832181930541992,
          4.357847690582275,
          -17.314775466918945,
          -8.928817749023438,
          -15.869345664978027,
          -15.128691673278809,
          -16.915178298950195,
          -6.596551418304443,
          -13.53223705291748,
          -11.266890525817871,
          -7.484236717224121,
          -10.448735237121582,
          -9.425286293029785,
          4.363690376281738,
          -10.746045112609863,
          -6.488658428192139,
          -7.722833156585693,
          -7.522933006286621,
          -14.17541217803955,
          -12.110586166381836,
          -12.951976776123047,
          -13.105793952941895,
          -13.025547981262207,
          -10.746537208557129,
          -14.71098518371582,
          -9.34847640991211,
          -14.2046480178833,
          -6.613283157348633,
          -10.753021240234375,
          -9.851881980895996,
          -15.715540885925293,
          -10.089460372924805,
          -10.31360149383545,
          -13.522360801696777,
          -12.083884239196777,
          -12.772051811218262,
          -17.1202392578125,
          -7.172941207885742,
          -16.211061477661133,
          -16.79909324645996,
          -17.241065979003906,
          -12.90578556060791,
          -14.123571395874023,
          -15.528669357299805,
          -6.918489456176758,
          -11.260051727294922,
          -15.95800495147705,
          -15.502789497375488,
          -10.295747756958008,
          -10.326372146606445,
          -12.710986137390137,
          -10.305055618286133,
          -9.351385116577148,
          -8.423017501831055,
          -10.801490783691406,
          -12.821941375732422,
          -9.352664947509766,
          -16.330949783325195,
          -8.543231010437012,
          -8.423583984375,
          -8.770689964294434,
          -13.00755786895752,
          -12.933074951171875,
          -14.685811042785645,
          -13.65416145324707,
          -10.234719276428223,
          -14.703124046325684,
          -16.107131958007812,
          -16.44379997253418,
          -17.14183235168457,
          -12.093087196350098,
          -16.5939998626709,
          -7.206528663635254,
          -16.548736572265625,
          -16.778793334960938,
          -15.956774711608887,
          -13.491988182067871,
          -16.612567901611328,
          -14.695173263549805,
          -8.420720100402832,
          -12.63483715057373,
          -10.257233619689941,
          -17.239124298095703,
          -10.745911598205566,
          -15.923426628112793,
          -9.95573616027832,
          -9.066322326660156,
          -16.372726440429688,
          -16.246679306030273,
          -12.642192840576172,
          -12.741251945495605,
          -12.87221908569336,
          -12.038061141967773,
          -9.987397193908691,
          -15.51734733581543,
          -15.78450870513916,
          -7.358060359954834
         ]
        },
        {
         "hovertemplate": "Dominant_Topic=Topic 5<br>0=%{x}<br>1=%{y}<br>2=%{z}<extra></extra>",
         "legendgroup": "Topic 5",
         "marker": {
          "color": "#19d3f3",
          "opacity": 0.7,
          "symbol": "circle"
         },
         "mode": "markers",
         "name": "Topic 5",
         "scene": "scene",
         "showlegend": true,
         "type": "scatter3d",
         "x": [
          19.23287010192871,
          17.323854446411133,
          10.027124404907227,
          15.002927780151367,
          15.008878707885742,
          18.806869506835938,
          17.29072380065918,
          9.603019714355469,
          19.264619827270508,
          17.77395248413086,
          19.60935401916504,
          8.297027587890625,
          18.990629196166992,
          8.80612850189209,
          18.847064971923828,
          10.744550704956055,
          8.806446075439453,
          11.586447715759277,
          9.788148880004883,
          6.837483882904053,
          18.1424560546875,
          15.623879432678223,
          10.104000091552734,
          10.738910675048828,
          7.106916427612305,
          10.547926902770996,
          10.024374961853027,
          16.76902198791504,
          15.800392150878906,
          8.46535587310791,
          19.785676956176758,
          9.647503852844238,
          14.245711326599121,
          7.051385879516602,
          10.27149486541748,
          10.182097434997559,
          9.422232627868652,
          17.383655548095703,
          16.948528289794922,
          9.988277435302734,
          17.777667999267578,
          14.272257804870605,
          18.798683166503906,
          9.707144737243652,
          19.96135139465332,
          11.548408508300781,
          16.70597267150879,
          12.540986061096191,
          6.8744001388549805,
          7.082913875579834,
          15.705782890319824,
          19.484018325805664,
          7.94776725769043,
          14.949742317199707,
          8.80612850189209,
          13.404773712158203,
          8.340601921081543,
          19.242237091064453,
          14.24528694152832,
          19.419179916381836,
          11.57102108001709,
          16.426538467407227,
          17.12889862060547,
          16.416532516479492,
          16.411434173583984,
          8.807010650634766,
          9.690268516540527,
          19.48220443725586,
          14.215959548950195,
          12.528523445129395,
          16.726181030273438,
          19.713281631469727,
          19.765911102294922,
          14.996801376342773,
          19.12242889404297,
          16.881988525390625,
          13.128182411193848,
          18.79447364807129,
          15.712656021118164,
          10.02660846710205,
          13.362892150878906,
          13.367301940917969,
          15.503090858459473,
          16.324583053588867,
          18.54409408569336,
          7.916330814361572,
          19.504850387573242,
          12.528860092163086,
          11.569221496582031,
          16.319664001464844,
          11.57954216003418,
          11.571333885192871,
          8.80612850189209,
          8.157526969909668,
          11.57465648651123,
          19.27668571472168,
          17.476932525634766,
          11.564743995666504,
          8.80612850189209,
          19.25611686706543,
          10.742135047912598,
          19.904781341552734,
          16.24087905883789,
          12.466663360595703,
          18.918149948120117,
          10.182148933410645,
          10.378983497619629,
          15.52341365814209,
          17.02899742126465,
          11.43056583404541,
          15.804852485656738,
          14.239638328552246,
          12.52122688293457,
          19.97810173034668,
          10.022727966308594,
          12.486952781677246,
          18.971342086791992,
          12.538193702697754,
          19.745241165161133,
          9.071423530578613,
          15.706719398498535,
          10.732688903808594,
          13.397544860839844,
          15.49685287475586,
          9.544736862182617,
          17.454233169555664,
          15.918787002563477,
          18.789897918701172,
          8.806846618652344,
          15.691393852233887,
          8.806903839111328,
          14.230752944946289,
          10.021557807922363,
          17.76805305480957,
          9.63228702545166,
          14.203843116760254,
          8.806846618652344,
          14.962552070617676,
          8.806450843811035,
          17.437644958496094,
          17.09975242614746,
          7.9226274490356445
         ],
         "y": [
          7.8887224197387695,
          6.129133701324463,
          1.0848742723464966,
          3.5187315940856934,
          3.527204990386963,
          8.200664520263672,
          6.147900581359863,
          -1.7567317485809326,
          8.468682289123535,
          6.538966178894043,
          8.994068145751953,
          2.6474506855010986,
          8.524432182312012,
          0.5373847484588623,
          8.255359649658203,
          1.4801918268203735,
          0.5375492572784424,
          1.7142558097839355,
          -1.2265434265136719,
          -0.3697189688682556,
          6.972379684448242,
          4.060311317443848,
          -0.1914227306842804,
          1.4789206981658936,
          -0.08180073648691177,
          2.559311628341675,
          1.0840078592300415,
          5.676152229309082,
          3.9697721004486084,
          2.1361820697784424,
          9.077936172485352,
          -1.6958900690078735,
          2.909719705581665,
          -0.17478345334529877,
          -0.16683973371982574,
          -0.29593798518180847,
          -1.9638564586639404,
          6.175675392150879,
          5.721193313598633,
          -0.4028662443161011,
          6.541248798370361,
          2.9240081310272217,
          7.73850154876709,
          -1.6137001514434814,
          8.597807884216309,
          1.7158093452453613,
          5.697809219360352,
          1.9797067642211914,
          -0.2726902961730957,
          -0.1394352912902832,
          4.276641368865967,
          7.90072774887085,
          -2.001770257949829,
          3.4785404205322266,
          0.5373829007148743,
          2.4135348796844482,
          2.176408052444458,
          7.8922247886657715,
          2.909183979034424,
          8.331582069396973,
          1.7144557237625122,
          4.858891487121582,
          5.532455921173096,
          4.819154739379883,
          4.931858062744141,
          0.5377994179725647,
          -1.6886723041534424,
          8.231396675109863,
          2.8956103324890137,
          1.9657762050628662,
          5.5696210861206055,
          8.700357437133789,
          8.19645881652832,
          3.4968979358673096,
          8.282674789428711,
          5.378145217895508,
          1.6163057088851929,
          7.735179901123047,
          3.0557408332824707,
          1.0846723318099976,
          2.3919942378997803,
          2.3921802043914795,
          4.351609706878662,
          5.016726970672607,
          7.443285942077637,
          2.7744345664978027,
          8.786596298217773,
          1.9739331007003784,
          1.7103697061538696,
          4.876741409301758,
          1.7161579132080078,
          0.964002788066864,
          0.5373829007148743,
          2.541731834411621,
          1.7101237773895264,
          8.918411254882812,
          6.009171009063721,
          1.7117427587509155,
          0.5373829007148743,
          8.909790992736816,
          1.480390191078186,
          8.542906761169434,
          4.939162731170654,
          1.9410420656204224,
          7.854190826416016,
          0.02007610909640789,
          1.0111252069473267,
          4.2598772048950195,
          5.340925693511963,
          0.9625598788261414,
          4.081996440887451,
          2.908799648284912,
          1.9703755378723145,
          8.98668384552002,
          1.0818934440612793,
          1.9651272296905518,
          8.63733196258545,
          1.9784352779388428,
          8.208528518676758,
          -2.116908073425293,
          4.375207424163818,
          1.4761712551116943,
          2.4102907180786133,
          4.313900947570801,
          -1.8026857376098633,
          6.112253665924072,
          4.091127395629883,
          7.733249187469482,
          0.5377147197723389,
          3.985496997833252,
          0.53774493932724,
          2.8986105918884277,
          1.0815134048461914,
          6.5305352210998535,
          -1.4299081563949585,
          2.878093719482422,
          0.5377147197723389,
          3.4823975563049316,
          0.5375511050224304,
          6.000208854675293,
          5.3784308433532715,
          2.542034864425659
         ],
         "z": [
          12.154788970947266,
          10.287412643432617,
          6.197747707366943,
          8.370512962341309,
          8.375144958496094,
          11.662969589233398,
          10.257338523864746,
          5.917533874511719,
          11.542248725891113,
          10.538379669189453,
          12.007301330566406,
          1.9674100875854492,
          11.688847541809082,
          5.12410306930542,
          12.11053466796875,
          6.9184346199035645,
          5.124454498291016,
          7.3933610916137695,
          3.6292943954467773,
          5.749368667602539,
          10.878233909606934,
          9.02779769897461,
          3.754809617996216,
          6.914240837097168,
          6.091795444488525,
          7.034007549285889,
          6.195135593414307,
          9.602179527282715,
          8.869169235229492,
          4.765753746032715,
          12.545188903808594,
          5.975860595703125,
          8.029165267944336,
          5.950936317443848,
          3.653752565383911,
          3.5722742080688477,
          5.667975902557373,
          10.098429679870605,
          9.582534790039062,
          3.9018874168395996,
          10.542943000793457,
          8.032591819763184,
          11.439386367797852,
          6.053921699523926,
          12.069169998168945,
          7.3807902336120605,
          9.854765892028809,
          7.579409599304199,
          5.953807830810547,
          5.983473777770996,
          8.57649040222168,
          11.967930793762207,
          5.306258678436279,
          8.355993270874023,
          5.1241044998168945,
          7.796320915222168,
          4.598403453826904,
          11.558082580566406,
          8.028470039367676,
          12.585989952087402,
          7.387519836425781,
          9.237234115600586,
          9.61835765838623,
          9.384543418884277,
          9.214682579040527,
          5.125079154968262,
          6.031129837036133,
          11.566012382507324,
          8.025910377502441,
          7.56008243560791,
          9.976189613342285,
          11.798059463500977,
          11.920005798339844,
          8.34707260131836,
          12.440494537353516,
          9.995487213134766,
          6.570470333099365,
          11.442182540893555,
          7.470334529876709,
          6.197362899780273,
          7.786933422088623,
          7.785884380340576,
          8.893515586853027,
          9.255664825439453,
          11.24963092803955,
          1.6476106643676758,
          12.691925048828125,
          7.576272010803223,
          7.3842878341674805,
          9.442752838134766,
          7.39048957824707,
          5.358609199523926,
          5.1241044998168945,
          4.411690711975098,
          7.38802433013916,
          11.983918190002441,
          10.224885940551758,
          7.381604194641113,
          5.1241044998168945,
          12.416687965393066,
          6.916465759277344,
          12.544768333435059,
          9.36659049987793,
          7.559887886047363,
          11.927090644836426,
          3.9714572429656982,
          7.697449207305908,
          9.002144813537598,
          9.918840408325195,
          5.408138275146484,
          8.62392520904541,
          8.032783508300781,
          7.575801849365234,
          12.47559928894043,
          6.191477298736572,
          7.578462600708008,
          12.177393913269043,
          7.578708648681641,
          12.371841430664062,
          5.443798065185547,
          8.637414932250977,
          6.9083571434021,
          7.795481204986572,
          8.683722496032715,
          5.837817192077637,
          10.079334259033203,
          8.769827842712402,
          11.487274169921875,
          5.1248979568481445,
          8.9683837890625,
          5.124961853027344,
          8.021936416625977,
          6.191612243652344,
          10.534008026123047,
          4.025542259216309,
          8.010273933410645,
          5.1248979568481445,
          8.350905418395996,
          5.124459266662598,
          10.279855728149414,
          9.686287879943848,
          3.798276901245117
         ]
        }
       ],
       "layout": {
        "height": 800,
        "legend": {
         "title": {
          "text": "Dominant_Topic"
         },
         "tracegroupgap": 0
        },
        "scene": {
         "domain": {
          "x": [
           0,
           1
          ],
          "y": [
           0,
           1
          ]
         },
         "xaxis": {
          "title": {
           "text": "0"
          }
         },
         "yaxis": {
          "title": {
           "text": "1"
          }
         },
         "zaxis": {
          "title": {
           "text": "2"
          }
         }
        },
        "template": {
         "data": {
          "bar": [
           {
            "error_x": {
             "color": "#2a3f5f"
            },
            "error_y": {
             "color": "#2a3f5f"
            },
            "marker": {
             "line": {
              "color": "#E5ECF6",
              "width": 0.5
             },
             "pattern": {
              "fillmode": "overlay",
              "size": 10,
              "solidity": 0.2
             }
            },
            "type": "bar"
           }
          ],
          "barpolar": [
           {
            "marker": {
             "line": {
              "color": "#E5ECF6",
              "width": 0.5
             },
             "pattern": {
              "fillmode": "overlay",
              "size": 10,
              "solidity": 0.2
             }
            },
            "type": "barpolar"
           }
          ],
          "carpet": [
           {
            "aaxis": {
             "endlinecolor": "#2a3f5f",
             "gridcolor": "white",
             "linecolor": "white",
             "minorgridcolor": "white",
             "startlinecolor": "#2a3f5f"
            },
            "baxis": {
             "endlinecolor": "#2a3f5f",
             "gridcolor": "white",
             "linecolor": "white",
             "minorgridcolor": "white",
             "startlinecolor": "#2a3f5f"
            },
            "type": "carpet"
           }
          ],
          "choropleth": [
           {
            "colorbar": {
             "outlinewidth": 0,
             "ticks": ""
            },
            "type": "choropleth"
           }
          ],
          "contour": [
           {
            "colorbar": {
             "outlinewidth": 0,
             "ticks": ""
            },
            "colorscale": [
             [
              0,
              "#0d0887"
             ],
             [
              0.1111111111111111,
              "#46039f"
             ],
             [
              0.2222222222222222,
              "#7201a8"
             ],
             [
              0.3333333333333333,
              "#9c179e"
             ],
             [
              0.4444444444444444,
              "#bd3786"
             ],
             [
              0.5555555555555556,
              "#d8576b"
             ],
             [
              0.6666666666666666,
              "#ed7953"
             ],
             [
              0.7777777777777778,
              "#fb9f3a"
             ],
             [
              0.8888888888888888,
              "#fdca26"
             ],
             [
              1,
              "#f0f921"
             ]
            ],
            "type": "contour"
           }
          ],
          "contourcarpet": [
           {
            "colorbar": {
             "outlinewidth": 0,
             "ticks": ""
            },
            "type": "contourcarpet"
           }
          ],
          "heatmap": [
           {
            "colorbar": {
             "outlinewidth": 0,
             "ticks": ""
            },
            "colorscale": [
             [
              0,
              "#0d0887"
             ],
             [
              0.1111111111111111,
              "#46039f"
             ],
             [
              0.2222222222222222,
              "#7201a8"
             ],
             [
              0.3333333333333333,
              "#9c179e"
             ],
             [
              0.4444444444444444,
              "#bd3786"
             ],
             [
              0.5555555555555556,
              "#d8576b"
             ],
             [
              0.6666666666666666,
              "#ed7953"
             ],
             [
              0.7777777777777778,
              "#fb9f3a"
             ],
             [
              0.8888888888888888,
              "#fdca26"
             ],
             [
              1,
              "#f0f921"
             ]
            ],
            "type": "heatmap"
           }
          ],
          "heatmapgl": [
           {
            "colorbar": {
             "outlinewidth": 0,
             "ticks": ""
            },
            "colorscale": [
             [
              0,
              "#0d0887"
             ],
             [
              0.1111111111111111,
              "#46039f"
             ],
             [
              0.2222222222222222,
              "#7201a8"
             ],
             [
              0.3333333333333333,
              "#9c179e"
             ],
             [
              0.4444444444444444,
              "#bd3786"
             ],
             [
              0.5555555555555556,
              "#d8576b"
             ],
             [
              0.6666666666666666,
              "#ed7953"
             ],
             [
              0.7777777777777778,
              "#fb9f3a"
             ],
             [
              0.8888888888888888,
              "#fdca26"
             ],
             [
              1,
              "#f0f921"
             ]
            ],
            "type": "heatmapgl"
           }
          ],
          "histogram": [
           {
            "marker": {
             "pattern": {
              "fillmode": "overlay",
              "size": 10,
              "solidity": 0.2
             }
            },
            "type": "histogram"
           }
          ],
          "histogram2d": [
           {
            "colorbar": {
             "outlinewidth": 0,
             "ticks": ""
            },
            "colorscale": [
             [
              0,
              "#0d0887"
             ],
             [
              0.1111111111111111,
              "#46039f"
             ],
             [
              0.2222222222222222,
              "#7201a8"
             ],
             [
              0.3333333333333333,
              "#9c179e"
             ],
             [
              0.4444444444444444,
              "#bd3786"
             ],
             [
              0.5555555555555556,
              "#d8576b"
             ],
             [
              0.6666666666666666,
              "#ed7953"
             ],
             [
              0.7777777777777778,
              "#fb9f3a"
             ],
             [
              0.8888888888888888,
              "#fdca26"
             ],
             [
              1,
              "#f0f921"
             ]
            ],
            "type": "histogram2d"
           }
          ],
          "histogram2dcontour": [
           {
            "colorbar": {
             "outlinewidth": 0,
             "ticks": ""
            },
            "colorscale": [
             [
              0,
              "#0d0887"
             ],
             [
              0.1111111111111111,
              "#46039f"
             ],
             [
              0.2222222222222222,
              "#7201a8"
             ],
             [
              0.3333333333333333,
              "#9c179e"
             ],
             [
              0.4444444444444444,
              "#bd3786"
             ],
             [
              0.5555555555555556,
              "#d8576b"
             ],
             [
              0.6666666666666666,
              "#ed7953"
             ],
             [
              0.7777777777777778,
              "#fb9f3a"
             ],
             [
              0.8888888888888888,
              "#fdca26"
             ],
             [
              1,
              "#f0f921"
             ]
            ],
            "type": "histogram2dcontour"
           }
          ],
          "mesh3d": [
           {
            "colorbar": {
             "outlinewidth": 0,
             "ticks": ""
            },
            "type": "mesh3d"
           }
          ],
          "parcoords": [
           {
            "line": {
             "colorbar": {
              "outlinewidth": 0,
              "ticks": ""
             }
            },
            "type": "parcoords"
           }
          ],
          "pie": [
           {
            "automargin": true,
            "type": "pie"
           }
          ],
          "scatter": [
           {
            "fillpattern": {
             "fillmode": "overlay",
             "size": 10,
             "solidity": 0.2
            },
            "type": "scatter"
           }
          ],
          "scatter3d": [
           {
            "line": {
             "colorbar": {
              "outlinewidth": 0,
              "ticks": ""
             }
            },
            "marker": {
             "colorbar": {
              "outlinewidth": 0,
              "ticks": ""
             }
            },
            "type": "scatter3d"
           }
          ],
          "scattercarpet": [
           {
            "marker": {
             "colorbar": {
              "outlinewidth": 0,
              "ticks": ""
             }
            },
            "type": "scattercarpet"
           }
          ],
          "scattergeo": [
           {
            "marker": {
             "colorbar": {
              "outlinewidth": 0,
              "ticks": ""
             }
            },
            "type": "scattergeo"
           }
          ],
          "scattergl": [
           {
            "marker": {
             "colorbar": {
              "outlinewidth": 0,
              "ticks": ""
             }
            },
            "type": "scattergl"
           }
          ],
          "scattermapbox": [
           {
            "marker": {
             "colorbar": {
              "outlinewidth": 0,
              "ticks": ""
             }
            },
            "type": "scattermapbox"
           }
          ],
          "scatterpolar": [
           {
            "marker": {
             "colorbar": {
              "outlinewidth": 0,
              "ticks": ""
             }
            },
            "type": "scatterpolar"
           }
          ],
          "scatterpolargl": [
           {
            "marker": {
             "colorbar": {
              "outlinewidth": 0,
              "ticks": ""
             }
            },
            "type": "scatterpolargl"
           }
          ],
          "scatterternary": [
           {
            "marker": {
             "colorbar": {
              "outlinewidth": 0,
              "ticks": ""
             }
            },
            "type": "scatterternary"
           }
          ],
          "surface": [
           {
            "colorbar": {
             "outlinewidth": 0,
             "ticks": ""
            },
            "colorscale": [
             [
              0,
              "#0d0887"
             ],
             [
              0.1111111111111111,
              "#46039f"
             ],
             [
              0.2222222222222222,
              "#7201a8"
             ],
             [
              0.3333333333333333,
              "#9c179e"
             ],
             [
              0.4444444444444444,
              "#bd3786"
             ],
             [
              0.5555555555555556,
              "#d8576b"
             ],
             [
              0.6666666666666666,
              "#ed7953"
             ],
             [
              0.7777777777777778,
              "#fb9f3a"
             ],
             [
              0.8888888888888888,
              "#fdca26"
             ],
             [
              1,
              "#f0f921"
             ]
            ],
            "type": "surface"
           }
          ],
          "table": [
           {
            "cells": {
             "fill": {
              "color": "#EBF0F8"
             },
             "line": {
              "color": "white"
             }
            },
            "header": {
             "fill": {
              "color": "#C8D4E3"
             },
             "line": {
              "color": "white"
             }
            },
            "type": "table"
           }
          ]
         },
         "layout": {
          "annotationdefaults": {
           "arrowcolor": "#2a3f5f",
           "arrowhead": 0,
           "arrowwidth": 1
          },
          "autotypenumbers": "strict",
          "coloraxis": {
           "colorbar": {
            "outlinewidth": 0,
            "ticks": ""
           }
          },
          "colorscale": {
           "diverging": [
            [
             0,
             "#8e0152"
            ],
            [
             0.1,
             "#c51b7d"
            ],
            [
             0.2,
             "#de77ae"
            ],
            [
             0.3,
             "#f1b6da"
            ],
            [
             0.4,
             "#fde0ef"
            ],
            [
             0.5,
             "#f7f7f7"
            ],
            [
             0.6,
             "#e6f5d0"
            ],
            [
             0.7,
             "#b8e186"
            ],
            [
             0.8,
             "#7fbc41"
            ],
            [
             0.9,
             "#4d9221"
            ],
            [
             1,
             "#276419"
            ]
           ],
           "sequential": [
            [
             0,
             "#0d0887"
            ],
            [
             0.1111111111111111,
             "#46039f"
            ],
            [
             0.2222222222222222,
             "#7201a8"
            ],
            [
             0.3333333333333333,
             "#9c179e"
            ],
            [
             0.4444444444444444,
             "#bd3786"
            ],
            [
             0.5555555555555556,
             "#d8576b"
            ],
            [
             0.6666666666666666,
             "#ed7953"
            ],
            [
             0.7777777777777778,
             "#fb9f3a"
            ],
            [
             0.8888888888888888,
             "#fdca26"
            ],
            [
             1,
             "#f0f921"
            ]
           ],
           "sequentialminus": [
            [
             0,
             "#0d0887"
            ],
            [
             0.1111111111111111,
             "#46039f"
            ],
            [
             0.2222222222222222,
             "#7201a8"
            ],
            [
             0.3333333333333333,
             "#9c179e"
            ],
            [
             0.4444444444444444,
             "#bd3786"
            ],
            [
             0.5555555555555556,
             "#d8576b"
            ],
            [
             0.6666666666666666,
             "#ed7953"
            ],
            [
             0.7777777777777778,
             "#fb9f3a"
            ],
            [
             0.8888888888888888,
             "#fdca26"
            ],
            [
             1,
             "#f0f921"
            ]
           ]
          },
          "colorway": [
           "#636efa",
           "#EF553B",
           "#00cc96",
           "#ab63fa",
           "#FFA15A",
           "#19d3f3",
           "#FF6692",
           "#B6E880",
           "#FF97FF",
           "#FECB52"
          ],
          "font": {
           "color": "#2a3f5f"
          },
          "geo": {
           "bgcolor": "white",
           "lakecolor": "white",
           "landcolor": "#E5ECF6",
           "showlakes": true,
           "showland": true,
           "subunitcolor": "white"
          },
          "hoverlabel": {
           "align": "left"
          },
          "hovermode": "closest",
          "mapbox": {
           "style": "light"
          },
          "paper_bgcolor": "white",
          "plot_bgcolor": "#E5ECF6",
          "polar": {
           "angularaxis": {
            "gridcolor": "white",
            "linecolor": "white",
            "ticks": ""
           },
           "bgcolor": "#E5ECF6",
           "radialaxis": {
            "gridcolor": "white",
            "linecolor": "white",
            "ticks": ""
           }
          },
          "scene": {
           "xaxis": {
            "backgroundcolor": "#E5ECF6",
            "gridcolor": "white",
            "gridwidth": 2,
            "linecolor": "white",
            "showbackground": true,
            "ticks": "",
            "zerolinecolor": "white"
           },
           "yaxis": {
            "backgroundcolor": "#E5ECF6",
            "gridcolor": "white",
            "gridwidth": 2,
            "linecolor": "white",
            "showbackground": true,
            "ticks": "",
            "zerolinecolor": "white"
           },
           "zaxis": {
            "backgroundcolor": "#E5ECF6",
            "gridcolor": "white",
            "gridwidth": 2,
            "linecolor": "white",
            "showbackground": true,
            "ticks": "",
            "zerolinecolor": "white"
           }
          },
          "shapedefaults": {
           "line": {
            "color": "#2a3f5f"
           }
          },
          "ternary": {
           "aaxis": {
            "gridcolor": "white",
            "linecolor": "white",
            "ticks": ""
           },
           "baxis": {
            "gridcolor": "white",
            "linecolor": "white",
            "ticks": ""
           },
           "bgcolor": "#E5ECF6",
           "caxis": {
            "gridcolor": "white",
            "linecolor": "white",
            "ticks": ""
           }
          },
          "title": {
           "x": 0.05
          },
          "xaxis": {
           "automargin": true,
           "gridcolor": "white",
           "linecolor": "white",
           "ticks": "",
           "title": {
            "standoff": 15
           },
           "zerolinecolor": "white",
           "zerolinewidth": 2
          },
          "yaxis": {
           "automargin": true,
           "gridcolor": "white",
           "linecolor": "white",
           "ticks": "",
           "title": {
            "standoff": 15
           },
           "zerolinecolor": "white",
           "zerolinewidth": 2
          }
         }
        },
        "title": {
         "text": "3d TSNE Plot for Topic Model"
        },
        "width": 900
       }
      },
      "text/html": [
       "<div>                            <div id=\"8fd2d905-ac75-4e07-b2d3-ad307ad308ae\" class=\"plotly-graph-div\" style=\"height:800px; width:900px;\"></div>            <script type=\"text/javascript\">                require([\"plotly\"], function(Plotly) {                    window.PLOTLYENV=window.PLOTLYENV || {};                                    if (document.getElementById(\"8fd2d905-ac75-4e07-b2d3-ad307ad308ae\")) {                    Plotly.newPlot(                        \"8fd2d905-ac75-4e07-b2d3-ad307ad308ae\",                        [{\"hovertemplate\":\"Dominant_Topic=Topic 0<br>0=%{x}<br>1=%{y}<br>2=%{z}<extra></extra>\",\"legendgroup\":\"Topic 0\",\"marker\":{\"color\":\"#636efa\",\"opacity\":0.7,\"symbol\":\"circle\"},\"mode\":\"markers\",\"name\":\"Topic 0\",\"scene\":\"scene\",\"showlegend\":true,\"x\":[6.455711364746094,5.656100749969482,5.106969356536865,6.84020471572876,3.317164182662964,4.800588607788086,5.830792427062988,5.956500053405762,4.467307090759277,7.165859222412109,2.944234848022461,5.7786407470703125,6.665858745574951,5.525217056274414,5.9948530197143555,5.6784796714782715,6.115243434906006,4.467238426208496,6.097805500030518,4.467311382293701,5.788039684295654,6.207200527191162,6.222085952758789,5.767361164093018,0.5623862743377686,5.364199161529541,5.949154376983643,6.327784538269043,4.4601874351501465,6.2653350830078125,6.810920715332031,5.880139350891113,6.810920715332031,5.801774501800537,6.691368579864502,4.640583038330078,6.903707981109619,5.908892631530762,5.538702964782715,5.646691799163818,1.98139488697052,3.4658663272857666,5.635611534118652,6.4521989822387695,4.467355251312256,6.781723976135254,6.118534564971924,4.46723747253418,6.89718770980835,6.2506537437438965,5.8798112869262695,5.879702091217041,6.7719292640686035,5.377307891845703,5.671123027801514,4.577334403991699,2.5572900772094727,6.461437225341797,6.143511772155762,6.20495080947876,6.094336986541748,7.287074565887451,5.708413124084473,6.58487606048584,6.584842205047607,4.8108062744140625,3.466304302215576,0.08365163207054138,4.847844123840332,2.700139045715332,5.630865573883057,4.801146507263184,4.801547527313232,7.357471466064453,4.61848258972168,7.491495609283447,1.3344510793685913,6.451449871063232,6.240037441253662,6.146418571472168,7.750633239746094,6.802401065826416,0.048399534076452255,5.596858978271484,6.072351455688477,5.83091402053833,7.60832405090332,3.4501142501831055,5.629743576049805,6.852236747741699,6.1331987380981445,7.459048271179199,6.918941974639893,6.005924701690674,4.460326194763184,3.5551865100860596,5.988254070281982,5.949748992919922,5.565180778503418,5.927674293518066,5.910976409912109,6.90278434753418,2.920473337173462,4.525217533111572,0.6276490688323975,4.459752559661865,5.113187789916992,0.7741609811782837,6.0900397300720215,2.919996500015259,6.147480010986328,6.4614362716674805,5.16847562789917,6.250171184539795,3.5343923568725586,6.143537521362305,4.925984859466553,4.79522705078125,6.701179027557373,6.274765491485596,6.382687568664551,5.947936534881592,6.363972187042236,6.088334083557129,6.606039524078369,6.044266223907471,6.3414387702941895,3.8693947792053223,3.2490694522857666,2.7820801734924316,5.8295769691467285,6.780770778656006,4.815382480621338,4.467348098754883,1.7369368076324463,6.206100940704346,5.9758429527282715,4.457564353942871,4.5805511474609375,4.672847747802734,5.111167907714844,6.844672679901123,5.95056676864624,6.089195251464844,0.003878168063238263,7.4454264640808105,4.9118146896362305,5.636674404144287,6.004034519195557,5.10283088684082,6.3793511390686035,6.810920715332031,6.770298480987549,6.273244380950928,6.236723899841309,5.881417751312256,4.791308879852295,6.851959228515625],\"y\":[12.707989692687988,5.783560276031494,6.548816204071045,-0.48292970657348633,2.455564498901367,5.916388034820557,10.268327713012695,10.301387786865234,4.045653820037842,3.0710396766662598,7.006405830383301,7.981174468994141,13.62282657623291,8.219539642333984,8.18830394744873,5.89006233215332,10.233331680297852,4.046064376831055,12.741874694824219,4.045633792877197,5.427310943603516,11.93234634399414,10.197321891784668,10.184563636779785,5.303215980529785,7.0374064445495605,9.489569664001465,13.59012508392334,5.069135665893555,12.472009658813477,-0.5054242610931396,8.795210838317871,-0.5054242610931396,10.063338279724121,13.34069538116455,2.2725727558135986,-0.4510217607021332,5.689253807067871,8.086508750915527,8.28459358215332,5.864136219024658,2.815507173538208,5.603495121002197,14.464362144470215,4.0454301834106445,-0.5297021269798279,13.994895935058594,4.046069622039795,-0.4182695150375366,12.441415786743164,8.772971153259277,8.779413223266602,13.483882904052734,7.060542106628418,5.741953372955322,1.9972472190856934,5.974350929260254,14.477591514587402,11.344707489013672,11.908924102783203,13.989457130432129,3.3351449966430664,5.548589706420898,14.046624183654785,13.050989151000977,3.1875762939453125,2.762866735458374,5.261656284332275,3.3257529735565186,6.5164971351623535,7.553873062133789,5.914988994598389,3.017270565032959,3.2515947818756104,6.036347389221191,2.2263739109039307,5.581028461456299,14.509774208068848,13.340729713439941,11.384387969970703,-23.16188621520996,-0.4964161515235901,4.912158489227295,0.4061228036880493,9.98438835144043,8.273527145385742,2.725768566131592,2.779583692550659,7.554445743560791,-0.4449886679649353,13.064291954040527,2.2190542221069336,-0.456409752368927,8.115747451782227,5.0688652992248535,2.9342551231384277,13.331982612609863,9.495630264282227,8.057510375976562,9.944733619689941,7.94848108291626,-0.42570415139198303,6.958159446716309,1.8006972074508667,5.093377113342285,5.062699794769287,6.558694839477539,5.407026290893555,10.7938232421875,6.971004486083984,11.390226364135742,14.47657585144043,7.69242000579834,12.429588317871094,2.7869954109191895,11.354070663452148,3.8404510021209717,2.9933698177337646,14.180922508239746,10.102152824401855,13.521265983581543,5.834148406982422,13.850881576538086,10.766284942626953,12.921311378479004,13.036720275878906,13.106738090515137,3.197129011154175,2.3478705883026123,6.728084087371826,6.675843238830566,-0.5010040998458862,3.256636619567871,4.045462608337402,5.713387489318848,11.921052932739258,7.965786457061768,5.059656143188477,2.0103912353515625,2.415809154510498,6.557559967041016,-0.4751928448677063,9.506680488586426,10.778488159179688,4.4355974197387695,2.9654810428619385,3.7721831798553467,7.568475246429443,13.663312911987305,6.537704944610596,14.257061004638672,-0.5054242610931396,13.897183418273926,12.473191261291504,10.04068660736084,8.806824684143066,5.896862506866455,-0.40576374530792236],\"z\":[-7.189908504486084,0.586998462677002,-1.9011486768722534,1.2059954404830933,1.7207258939743042,-1.5932567119598389,-4.693337917327881,-4.620423793792725,0.020790880545973778,1.9806673526763916,-1.6443125009536743,-3.5258758068084717,-8.055289268493652,-3.251404047012329,-3.17814564704895,0.49333909153938293,-4.5870890617370605,0.02044125646352768,-7.141759872436523,0.020814578980207443,1.1196538209915161,-6.206638336181641,-4.656511306762695,-4.835355758666992,-1.0904046297073364,-2.2901055812835693,-4.327719688415527,-8.124720573425293,-1.0476146936416626,-6.636870384216309,1.1938049793243408,-3.826894760131836,1.1938049793243408,-4.924442291259766,-7.1907172203063965,-2.6537587642669678,1.0564876794815063,-3.333674907684326,-3.4310061931610107,-3.1295111179351807,-1.1687582731246948,1.3444604873657227,0.7241633534431458,-8.721217155456543,0.020814377814531326,1.0889803171157837,-8.115592002868652,0.020435255020856857,1.0645216703414917,-6.618853569030762,-3.8122055530548096,-3.8166990280151367,-7.636556625366211,-2.307584762573242,0.6596484184265137,-2.775419235229492,-1.1930100917816162,-8.790748596191406,-5.726819038391113,-6.188572883605957,-7.7548627853393555,1.0840051174163818,0.8958662152290344,-7.604552745819092,-7.524139404296875,-2.3006787300109863,1.385163426399231,-1.1414539813995361,-2.3134546279907227,-1.4214930534362793,-2.8071699142456055,-1.5931739807128906,-2.424384593963623,1.1500756740570068,-2.4950637817382812,0.985785722732544,-1.107109546661377,-8.488007545471191,-7.892499923706055,-5.7586283683776855,-61.39399337768555,1.043658971786499,-1.025894284248352,1.3425333499908447,-5.012382507324219,-3.095606803894043,1.3230066299438477,1.3847776651382446,-2.804565906524658,1.033327341079712,-7.5517401695251465,0.9389974474906921,1.0665326118469238,-3.1807973384857178,-1.0474077463150024,1.1804215908050537,-7.251521110534668,-4.3316426277160645,-3.460441827774048,-4.961508274078369,-3.4362924098968506,1.066312551498413,-1.6204067468643188,-2.8488337993621826,-0.9999703764915466,-1.0447064638137817,-1.9064412117004395,-1.1029759645462036,-5.301953315734863,-1.6254727840423584,-5.7656474113464355,-8.789091110229492,-1.6725777387619019,-6.619902610778809,1.3243974447250366,-5.733966827392578,-2.231048345565796,-2.425616502761841,-8.222188949584961,-4.834492206573486,-7.047798156738281,-3.3864283561706543,-7.325087547302246,-5.281822204589844,-6.951550483703613,-6.921510696411133,-6.786992073059082,0.465998113155365,1.8482460975646973,-1.5113930702209473,-1.1107357740402222,1.0751157999038696,-2.256641149520874,0.021012403070926666,-1.1220847368240356,-6.199013710021973,-3.352374315261841,-1.0386399030685425,-2.7594940662384033,-2.6082773208618164,-1.9054936170578003,1.205517053604126,-4.336650848388672,-5.2918572425842285,-0.9445770978927612,1.5521047115325928,-2.2285234928131104,-2.8180527687072754,-7.575292587280273,-1.8956974744796753,-7.858089923858643,1.1938049793243408,-7.759976387023926,-6.633598804473877,-4.911399841308594,-3.8355631828308105,-1.583935022354126,1.183440923690796],\"type\":\"scatter3d\"},{\"hovertemplate\":\"Dominant_Topic=Topic 1<br>0=%{x}<br>1=%{y}<br>2=%{z}<extra></extra>\",\"legendgroup\":\"Topic 1\",\"marker\":{\"color\":\"#EF553B\",\"opacity\":0.7,\"symbol\":\"circle\"},\"mode\":\"markers\",\"name\":\"Topic 1\",\"scene\":\"scene\",\"showlegend\":true,\"x\":[-13.076515197753906,-16.82480812072754,-9.725296020507812,-10.212730407714844,-21.851886749267578,-15.766351699829102,-2.823845624923706,-4.164464950561523,-14.872207641601562,-2.6080124378204346,-2.533578634262085,-6.225125312805176,-0.18879550695419312,-4.226921081542969,-9.755416870117188,-6.501399517059326,-22.157630920410156,-4.8246965408325195,-17.337844848632812,-16.549240112304688,-4.78362512588501,-18.809141159057617,-13.246360778808594,-16.149656295776367,-4.757714748382568,-13.329983711242676,-20.25324249267578,8.86319637298584,-6.514055252075195,-5.3822855949401855,-11.737963676452637,-2.533581495285034,-13.773788452148438,-16.951831817626953,-8.585366249084473,-4.6276936531066895,-3.815511703491211,-14.507973670959473,-1.309826374053955,-20.20122528076172,-12.08703327178955,-19.42098045349121,-16.813322067260742,-11.64425277709961,-0.7866091728210449,-2.537395715713501,-4.167083263397217,-11.828399658203125,-18.16632080078125,-14.757573127746582,-20.560558319091797,-22.548166275024414,-5.196331977844238,-8.5484037399292,-21.549306869506836,-4.598934650421143,-5.363645553588867,-10.045434951782227,-17.309864044189453,-9.963957786560059,-4.168395042419434,-14.819212913513184,-8.50899887084961,-4.645474910736084,-20.640134811401367,-6.493211269378662,-11.727059364318848,-19.458341598510742,-18.151958465576172,-5.25618314743042,-16.39435577392578,-9.812653541564941,-9.9920072555542,-4.571573257446289,-5.386543273925781,-2.77327036857605,-1.0355427265167236,-22.19361114501953,-6.523576259613037,-14.954231262207031,-18.791902542114258,-3.3541460037231445,-18.16422462463379,-13.333062171936035,-20.037267684936523,-13.530146598815918,-19.45802116394043,-10.143813133239746,-13.630857467651367,-21.219818115234375,-19.939193725585938,-2.3396406173706055,-11.777695655822754,-6.507241249084473,-20.115819931030273,-2.533611536026001,-11.730628967285156,-3.3365278244018555,-2.986213445663452,-4.662879943847656,-22.46535873413086,-4.794127941131592,-2.5362462997436523,-14.55423641204834,-18.187850952148438,-8.591403007507324,-5.84277868270874,-18.85113525390625,-9.790413856506348,-3.285552978515625,-13.169635772705078,-21.756174087524414,-20.71371078491211,-15.71599006652832,-22.947969436645508,-2.9873874187469482,9.549443244934082,-9.707812309265137,-17.389829635620117,-20.618587493896484,8.950980186462402,-3.4962425231933594,-21.97364616394043,-5.4434895515441895,-18.78335189819336,-10.321309089660645,-2.5335662364959717,-3.0489954948425293,-4.797637462615967,-4.515270233154297,-2.65313982963562,-16.274494171142578,-16.393325805664062,-11.925230026245117,-16.328887939453125,-16.239242553710938,-4.163609027862549,-13.701258659362793,-12.048515319824219,-14.439306259155273,-22.721271514892578,-16.906862258911133,-22.94830894470215,-21.82636833190918,-9.984764099121094,-15.758207321166992,-5.350573539733887,-14.747343063354492,-14.53452205657959,-14.642338752746582,-15.736595153808594,-19.976776123046875,-15.723298072814941,-20.136898040771484,-4.1633501052856445,-13.317301750183105,-18.837427139282227,-7.523855686187744,-11.737342834472656,-2.5382509231567383,-22.292890548706055,-19.947237014770508,-20.75103759765625,-5.989114284515381,-8.524197578430176,-20.768800735473633,-8.507140159606934,-14.61271858215332,-9.715994834899902,-11.948819160461426,-5.428778171539307,-4.962532043457031,-2.5869147777557373,-0.2907666265964508,-13.360733032226562,-5.372658729553223,-6.478694915771484,-10.008543968200684,-21.539064407348633,-8.530141830444336,-22.32961082458496,-4.886659622192383,-4.153615951538086,-16.798526763916016,-16.399248123168945,-5.382965564727783,-5.361512184143066,-5.372516632080078,-3.5763702392578125,-13.18730354309082,-10.089576721191406,-19.43971824645996,-0.24436835944652557,-14.922168731689453,-16.591413497924805,-10.32237434387207,-13.595521926879883,-7.514926433563232,-3.5849387645721436,-8.57433795928955,-3.2359514236450195,-11.654309272766113,-16.72709083557129,-4.804656505584717,-17.326236724853516,-21.148387908935547,-3.0644872188568115,-22.585811614990234,-13.525519371032715,-18.755352020263672,-16.75341033935547,-11.937948226928711,-6.412499904632568,-0.6973117589950562,-18.091365814208984,-15.668686866760254,-4.737668991088867,-9.722611427307129,-13.090536117553711,-3.3273253440856934,-4.158298492431641,-2.9892828464508057,-11.926483154296875,-22.114051818847656,-14.661306381225586,-2.444206953048706,-8.520710945129395,-6.508495330810547,-17.317262649536133,-2.191969633102417,-5.351016998291016,-15.732590675354004,-13.669534683227539,-10.139959335327148,-14.875402450561523,-21.683286666870117,-16.440122604370117,-18.813264846801758,-23.143783569335938,-2.9413106441497803,-9.649934768676758,-2.5373892784118652,-6.511519432067871,-13.379226684570312,-21.929670333862305,-0.5705665946006775,8.918027877807617,-5.824504852294922,-10.310869216918945,-3.1492764949798584,-15.668458938598633],\"y\":[2.076429605484009,-3.1837663650512695,5.69918966293335,5.702479839324951,-7.722917556762695,-1.8115596771240234,5.216041088104248,3.015270233154297,0.09702445566654205,1.0130608081817627,2.4713666439056396,3.845571756362915,5.180402755737305,0.21334166824817657,5.389888286590576,3.9047038555145264,-7.216433048248291,3.0849480628967285,-3.9003803730010986,-2.744671583175659,2.9998984336853027,-5.271187782287598,1.7533760070800781,-3.0734074115753174,2.99834942817688,1.5543797016143799,-6.06641149520874,-2.488999366760254,3.909945249557495,3.4838905334472656,4.005040168762207,2.4713544845581055,1.8345887660980225,-2.953519582748413,5.215241432189941,0.3403335213661194,1.7393033504486084,-0.2723941504955292,4.968697547912598,-6.210099697113037,3.891195774078369,-5.756804466247559,-2.717942953109741,3.7242448329925537,5.046543598175049,2.475397825241089,3.0171477794647217,3.6753547191619873,-4.707484245300293,-0.0338466614484787,-6.737527847290039,-7.696248531341553,5.566926956176758,5.191103935241699,-7.458963871002197,2.1915125846862793,3.479085922241211,5.70969820022583,-3.8737471103668213,5.389054775238037,3.0175139904022217,-0.3162365257740021,5.343844413757324,2.218451499938965,-6.734014987945557,3.9002203941345215,3.7453808784484863,-5.786998748779297,-4.69364070892334,5.546348571777344,-3.4076766967773438,5.768161296844482,5.077229022979736,2.193138360977173,3.484966278076172,-0.35420045256614685,4.307117938995361,-7.980034828186035,3.914445400238037,-0.20424894988536835,-5.261617660522461,1.4371951818466187,-4.706206321716309,1.9197754859924316,-6.1078572273254395,1.943265438079834,-5.786632061004639,5.124099254608154,1.6842825412750244,-7.001799583435059,-6.247829914093018,1.6918907165527344,3.7184054851531982,3.906825065612793,-6.341868877410889,2.471419095993042,3.660447835922241,-0.1985785961151123,5.240906238555908,2.2446577548980713,-7.889395236968994,0.45849984884262085,2.472942352294922,-0.16912002861499786,-4.729004859924316,5.233229637145996,5.470590591430664,-5.287636756896973,5.185975074768066,-0.1539144068956375,1.6955361366271973,-7.412821292877197,-6.513516426086426,-1.7341532707214355,-7.98355770111084,-0.34886422753334045,-1.7323259115219116,5.708742618560791,-3.954113245010376,-6.569731712341309,-2.8110671043395996,-0.08914095163345337,-7.830120086669922,5.5326762199401855,-5.2470703125,5.5997395515441895,2.471369743347168,5.269949436187744,3.0198371410369873,2.145426034927368,-0.6613524556159973,-2.9405441284179688,-3.0926096439361572,3.734825372695923,-3.2706193923950195,-2.866215467453003,3.014820098876953,2.0649399757385254,3.928330183029175,-0.11815276741981506,-7.5595173835754395,-2.8098549842834473,-7.984882354736328,-7.1358795166015625,5.072059154510498,-1.8013169765472412,3.4727554321289062,-0.3534168303012848,0.03797227144241333,0.12452065199613571,-1.7667757272720337,-6.416273593902588,-1.7455929517745972,-6.001914978027344,3.0148186683654785,1.7031840085983276,-5.310325622558594,4.540305137634277,4.033311367034912,2.4751298427581787,-7.305739879608154,-6.414412975311279,-6.662276744842529,5.452621936798096,5.345773696899414,-6.63330602645874,5.313826084136963,-0.15149003267288208,5.345575332641602,3.8567070960998535,3.4945504665374756,3.2237024307250977,-0.6745311617851257,4.7091965675354,2.2760157585144043,3.4815726280212402,3.955644369125366,5.781320571899414,-7.331866264343262,5.158178806304932,-7.4928483963012695,3.1582231521606445,3.010982036590576,-2.730746269226074,-3.207772731781006,3.483973503112793,3.4765543937683105,3.4832324981689453,-0.09496001899242401,2.095003128051758,5.309249401092529,-5.772171497344971,5.057751178741455,0.05836017429828644,-2.87628436088562,5.599899768829346,2.216956853866577,4.534427165985107,1.5941280126571655,5.200489521026611,1.358505368232727,4.054116249084473,-3.29229474067688,0.4093904197216034,-3.894757032394409,-6.945896148681641,1.2309218645095825,-8.037271499633789,1.8410207033157349,-5.228605270385742,-2.9446842670440674,4.007351398468018,3.9261980056762695,5.000906944274902,-4.635036945343018,-1.658656120300293,0.3977693021297455,5.925374984741211,1.762283444404602,1.4219690561294556,3.0147457122802734,-0.1717986911535263,3.981168270111084,-7.6109137535095215,0.045861948281526566,-0.847324550151825,5.250666618347168,3.907202959060669,-3.8793604373931885,-1.063662052154541,3.4713940620422363,-1.759896993637085,1.9407986402511597,5.434525966644287,-0.00498634809628129,-7.12481689453125,-3.4345197677612305,-5.281198501586914,-8.049121856689453,5.227679252624512,6.6643171310424805,2.4747812747955322,3.909628391265869,2.1955342292785645,-7.467152118682861,5.043859481811523,-2.9066593647003174,5.451985836029053,5.357486724853516,-0.2941904664039612,-1.6576699018478394],\"z\":[1.921392798423767,0.20893779397010803,0.34527507424354553,-0.0033144098706543446,-4.38858699798584,0.7245792150497437,-1.1904186010360718,-1.2483628988265991,1.4634119272232056,-2.8084402084350586,-2.0068681240081787,-3.0684456825256348,-1.153119683265686,-2.1469876766204834,0.503071665763855,-0.8713905215263367,-4.320444107055664,-5.391219615936279,-0.8150381445884705,-0.3851659297943115,-5.935510158538818,-2.0136559009552,1.612591028213501,-0.12302875518798828,-5.887754440307617,1.9284578561782837,-2.8382625579833984,5.158906936645508,-0.8722614049911499,-0.8854516744613647,1.4920661449432373,-2.006871223449707,1.8798304796218872,0.06030578166246414,-0.9156782627105713,-2.0172860622406006,1.9128540754318237,1.5844630002975464,-1.2209374904632568,-2.6975903511047363,1.333786964416504,-2.448878288269043,-0.19897781312465668,1.4002845287322998,-1.194522500038147,-2.0043158531188965,-1.2473604679107666,1.1722173690795898,-1.510577917098999,1.8282362222671509,-3.2601709365844727,-4.087667942047119,0.9972001314163208,-0.901373028755188,-3.965658664703369,1.4404865503311157,-0.8831377625465393,0.49090075492858887,-0.7912851572036743,0.5840050578117371,-1.246456503868103,1.6861701011657715,-0.8066945672035217,1.4108946323394775,-3.3781163692474365,-0.8719666600227356,1.1689964532852173,-2.4770405292510986,-1.5004351139068604,0.9693410992622375,0.007372227031737566,0.034642357379198074,0.3002840578556061,1.4118578433990479,-0.8838033080101013,-2.685716152191162,-1.2419624328613281,-4.401902675628662,-0.8726648092269897,1.5897040367126465,-1.9998892545700073,2.264125108718872,-1.5105851888656616,1.5413316488265991,-3.1017420291900635,1.5527271032333374,-2.4766833782196045,0.062352750450372696,2.0879464149475098,-3.6640512943267822,-3.0901622772216797,-1.9923614263534546,1.5330960750579834,-0.8730902671813965,-2.6971802711486816,-2.0068435668945312,1.4423223733901978,-2.4797468185424805,-1.183452844619751,1.3630434274673462,-4.727449417114258,-1.9441635608673096,-2.0052340030670166,1.3588653802871704,-1.5288121700286865,-0.9395982623100281,0.817221999168396,-2.01651668548584,0.40559422969818115,-2.4866995811462402,1.7310571670532227,-3.775377035140991,-3.341984748840332,0.7692670226097107,-4.662752151489258,-2.6128087043762207,3.8770058155059814,0.11419358849525452,-0.8621217608451843,-3.411947250366211,5.010987758636475,-2.4114925861358643,-4.051477432250977,0.9304814338684082,-1.9852914810180664,0.35057708621025085,-2.0068697929382324,-1.179481863975525,-5.832300186157227,1.4856387376785278,-2.750628709793091,0.2100396752357483,-0.46439582109451294,1.1443372964859009,-0.34449127316474915,-0.2775938808917999,-1.2485504150390625,2.0602545738220215,1.4418166875839233,1.6397439241409302,-4.465623378753662,0.008089832030236721,-4.658804416656494,-3.8861734867095947,0.16007083654403687,0.7321720123291016,-0.8848159313201904,1.649727702140808,1.7577240467071533,1.7469021081924438,0.7510042786598206,-2.807415723800659,0.7627468705177307,-2.9582812786102295,-1.2487468719482422,2.178675651550293,-2.0283420085906982,-0.9069368243217468,1.4528580904006958,-2.003927707672119,-4.049805641174316,-2.977926731109619,-3.196446418762207,0.7772526741027832,-0.8278583288192749,-3.21728253364563,-0.8421777486801147,1.3228740692138672,0.45495688915252686,1.564145803451538,-3.481290578842163,-4.6361308097839355,-2.7727997303009033,-1.0820555686950684,1.826960802078247,-0.8843827843666077,-3.0391318798065186,-0.016448836773633957,-4.110743045806885,-0.9347132444381714,-4.627445220947266,-4.984600067138672,-1.2522823810577393,-0.2498232126235962,0.2613362669944763,-0.8837072849273682,-0.886001467704773,-0.8828301429748535,-2.39068603515625,2.1179752349853516,-0.14255769550800323,-2.4625229835510254,-0.9582138061523438,1.6454672813415527,-0.47272083163261414,0.3458540141582489,1.7944098711013794,-0.9064740538597107,2.080312490463257,-0.9186241030693054,2.3512203693389893,1.2700116634368896,0.204276442527771,-1.9573777914047241,-0.8084866404533386,-3.616320848464966,2.510338306427002,-4.310295581817627,2.232898473739624,-1.9661465883255005,0.2845565378665924,1.2000582218170166,-3.046436309814453,-1.179706335067749,-1.4506744146347046,0.8104532361030579,-1.9757388830184937,-1.468875765800476,1.9825363159179688,2.276517629623413,-1.2501418590545654,-2.5724308490753174,1.1680984497070312,-3.866001844406128,1.3414993286132812,-2.828864812850952,-0.8757671117782593,-0.8726263046264648,-0.7947795391082764,-2.9206125736236572,-0.8882113695144653,0.7546226382255554,1.6444493532180786,-0.15253594517707825,1.3717718124389648,-4.106714248657227,-0.05915558710694313,-2.0080244541168213,-4.724545478820801,-1.1867643594741821,0.9392015933990479,-2.0043458938598633,-0.8713549971580505,2.1288421154022217,-4.5112504959106445,-1.1692569255828857,4.960566520690918,0.8033847808837891,-0.007273957133293152,-2.5526816844940186,0.8095194697380066],\"type\":\"scatter3d\"},{\"hovertemplate\":\"Dominant_Topic=Topic 2<br>0=%{x}<br>1=%{y}<br>2=%{z}<extra></extra>\",\"legendgroup\":\"Topic 2\",\"marker\":{\"color\":\"#00cc96\",\"opacity\":0.7,\"symbol\":\"circle\"},\"mode\":\"markers\",\"name\":\"Topic 2\",\"scene\":\"scene\",\"showlegend\":true,\"x\":[4.253817558288574,3.2634475231170654,2.2316768169403076,3.031705141067505,2.179032802581787,2.9227988719940186,2.4176406860351562,2.362863779067993,1.5942150354385376,3.0846121311187744,1.5461983680725098,2.4176406860351562,2.602220058441162,2.8647103309631348,2.714017629623413,2.3787972927093506,2.5011789798736572,4.447088718414307,2.208927869796753,2.802385091781616,-1.1652777194976807,2.2399134635925293,3.0451180934906006,2.54404354095459,3.0683231353759766,-0.9276225566864014,2.4573261737823486,2.6579482555389404,2.96455717086792,4.290011405944824,3.9211068153381348,2.545769214630127,2.6217124462127686,-1.584204077720642,2.2089221477508545,-0.276777058839798,1.8316762447357178,2.1815786361694336,2.427316188812256,2.696279287338257,2.376075506210327,3.1574158668518066,2.5657777786254883,2.137943983078003,2.7114038467407227,2.4599990844726562,2.60805344581604,2.916914463043213,1.9707322120666504,-0.3427760899066925,3.2877695560455322,3.017751932144165,-1.2056012153625488,2.880998134613037,3.9550580978393555,2.188551425933838,2.5452888011932373,1.5006170272827148,1.5397961139678955,2.184462547302246,2.3543169498443604,3.989133358001709,2.944671392440796,3.1207973957061768,2.7133445739746094,-0.934333324432373,2.1843643188476562,2.416430711746216,2.6804630756378174,2.4489705562591553,2.9711873531341553,2.181699514389038,2.4047279357910156,2.858391523361206,2.1839234828948975,2.4583981037139893,2.1499691009521484,2.8794610500335693,2.8020474910736084,2.748323440551758,2.8936948776245117,2.7931060791015625,2.729166030883789,2.523845911026001,2.4010415077209473,2.177556276321411,3.0907342433929443,2.820868730545044,2.3565425872802734,3.1169793605804443,2.8436036109924316,2.4647111892700195,2.1783411502838135,2.9450318813323975,3.180083751678467,2.934843063354492,2.545720100402832,2.8017690181732178,2.902998447418213,2.175199508666992,10.317667961120605,2.4511256217956543,3.111557722091675,2.7137296199798584,-0.17288707196712494,3.816929578781128,2.7276763916015625,2.857283592224121,3.1872522830963135,2.809690475463867,1.5478408336639404,-0.5914086103439331,2.563798427581787,2.77667236328125,2.801595449447632,2.3669581413269043,2.1177172660827637,2.3384459018707275,3.6465952396392822,4.423436164855957,2.723310708999634,2.562657117843628,2.415034532546997,4.306033611297607,1.9499311447143555,2.304060935974121,2.487307071685791,3.1206419467926025,2.4169747829437256,2.7400753498077393,2.4176743030548096,2.416313409805298,2.954857110977173,2.9447851181030273,2.760704517364502,2.415048360824585,2.479213237762451,2.376065492630005,3.328727960586548,2.1807472705841064,2.186354637145996,4.398667812347412,2.0653064250946045,4.169857501983643,1.6561460494995117,2.949763059616089,-1.371864914894104,3.1493444442749023,2.457230567932129,2.6108365058898926,2.775692939758301,2.509817361831665,2.6068148612976074,2.1864426136016846,2.8721117973327637,3.00984787940979,-0.22173544764518738,2.8378043174743652,2.1863081455230713,2.1853373050689697,2.750244140625,2.6057262420654297,2.848968982696533,2.24348783493042,2.9650204181671143,3.0789270401000977,-0.3956609070301056,2.8040449619293213,2.2930848598480225,-0.19979208707809448,4.073158264160156,2.588383674621582,2.4561548233032227],\"y\":[0.8844363689422607,-8.627778053283691,-6.362804412841797,-12.388686180114746,-6.1889214515686035,-13.865205764770508,-1.7116827964782715,-3.358834743499756,-1.6336932182312012,-9.093006134033203,-1.577398419380188,-1.7116827964782715,-12.12891960144043,-8.989089965820312,-17.95383071899414,-19.675273895263672,-7.486041069030762,-3.675762176513672,-3.6162686347961426,-15.796406745910645,-1.9600404500961304,-3.660651445388794,-18.93769645690918,-14.856389045715332,-12.299301147460938,-2.192038059234619,-3.3566439151763916,-14.943418502807617,-14.934357643127441,0.9960792064666748,-0.11011700332164764,-12.327224731445312,-8.872365951538086,-1.604868769645691,-19.23426628112793,-3.2079880237579346,-10.898528099060059,-6.222890377044678,-7.4791059494018555,-8.92402458190918,-3.3725075721740723,-12.280608177185059,-14.918853759765625,-2.38279390335083,-18.22614860534668,-3.3577213287353516,-8.977522850036621,-8.990717887878418,-2.1193344593048096,-2.725829839706421,-8.98674201965332,-8.661596298217773,-1.9437731504440308,-8.725740432739258,-0.0026254875119775534,-19.083873748779297,-19.39279556274414,-9.889547348022461,-9.996296882629395,-4.910788536071777,-3.3706212043762207,0.017937084659934044,-10.805130958557129,-12.32093334197998,-17.95509910583496,-2.184856414794922,-4.923144817352295,-18.868240356445312,-14.99355411529541,-19.77321434020996,-18.803447723388672,-6.2242751121521,-7.4535136222839355,-13.79563045501709,-4.91461181640625,-3.3543589115142822,-3.6169593334198,-19.23006248474121,-15.79931640625,-17.144807815551758,-19.769506454467773,-19.698928833007812,-17.59505844116211,-12.421950340270996,-7.47901725769043,-6.173280239105225,-19.339447021484375,-13.75994873046875,-3.395707845687866,-14.919351577758789,-19.694963455200195,-3.34131121635437,-6.191410064697266,-10.829224586486816,-8.582799911499023,-15.000598907470703,-7.456063270568848,-15.819808959960938,-12.291463851928711,-2.447460889816284,-0.5174844264984131,-3.353360414505005,-9.049302101135254,-18.252445220947266,-4.0689778327941895,-0.2493428885936737,-17.595035552978516,-12.502968788146973,-12.386313438415527,-13.833632469177246,-1.5796053409576416,-2.2854413986206055,-18.807205200195312,-13.810477256774902,-15.82581615447998,-3.3803906440734863,-3.6032872200012207,-3.8027663230895996,-3.06742787361145,-3.666149377822876,-14.893688201904297,-19.37291717529297,-1.7086526155471802,-3.6119205951690674,-2.0925943851470947,-19.73479461669922,-7.490040302276611,-8.876008987426758,-1.7099369764328003,-18.87503433227539,-1.7120388746261597,-1.7113224267959595,-10.655396461486816,-10.825284957885742,-12.210344314575195,-1.7091131210327148,-7.478288173675537,-3.373788356781006,-8.902268409729004,-6.215938568115234,-4.906421184539795,-3.6023945808410645,-2.2583203315734863,0.6137069463729858,-1.711153268814087,-10.76598834991455,-1.796888828277588,-8.85494327545166,-3.354562759399414,-12.37009048461914,-16.51093101501465,-18.487060546875,-8.955032348632812,-4.892534255981445,-13.787497520446777,-14.970582962036133,-3.815701723098755,-12.225959777832031,-4.903873920440674,-4.905455589294434,-17.10838508605957,-8.978951454162598,-13.84493350982666,-3.6414177417755127,-19.246347427368164,-14.985137939453125,-3.0949442386627197,-13.770270347595215,-19.15721893310547,-3.7513749599456787,0.3123065233230591,-12.450711250305176,-7.474663257598877],\"z\":[-3.160112142562866,-5.463000774383545,-3.5258374214172363,-5.131831645965576,-4.56743860244751,-4.629730224609375,-3.347618818283081,-4.027087211608887,-7.230897903442383,-5.707761287689209,-7.306515216827393,-3.347618818283081,-4.889608860015869,-5.11483097076416,-3.8893470764160156,-3.30281925201416,-4.958746910095215,-3.4462201595306396,-0.2911735773086548,-4.2889227867126465,-3.2773988246917725,-0.5483298301696777,-3.52038836479187,-4.407844066619873,-4.603614807128906,-3.365635633468628,-4.196718692779541,-4.677314758300781,-4.181709289550781,-3.140610933303833,-2.7753844261169434,-5.015862464904785,-5.652906894683838,-3.136629104614258,-3.4065842628479004,-3.7113289833068848,-3.83258318901062,-4.583186149597168,-5.05794620513916,-5.732484817504883,-3.9938912391662598,-4.979067802429199,-4.305293083190918,-6.279075622558594,-3.833146810531616,-4.195988655090332,-5.346130847930908,-5.108643054962158,-6.601009368896484,-3.564927339553833,-5.327365875244141,-5.772622108459473,-3.2699480056762695,-5.799955368041992,-3.7331104278564453,-3.699014902114868,-4.062274932861328,-3.5698554515838623,-3.6041016578674316,-4.410982131958008,-4.010929584503174,-3.8080241680145264,-5.187867164611816,-4.655660629272461,-3.8891823291778564,-3.3627657890319824,-4.412797927856445,-3.3442108631134033,-4.684263706207275,-3.7939038276672363,-3.879573106765747,-4.58265495300293,-4.973126411437988,-4.604630470275879,-4.411720275878906,-4.196357727050781,0.12977777421474457,-4.031929016113281,-4.288942337036133,-4.036534786224365,-3.5174925327301025,-3.277401924133301,-3.956397294998169,-4.725455284118652,-5.048027515411377,-4.568088531494141,-3.706660032272339,-4.5720438957214355,-4.00511360168457,-4.472784042358398,-3.8449959754943848,-4.186152935028076,-4.578180313110352,-5.185173034667969,-5.603262901306152,-4.699827671051025,-5.069151878356934,-4.2843122482299805,-4.523698806762695,-6.195199489593506,3.082146644592285,-4.196037292480469,-5.723744869232178,-3.829413652420044,-3.9549038410186768,-2.9568734169006348,-3.9560844898223877,-5.168202877044678,-4.886087894439697,-4.696482181549072,-7.304405212402344,-3.4133520126342773,-4.049542427062988,-4.569875717163086,-4.284211158752441,-3.9944024085998535,0.37525537610054016,-1.4186973571777344,-3.1113510131835938,-3.448167324066162,-4.168661117553711,-3.132204055786133,-3.347179889678955,-3.4562180042266846,-6.641408920288086,-3.6075122356414795,-4.938925743103027,-5.1081976890563965,-3.3471627235412598,-3.269848346710205,-3.347778081893921,-3.3468661308288574,-5.2174553871154785,-5.185261249542236,-4.560556411743164,-3.3460896015167236,-4.971090793609619,-3.989652156829834,-5.415398120880127,-4.582479476928711,-4.411670207977295,-3.4227817058563232,-6.422821044921875,-3.323892831802368,-7.1293864250183105,-5.195079803466797,-3.2124416828155518,-5.1218695640563965,-4.195165634155273,-4.604849815368652,-4.1521830558776855,-3.6714134216308594,-5.327564239501953,-4.409057140350342,-4.607598781585693,-4.211820602416992,-3.8830976486206055,-5.161905288696289,-4.410889625549316,-4.40990686416626,-4.044710159301758,-5.56259822845459,-4.686333656311035,-0.581547737121582,-3.2810189723968506,-4.5754194259643555,-3.667628049850464,-4.56346321105957,-3.9461913108825684,-3.869091510772705,-3.530991315841675,-5.069045066833496,-5.042638778686523],\"type\":\"scatter3d\"},{\"hovertemplate\":\"Dominant_Topic=Topic 3<br>0=%{x}<br>1=%{y}<br>2=%{z}<extra></extra>\",\"legendgroup\":\"Topic 3\",\"marker\":{\"color\":\"#ab63fa\",\"opacity\":0.7,\"symbol\":\"circle\"},\"mode\":\"markers\",\"name\":\"Topic 3\",\"scene\":\"scene\",\"showlegend\":true,\"x\":[-3.0485126972198486,-1.029444932937622,-4.142952919006348,-2.0181949138641357,-3.757019281387329,-0.9234858155250549,-1.052651047706604,-3.435225248336792,-3.3817005157470703,1.1985405683517456,1.4586738348007202,-0.7979146838188171,-2.8196938037872314,-3.6035492420196533,-2.2632572650909424,2.226794719696045,0.25250741839408875,0.2532067596912384,-3.2290902137756348,-3.9144504070281982,-3.0446383953094482,-0.15638746321201324,-4.370617389678955,-2.110210657119751,-0.1649748682975769,-3.7756898403167725,-3.0231685638427734,-3.0346808433532715,1.893670678138733,-2.8113718032836914,2.0505058765411377,-0.18371649086475372,-3.423196315765381,-0.898424506187439,-3.7759549617767334,1.3628393411636353,-3.4385805130004883,-4.150976181030273,-1.969331979751587,0.6315820217132568,-1.322055459022522,-1.5124058723449707,-3.2415826320648193,-3.80476450920105,-4.227362155914307,1.8989653587341309,1.257018804550171,-1.6009128093719482,5.107821464538574,-1.8875550031661987,-0.8466417789459229,-1.1982568502426147,1.1630762815475464,1.5062899589538574,1.5627504587173462,-2.399569511413574,-1.0885300636291504,1.8827232122421265,1.9420711994171143,0.6263933181762695,-1.618892788887024,1.4020037651062012,-0.3037489354610443,1.0005366802215576,-0.6866135001182556,-2.2702536582946777,0.2564162015914917,-2.018602132797241,-0.3066684305667877,3.039005756378174,-0.2517096996307373,-2.2682902812957764,0.9753680229187012,0.9835991263389587,1.2748515605926514,4.374598979949951,2.357001543045044,-1.0182403326034546,-0.6009293794631958,-1.647443413734436,-0.27038896083831787,1.8538414239883423,1.3627474308013916,0.2554914057254791,4.8070549964904785,-2.2885329723358154,-1.920102596282959,4.569855690002441,-1.9627598524093628,-1.9804487228393555,0.6365110278129578,-2.5325212478637695,2.0503339767456055,-3.6364781856536865,0.9950659871101379,2.839799165725708,1.9099199771881104,-3.6813788414001465,1.3997706174850464,0.25225189328193665,-0.5687740445137024,-3.99772310256958,2.353846311569214,1.2230836153030396,-1.283592700958252,0.24800537526607513,-1.589726448059082,-0.18606384098529816,-0.15449059009552002,-1.5333181619644165,-2.5532209873199463,2.353919506072998,-3.6786482334136963,0.3119066655635834,1.874588966369629,0.6329270601272583,-3.4455182552337646,1.3628251552581787,4.249373912811279,-2.560685157775879,-0.46283289790153503,-1.1522407531738281,-3.240339994430542,-1.2428994178771973,-1.2786377668380737,-2.5581588745117188,0.253581166267395,2.405877113342285,1.2404344081878662,1.5050326585769653,-1.8261626958847046,-4.010965347290039,-3.4251909255981445,1.3628027439117432,-0.2606116831302643,1.3339998722076416,-1.8883591890335083,1.5596799850463867,-3.0325138568878174,0.24965809285640717,-2.8057093620300293,1.9794615507125854,-4.213818073272705,2.4584295749664307,1.5703542232513428,-0.16366273164749146,-1.580235481262207,1.2428574562072754,-4.089133262634277,1.4020541906356812,1.251107096672058,-1.9594290256500244,-1.6935007572174072,-0.5195449590682983,1.5622512102127075,-0.27554619312286377,-1.5932379961013794,1.8915640115737915,0.8642831444740295,-3.397615909576416,-4.222901344299316,1.4177886247634888,6.108766555786133,0.6233218908309937,1.8642733097076416,2.087218999862671,5.624061584472656,-0.5006077289581299,2.2127678394317627,-1.9926825761795044],\"y\":[-3.7390918731689453,-3.762038469314575,-3.232158660888672,-3.9389567375183105,-3.1391804218292236,-3.545144557952881,-3.9554996490478516,-3.5524189472198486,-3.335287094116211,-1.5949273109436035,-1.4049255847930908,-3.8250513076782227,-3.815845489501953,-3.709261655807495,-3.939943790435791,0.6386450529098511,-2.9182653427124023,-2.912783622741699,-3.6610217094421387,-3.7600924968719482,-3.734126091003418,-3.2990236282348633,-3.282081365585327,0.6254915595054626,-3.3070995807647705,-3.0911715030670166,-3.742478847503662,-3.7387092113494873,-3.5921781063079834,-3.8182570934295654,-3.541747808456421,-3.315814256668091,-3.361130714416504,-3.4914143085479736,-2.92891526222229,-1.395985722541809,-3.56091570854187,-2.9784436225891113,0.3320625126361847,-2.349078416824341,-0.19461897015571594,-4.527195930480957,-3.64335560798645,-3.5572750568389893,-3.623410224914551,-3.7107231616973877,-1.9507189989089966,-3.8972630500793457,-0.9894429445266724,-3.8754096031188965,-3.5105502605438232,-3.930842399597168,-2.591510772705078,-1.5706173181533813,-1.5490752458572388,0.6931378245353699,-3.6638805866241455,-3.5900700092315674,-3.549149990081787,-2.3567991256713867,0.04721652716398239,-1.475982427597046,-3.6419670581817627,-1.6749603748321533,-3.359976053237915,-3.938387155532837,-2.8858537673950195,-3.8993420600891113,-3.6425631046295166,1.8487132787704468,-3.569443464279175,-3.9387989044189453,-1.7122429609298706,-1.734909176826477,-1.64094877243042,-1.1874353885650635,0.8643870949745178,-3.866114616394043,-3.8720858097076416,0.061858389526605606,-3.592989206314087,-3.284052848815918,-1.39547860622406,-2.905035972595215,-1.0700783729553223,-3.9344019889831543,-3.987454414367676,-1.1361759901046753,-4.008701801300049,-4.012110710144043,-2.3429067134857178,-3.893982410430908,-3.560771942138672,-3.4200258255004883,-1.6694475412368774,1.51791250705719,-3.5162672996520996,-3.7825846672058105,-1.4712653160095215,-2.9118728637695312,-3.8579440116882324,-3.6541028022766113,0.8567379713058472,-1.6040034294128418,-3.7394392490386963,-2.9170801639556885,-3.895601272583008,-3.3228819370269775,-3.2884087562561035,-0.018733296543359756,-3.8891170024871826,0.8646811842918396,-2.9868292808532715,-4.215667247772217,-3.372476577758789,-2.3491311073303223,-3.2924728393554688,-1.395969033241272,-1.2185560464859009,-3.8897879123687744,-3.533322811126709,-0.3266808092594147,-3.6425933837890625,-3.676589250564575,-3.853879690170288,-3.888005018234253,-2.913447141647339,0.9473603367805481,-1.9592519998550415,-1.4177395105361938,0.2078322023153305,-3.235182523727417,-3.677081346511841,-1.395995855331421,-3.4748668670654297,-1.8397631645202637,0.2622826397418976,-1.5378767251968384,-3.7372376918792725,-2.912524938583374,-3.819676399230957,-3.5268125534057617,-3.5278635025024414,1.025543451309204,-2.769334316253662,-3.3090100288391113,-3.893767833709717,-1.9556788206100464,-3.488416910171509,-1.4766464233398438,-1.9543856382369995,-3.8490734100341797,0.11411304771900177,-3.460599184036255,-1.5392048358917236,-3.467294216156006,-3.8958864212036133,-3.66042160987854,-1.9762457609176636,-3.5897724628448486,-3.0591917037963867,-1.4341769218444824,-0.7149007320404053,-2.360661268234253,-3.4893927574157715,-3.5828042030334473,-0.8148453831672668,-3.804734230041504,-1.825801968574524,0.3615199625492096],\"z\":[16.267406463623047,11.878190994262695,19.430139541625977,13.549128532409668,19.221797943115234,10.719903945922852,11.708934783935547,17.306346893310547,18.223676681518555,6.396030426025391,4.829774856567383,10.692560195922852,15.696385383605957,18.606348037719727,14.329532623291016,3.9484288692474365,8.72778034210205,8.748069763183594,16.805740356445312,18.812549591064453,16.264110565185547,9.781224250793457,18.838415145874023,3.272777795791626,9.753979682922363,18.044286727905273,16.231035232543945,16.25505828857422,2.395962953567505,15.672029495239258,0.8465003967285156,9.799653053283691,18.609588623046875,10.720305442810059,18.73838233947754,3.2836110591888428,17.288867950439453,19.10101318359375,3.6250455379486084,7.622673988342285,4.331999778747559,10.165617942810059,16.854278564453125,17.674053192138672,18.94140625,2.8958427906036377,6.350625038146973,12.798028945922852,5.9275288581848145,13.647252082824707,10.629356384277344,11.805916786193848,9.662525177001953,4.789248466491699,4.831718444824219,3.1850080490112305,11.847582817077637,2.5601720809936523,1.6648786067962646,7.638632774353027,3.9719550609588623,4.788817882537842,5.882850170135498,6.321828365325928,10.822701454162598,14.347935676574707,8.69173526763916,13.560239791870117,5.791393756866455,2.3444042205810547,5.675225734710693,14.34305191040039,6.32925271987915,6.295996189117432,6.423193454742432,6.021425247192383,3.608564853668213,11.847831726074219,10.808551788330078,3.9690134525299072,5.698188781738281,1.7432271242141724,3.282738447189331,8.72308349609375,5.9829254150390625,14.397493362426758,13.65621566772461,6.004938125610352,13.641300201416016,13.646628379821777,7.612363815307617,14.982659339904785,0.8270434141159058,19.101499557495117,6.35692024230957,2.7109174728393555,1.885230541229248,18.20155143737793,4.7916259765625,8.73050594329834,10.819995880126953,18.090635299682617,3.608569622039795,6.395543098449707,11.750651359558105,8.748390197753906,12.773995399475098,9.796557426452637,9.764126777648926,4.054197788238525,15.026459693908691,3.628448247909546,18.452346801757812,8.799276351928711,1.7533907890319824,7.626494407653809,17.730730056762695,3.2827250957489014,6.034177780151367,15.037399291992188,10.9044189453125,4.536271572113037,16.85691261291504,11.776130676269531,11.770766258239746,15.038427352905273,8.700121879577637,3.5106821060180664,6.363500595092773,4.833963871002197,3.7794578075408936,18.030996322631836,17.84295082092285,3.2837138175964355,4.847069263458252,6.377052307128906,3.710629463195801,4.816011428833008,16.250560760498047,8.733846664428711,15.665669441223145,1.2690212726593018,18.383230209350586,3.4019393920898438,2.22355318069458,9.772130966186523,12.751445770263672,6.340089797973633,19.342580795288086,4.790452003479004,6.352615833282471,13.622598648071289,3.8747498989105225,10.924211502075195,4.827563285827637,4.666463375091553,12.777928352355957,2.796968936920166,7.036503314971924,17.3411922454834,18.599769592285156,4.80823278427124,5.833173751831055,7.647262096405029,2.3651106357574463,0.5888658165931702,5.9285407066345215,10.828329086303711,7.841768264770508,3.585217237472534],\"type\":\"scatter3d\"},{\"hovertemplate\":\"Dominant_Topic=Topic 4<br>0=%{x}<br>1=%{y}<br>2=%{z}<extra></extra>\",\"legendgroup\":\"Topic 4\",\"marker\":{\"color\":\"#FFA15A\",\"opacity\":0.7,\"symbol\":\"circle\"},\"mode\":\"markers\",\"name\":\"Topic 4\",\"scene\":\"scene\",\"showlegend\":true,\"x\":[-4.729554176330566,-3.344574213027954,-5.011654376983643,-3.683933973312378,-3.5343616008758545,-1.8277252912521362,-4.769690036773682,-4.802513599395752,-3.88065505027771,-2.1738739013671875,8.107413291931152,-1.7901508808135986,-5.359914779663086,-2.403966188430786,-3.3525919914245605,-2.0459654331207275,-4.618502140045166,-4.493930816650391,-5.407728672027588,1.4204343557357788,-4.606250286102295,-5.558741569519043,8.108027458190918,-4.9974164962768555,-4.763415813446045,-4.578463077545166,-4.5922369956970215,-4.133890151977539,-5.548452377319336,-5.498180866241455,-5.363046169281006,-5.4760003089904785,-4.9975080490112305,-3.6750121116638184,-3.7078194618225098,-4.1089982986450195,-4.7461676597595215,-5.002906322479248,-3.4274017810821533,-2.8551933765411377,-3.6709201335906982,-2.169071674346924,-4.482409477233887,-5.548908233642578,-4.781351089477539,-2.267029285430908,-4.733870506286621,-2.8468499183654785,-1.751452922821045,-1.7827869653701782,-4.983058929443359,-4.178454399108887,-3.03545880317688,-4.752529144287109,-5.404865741729736,-2.9147186279296875,-3.0570602416992188,-2.195579767227173,-2.2006642818450928,-5.1903252601623535,-2.1545982360839844,-3.7091076374053955,-3.6009602546691895,-4.720398426055908,-4.775379180908203,-3.710240125656128,-2.119866371154785,-3.884915590286255,-3.601806879043579,-3.8584847450256348,-5.250936985015869,-5.076592445373535,-3.6965277194976807,-4.6430158615112305,-2.128598213195801,-3.683826208114624,-2.097925901412964,-1.8649708032608032,-1.6248440742492676,-5.548060894012451,-2.604461431503296,-4.720611095428467,-2.3426218032836914,-2.600175380706787,-2.7030434608459473,-4.6023359298706055,-2.600214719772339,-3.6900112628936768,-3.5985991954803467,-4.990941524505615,-2.216134786605835,-2.115037679672241,-4.998732089996338,-2.6918790340423584,-4.118566989898682,-5.436468124389648,-2.4397201538085938,-2.207535743713379,-4.852476119995117,-5.291555404663086,-5.456517219543457,-5.547040939331055,-3.4344849586486816,-3.0401053428649902,-2.618375778198242,-4.669025421142578],\"y\":[2.7308664321899414,3.876559257507324,1.590691089630127,3.4945054054260254,2.512856960296631,5.096284866333008,2.492037296295166,2.6087522506713867,0.3076319396495819,5.813782215118408,2.6110215187072754,5.50468635559082,2.4921345710754395,4.923657417297363,3.868229866027832,4.9882378578186035,2.8163745403289795,2.487093448638916,1.6532710790634155,-1.4470218420028687,1.5858360528945923,2.419384241104126,2.6168065071105957,1.5894039869308472,2.9026944637298584,2.5463974475860596,2.598557472229004,3.0466318130493164,1.8111070394515991,2.2728610038757324,1.9635207653045654,2.08606219291687,1.5876332521438599,3.501462936401367,1.690453052520752,3.0710978507995605,2.8714606761932373,1.588308334350586,2.7120778560638428,4.629614353179932,2.527541399002075,0.8474473357200623,2.589872360229492,1.8114166259765625,1.995916485786438,5.282310962677002,2.760833501815796,4.8635945320129395,5.739348411560059,5.8790507316589355,1.7926968336105347,3.0124948024749756,4.228795528411865,2.8204450607299805,1.6490678787231445,4.459930419921875,4.203319072723389,0.8611496090888977,0.8587502837181091,2.534684181213379,0.8417763113975525,1.690895676612854,1.8871653079986572,0.7455976605415344,1.9760780334472656,1.6911650896072388,4.734339237213135,0.25539812445640564,1.8869563341140747,0.6435717940330505,1.8144179582595825,1.7724121809005737,3.4756767749786377,2.410290241241455,0.8356343507766724,3.494743824005127,4.966591835021973,5.363611698150635,5.601442813873291,1.8094230890274048,5.374209880828857,2.7461514472961426,4.682556629180908,5.157538414001465,5.03491735458374,2.7268519401550293,4.820034980773926,3.486138105392456,1.8875762224197388,2.463941812515259,0.8757044672966003,5.7186503410339355,1.5895779132843018,4.371947288513184,1.6709723472595215,2.483327865600586,5.47865629196167,5.419634819030762,2.345881223678589,2.5150747299194336,2.3936522006988525,1.8058478832244873,2.8036868572235107,4.220767021179199,4.4436540603637695,2.6807212829589844],\"z\":[-13.574419021606445,-15.1403226852417,-10.760405540466309,-14.703627586364746,-14.931949615478516,-16.666229248046875,-13.685636520385742,-13.660799026489258,-8.570581436157227,-16.832181930541992,4.357847690582275,-17.314775466918945,-8.928817749023438,-15.869345664978027,-15.128691673278809,-16.915178298950195,-6.596551418304443,-13.53223705291748,-11.266890525817871,-7.484236717224121,-10.448735237121582,-9.425286293029785,4.363690376281738,-10.746045112609863,-6.488658428192139,-7.722833156585693,-7.522933006286621,-14.17541217803955,-12.110586166381836,-12.951976776123047,-13.105793952941895,-13.025547981262207,-10.746537208557129,-14.71098518371582,-9.34847640991211,-14.2046480178833,-6.613283157348633,-10.753021240234375,-9.851881980895996,-15.715540885925293,-10.089460372924805,-10.31360149383545,-13.522360801696777,-12.083884239196777,-12.772051811218262,-17.1202392578125,-7.172941207885742,-16.211061477661133,-16.79909324645996,-17.241065979003906,-12.90578556060791,-14.123571395874023,-15.528669357299805,-6.918489456176758,-11.260051727294922,-15.95800495147705,-15.502789497375488,-10.295747756958008,-10.326372146606445,-12.710986137390137,-10.305055618286133,-9.351385116577148,-8.423017501831055,-10.801490783691406,-12.821941375732422,-9.352664947509766,-16.330949783325195,-8.543231010437012,-8.423583984375,-8.770689964294434,-13.00755786895752,-12.933074951171875,-14.685811042785645,-13.65416145324707,-10.234719276428223,-14.703124046325684,-16.107131958007812,-16.44379997253418,-17.14183235168457,-12.093087196350098,-16.5939998626709,-7.206528663635254,-16.548736572265625,-16.778793334960938,-15.956774711608887,-13.491988182067871,-16.612567901611328,-14.695173263549805,-8.420720100402832,-12.63483715057373,-10.257233619689941,-17.239124298095703,-10.745911598205566,-15.923426628112793,-9.95573616027832,-9.066322326660156,-16.372726440429688,-16.246679306030273,-12.642192840576172,-12.741251945495605,-12.87221908569336,-12.038061141967773,-9.987397193908691,-15.51734733581543,-15.78450870513916,-7.358060359954834],\"type\":\"scatter3d\"},{\"hovertemplate\":\"Dominant_Topic=Topic 5<br>0=%{x}<br>1=%{y}<br>2=%{z}<extra></extra>\",\"legendgroup\":\"Topic 5\",\"marker\":{\"color\":\"#19d3f3\",\"opacity\":0.7,\"symbol\":\"circle\"},\"mode\":\"markers\",\"name\":\"Topic 5\",\"scene\":\"scene\",\"showlegend\":true,\"x\":[19.23287010192871,17.323854446411133,10.027124404907227,15.002927780151367,15.008878707885742,18.806869506835938,17.29072380065918,9.603019714355469,19.264619827270508,17.77395248413086,19.60935401916504,8.297027587890625,18.990629196166992,8.80612850189209,18.847064971923828,10.744550704956055,8.806446075439453,11.586447715759277,9.788148880004883,6.837483882904053,18.1424560546875,15.623879432678223,10.104000091552734,10.738910675048828,7.106916427612305,10.547926902770996,10.024374961853027,16.76902198791504,15.800392150878906,8.46535587310791,19.785676956176758,9.647503852844238,14.245711326599121,7.051385879516602,10.27149486541748,10.182097434997559,9.422232627868652,17.383655548095703,16.948528289794922,9.988277435302734,17.777667999267578,14.272257804870605,18.798683166503906,9.707144737243652,19.96135139465332,11.548408508300781,16.70597267150879,12.540986061096191,6.8744001388549805,7.082913875579834,15.705782890319824,19.484018325805664,7.94776725769043,14.949742317199707,8.80612850189209,13.404773712158203,8.340601921081543,19.242237091064453,14.24528694152832,19.419179916381836,11.57102108001709,16.426538467407227,17.12889862060547,16.416532516479492,16.411434173583984,8.807010650634766,9.690268516540527,19.48220443725586,14.215959548950195,12.528523445129395,16.726181030273438,19.713281631469727,19.765911102294922,14.996801376342773,19.12242889404297,16.881988525390625,13.128182411193848,18.79447364807129,15.712656021118164,10.02660846710205,13.362892150878906,13.367301940917969,15.503090858459473,16.324583053588867,18.54409408569336,7.916330814361572,19.504850387573242,12.528860092163086,11.569221496582031,16.319664001464844,11.57954216003418,11.571333885192871,8.80612850189209,8.157526969909668,11.57465648651123,19.27668571472168,17.476932525634766,11.564743995666504,8.80612850189209,19.25611686706543,10.742135047912598,19.904781341552734,16.24087905883789,12.466663360595703,18.918149948120117,10.182148933410645,10.378983497619629,15.52341365814209,17.02899742126465,11.43056583404541,15.804852485656738,14.239638328552246,12.52122688293457,19.97810173034668,10.022727966308594,12.486952781677246,18.971342086791992,12.538193702697754,19.745241165161133,9.071423530578613,15.706719398498535,10.732688903808594,13.397544860839844,15.49685287475586,9.544736862182617,17.454233169555664,15.918787002563477,18.789897918701172,8.806846618652344,15.691393852233887,8.806903839111328,14.230752944946289,10.021557807922363,17.76805305480957,9.63228702545166,14.203843116760254,8.806846618652344,14.962552070617676,8.806450843811035,17.437644958496094,17.09975242614746,7.9226274490356445],\"y\":[7.8887224197387695,6.129133701324463,1.0848742723464966,3.5187315940856934,3.527204990386963,8.200664520263672,6.147900581359863,-1.7567317485809326,8.468682289123535,6.538966178894043,8.994068145751953,2.6474506855010986,8.524432182312012,0.5373847484588623,8.255359649658203,1.4801918268203735,0.5375492572784424,1.7142558097839355,-1.2265434265136719,-0.3697189688682556,6.972379684448242,4.060311317443848,-0.1914227306842804,1.4789206981658936,-0.08180073648691177,2.559311628341675,1.0840078592300415,5.676152229309082,3.9697721004486084,2.1361820697784424,9.077936172485352,-1.6958900690078735,2.909719705581665,-0.17478345334529877,-0.16683973371982574,-0.29593798518180847,-1.9638564586639404,6.175675392150879,5.721193313598633,-0.4028662443161011,6.541248798370361,2.9240081310272217,7.73850154876709,-1.6137001514434814,8.597807884216309,1.7158093452453613,5.697809219360352,1.9797067642211914,-0.2726902961730957,-0.1394352912902832,4.276641368865967,7.90072774887085,-2.001770257949829,3.4785404205322266,0.5373829007148743,2.4135348796844482,2.176408052444458,7.8922247886657715,2.909183979034424,8.331582069396973,1.7144557237625122,4.858891487121582,5.532455921173096,4.819154739379883,4.931858062744141,0.5377994179725647,-1.6886723041534424,8.231396675109863,2.8956103324890137,1.9657762050628662,5.5696210861206055,8.700357437133789,8.19645881652832,3.4968979358673096,8.282674789428711,5.378145217895508,1.6163057088851929,7.735179901123047,3.0557408332824707,1.0846723318099976,2.3919942378997803,2.3921802043914795,4.351609706878662,5.016726970672607,7.443285942077637,2.7744345664978027,8.786596298217773,1.9739331007003784,1.7103697061538696,4.876741409301758,1.7161579132080078,0.964002788066864,0.5373829007148743,2.541731834411621,1.7101237773895264,8.918411254882812,6.009171009063721,1.7117427587509155,0.5373829007148743,8.909790992736816,1.480390191078186,8.542906761169434,4.939162731170654,1.9410420656204224,7.854190826416016,0.02007610909640789,1.0111252069473267,4.2598772048950195,5.340925693511963,0.9625598788261414,4.081996440887451,2.908799648284912,1.9703755378723145,8.98668384552002,1.0818934440612793,1.9651272296905518,8.63733196258545,1.9784352779388428,8.208528518676758,-2.116908073425293,4.375207424163818,1.4761712551116943,2.4102907180786133,4.313900947570801,-1.8026857376098633,6.112253665924072,4.091127395629883,7.733249187469482,0.5377147197723389,3.985496997833252,0.53774493932724,2.8986105918884277,1.0815134048461914,6.5305352210998535,-1.4299081563949585,2.878093719482422,0.5377147197723389,3.4823975563049316,0.5375511050224304,6.000208854675293,5.3784308433532715,2.542034864425659],\"z\":[12.154788970947266,10.287412643432617,6.197747707366943,8.370512962341309,8.375144958496094,11.662969589233398,10.257338523864746,5.917533874511719,11.542248725891113,10.538379669189453,12.007301330566406,1.9674100875854492,11.688847541809082,5.12410306930542,12.11053466796875,6.9184346199035645,5.124454498291016,7.3933610916137695,3.6292943954467773,5.749368667602539,10.878233909606934,9.02779769897461,3.754809617996216,6.914240837097168,6.091795444488525,7.034007549285889,6.195135593414307,9.602179527282715,8.869169235229492,4.765753746032715,12.545188903808594,5.975860595703125,8.029165267944336,5.950936317443848,3.653752565383911,3.5722742080688477,5.667975902557373,10.098429679870605,9.582534790039062,3.9018874168395996,10.542943000793457,8.032591819763184,11.439386367797852,6.053921699523926,12.069169998168945,7.3807902336120605,9.854765892028809,7.579409599304199,5.953807830810547,5.983473777770996,8.57649040222168,11.967930793762207,5.306258678436279,8.355993270874023,5.1241044998168945,7.796320915222168,4.598403453826904,11.558082580566406,8.028470039367676,12.585989952087402,7.387519836425781,9.237234115600586,9.61835765838623,9.384543418884277,9.214682579040527,5.125079154968262,6.031129837036133,11.566012382507324,8.025910377502441,7.56008243560791,9.976189613342285,11.798059463500977,11.920005798339844,8.34707260131836,12.440494537353516,9.995487213134766,6.570470333099365,11.442182540893555,7.470334529876709,6.197362899780273,7.786933422088623,7.785884380340576,8.893515586853027,9.255664825439453,11.24963092803955,1.6476106643676758,12.691925048828125,7.576272010803223,7.3842878341674805,9.442752838134766,7.39048957824707,5.358609199523926,5.1241044998168945,4.411690711975098,7.38802433013916,11.983918190002441,10.224885940551758,7.381604194641113,5.1241044998168945,12.416687965393066,6.916465759277344,12.544768333435059,9.36659049987793,7.559887886047363,11.927090644836426,3.9714572429656982,7.697449207305908,9.002144813537598,9.918840408325195,5.408138275146484,8.62392520904541,8.032783508300781,7.575801849365234,12.47559928894043,6.191477298736572,7.578462600708008,12.177393913269043,7.578708648681641,12.371841430664062,5.443798065185547,8.637414932250977,6.9083571434021,7.795481204986572,8.683722496032715,5.837817192077637,10.079334259033203,8.769827842712402,11.487274169921875,5.1248979568481445,8.9683837890625,5.124961853027344,8.021936416625977,6.191612243652344,10.534008026123047,4.025542259216309,8.010273933410645,5.1248979568481445,8.350905418395996,5.124459266662598,10.279855728149414,9.686287879943848,3.798276901245117],\"type\":\"scatter3d\"}],                        {\"template\":{\"data\":{\"histogram2dcontour\":[{\"type\":\"histogram2dcontour\",\"colorbar\":{\"outlinewidth\":0,\"ticks\":\"\"},\"colorscale\":[[0.0,\"#0d0887\"],[0.1111111111111111,\"#46039f\"],[0.2222222222222222,\"#7201a8\"],[0.3333333333333333,\"#9c179e\"],[0.4444444444444444,\"#bd3786\"],[0.5555555555555556,\"#d8576b\"],[0.6666666666666666,\"#ed7953\"],[0.7777777777777778,\"#fb9f3a\"],[0.8888888888888888,\"#fdca26\"],[1.0,\"#f0f921\"]]}],\"choropleth\":[{\"type\":\"choropleth\",\"colorbar\":{\"outlinewidth\":0,\"ticks\":\"\"}}],\"histogram2d\":[{\"type\":\"histogram2d\",\"colorbar\":{\"outlinewidth\":0,\"ticks\":\"\"},\"colorscale\":[[0.0,\"#0d0887\"],[0.1111111111111111,\"#46039f\"],[0.2222222222222222,\"#7201a8\"],[0.3333333333333333,\"#9c179e\"],[0.4444444444444444,\"#bd3786\"],[0.5555555555555556,\"#d8576b\"],[0.6666666666666666,\"#ed7953\"],[0.7777777777777778,\"#fb9f3a\"],[0.8888888888888888,\"#fdca26\"],[1.0,\"#f0f921\"]]}],\"heatmap\":[{\"type\":\"heatmap\",\"colorbar\":{\"outlinewidth\":0,\"ticks\":\"\"},\"colorscale\":[[0.0,\"#0d0887\"],[0.1111111111111111,\"#46039f\"],[0.2222222222222222,\"#7201a8\"],[0.3333333333333333,\"#9c179e\"],[0.4444444444444444,\"#bd3786\"],[0.5555555555555556,\"#d8576b\"],[0.6666666666666666,\"#ed7953\"],[0.7777777777777778,\"#fb9f3a\"],[0.8888888888888888,\"#fdca26\"],[1.0,\"#f0f921\"]]}],\"heatmapgl\":[{\"type\":\"heatmapgl\",\"colorbar\":{\"outlinewidth\":0,\"ticks\":\"\"},\"colorscale\":[[0.0,\"#0d0887\"],[0.1111111111111111,\"#46039f\"],[0.2222222222222222,\"#7201a8\"],[0.3333333333333333,\"#9c179e\"],[0.4444444444444444,\"#bd3786\"],[0.5555555555555556,\"#d8576b\"],[0.6666666666666666,\"#ed7953\"],[0.7777777777777778,\"#fb9f3a\"],[0.8888888888888888,\"#fdca26\"],[1.0,\"#f0f921\"]]}],\"contourcarpet\":[{\"type\":\"contourcarpet\",\"colorbar\":{\"outlinewidth\":0,\"ticks\":\"\"}}],\"contour\":[{\"type\":\"contour\",\"colorbar\":{\"outlinewidth\":0,\"ticks\":\"\"},\"colorscale\":[[0.0,\"#0d0887\"],[0.1111111111111111,\"#46039f\"],[0.2222222222222222,\"#7201a8\"],[0.3333333333333333,\"#9c179e\"],[0.4444444444444444,\"#bd3786\"],[0.5555555555555556,\"#d8576b\"],[0.6666666666666666,\"#ed7953\"],[0.7777777777777778,\"#fb9f3a\"],[0.8888888888888888,\"#fdca26\"],[1.0,\"#f0f921\"]]}],\"surface\":[{\"type\":\"surface\",\"colorbar\":{\"outlinewidth\":0,\"ticks\":\"\"},\"colorscale\":[[0.0,\"#0d0887\"],[0.1111111111111111,\"#46039f\"],[0.2222222222222222,\"#7201a8\"],[0.3333333333333333,\"#9c179e\"],[0.4444444444444444,\"#bd3786\"],[0.5555555555555556,\"#d8576b\"],[0.6666666666666666,\"#ed7953\"],[0.7777777777777778,\"#fb9f3a\"],[0.8888888888888888,\"#fdca26\"],[1.0,\"#f0f921\"]]}],\"mesh3d\":[{\"type\":\"mesh3d\",\"colorbar\":{\"outlinewidth\":0,\"ticks\":\"\"}}],\"scatter\":[{\"fillpattern\":{\"fillmode\":\"overlay\",\"size\":10,\"solidity\":0.2},\"type\":\"scatter\"}],\"parcoords\":[{\"type\":\"parcoords\",\"line\":{\"colorbar\":{\"outlinewidth\":0,\"ticks\":\"\"}}}],\"scatterpolargl\":[{\"type\":\"scatterpolargl\",\"marker\":{\"colorbar\":{\"outlinewidth\":0,\"ticks\":\"\"}}}],\"bar\":[{\"error_x\":{\"color\":\"#2a3f5f\"},\"error_y\":{\"color\":\"#2a3f5f\"},\"marker\":{\"line\":{\"color\":\"#E5ECF6\",\"width\":0.5},\"pattern\":{\"fillmode\":\"overlay\",\"size\":10,\"solidity\":0.2}},\"type\":\"bar\"}],\"scattergeo\":[{\"type\":\"scattergeo\",\"marker\":{\"colorbar\":{\"outlinewidth\":0,\"ticks\":\"\"}}}],\"scatterpolar\":[{\"type\":\"scatterpolar\",\"marker\":{\"colorbar\":{\"outlinewidth\":0,\"ticks\":\"\"}}}],\"histogram\":[{\"marker\":{\"pattern\":{\"fillmode\":\"overlay\",\"size\":10,\"solidity\":0.2}},\"type\":\"histogram\"}],\"scattergl\":[{\"type\":\"scattergl\",\"marker\":{\"colorbar\":{\"outlinewidth\":0,\"ticks\":\"\"}}}],\"scatter3d\":[{\"type\":\"scatter3d\",\"line\":{\"colorbar\":{\"outlinewidth\":0,\"ticks\":\"\"}},\"marker\":{\"colorbar\":{\"outlinewidth\":0,\"ticks\":\"\"}}}],\"scattermapbox\":[{\"type\":\"scattermapbox\",\"marker\":{\"colorbar\":{\"outlinewidth\":0,\"ticks\":\"\"}}}],\"scatterternary\":[{\"type\":\"scatterternary\",\"marker\":{\"colorbar\":{\"outlinewidth\":0,\"ticks\":\"\"}}}],\"scattercarpet\":[{\"type\":\"scattercarpet\",\"marker\":{\"colorbar\":{\"outlinewidth\":0,\"ticks\":\"\"}}}],\"carpet\":[{\"aaxis\":{\"endlinecolor\":\"#2a3f5f\",\"gridcolor\":\"white\",\"linecolor\":\"white\",\"minorgridcolor\":\"white\",\"startlinecolor\":\"#2a3f5f\"},\"baxis\":{\"endlinecolor\":\"#2a3f5f\",\"gridcolor\":\"white\",\"linecolor\":\"white\",\"minorgridcolor\":\"white\",\"startlinecolor\":\"#2a3f5f\"},\"type\":\"carpet\"}],\"table\":[{\"cells\":{\"fill\":{\"color\":\"#EBF0F8\"},\"line\":{\"color\":\"white\"}},\"header\":{\"fill\":{\"color\":\"#C8D4E3\"},\"line\":{\"color\":\"white\"}},\"type\":\"table\"}],\"barpolar\":[{\"marker\":{\"line\":{\"color\":\"#E5ECF6\",\"width\":0.5},\"pattern\":{\"fillmode\":\"overlay\",\"size\":10,\"solidity\":0.2}},\"type\":\"barpolar\"}],\"pie\":[{\"automargin\":true,\"type\":\"pie\"}]},\"layout\":{\"autotypenumbers\":\"strict\",\"colorway\":[\"#636efa\",\"#EF553B\",\"#00cc96\",\"#ab63fa\",\"#FFA15A\",\"#19d3f3\",\"#FF6692\",\"#B6E880\",\"#FF97FF\",\"#FECB52\"],\"font\":{\"color\":\"#2a3f5f\"},\"hovermode\":\"closest\",\"hoverlabel\":{\"align\":\"left\"},\"paper_bgcolor\":\"white\",\"plot_bgcolor\":\"#E5ECF6\",\"polar\":{\"bgcolor\":\"#E5ECF6\",\"angularaxis\":{\"gridcolor\":\"white\",\"linecolor\":\"white\",\"ticks\":\"\"},\"radialaxis\":{\"gridcolor\":\"white\",\"linecolor\":\"white\",\"ticks\":\"\"}},\"ternary\":{\"bgcolor\":\"#E5ECF6\",\"aaxis\":{\"gridcolor\":\"white\",\"linecolor\":\"white\",\"ticks\":\"\"},\"baxis\":{\"gridcolor\":\"white\",\"linecolor\":\"white\",\"ticks\":\"\"},\"caxis\":{\"gridcolor\":\"white\",\"linecolor\":\"white\",\"ticks\":\"\"}},\"coloraxis\":{\"colorbar\":{\"outlinewidth\":0,\"ticks\":\"\"}},\"colorscale\":{\"sequential\":[[0.0,\"#0d0887\"],[0.1111111111111111,\"#46039f\"],[0.2222222222222222,\"#7201a8\"],[0.3333333333333333,\"#9c179e\"],[0.4444444444444444,\"#bd3786\"],[0.5555555555555556,\"#d8576b\"],[0.6666666666666666,\"#ed7953\"],[0.7777777777777778,\"#fb9f3a\"],[0.8888888888888888,\"#fdca26\"],[1.0,\"#f0f921\"]],\"sequentialminus\":[[0.0,\"#0d0887\"],[0.1111111111111111,\"#46039f\"],[0.2222222222222222,\"#7201a8\"],[0.3333333333333333,\"#9c179e\"],[0.4444444444444444,\"#bd3786\"],[0.5555555555555556,\"#d8576b\"],[0.6666666666666666,\"#ed7953\"],[0.7777777777777778,\"#fb9f3a\"],[0.8888888888888888,\"#fdca26\"],[1.0,\"#f0f921\"]],\"diverging\":[[0,\"#8e0152\"],[0.1,\"#c51b7d\"],[0.2,\"#de77ae\"],[0.3,\"#f1b6da\"],[0.4,\"#fde0ef\"],[0.5,\"#f7f7f7\"],[0.6,\"#e6f5d0\"],[0.7,\"#b8e186\"],[0.8,\"#7fbc41\"],[0.9,\"#4d9221\"],[1,\"#276419\"]]},\"xaxis\":{\"gridcolor\":\"white\",\"linecolor\":\"white\",\"ticks\":\"\",\"title\":{\"standoff\":15},\"zerolinecolor\":\"white\",\"automargin\":true,\"zerolinewidth\":2},\"yaxis\":{\"gridcolor\":\"white\",\"linecolor\":\"white\",\"ticks\":\"\",\"title\":{\"standoff\":15},\"zerolinecolor\":\"white\",\"automargin\":true,\"zerolinewidth\":2},\"scene\":{\"xaxis\":{\"backgroundcolor\":\"#E5ECF6\",\"gridcolor\":\"white\",\"linecolor\":\"white\",\"showbackground\":true,\"ticks\":\"\",\"zerolinecolor\":\"white\",\"gridwidth\":2},\"yaxis\":{\"backgroundcolor\":\"#E5ECF6\",\"gridcolor\":\"white\",\"linecolor\":\"white\",\"showbackground\":true,\"ticks\":\"\",\"zerolinecolor\":\"white\",\"gridwidth\":2},\"zaxis\":{\"backgroundcolor\":\"#E5ECF6\",\"gridcolor\":\"white\",\"linecolor\":\"white\",\"showbackground\":true,\"ticks\":\"\",\"zerolinecolor\":\"white\",\"gridwidth\":2}},\"shapedefaults\":{\"line\":{\"color\":\"#2a3f5f\"}},\"annotationdefaults\":{\"arrowcolor\":\"#2a3f5f\",\"arrowhead\":0,\"arrowwidth\":1},\"geo\":{\"bgcolor\":\"white\",\"landcolor\":\"#E5ECF6\",\"subunitcolor\":\"white\",\"showland\":true,\"showlakes\":true,\"lakecolor\":\"white\"},\"title\":{\"x\":0.05},\"mapbox\":{\"style\":\"light\"}}},\"scene\":{\"domain\":{\"x\":[0.0,1.0],\"y\":[0.0,1.0]},\"xaxis\":{\"title\":{\"text\":\"0\"}},\"yaxis\":{\"title\":{\"text\":\"1\"}},\"zaxis\":{\"title\":{\"text\":\"2\"}}},\"legend\":{\"title\":{\"text\":\"Dominant_Topic\"},\"tracegroupgap\":0},\"title\":{\"text\":\"3d TSNE Plot for Topic Model\"},\"height\":800,\"width\":900},                        {\"responsive\": true}                    ).then(function(){\n",
       "                            \n",
       "var gd = document.getElementById('8fd2d905-ac75-4e07-b2d3-ad307ad308ae');\n",
       "var x = new MutationObserver(function (mutations, observer) {{\n",
       "        var display = window.getComputedStyle(gd).display;\n",
       "        if (!display || display === 'none') {{\n",
       "            console.log([gd, 'removed!']);\n",
       "            Plotly.purge(gd);\n",
       "            observer.disconnect();\n",
       "        }}\n",
       "}});\n",
       "\n",
       "// Listen for the removal of the full notebook cells\n",
       "var notebookContainer = gd.closest('#notebook-container');\n",
       "if (notebookContainer) {{\n",
       "    x.observe(notebookContainer, {childList: true});\n",
       "}}\n",
       "\n",
       "// Listen for the clearing of the current output cell\n",
       "var outputEl = gd.closest('.output');\n",
       "if (outputEl) {{\n",
       "    x.observe(outputEl, {childList: true});\n",
       "}}\n",
       "\n",
       "                        })                };                });            </script>        </div>"
      ]
     },
     "metadata": {},
     "output_type": "display_data"
    }
   ],
   "source": [
    "plot_model(lda, plot='topic_distribution')\n",
    "plot_model(lda, plot='topic_model')\n",
    "plot_model(lda, plot='wordcloud', topic_num = 'Topic 5')\n",
    "plot_model(lda, plot='frequency', topic_num = 'Topic 5')\n",
    "plot_model(lda, plot='bigram', topic_num = 'Topic 5')\n",
    "plot_model(lda, plot='trigram', topic_num = 'Topic 5')\n",
    "plot_model(lda, plot='distribution', topic_num = 'Topic 5')\n",
    "plot_model(lda, plot='sentiment', topic_num = 'Topic 5')\n",
    "plot_model(lda, plot='tsne')"
   ]
  },
  {
   "cell_type": "code",
   "execution_count": null,
   "id": "e7406d36",
   "metadata": {},
   "outputs": [],
   "source": []
  }
 ],
 "metadata": {
  "kernelspec": {
   "display_name": "Python 3 (ipykernel)",
   "language": "python",
   "name": "python3"
  },
  "language_info": {
   "codemirror_mode": {
    "name": "ipython",
    "version": 3
   },
   "file_extension": ".py",
   "mimetype": "text/x-python",
   "name": "python",
   "nbconvert_exporter": "python",
   "pygments_lexer": "ipython3",
   "version": "3.9.9"
  }
 },
 "nbformat": 4,
 "nbformat_minor": 5
}
